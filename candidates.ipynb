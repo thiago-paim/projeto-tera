{
 "cells": [
  {
   "cell_type": "code",
   "execution_count": 38,
   "id": "e224c4af-5f3e-4a90-bd65-841627b82a8a",
   "metadata": {},
   "outputs": [],
   "source": [
    "# Se estiver rodando em um Colab, descomente a linha abaixo\n",
    "# !pip install -r requirements.txt"
   ]
  },
  {
   "cell_type": "code",
   "execution_count": 39,
   "id": "bc66754a-6a2c-402c-93db-f4d34212a62b",
   "metadata": {},
   "outputs": [],
   "source": [
    "import numpy as np\n",
    "import matplotlib.pyplot as plt\n",
    "import pandas as pd\n",
    "import seaborn as sns\n",
    "\n",
    "# Oculta warnings do notebook\n",
    "# import warnings\n",
    "# warnings.filterwarnings('ignore')\n",
    "\n",
    "# Configurações de visualização\n",
    "pd.set_option('display.max_columns', 100)\n",
    "pd.options.display.float_format = '{:,.2f}'.format"
   ]
  },
  {
   "cell_type": "code",
   "execution_count": 13,
   "id": "2a2677c1-f335-4983-9f79-83175b251631",
   "metadata": {},
   "outputs": [
    {
     "name": "stdout",
     "output_type": "stream",
     "text": [
      "(3659, 71)\n",
      "<class 'pandas.core.frame.DataFrame'>\n",
      "RangeIndex: 3659 entries, 0 to 3658\n",
      "Data columns (total 71 columns):\n",
      " #   Column                         Non-Null Count  Dtype  \n",
      "---  ------                         --------------  -----  \n",
      " 0   DT_GERACAO                     3659 non-null   object \n",
      " 1   HH_GERACAO                     3659 non-null   object \n",
      " 2   ANO_ELEICAO                    3659 non-null   int64  \n",
      " 3   CD_TIPO_ELEICAO                3659 non-null   int64  \n",
      " 4   NM_TIPO_ELEICAO                3659 non-null   object \n",
      " 5   NR_TURNO                       3659 non-null   int64  \n",
      " 6   CD_ELEICAO                     3659 non-null   int64  \n",
      " 7   DS_ELEICAO                     3659 non-null   object \n",
      " 8   DT_ELEICAO                     3659 non-null   object \n",
      " 9   TP_ABRANGENCIA                 3659 non-null   object \n",
      " 10  SG_UF                          3659 non-null   object \n",
      " 11  SG_UE                          3659 non-null   object \n",
      " 12  NM_UE                          3659 non-null   object \n",
      " 13  CD_CARGO                       3659 non-null   int64  \n",
      " 14  DS_CARGO                       3659 non-null   object \n",
      " 15  SQ_CANDIDATO                   3659 non-null   int64  \n",
      " 16  NR_CANDIDATO                   3659 non-null   int64  \n",
      " 17  NM_CANDIDATO                   3659 non-null   object \n",
      " 18  NM_URNA_CANDIDATO              3659 non-null   object \n",
      " 19  NM_SOCIAL_CANDIDATO            3659 non-null   object \n",
      " 20  NR_CPF_CANDIDATO               3659 non-null   int64  \n",
      " 21  NM_EMAIL                       3659 non-null   object \n",
      " 22  CD_SITUACAO_CANDIDATURA        3659 non-null   int64  \n",
      " 23  DS_SITUACAO_CANDIDATURA        3659 non-null   object \n",
      " 24  CD_DETALHE_SITUACAO_CAND       3659 non-null   int64  \n",
      " 25  DS_DETALHE_SITUACAO_CAND       3659 non-null   object \n",
      " 26  TP_AGREMIACAO                  3659 non-null   object \n",
      " 27  NR_PARTIDO                     3659 non-null   int64  \n",
      " 28  SG_PARTIDO                     3659 non-null   object \n",
      " 29  NM_PARTIDO                     3659 non-null   object \n",
      " 30  NR_FEDERACAO                   3659 non-null   int64  \n",
      " 31  NM_FEDERACAO                   3659 non-null   object \n",
      " 32  SG_FEDERACAO                   3659 non-null   object \n",
      " 33  DS_COMPOSICAO_FEDERACAO        3659 non-null   object \n",
      " 34  SQ_COLIGACAO                   3659 non-null   int64  \n",
      " 35  NM_COLIGACAO                   3659 non-null   object \n",
      " 36  DS_COMPOSICAO_COLIGACAO        3659 non-null   object \n",
      " 37  CD_NACIONALIDADE               3659 non-null   int64  \n",
      " 38  DS_NACIONALIDADE               3659 non-null   object \n",
      " 39  SG_UF_NASCIMENTO               3659 non-null   object \n",
      " 40  CD_MUNICIPIO_NASCIMENTO        3659 non-null   int64  \n",
      " 41  NM_MUNICIPIO_NASCIMENTO        3659 non-null   object \n",
      " 42  DT_NASCIMENTO                  3658 non-null   object \n",
      " 43  NR_IDADE_DATA_POSSE            3658 non-null   float64\n",
      " 44  NR_TITULO_ELEITORAL_CANDIDATO  3659 non-null   int64  \n",
      " 45  CD_GENERO                      3659 non-null   int64  \n",
      " 46  DS_GENERO                      3659 non-null   object \n",
      " 47  CD_GRAU_INSTRUCAO              3659 non-null   int64  \n",
      " 48  DS_GRAU_INSTRUCAO              3659 non-null   object \n",
      " 49  CD_ESTADO_CIVIL                3659 non-null   int64  \n",
      " 50  DS_ESTADO_CIVIL                3659 non-null   object \n",
      " 51  CD_COR_RACA                    3659 non-null   int64  \n",
      " 52  DS_COR_RACA                    3659 non-null   object \n",
      " 53  CD_OCUPACAO                    3659 non-null   int64  \n",
      " 54  DS_OCUPACAO                    3659 non-null   object \n",
      " 55  VR_DESPESA_MAX_CAMPANHA        3659 non-null   float64\n",
      " 56  CD_SIT_TOT_TURNO               3659 non-null   int64  \n",
      " 57  DS_SIT_TOT_TURNO               3659 non-null   object \n",
      " 58  ST_REELEICAO                   3659 non-null   object \n",
      " 59  ST_DECLARAR_BENS               3659 non-null   object \n",
      " 60  NR_PROTOCOLO_CANDIDATURA       3659 non-null   int64  \n",
      " 61  NR_PROCESSO                    3659 non-null   int64  \n",
      " 62  CD_SITUACAO_CANDIDATO_PLEITO   3659 non-null   int64  \n",
      " 63  DS_SITUACAO_CANDIDATO_PLEITO   3659 non-null   object \n",
      " 64  CD_SITUACAO_CANDIDATO_URNA     3659 non-null   int64  \n",
      " 65  DS_SITUACAO_CANDIDATO_URNA     3659 non-null   object \n",
      " 66  ST_CANDIDATO_INSERIDO_URNA     3659 non-null   object \n",
      " 67  NM_TIPO_DESTINACAO_VOTOS       3659 non-null   object \n",
      " 68  CD_SITUACAO_CANDIDATO_TOT      3659 non-null   int64  \n",
      " 69  DS_SITUACAO_CANDIDATO_TOT      3659 non-null   object \n",
      " 70  ST_PREST_CONTAS                3659 non-null   object \n",
      "dtypes: float64(2), int64(27), object(42)\n",
      "memory usage: 2.0+ MB\n"
     ]
    }
   ],
   "source": [
    "dataset_path = 'datasets/'\n",
    "df = pd.read_csv(f\"{dataset_path}consulta_cand_2022_SP.csv\", sep=';')\n",
    "print(df.shape)\n",
    "df.info()"
   ]
  },
  {
   "cell_type": "code",
   "execution_count": 16,
   "id": "ed6f0585-5824-470a-b520-fdee4b7c563d",
   "metadata": {},
   "outputs": [
    {
     "data": {
      "text/plain": [
       "SUPLENTE            1921\n",
       "NÃO ELEITO          1381\n",
       "#NULO#               184\n",
       "ELEITO POR QP        142\n",
       "ELEITO POR MÉDIA      22\n",
       "ELEITO                 5\n",
       "2º TURNO               4\n",
       "Name: DS_SIT_TOT_TURNO, dtype: int64"
      ]
     },
     "execution_count": 16,
     "metadata": {},
     "output_type": "execute_result"
    }
   ],
   "source": [
    "df.DS_SIT_TOT_TURNO.value_counts()"
   ]
  },
  {
   "cell_type": "code",
   "execution_count": 24,
   "id": "963e6a60-63b5-433e-9693-f85cfa784ad3",
   "metadata": {},
   "outputs": [
    {
     "name": "stdout",
     "output_type": "stream",
     "text": [
      "(70, 71)\n",
      "(94, 71)\n"
     ]
    }
   ],
   "source": [
    "elected_values = ['ELEITO POR QP', 'ELEITO POR MÉDIA', 'ELEITO']\n",
    "fed_df = df.loc[\n",
    "    (df['DS_CARGO'] == 'DEPUTADO FEDERAL') & \n",
    "    (df['DS_SIT_TOT_TURNO'].isin(elect_values))\n",
    "]\n",
    "print(fed_df.shape)\n",
    "\n",
    "est_df = df.loc[\n",
    "    (df['DS_CARGO'] == 'DEPUTADO ESTADUAL') & \n",
    "    (df['DS_SIT_TOT_TURNO'].isin(elect_values))\n",
    "]\n",
    "print(est_df.shape)"
   ]
  },
  {
   "cell_type": "code",
   "execution_count": 34,
   "id": "a6d937b4-37b3-448e-8dfe-9318559ee53f",
   "metadata": {},
   "outputs": [
    {
     "name": "stdout",
     "output_type": "stream",
     "text": [
      "MASCULINO    56\n",
      "FEMININO     14\n",
      "Name: DS_GENERO, dtype: int64\n",
      "BRANCA      59\n",
      "PARDA        5\n",
      "PRETA        3\n",
      "INDÍGENA     2\n",
      "AMARELA      1\n",
      "Name: DS_COR_RACA, dtype: int64\n",
      "MASCULINO    69\n",
      "FEMININO     25\n",
      "Name: DS_GENERO, dtype: int64\n",
      "BRANCA    76\n",
      "PARDA      9\n",
      "PRETA      9\n",
      "Name: DS_COR_RACA, dtype: int64\n"
     ]
    }
   ],
   "source": [
    "print(fed_df.DS_GENERO.value_counts())\n",
    "print(fed_df.DS_COR_RACA.value_counts())\n",
    "print(est_df.DS_GENERO.value_counts())\n",
    "print(est_df.DS_COR_RACA.value_counts())"
   ]
  },
  {
   "cell_type": "code",
   "execution_count": 32,
   "id": "8bf9b06e-b98f-4b2d-9585-5e4eb716f520",
   "metadata": {},
   "outputs": [
    {
     "data": {
      "text/plain": [
       "<AxesSubplot: xlabel='DS_COR_RACA', ylabel='Count'>"
      ]
     },
     "execution_count": 32,
     "metadata": {},
     "output_type": "execute_result"
    },
    {
     "data": {
      "image/png": "[encoded data removed]",
      "text/plain": [
       "<Figure size 640x480 with 1 Axes>"
      ]
     },
     "metadata": {},
     "output_type": "display_data"
    }
   ],
   "source": [
    "sns.histplot(\n",
    "    data=fed_df,\n",
    "    hue='DS_GENERO',\n",
    "    x='DS_COR_RACA',\n",
    "    multiple='stack',\n",
    ")"
   ]
  },
  {
   "cell_type": "code",
   "execution_count": 33,
   "id": "82a434da-50ea-41c0-a6be-304d3a4352cf",
   "metadata": {},
   "outputs": [
    {
     "data": {
      "text/plain": [
       "<AxesSubplot: xlabel='DS_COR_RACA', ylabel='Count'>"
      ]
     },
     "execution_count": 33,
     "metadata": {},
     "output_type": "execute_result"
    },
    {
     "data": {
      "image/png": "[encoded data removed]",
      "text/plain": [
       "<Figure size 640x480 with 1 Axes>"
      ]
     },
     "metadata": {},
     "output_type": "display_data"
    }
   ],
   "source": [
    "sns.histplot(\n",
    "    data=est_df,\n",
    "    hue='DS_GENERO',\n",
    "    x='DS_COR_RACA',\n",
    "    multiple='stack',\n",
    ")"
   ]
  }
 ],
 "metadata": {
  "kernelspec": {
   "display_name": "venv",
   "language": "python",
   "name": "venv"
  },
  "language_info": {
   "codemirror_mode": {
    "name": "ipython",
    "version": 3
   },
   "file_extension": ".py",
   "mimetype": "text/x-python",
   "name": "python",
   "nbconvert_exporter": "python",
   "pygments_lexer": "ipython3",
   "version": "3.8.13"
  }
 },
 "nbformat": 4,
 "nbformat_minor": 5
}
