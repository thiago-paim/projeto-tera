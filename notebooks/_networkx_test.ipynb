{
 "cells": [
  {
   "cell_type": "code",
   "execution_count": 1,
   "id": "d158ada5-ba1b-4f3c-9f00-95eeacdf19f9",
   "metadata": {},
   "outputs": [
    {
     "name": "stderr",
     "output_type": "stream",
     "text": [
      "/tmp/ipykernel_18771/4170372904.py:2: DeprecationWarning: Importing display from IPython.core.display is deprecated since IPython 7.14, please import from IPython display\n",
      "  from IPython.core.display import display, HTML\n"
     ]
    },
    {
     "data": {
      "text/html": [
       "<style>.container { width:80% !important; }</style>"
      ],
      "text/plain": [
       "<IPython.core.display.HTML object>"
      ]
     },
     "metadata": {},
     "output_type": "display_data"
    }
   ],
   "source": [
    "from colorthief import ColorThief\n",
    "from IPython.core.display import display, HTML\n",
    "import matplotlib.pyplot as plt\n",
    "import matplotlib as mpl\n",
    "import networkx as nx\n",
    "import pandas as pd\n",
    "import sys\n",
    "\n",
    "sys.path.append(\"../\")\n",
    "\n",
    "plt.rcParams[\"figure.figsize\"] = (20,10)\n",
    "\n",
    "display(HTML(\"<style>.container { width:80% !important; }</style>\"))"
   ]
  },
  {
   "cell_type": "code",
   "execution_count": 2,
   "id": "d1ef1a20-8cf3-449e-9454-c3669e6691e7",
   "metadata": {},
   "outputs": [
    {
     "name": "stdout",
     "output_type": "stream",
     "text": [
      "(125112, 29)\n"
     ]
    },
    {
     "data": {
      "text/html": [
       "<div>\n",
       "<style scoped>\n",
       "    .dataframe tbody tr th:only-of-type {\n",
       "        vertical-align: middle;\n",
       "    }\n",
       "\n",
       "    .dataframe tbody tr th {\n",
       "        vertical-align: top;\n",
       "    }\n",
       "\n",
       "    .dataframe thead th {\n",
       "        text-align: right;\n",
       "    }\n",
       "</style>\n",
       "<table border=\"1\" class=\"dataframe\">\n",
       "  <thead>\n",
       "    <tr style=\"text-align: right;\">\n",
       "      <th></th>\n",
       "      <th>id</th>\n",
       "      <th>date</th>\n",
       "      <th>content</th>\n",
       "      <th>user</th>\n",
       "      <th>in_reply_to_user</th>\n",
       "      <th>conversation_user</th>\n",
       "      <th>class_label</th>\n",
       "      <th>class_score</th>\n",
       "      <th>SG_UF</th>\n",
       "      <th>DS_CARGO</th>\n",
       "      <th>...</th>\n",
       "      <th>DS_COR_RACA</th>\n",
       "      <th>DS_OCUPACAO</th>\n",
       "      <th>DS_SIT_TOT_TURNO</th>\n",
       "      <th>ST_REELEICAO</th>\n",
       "      <th>TW_USER</th>\n",
       "      <th>TW_followersCount</th>\n",
       "      <th>TW_friendsCount</th>\n",
       "      <th>TW_statusesCount</th>\n",
       "      <th>TW_favouritesCount</th>\n",
       "      <th>user_is_candidate</th>\n",
       "    </tr>\n",
       "  </thead>\n",
       "  <tbody>\n",
       "    <tr>\n",
       "      <th>0</th>\n",
       "      <td>1575873686019579905</td>\n",
       "      <td>2022-09-30 15:42:19+00:00</td>\n",
       "      <td>Na reta final nos encontramos novamente! @Hadd...</td>\n",
       "      <td>anaperugini</td>\n",
       "      <td>None</td>\n",
       "      <td>anaperugini</td>\n",
       "      <td>False</td>\n",
       "      <td>0.996524</td>\n",
       "      <td>SP</td>\n",
       "      <td>DEPUTADO ESTADUAL</td>\n",
       "      <td>...</td>\n",
       "      <td>BRANCA</td>\n",
       "      <td>SERVENTUÁRIO DE JUSTIÇA</td>\n",
       "      <td>ELEITO POR QP</td>\n",
       "      <td>N</td>\n",
       "      <td>anaperugini</td>\n",
       "      <td>5021</td>\n",
       "      <td>1038</td>\n",
       "      <td>10390</td>\n",
       "      <td>6916</td>\n",
       "      <td>True</td>\n",
       "    </tr>\n",
       "    <tr>\n",
       "      <th>1</th>\n",
       "      <td>1575873689039810565</td>\n",
       "      <td>2022-09-30 15:42:20+00:00</td>\n",
       "      <td>A caminhada será no centro de Hortolândia com ...</td>\n",
       "      <td>anaperugini</td>\n",
       "      <td>anaperugini</td>\n",
       "      <td>anaperugini</td>\n",
       "      <td>False</td>\n",
       "      <td>0.982824</td>\n",
       "      <td>SP</td>\n",
       "      <td>DEPUTADO ESTADUAL</td>\n",
       "      <td>...</td>\n",
       "      <td>BRANCA</td>\n",
       "      <td>SERVENTUÁRIO DE JUSTIÇA</td>\n",
       "      <td>ELEITO POR QP</td>\n",
       "      <td>N</td>\n",
       "      <td>anaperugini</td>\n",
       "      <td>5021</td>\n",
       "      <td>1038</td>\n",
       "      <td>10390</td>\n",
       "      <td>6916</td>\n",
       "      <td>True</td>\n",
       "    </tr>\n",
       "    <tr>\n",
       "      <th>2</th>\n",
       "      <td>1575943700139606020</td>\n",
       "      <td>2022-09-30 20:20:32+00:00</td>\n",
       "      <td>@anaperugini vou votar em você pela causa do t...</td>\n",
       "      <td>deaquilini</td>\n",
       "      <td>anaperugini</td>\n",
       "      <td>anaperugini</td>\n",
       "      <td>False</td>\n",
       "      <td>0.993578</td>\n",
       "      <td>SP</td>\n",
       "      <td>DEPUTADO ESTADUAL</td>\n",
       "      <td>...</td>\n",
       "      <td>BRANCA</td>\n",
       "      <td>SERVENTUÁRIO DE JUSTIÇA</td>\n",
       "      <td>ELEITO POR QP</td>\n",
       "      <td>N</td>\n",
       "      <td>anaperugini</td>\n",
       "      <td>5021</td>\n",
       "      <td>1038</td>\n",
       "      <td>10390</td>\n",
       "      <td>6916</td>\n",
       "      <td>False</td>\n",
       "    </tr>\n",
       "    <tr>\n",
       "      <th>3</th>\n",
       "      <td>1575876423885422592</td>\n",
       "      <td>2022-09-30 15:53:12+00:00</td>\n",
       "      <td>@anaperugini @Haddad_Fernando @geraldoalckmin ...</td>\n",
       "      <td>cliamariacardo1</td>\n",
       "      <td>anaperugini</td>\n",
       "      <td>anaperugini</td>\n",
       "      <td>False</td>\n",
       "      <td>0.959117</td>\n",
       "      <td>SP</td>\n",
       "      <td>DEPUTADO ESTADUAL</td>\n",
       "      <td>...</td>\n",
       "      <td>BRANCA</td>\n",
       "      <td>SERVENTUÁRIO DE JUSTIÇA</td>\n",
       "      <td>ELEITO POR QP</td>\n",
       "      <td>N</td>\n",
       "      <td>anaperugini</td>\n",
       "      <td>5021</td>\n",
       "      <td>1038</td>\n",
       "      <td>10390</td>\n",
       "      <td>6916</td>\n",
       "      <td>False</td>\n",
       "    </tr>\n",
       "    <tr>\n",
       "      <th>4</th>\n",
       "      <td>1575880426521960451</td>\n",
       "      <td>2022-09-30 16:09:06+00:00</td>\n",
       "      <td>@anaperugini @fmvasques53 @Haddad_Fernando @ge...</td>\n",
       "      <td>veracbrgc</td>\n",
       "      <td>anaperugini</td>\n",
       "      <td>anaperugini</td>\n",
       "      <td>False</td>\n",
       "      <td>0.988468</td>\n",
       "      <td>SP</td>\n",
       "      <td>DEPUTADO ESTADUAL</td>\n",
       "      <td>...</td>\n",
       "      <td>BRANCA</td>\n",
       "      <td>SERVENTUÁRIO DE JUSTIÇA</td>\n",
       "      <td>ELEITO POR QP</td>\n",
       "      <td>N</td>\n",
       "      <td>anaperugini</td>\n",
       "      <td>5021</td>\n",
       "      <td>1038</td>\n",
       "      <td>10390</td>\n",
       "      <td>6916</td>\n",
       "      <td>False</td>\n",
       "    </tr>\n",
       "  </tbody>\n",
       "</table>\n",
       "<p>5 rows × 29 columns</p>\n",
       "</div>"
      ],
      "text/plain": [
       "                    id                      date  \\\n",
       "0  1575873686019579905 2022-09-30 15:42:19+00:00   \n",
       "1  1575873689039810565 2022-09-30 15:42:20+00:00   \n",
       "2  1575943700139606020 2022-09-30 20:20:32+00:00   \n",
       "3  1575876423885422592 2022-09-30 15:53:12+00:00   \n",
       "4  1575880426521960451 2022-09-30 16:09:06+00:00   \n",
       "\n",
       "                                             content             user  \\\n",
       "0  Na reta final nos encontramos novamente! @Hadd...      anaperugini   \n",
       "1  A caminhada será no centro de Hortolândia com ...      anaperugini   \n",
       "2  @anaperugini vou votar em você pela causa do t...       deaquilini   \n",
       "3  @anaperugini @Haddad_Fernando @geraldoalckmin ...  cliamariacardo1   \n",
       "4  @anaperugini @fmvasques53 @Haddad_Fernando @ge...        veracbrgc   \n",
       "\n",
       "  in_reply_to_user conversation_user  class_label  class_score SG_UF  \\\n",
       "0             None       anaperugini        False     0.996524    SP   \n",
       "1      anaperugini       anaperugini        False     0.982824    SP   \n",
       "2      anaperugini       anaperugini        False     0.993578    SP   \n",
       "3      anaperugini       anaperugini        False     0.959117    SP   \n",
       "4      anaperugini       anaperugini        False     0.988468    SP   \n",
       "\n",
       "            DS_CARGO  ...  DS_COR_RACA              DS_OCUPACAO  \\\n",
       "0  DEPUTADO ESTADUAL  ...       BRANCA  SERVENTUÁRIO DE JUSTIÇA   \n",
       "1  DEPUTADO ESTADUAL  ...       BRANCA  SERVENTUÁRIO DE JUSTIÇA   \n",
       "2  DEPUTADO ESTADUAL  ...       BRANCA  SERVENTUÁRIO DE JUSTIÇA   \n",
       "3  DEPUTADO ESTADUAL  ...       BRANCA  SERVENTUÁRIO DE JUSTIÇA   \n",
       "4  DEPUTADO ESTADUAL  ...       BRANCA  SERVENTUÁRIO DE JUSTIÇA   \n",
       "\n",
       "   DS_SIT_TOT_TURNO ST_REELEICAO      TW_USER  TW_followersCount  \\\n",
       "0     ELEITO POR QP            N  anaperugini               5021   \n",
       "1     ELEITO POR QP            N  anaperugini               5021   \n",
       "2     ELEITO POR QP            N  anaperugini               5021   \n",
       "3     ELEITO POR QP            N  anaperugini               5021   \n",
       "4     ELEITO POR QP            N  anaperugini               5021   \n",
       "\n",
       "  TW_friendsCount TW_statusesCount TW_favouritesCount user_is_candidate  \n",
       "0            1038            10390               6916              True  \n",
       "1            1038            10390               6916              True  \n",
       "2            1038            10390               6916             False  \n",
       "3            1038            10390               6916             False  \n",
       "4            1038            10390               6916             False  \n",
       "\n",
       "[5 rows x 29 columns]"
      ]
     },
     "execution_count": 2,
     "metadata": {},
     "output_type": "execute_result"
    }
   ],
   "source": [
    "file_path = (\n",
    "    \"../data/processed/sp_elected_est_fed_dep_tweets-analysis.parquet\"\n",
    ")\n",
    "raw_df = pd.read_parquet(file_path)\n",
    "\n",
    "print(raw_df.shape)\n",
    "raw_df.head()"
   ]
  },
  {
   "cell_type": "code",
   "execution_count": 3,
   "id": "b05c3e09-ea30-49ea-8f78-29f7814e3316",
   "metadata": {},
   "outputs": [
    {
     "name": "stdout",
     "output_type": "stream",
     "text": [
      "(68620, 3)\n"
     ]
    },
    {
     "data": {
      "text/plain": [
       "count    68620.000000\n",
       "mean         1.823259\n",
       "std          8.284465\n",
       "min          1.000000\n",
       "25%          1.000000\n",
       "50%          1.000000\n",
       "75%          2.000000\n",
       "90%          3.000000\n",
       "95%          4.000000\n",
       "99%         11.000000\n",
       "max       1163.000000\n",
       "Name: count, dtype: float64"
      ]
     },
     "execution_count": 3,
     "metadata": {},
     "output_type": "execute_result"
    }
   ],
   "source": [
    "cols = ['user', 'conversation_user', ]\n",
    "edges = raw_df[cols].groupby(cols, as_index=False).value_counts()\n",
    "\n",
    "print(edges.shape)\n",
    "edges['count'].describe(percentiles=[0.25, 0.5, 0.75, 0.9, 0.95, 0.99])"
   ]
  },
  {
   "cell_type": "code",
   "execution_count": 4,
   "id": "df3754d1-8e13-4382-9999-046dba4c1ec3",
   "metadata": {},
   "outputs": [
    {
     "name": "stdout",
     "output_type": "stream",
     "text": [
      "(68573, 3)\n",
      "(21, 3)\n"
     ]
    }
   ],
   "source": [
    "# Filtrando somente conexões com uma candidata, para teste\n",
    "# edges = edges[edges['conversation_user'] == 'andreawerner_']\n",
    "# print(edges.shape)\n",
    "\n",
    "# Removendo linhas de auto referenciação\n",
    "edges = edges[edges['user'] != edges['conversation_user']]\n",
    "print(edges.shape)\n",
    "\n",
    "# Filtrando somente conexões com mais de 10 tweets\n",
    "edges = edges[edges['count'] > 50]\n",
    "print(edges.shape)"
   ]
  },
  {
   "cell_type": "code",
   "execution_count": 261,
   "id": "602b9931-08a5-4a14-9edd-f7ad87c75aa1",
   "metadata": {},
   "outputs": [],
   "source": [
    "# G = nx.from_pandas_edgelist(\n",
    "#     edges, \n",
    "#     source='user',\n",
    "#     target='conversation_user',\n",
    "#     edge_attr='count',\n",
    "#     create_using=nx.DiGraph()\n",
    "# )\n",
    "# print(G)"
   ]
  },
  {
   "cell_type": "code",
   "execution_count": 8,
   "id": "afbbe5db-a362-4726-a2d7-a0701262831b",
   "metadata": {},
   "outputs": [
    {
     "name": "stdout",
     "output_type": "stream",
     "text": [
      "../data/chart.html\n"
     ]
    },
    {
     "data": {
      "text/html": [
       "\n",
       "        <iframe\n",
       "            width=\"1200px\"\n",
       "            height=\"600px\"\n",
       "            src=\"../data/chart.html\"\n",
       "            frameborder=\"0\"\n",
       "            allowfullscreen\n",
       "            \n",
       "        ></iframe>\n",
       "        "
      ],
      "text/plain": [
       "<IPython.lib.display.IFrame at 0x7efc92911df0>"
      ]
     },
     "execution_count": 8,
     "metadata": {},
     "output_type": "execute_result"
    }
   ],
   "source": [
    "from pyvis.network import Network\n",
    "\n",
    "nt = Network(\n",
    "    height=\"600px\", width=\"1200px\", \n",
    "    directed=True, \n",
    "    notebook=True, \n",
    "    cdn_resources='remote'\n",
    ")\n",
    "\n",
    "users = edges['user']\n",
    "c_users = edges['conversation_user']\n",
    "counts = edges['count']\n",
    "edge_data = zip(users, c_users, counts)\n",
    "\n",
    "for e in edge_data:\n",
    "    src = e[0]\n",
    "    dst = e[1]\n",
    "    w = e[2]\n",
    "\n",
    "    nt.add_node(src, src, title=src)\n",
    "    nt.add_node(dst, dst, title=dst)\n",
    "    nt.add_edge(src, dst, value=w)\n",
    "\n",
    "neighbor_map = nt.get_adj_list()\n",
    "\n",
    "for node in nt.nodes:\n",
    "    node[\"title\"] += \" Neighbors:<br>\" + \"<br>\".join(neighbor_map[node[\"id\"]])\n",
    "    node[\"value\"] = len(neighbor_map[node[\"id\"]])\n",
    "\n",
    "nt.show_buttons(filter_=['nodes'])\n",
    "file_path = \"../data/chart.html\"\n",
    "nt.show(file_path)"
   ]
  }
 ],
 "metadata": {
  "kernelspec": {
   "display_name": "Python 3 (ipykernel)",
   "language": "python",
   "name": "python3"
  },
  "language_info": {
   "codemirror_mode": {
    "name": "ipython",
    "version": 3
   },
   "file_extension": ".py",
   "mimetype": "text/x-python",
   "name": "python",
   "nbconvert_exporter": "python",
   "pygments_lexer": "ipython3",
   "version": "3.8.13"
  }
 },
 "nbformat": 4,
 "nbformat_minor": 5
}
