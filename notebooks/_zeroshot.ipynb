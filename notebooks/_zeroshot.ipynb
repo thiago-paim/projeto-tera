{
 "cells": [
  {
   "cell_type": "code",
   "execution_count": 1,
   "id": "cf43b021-9f9e-4687-80a5-b2b92884155e",
   "metadata": {
    "tags": []
   },
   "outputs": [],
   "source": [
    "import pandas as pd\n",
    "from transformers import pipeline"
   ]
  },
  {
   "cell_type": "code",
   "execution_count": 2,
   "id": "0ddaf1cd-9eae-4f17-89e2-c92e32e200e9",
   "metadata": {
    "tags": []
   },
   "outputs": [
    {
     "name": "stdout",
     "output_type": "stream",
     "text": [
      "<class 'pandas.core.frame.DataFrame'>\n",
      "RangeIndex: 22505 entries, 0 to 22504\n",
      "Data columns (total 49 columns):\n",
      " #   Column                    Non-Null Count  Dtype  \n",
      "---  ------                    --------------  -----  \n",
      " 0   url                       22505 non-null  object \n",
      " 1   date                      22505 non-null  object \n",
      " 2   rawContent                22505 non-null  object \n",
      " 3   renderedContent           22505 non-null  object \n",
      " 4   id                        22505 non-null  int64  \n",
      " 5   user                      22505 non-null  object \n",
      " 6   replyCount                22505 non-null  int64  \n",
      " 7   retweetCount              22505 non-null  int64  \n",
      " 8   likeCount                 22505 non-null  int64  \n",
      " 9   quoteCount                22505 non-null  int64  \n",
      " 10  conversationId            22505 non-null  int64  \n",
      " 11  lang                      22505 non-null  object \n",
      " 12  source                    0 non-null      float64\n",
      " 13  sourceUrl                 0 non-null      float64\n",
      " 14  sourceLabel               0 non-null      float64\n",
      " 15  links                     641 non-null    object \n",
      " 16  media                     3282 non-null   object \n",
      " 17  retweetedTweet            0 non-null      float64\n",
      " 18  quotedTweet               333 non-null    object \n",
      " 19  inReplyToTweetId          21118 non-null  float64\n",
      " 20  inReplyToUser             21118 non-null  object \n",
      " 21  mentionedUsers            20945 non-null  object \n",
      " 22  coordinates               629 non-null    object \n",
      " 23  place                     629 non-null    object \n",
      " 24  hashtags                  1782 non-null   object \n",
      " 25  cashtags                  1 non-null      object \n",
      " 26  card                      322 non-null    object \n",
      " 27  viewCount                 4 non-null      float64\n",
      " 28  vibe                      0 non-null      float64\n",
      " 29  user_username             22505 non-null  object \n",
      " 30  user_id                   22505 non-null  int64  \n",
      " 31  user_displayname          22503 non-null  object \n",
      " 32  user_rawDescription       17691 non-null  object \n",
      " 33  user_renderedDescription  17691 non-null  object \n",
      " 34  user_descriptionLinks     513 non-null    object \n",
      " 35  user_verified             22505 non-null  bool   \n",
      " 36  user_created              22505 non-null  object \n",
      " 37  user_followersCount       22505 non-null  int64  \n",
      " 38  user_friendsCount         22505 non-null  int64  \n",
      " 39  user_statusesCount        22505 non-null  int64  \n",
      " 40  user_favouritesCount      22505 non-null  int64  \n",
      " 41  user_listedCount          22505 non-null  int64  \n",
      " 42  user_mediaCount           22505 non-null  int64  \n",
      " 43  user_location             14401 non-null  object \n",
      " 44  user_protected            22505 non-null  bool   \n",
      " 45  user_link                 7329 non-null   object \n",
      " 46  user_profileImageUrl      22504 non-null  object \n",
      " 47  user_profileBannerUrl     18008 non-null  object \n",
      " 48  user_label                0 non-null      float64\n",
      "dtypes: bool(2), float64(8), int64(13), object(26)\n",
      "memory usage: 8.1+ MB\n"
     ]
    },
    {
     "name": "stderr",
     "output_type": "stream",
     "text": [
      "/tmp/ipykernel_19366/255830363.py:2: DtypeWarning: Columns (25) have mixed types. Specify dtype option on import or set low_memory=False.\n",
      "  raw_df = pd.read_csv(file_path, on_bad_lines='skip', sep=';', encoding='utf-8')\n"
     ]
    }
   ],
   "source": [
    "file_path = '../data/raw/ErikakHilton-tweets.csv'\n",
    "raw_df = pd.read_csv(file_path, on_bad_lines='skip', sep=';', encoding='utf-8')\n",
    "raw_df.info()"
   ]
  },
  {
   "cell_type": "code",
   "execution_count": 3,
   "id": "dec745a8-c3e4-4e13-906b-9f992bfddbf6",
   "metadata": {
    "tags": []
   },
   "outputs": [
    {
     "name": "stderr",
     "output_type": "stream",
     "text": [
      "No model was supplied, defaulted to facebook/bart-large-mnli and revision c626438 (https://huggingface.co/facebook/bart-large-mnli).\n",
      "Using a pipeline without specifying a model name and revision in production is not recommended.\n"
     ]
    }
   ],
   "source": [
    "# Definindo a tarefa a ser desempenhada\n",
    "zero_shot = pipeline(\"zero-shot-classification\")"
   ]
  },
  {
   "cell_type": "code",
   "execution_count": null,
   "id": "9ca57f4a-36ea-4779-a30c-509078bdc878",
   "metadata": {},
   "outputs": [],
   "source": []
  },
  {
   "cell_type": "code",
   "execution_count": 14,
   "id": "4eb162cf-4f4e-49a0-a3e8-c1afa8d6873a",
   "metadata": {
    "tags": []
   },
   "outputs": [
    {
     "data": {
      "text/plain": [
       "{'sequence': 'Ao longo do dia estou recebendo denúncias, inclusive de pessoas presas há mais de 16h na estrada, sem água e sem comida, pelos bloqueios ilegais dos caminhoneiros.\\n\\nPor isso, enviei requerimento para que a PRF nos dê informações sobre as dimensões dos atos e providencias tomadas. https://t.co/g0zRPmBLLX',\n",
       " 'labels': ['justiça', 'educação', 'politica', 'trânsito', 'crime'],\n",
       " 'scores': [0.38861924409866333,\n",
       "  0.22645018994808197,\n",
       "  0.18269692361354828,\n",
       "  0.11075945198535919,\n",
       "  0.09147416800260544]}"
      ]
     },
     "execution_count": 14,
     "metadata": {},
     "output_type": "execute_result"
    }
   ],
   "source": [
    "doc = raw_df['rawContent'][0]\n",
    "zero_shot(\n",
    "    doc,\n",
    "    candidate_labels=[\"educação\", \"politica\", \"justiça\", \"trânsito\", \"crime\"]\n",
    ")"
   ]
  },
  {
   "cell_type": "code",
   "execution_count": null,
   "id": "57e58f25-064a-4d2a-ae59-ad4ad5b9651d",
   "metadata": {},
   "outputs": [],
   "source": []
  },
  {
   "cell_type": "code",
   "execution_count": 8,
   "id": "ce6aba14-9da3-440e-a07a-ff7b776547be",
   "metadata": {
    "tags": []
   },
   "outputs": [
    {
     "data": {
      "text/plain": [
       "{'sequence': 'This is a course about the Transformers library',\n",
       " 'labels': ['education', 'business', 'politics'],\n",
       " 'scores': [0.8445999622344971, 0.11197338253259659, 0.04342666268348694]}"
      ]
     },
     "execution_count": 8,
     "metadata": {},
     "output_type": "execute_result"
    }
   ],
   "source": [
    "# Utilizando o Zero-shot na classificação de documentos\n",
    "zero_shot(\"This is a course about the Transformers library\",\n",
    "          candidate_labels=[\"education\", \"politics\", \"business\"])"
   ]
  },
  {
   "cell_type": "code",
   "execution_count": 9,
   "id": "7b04675b-de6f-4d66-b8d1-c2fb1fa6b5a4",
   "metadata": {
    "tags": []
   },
   "outputs": [
    {
     "data": {
      "text/plain": [
       "{'sequence': 'Vou apresentar meu pitch na reunião da empresa de amanhã.',\n",
       " 'labels': ['negócios', 'politica', 'educação'],\n",
       " 'scores': [0.5291113257408142, 0.3684241473674774, 0.10246454179286957]}"
      ]
     },
     "execution_count": 9,
     "metadata": {},
     "output_type": "execute_result"
    }
   ],
   "source": [
    "# Utilizando o Zero-shot na classificação de documentos\n",
    "zero_shot(\"Vou apresentar meu pitch na reunião da empresa de amanhã.\",\n",
    "          candidate_labels=[\"educação\", \"politica\", \"negócios\"])"
   ]
  },
  {
   "cell_type": "code",
   "execution_count": 10,
   "id": "f8535f1b-4ad8-4019-b974-8025ab17d55b",
   "metadata": {
    "tags": []
   },
   "outputs": [
    {
     "data": {
      "text/plain": [
       "{'sequence': 'Lula é o atual presidente do Brasil',\n",
       " 'labels': ['politica', 'negócios', 'educação'],\n",
       " 'scores': [0.7761214971542358, 0.18373116850852966, 0.0401473194360733]}"
      ]
     },
     "execution_count": 10,
     "metadata": {},
     "output_type": "execute_result"
    }
   ],
   "source": [
    "# Utilizando o Zero-shot na classificação de documentos\n",
    "zero_shot(\"Lula é o atual presidente do Brasil\",\n",
    "          candidate_labels=[\"educação\", \"politica\", \"negócios\"])"
   ]
  }
 ],
 "metadata": {
  "kernelspec": {
   "display_name": "Python 3 (ipykernel)",
   "language": "python",
   "name": "python3"
  },
  "language_info": {
   "codemirror_mode": {
    "name": "ipython",
    "version": 3
   },
   "file_extension": ".py",
   "mimetype": "text/x-python",
   "name": "python",
   "nbconvert_exporter": "python",
   "pygments_lexer": "ipython3",
   "version": "3.8.13"
  }
 },
 "nbformat": 4,
 "nbformat_minor": 5
}
