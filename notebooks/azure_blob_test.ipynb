{
 "cells": [
  {
   "cell_type": "code",
   "execution_count": 3,
   "id": "270cd497-3e83-41f4-8de8-5a2e2ceba7fa",
   "metadata": {},
   "outputs": [
    {
     "name": "stdout",
     "output_type": "stream",
     "text": [
      "Azure Blob Storage Python quickstart sample\n"
     ]
    }
   ],
   "source": [
    "import os, uuid\n",
    "from azure.identity import DefaultAzureCredential\n",
    "from azure.storage.blob import BlobServiceClient, BlobClient, ContainerClient\n",
    "\n",
    "try:\n",
    "    print(\"Azure Blob Storage Python quickstart sample\")\n",
    "\n",
    "except Exception as ex:\n",
    "    print(\"Exception:\")\n",
    "    print(ex)\n"
   ]
  },
  {
   "cell_type": "code",
   "execution_count": 4,
   "id": "a55b00b8-d18e-44cd-b556-efbbb9d4025d",
   "metadata": {},
   "outputs": [],
   "source": [
    "AZURE_STORAGE_ACCOUNT_URL = \"https://projetotera.blob.core.windows.net\"\n",
    "AZURE_STORAGE_ACCOUNT_KEY = \"AZURE_STORAGE_ACCOUNT_KEY\"  # Copiar do .env\n",
    "AZURE_STORAGE_CONTAINER = \"datasets\"\n"
   ]
  },
  {
   "cell_type": "code",
   "execution_count": 7,
   "id": "d20f444a-f9c5-4577-8f98-f9cf350fe2fe",
   "metadata": {},
   "outputs": [],
   "source": [
    "# Instantiate Azure Blob client\n",
    "blob_service_client = BlobServiceClient(\n",
    "    account_url=AZURE_STORAGE_ACCOUNT_URL, credential=AZURE_STORAGE_ACCOUNT_KEY\n",
    ")\n",
    "container_client = blob_service_client.get_container_client(AZURE_STORAGE_CONTAINER)\n"
   ]
  },
  {
   "cell_type": "code",
   "execution_count": 10,
   "id": "364c121b-5c14-4531-ac41-9d16e6abf646",
   "metadata": {},
   "outputs": [],
   "source": [
    "# Create a local directory to hold blob data\n",
    "local_path = \"./data\"\n",
    "os.mkdir(local_path)\n",
    "\n",
    "# Create a file in the local data directory to upload and download\n",
    "local_file_name = str(uuid.uuid4()) + \".txt\"\n",
    "upload_file_path = os.path.join(local_path, local_file_name)\n",
    "\n",
    "# Write text to the file\n",
    "file = open(file=upload_file_path, mode=\"w\")\n",
    "file.write(\"Hello, World!\")\n",
    "file.close()\n"
   ]
  },
  {
   "cell_type": "code",
   "execution_count": 13,
   "id": "bf99d4b7-aed9-4f83-b799-83b36d935c3e",
   "metadata": {},
   "outputs": [
    {
     "name": "stdout",
     "output_type": "stream",
     "text": [
      "\n",
      "Uploading to Azure Storage as blob:\n",
      "\tcc0e7b07-2c12-40af-9286-d33f0edb4ec2.txt\n"
     ]
    }
   ],
   "source": [
    "# Create a blob client using the local file name as the name for the blob\n",
    "# blob_client = blob_service_client.get_blob_client(container=container_name, blob=local_file_name)\n",
    "\n",
    "print(\"\\nUploading to Azure Storage as blob:\\n\\t\" + local_file_name)\n",
    "\n",
    "# Upload the created file\n",
    "with open(file=upload_file_path, mode=\"rb\") as data:\n",
    "    container_client.upload_blob(name=local_file_name, data=data)\n"
   ]
  }
 ],
 "metadata": {
  "kernelspec": {
   "display_name": "Python 3 (ipykernel)",
   "language": "python",
   "name": "python3"
  },
  "language_info": {
   "codemirror_mode": {
    "name": "ipython",
    "version": 3
   },
   "file_extension": ".py",
   "mimetype": "text/x-python",
   "name": "python",
   "nbconvert_exporter": "python",
   "pygments_lexer": "ipython3",
   "version": "3.8.13"
  }
 },
 "nbformat": 4,
 "nbformat_minor": 5
}
