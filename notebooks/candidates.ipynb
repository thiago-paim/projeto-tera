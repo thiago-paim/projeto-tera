{
 "cells": [
  {
   "cell_type": "markdown",
   "id": "00112d61-0f4f-419c-ad5f-c777e6db446e",
   "metadata": {},
   "source": [
    "# Inicialização"
   ]
  },
  {
   "cell_type": "code",
   "execution_count": 20,
   "id": "bc66754a-6a2c-402c-93db-f4d34212a62b",
   "metadata": {},
   "outputs": [],
   "source": [
    "from datetime import datetime\n",
    "import numpy as np\n",
    "import matplotlib.pyplot as plt\n",
    "import pandas as pd\n",
    "import pytz\n",
    "import seaborn as sns\n",
    "from snscrape.base import ScraperException\n",
    "import snscrape.modules.twitter as sntwitter\n",
    "from tqdm import tqdm\n",
    "\n",
    "# Oculta warnings do notebook\n",
    "# import warnings\n",
    "# warnings.filterwarnings('ignore')\n",
    "\n",
    "# Configurações de visualização\n",
    "pd.set_option(\"display.max_columns\", 30)\n",
    "pd.options.display.float_format = \"{:,.2f}\".format\n"
   ]
  },
  {
   "cell_type": "code",
   "execution_count": 2,
   "id": "2a2677c1-f335-4983-9f79-83175b251631",
   "metadata": {},
   "outputs": [
    {
     "name": "stdout",
     "output_type": "stream",
     "text": [
      "(3659, 71)\n",
      "<class 'pandas.core.frame.DataFrame'>\n",
      "RangeIndex: 3659 entries, 0 to 3658\n",
      "Data columns (total 71 columns):\n",
      " #   Column                         Non-Null Count  Dtype  \n",
      "---  ------                         --------------  -----  \n",
      " 0   DT_GERACAO                     3659 non-null   object \n",
      " 1   HH_GERACAO                     3659 non-null   object \n",
      " 2   ANO_ELEICAO                    3659 non-null   int64  \n",
      " 3   CD_TIPO_ELEICAO                3659 non-null   int64  \n",
      " 4   NM_TIPO_ELEICAO                3659 non-null   object \n",
      " 5   NR_TURNO                       3659 non-null   int64  \n",
      " 6   CD_ELEICAO                     3659 non-null   int64  \n",
      " 7   DS_ELEICAO                     3659 non-null   object \n",
      " 8   DT_ELEICAO                     3659 non-null   object \n",
      " 9   TP_ABRANGENCIA                 3659 non-null   object \n",
      " 10  SG_UF                          3659 non-null   object \n",
      " 11  SG_UE                          3659 non-null   object \n",
      " 12  NM_UE                          3659 non-null   object \n",
      " 13  CD_CARGO                       3659 non-null   int64  \n",
      " 14  DS_CARGO                       3659 non-null   object \n",
      " 15  SQ_CANDIDATO                   3659 non-null   int64  \n",
      " 16  NR_CANDIDATO                   3659 non-null   int64  \n",
      " 17  NM_CANDIDATO                   3659 non-null   object \n",
      " 18  NM_URNA_CANDIDATO              3659 non-null   object \n",
      " 19  NM_SOCIAL_CANDIDATO            3659 non-null   object \n",
      " 20  NR_CPF_CANDIDATO               3659 non-null   int64  \n",
      " 21  NM_EMAIL                       3659 non-null   object \n",
      " 22  CD_SITUACAO_CANDIDATURA        3659 non-null   int64  \n",
      " 23  DS_SITUACAO_CANDIDATURA        3659 non-null   object \n",
      " 24  CD_DETALHE_SITUACAO_CAND       3659 non-null   int64  \n",
      " 25  DS_DETALHE_SITUACAO_CAND       3659 non-null   object \n",
      " 26  TP_AGREMIACAO                  3659 non-null   object \n",
      " 27  NR_PARTIDO                     3659 non-null   int64  \n",
      " 28  SG_PARTIDO                     3659 non-null   object \n",
      " 29  NM_PARTIDO                     3659 non-null   object \n",
      " 30  NR_FEDERACAO                   3659 non-null   int64  \n",
      " 31  NM_FEDERACAO                   3659 non-null   object \n",
      " 32  SG_FEDERACAO                   3659 non-null   object \n",
      " 33  DS_COMPOSICAO_FEDERACAO        3659 non-null   object \n",
      " 34  SQ_COLIGACAO                   3659 non-null   int64  \n",
      " 35  NM_COLIGACAO                   3659 non-null   object \n",
      " 36  DS_COMPOSICAO_COLIGACAO        3659 non-null   object \n",
      " 37  CD_NACIONALIDADE               3659 non-null   int64  \n",
      " 38  DS_NACIONALIDADE               3659 non-null   object \n",
      " 39  SG_UF_NASCIMENTO               3659 non-null   object \n",
      " 40  CD_MUNICIPIO_NASCIMENTO        3659 non-null   int64  \n",
      " 41  NM_MUNICIPIO_NASCIMENTO        3659 non-null   object \n",
      " 42  DT_NASCIMENTO                  3658 non-null   object \n",
      " 43  NR_IDADE_DATA_POSSE            3658 non-null   float64\n",
      " 44  NR_TITULO_ELEITORAL_CANDIDATO  3659 non-null   int64  \n",
      " 45  CD_GENERO                      3659 non-null   int64  \n",
      " 46  DS_GENERO                      3659 non-null   object \n",
      " 47  CD_GRAU_INSTRUCAO              3659 non-null   int64  \n",
      " 48  DS_GRAU_INSTRUCAO              3659 non-null   object \n",
      " 49  CD_ESTADO_CIVIL                3659 non-null   int64  \n",
      " 50  DS_ESTADO_CIVIL                3659 non-null   object \n",
      " 51  CD_COR_RACA                    3659 non-null   int64  \n",
      " 52  DS_COR_RACA                    3659 non-null   object \n",
      " 53  CD_OCUPACAO                    3659 non-null   int64  \n",
      " 54  DS_OCUPACAO                    3659 non-null   object \n",
      " 55  VR_DESPESA_MAX_CAMPANHA        3659 non-null   float64\n",
      " 56  CD_SIT_TOT_TURNO               3659 non-null   int64  \n",
      " 57  DS_SIT_TOT_TURNO               3659 non-null   object \n",
      " 58  ST_REELEICAO                   3659 non-null   object \n",
      " 59  ST_DECLARAR_BENS               3659 non-null   object \n",
      " 60  NR_PROTOCOLO_CANDIDATURA       3659 non-null   int64  \n",
      " 61  NR_PROCESSO                    3659 non-null   int64  \n",
      " 62  CD_SITUACAO_CANDIDATO_PLEITO   3659 non-null   int64  \n",
      " 63  DS_SITUACAO_CANDIDATO_PLEITO   3659 non-null   object \n",
      " 64  CD_SITUACAO_CANDIDATO_URNA     3659 non-null   int64  \n",
      " 65  DS_SITUACAO_CANDIDATO_URNA     3659 non-null   object \n",
      " 66  ST_CANDIDATO_INSERIDO_URNA     3659 non-null   object \n",
      " 67  NM_TIPO_DESTINACAO_VOTOS       3659 non-null   object \n",
      " 68  CD_SITUACAO_CANDIDATO_TOT      3659 non-null   int64  \n",
      " 69  DS_SITUACAO_CANDIDATO_TOT      3659 non-null   object \n",
      " 70  ST_PREST_CONTAS                3659 non-null   object \n",
      "dtypes: float64(2), int64(27), object(42)\n",
      "memory usage: 2.0+ MB\n"
     ]
    }
   ],
   "source": [
    "dataset_path = \"../data/raw/\"\n",
    "dataset_name = \"consulta_cand_2022_SP.csv\"\n",
    "cand_sp_df = pd.read_csv(f\"{dataset_path}{dataset_name}\", sep=\";\")\n",
    "print(cand_sp_df.shape)\n",
    "cand_sp_df.info()\n"
   ]
  },
  {
   "cell_type": "code",
   "execution_count": 3,
   "id": "2caaf66e-72dc-45a7-b5d0-734ce9647529",
   "metadata": {},
   "outputs": [
    {
     "name": "stdout",
     "output_type": "stream",
     "text": [
      "(6735, 11)\n",
      "<class 'pandas.core.frame.DataFrame'>\n",
      "RangeIndex: 6735 entries, 0 to 6734\n",
      "Data columns (total 11 columns):\n",
      " #   Column           Non-Null Count  Dtype \n",
      "---  ------           --------------  ----- \n",
      " 0   DT_GERACAO       6735 non-null   object\n",
      " 1   HH_GERACAO       6735 non-null   object\n",
      " 2   AA_ELEICAO       6735 non-null   int64 \n",
      " 3   SG_UF            6735 non-null   object\n",
      " 4   CD_TIPO_ELEICAO  6735 non-null   int64 \n",
      " 5   NM_TIPO_ELEICAO  6735 non-null   object\n",
      " 6   CD_ELEICAO       6735 non-null   int64 \n",
      " 7   DS_ELEICAO       6735 non-null   object\n",
      " 8   SQ_CANDIDATO     6735 non-null   int64 \n",
      " 9   NR_ORDEM         6735 non-null   int64 \n",
      " 10  DS_URL           6735 non-null   object\n",
      "dtypes: int64(5), object(6)\n",
      "memory usage: 578.9+ KB\n"
     ]
    }
   ],
   "source": [
    "# Carregando dataset com os dados de redes sociais dos candidatos de SP nas eleições de 2022\n",
    "rs_df = pd.read_csv(f\"{dataset_path}rede_social_candidato_2022_SP.csv\", sep=\";\")\n",
    "print(rs_df.shape)\n",
    "rs_df.info()\n"
   ]
  },
  {
   "cell_type": "markdown",
   "id": "19c1b09a-13fa-442c-a5b7-a674c9b8587e",
   "metadata": {},
   "source": [
    "## Juntando os datasets"
   ]
  },
  {
   "cell_type": "code",
   "execution_count": 4,
   "id": "3db94401-7687-4fbe-89d0-ac1a8864d988",
   "metadata": {},
   "outputs": [
    {
     "name": "stdout",
     "output_type": "stream",
     "text": [
      "(624, 11)\n"
     ]
    }
   ],
   "source": [
    "# Filtrando somente candidatos com conta no Twitter\n",
    "rs_twitter_df = rs_df[rs_df.DS_URL.str.contains(\"twitter\", case=False)]\n",
    "print(rs_twitter_df.shape)\n"
   ]
  },
  {
   "cell_type": "code",
   "execution_count": 5,
   "id": "a7a3e7fb-66cf-498d-9148-ab197daaa443",
   "metadata": {},
   "outputs": [
    {
     "data": {
      "text/plain": [
       "(3682, 72)"
      ]
     },
     "execution_count": 5,
     "metadata": {},
     "output_type": "execute_result"
    }
   ],
   "source": [
    "# Juntando as duas bases\n",
    "df = pd.merge(\n",
    "    cand_sp_df, rs_twitter_df[[\"SQ_CANDIDATO\", \"DS_URL\"]], on=\"SQ_CANDIDATO\", how=\"left\"\n",
    ")\n",
    "df.shape\n"
   ]
  },
  {
   "cell_type": "code",
   "execution_count": 6,
   "id": "963e6a60-63b5-433e-9693-f85cfa784ad3",
   "metadata": {},
   "outputs": [
    {
     "name": "stdout",
     "output_type": "stream",
     "text": [
      "(2068, 72)\n"
     ]
    }
   ],
   "source": [
    "# Filtrando somente candidatos a deputado estadual\n",
    "candidates_df = df.loc[(df[\"DS_CARGO\"] == \"DEPUTADO ESTADUAL\")]\n",
    "\n",
    "print(candidates_df.shape)\n"
   ]
  },
  {
   "cell_type": "markdown",
   "id": "34f51bb5-7623-4ba6-936b-ac5ebf48f7ae",
   "metadata": {},
   "source": [
    "# Checagem dos dados"
   ]
  },
  {
   "cell_type": "markdown",
   "id": "26dd625d-fbff-4b45-a3f7-2d3d7e51dd4f",
   "metadata": {},
   "source": [
    "## Dados duplicados"
   ]
  },
  {
   "cell_type": "code",
   "execution_count": 7,
   "id": "53f8ea78-1b4f-42fb-8574-72687dc64973",
   "metadata": {},
   "outputs": [
    {
     "data": {
      "text/html": [
       "<div>\n",
       "<style scoped>\n",
       "    .dataframe tbody tr th:only-of-type {\n",
       "        vertical-align: middle;\n",
       "    }\n",
       "\n",
       "    .dataframe tbody tr th {\n",
       "        vertical-align: top;\n",
       "    }\n",
       "\n",
       "    .dataframe thead th {\n",
       "        text-align: right;\n",
       "    }\n",
       "</style>\n",
       "<table border=\"1\" class=\"dataframe\">\n",
       "  <thead>\n",
       "    <tr style=\"text-align: right;\">\n",
       "      <th></th>\n",
       "      <th>SQ_CANDIDATO</th>\n",
       "      <th>DS_URL</th>\n",
       "    </tr>\n",
       "  </thead>\n",
       "  <tbody>\n",
       "    <tr>\n",
       "      <th>179</th>\n",
       "      <td>250001643640</td>\n",
       "      <td>https://twitter.com/DrMarcioAurelio</td>\n",
       "    </tr>\n",
       "    <tr>\n",
       "      <th>180</th>\n",
       "      <td>250001643640</td>\n",
       "      <td>https://twitter.com/DrMarcioAurelio</td>\n",
       "    </tr>\n",
       "    <tr>\n",
       "      <th>181</th>\n",
       "      <td>250001643640</td>\n",
       "      <td>https://twitter.com/raiztrabalhista</td>\n",
       "    </tr>\n",
       "    <tr>\n",
       "      <th>578</th>\n",
       "      <td>250001619366</td>\n",
       "      <td>https://twitter.com/MarinadaMantiq1?t=8vFxK3Hx...</td>\n",
       "    </tr>\n",
       "    <tr>\n",
       "      <th>579</th>\n",
       "      <td>250001619366</td>\n",
       "      <td>https://twitter.com/Mantiqueira18?t=hLpMVYYVZ0...</td>\n",
       "    </tr>\n",
       "    <tr>\n",
       "      <th>885</th>\n",
       "      <td>250001611799</td>\n",
       "      <td>https://twitter.com/depeniotatto</td>\n",
       "    </tr>\n",
       "    <tr>\n",
       "      <th>886</th>\n",
       "      <td>250001611799</td>\n",
       "      <td>https://www.twitter.com/eniotatto13114</td>\n",
       "    </tr>\n",
       "    <tr>\n",
       "      <th>2344</th>\n",
       "      <td>250001620657</td>\n",
       "      <td>https://www.twitter.com/FabioAdonis</td>\n",
       "    </tr>\n",
       "    <tr>\n",
       "      <th>2345</th>\n",
       "      <td>250001620657</td>\n",
       "      <td>https://twitter.com/fabiojabaDGtal?t=45hkTz2X4...</td>\n",
       "    </tr>\n",
       "    <tr>\n",
       "      <th>2688</th>\n",
       "      <td>250001611457</td>\n",
       "      <td>https://twitter.com/alefrota77</td>\n",
       "    </tr>\n",
       "    <tr>\n",
       "      <th>2689</th>\n",
       "      <td>250001611457</td>\n",
       "      <td>https://twitter.com/77_frota</td>\n",
       "    </tr>\n",
       "    <tr>\n",
       "      <th>2783</th>\n",
       "      <td>250001620598</td>\n",
       "      <td>https://www.twitter.com/@Gnobrega007</td>\n",
       "    </tr>\n",
       "    <tr>\n",
       "      <th>2784</th>\n",
       "      <td>250001620598</td>\n",
       "      <td>https://www.twitter.com/GeraldóNobrega</td>\n",
       "    </tr>\n",
       "    <tr>\n",
       "      <th>3441</th>\n",
       "      <td>250001611774</td>\n",
       "      <td>https://twitter.com/RValverde13</td>\n",
       "    </tr>\n",
       "    <tr>\n",
       "      <th>3442</th>\n",
       "      <td>250001611774</td>\n",
       "      <td>https://twitter.com/rodrigo_pt13</td>\n",
       "    </tr>\n",
       "    <tr>\n",
       "      <th>3443</th>\n",
       "      <td>250001611774</td>\n",
       "      <td>https://twitter.com/valverdemogi</td>\n",
       "    </tr>\n",
       "  </tbody>\n",
       "</table>\n",
       "</div>"
      ],
      "text/plain": [
       "      SQ_CANDIDATO                                             DS_URL\n",
       "179   250001643640                https://twitter.com/DrMarcioAurelio\n",
       "180   250001643640                https://twitter.com/DrMarcioAurelio\n",
       "181   250001643640                https://twitter.com/raiztrabalhista\n",
       "578   250001619366  https://twitter.com/MarinadaMantiq1?t=8vFxK3Hx...\n",
       "579   250001619366  https://twitter.com/Mantiqueira18?t=hLpMVYYVZ0...\n",
       "885   250001611799                   https://twitter.com/depeniotatto\n",
       "886   250001611799             https://www.twitter.com/eniotatto13114\n",
       "2344  250001620657                https://www.twitter.com/FabioAdonis\n",
       "2345  250001620657  https://twitter.com/fabiojabaDGtal?t=45hkTz2X4...\n",
       "2688  250001611457                     https://twitter.com/alefrota77\n",
       "2689  250001611457                       https://twitter.com/77_frota\n",
       "2783  250001620598               https://www.twitter.com/@Gnobrega007\n",
       "2784  250001620598             https://www.twitter.com/GeraldóNobrega\n",
       "3441  250001611774                    https://twitter.com/RValverde13\n",
       "3442  250001611774                   https://twitter.com/rodrigo_pt13\n",
       "3443  250001611774                   https://twitter.com/valverdemogi"
      ]
     },
     "execution_count": 7,
     "metadata": {},
     "output_type": "execute_result"
    }
   ],
   "source": [
    "# Vamos checar os candidatos duplicados\n",
    "duplicated_candidates_id = (\n",
    "    (candidates_df.SQ_CANDIDATO.value_counts() > 1).loc[lambda x: x == True].index\n",
    ")\n",
    "candidates_df[candidates_df[\"SQ_CANDIDATO\"].isin(duplicated_candidates_id)][\n",
    "    [\"SQ_CANDIDATO\", \"DS_URL\"]\n",
    "]\n"
   ]
  },
  {
   "cell_type": "code",
   "execution_count": 8,
   "id": "2f5c04a2-38d4-4e10-a175-09efbc4ef123",
   "metadata": {},
   "outputs": [],
   "source": [
    "# Vamos checar estas contas no Twitter\n",
    "drop_list = []\n",
    "\n",
    "# A conta DrMarcioAurelio está repetida, portanto vamos remover uma das linhas\n",
    "drop_list.append(180)\n",
    "\n",
    "# A conta raiztrabalhista é de um coletivo político e não do candidato\n",
    "drop_list.append(181)\n",
    "\n",
    "# A conta Mantiqueira18 é de um coletivo político e não do candidato\n",
    "drop_list.append(579)\n",
    "\n",
    "# A conta eniotatto13114 não existe mais\n",
    "drop_list.append(886)\n",
    "\n",
    "# A conta FabioAdonis é pessoal e não posta desde 2017\n",
    "drop_list.append(2344)\n",
    "\n",
    "# A conta alefrota77 não existe mais\n",
    "drop_list.append(2688)\n",
    "\n",
    "# A conta GeraldóNobrega não existe mais\n",
    "drop_list.append(2784)\n",
    "\n",
    "# A conta rodrigo_pt13 não tem nenhum tweet\n",
    "drop_list.append(3442)\n",
    "\n",
    "# A conta valverdemogi possui apenas um tweet de 2021\n",
    "drop_list.append(3443)"
   ]
  },
  {
   "cell_type": "code",
   "execution_count": 9,
   "id": "509877a8-be11-4765-819c-44c5327f320f",
   "metadata": {},
   "outputs": [],
   "source": [
    "# Removendo as contas acima\n",
    "candidates_df = candidates_df.drop(drop_list)"
   ]
  },
  {
   "cell_type": "markdown",
   "id": "ae28f3ec-b262-4fce-a0ff-6a319a24d974",
   "metadata": {},
   "source": [
    "# Exploração dos dados"
   ]
  },
  {
   "cell_type": "code",
   "execution_count": 10,
   "id": "f3ff6f4d-1c7c-4457-bfdd-86b3ba73c751",
   "metadata": {},
   "outputs": [
    {
     "name": "stdout",
     "output_type": "stream",
     "text": [
      "(2059, 72)\n",
      "(94, 72)\n",
      "(49, 72)\n"
     ]
    }
   ],
   "source": [
    "# Vamos criar diferentes segmentações, para facilitar a comparação de diversidade\n",
    "elected_values = [\"ELEITO POR QP\", \"ELEITO POR MÉDIA\", \"ELEITO\"]\n",
    "\n",
    "# Deputados estaduais eleitos\n",
    "elected_df = candidates_df.loc[(candidates_df[\"DS_SIT_TOT_TURNO\"].isin(elected_values))]\n",
    "\n",
    "# Deputados estaduais eleitos com perfil no Twitter\n",
    "twitter_df = elected_df.loc[(elected_df[\"DS_URL\"].notna())]\n",
    "\n",
    "print(candidates_df.shape)\n",
    "print(elected_df.shape)\n",
    "print(twitter_df.shape)\n"
   ]
  },
  {
   "cell_type": "markdown",
   "id": "a9e70cde-c6bd-412b-a4d9-657b96a205de",
   "metadata": {},
   "source": [
    "### Analisando a diversidade"
   ]
  },
  {
   "cell_type": "code",
   "execution_count": 11,
   "id": "1b10a05b-78b9-47c4-b078-86ebe81d0877",
   "metadata": {},
   "outputs": [
    {
     "name": "stdout",
     "output_type": "stream",
     "text": [
      "Candidatos a deputado estadual\n",
      "DS_GENERO       DS_COR_RACA   \n",
      "FEMININO        AMARELA             8\n",
      "                BRANCA            419\n",
      "                INDÍGENA            2\n",
      "                PARDA             115\n",
      "                PRETA             132\n",
      "MASCULINO       AMARELA            11\n",
      "                BRANCA            906\n",
      "                INDÍGENA            4\n",
      "                NÃO INFORMADO       1\n",
      "                PARDA             318\n",
      "                PRETA             142\n",
      "NÃO DIVULGÁVEL  NÃO DIVULGÁVEL      1\n",
      "dtype: int64\n",
      "\n",
      "Candidatos a deputado estadual eleitos\n",
      "DS_GENERO  DS_COR_RACA\n",
      "FEMININO   BRANCA         19\n",
      "           PARDA           1\n",
      "           PRETA           5\n",
      "MASCULINO  BRANCA         57\n",
      "           PARDA           8\n",
      "           PRETA           4\n",
      "dtype: int64\n",
      "\n",
      "Candidatos a deputado estadual eleitos com conta no Twitter\n",
      "DS_GENERO  DS_COR_RACA\n",
      "FEMININO   BRANCA         11\n",
      "           PARDA           1\n",
      "           PRETA           4\n",
      "MASCULINO  BRANCA         31\n",
      "           PARDA           1\n",
      "           PRETA           1\n",
      "dtype: int64\n",
      "\n"
     ]
    }
   ],
   "source": [
    "print(\"Candidatos a deputado estadual\")\n",
    "print(candidates_df.groupby([\"DS_GENERO\", \"DS_COR_RACA\"]).size())\n",
    "print()\n",
    "print(\"Candidatos a deputado estadual eleitos\")\n",
    "print(elected_df.groupby([\"DS_GENERO\", \"DS_COR_RACA\"]).size())\n",
    "print()\n",
    "print(\"Candidatos a deputado estadual eleitos com conta no Twitter\")\n",
    "print(twitter_df.groupby([\"DS_GENERO\", \"DS_COR_RACA\"]).size())\n",
    "print()\n"
   ]
  },
  {
   "cell_type": "code",
   "execution_count": 12,
   "id": "46d4d0e9-ef04-4caf-8340-1c4316d028f0",
   "metadata": {},
   "outputs": [
    {
     "name": "stdout",
     "output_type": "stream",
     "text": [
      "Candidatos a Deputado Estadual ; Deputados Estaduais Eleitos ; Deputados Estaduais Eleitos com Twitter\n"
     ]
    },
    {
     "data": {
      "image/png": "[encoded data removed]",
      "text/plain": [
       "<Figure size 1600x400 with 3 Axes>"
      ]
     },
     "metadata": {},
     "output_type": "display_data"
    }
   ],
   "source": [
    "# Visualizando a distribuição de gênero em raça, entre o candidatos, os eleitos e os eleitos com Twitter\n",
    "fig, ax = plt.subplots(1, 3, figsize=(16, 4), squeeze=False)\n",
    "fig.autofmt_xdate(rotation=45)\n",
    "\n",
    "sns.histplot(\n",
    "    data=candidates_df,\n",
    "    hue=\"DS_GENERO\",\n",
    "    x=\"DS_COR_RACA\",\n",
    "    multiple=\"stack\",\n",
    "    ax=ax[0][0],\n",
    ")\n",
    "\n",
    "sns.histplot(\n",
    "    data=elected_df,\n",
    "    hue=\"DS_GENERO\",\n",
    "    x=\"DS_COR_RACA\",\n",
    "    multiple=\"stack\",\n",
    "    ax=ax[0][1],\n",
    ")\n",
    "\n",
    "sns.histplot(\n",
    "    data=twitter_df,\n",
    "    hue=\"DS_GENERO\",\n",
    "    x=\"DS_COR_RACA\",\n",
    "    multiple=\"stack\",\n",
    "    ax=ax[0][2],\n",
    ")\n",
    "\n",
    "print(\n",
    "    \"Candidatos a Deputado Estadual ; Deputados Estaduais Eleitos ; Deputados Estaduais Eleitos com Twitter\"\n",
    ")\n",
    "plt.show()\n"
   ]
  },
  {
   "cell_type": "code",
   "execution_count": 13,
   "id": "11dacdcc-3faf-4dff-bd7b-1b260204201b",
   "metadata": {},
   "outputs": [
    {
     "name": "stdout",
     "output_type": "stream",
     "text": [
      "Candidatos a Deputado Estadual ; Deputados Estaduais Eleitos ; Deputados Estaduais Eleitos com Twitter\n"
     ]
    },
    {
     "data": {
      "image/png": "[encoded data removed]",
      "text/plain": [
       "<Figure size 1600x400 with 3 Axes>"
      ]
     },
     "metadata": {},
     "output_type": "display_data"
    }
   ],
   "source": [
    "# Visualizando a distribuição de gênero e raça, entre o candidatos, os eleitos e os eleitos com Twitter\n",
    "fig, ax = plt.subplots(1, 3, figsize=(16, 4), squeeze=False)\n",
    "fig.autofmt_xdate(rotation=45)\n",
    "\n",
    "sns.histplot(\n",
    "    data=candidates_df,\n",
    "    hue=\"DS_COR_RACA\",\n",
    "    x=\"DS_GENERO\",\n",
    "    multiple=\"stack\",\n",
    "    ax=ax[0][0],\n",
    ")\n",
    "\n",
    "sns.histplot(\n",
    "    data=elected_df,\n",
    "    hue=\"DS_COR_RACA\",\n",
    "    x=\"DS_GENERO\",\n",
    "    multiple=\"stack\",\n",
    "    ax=ax[0][1],\n",
    ")\n",
    "\n",
    "sns.histplot(\n",
    "    data=twitter_df,\n",
    "    hue=\"DS_COR_RACA\",\n",
    "    x=\"DS_GENERO\",\n",
    "    multiple=\"stack\",\n",
    "    ax=ax[0][2],\n",
    ")\n",
    "\n",
    "print(\n",
    "    \"Candidatos a Deputado Estadual ; Deputados Estaduais Eleitos ; Deputados Estaduais Eleitos com Twitter\"\n",
    ")\n",
    "plt.show()\n"
   ]
  },
  {
   "cell_type": "markdown",
   "id": "0fe6d405-87f7-41a5-a96f-311a6501288e",
   "metadata": {},
   "source": [
    "# Extração de dados do Twitter"
   ]
  },
  {
   "cell_type": "markdown",
   "id": "8ea9a65e-f6ff-4229-904e-e65a133bdfa9",
   "metadata": {},
   "source": [
    "## Dados das contas"
   ]
  },
  {
   "cell_type": "code",
   "execution_count": 14,
   "id": "8319759b-c80f-4466-b4e0-3584bb7eeb98",
   "metadata": {
    "tags": []
   },
   "outputs": [
    {
     "data": {
      "text/plain": [
       "22                          https://www.twitter/dreltonjr\n",
       "232              https://twitter.com/EdianeMariaMTST?s=09\n",
       "276     https://twitter.com/fabibbolsonaro?s=21&t=yq90...\n",
       "318                      https://twitter.com/delegadoolim\n",
       "367     https://www.twitter.com/https://twitter.com/le...\n",
       "391     https://twitter.com/bethsahao?ref_src=twsrc%5E...\n",
       "427                          https://twitter.com/sppretas\n",
       "458                    https://www.twitter.com/tomeabduch\n",
       "459                     https://twitter.com/prcarloscezar\n",
       "490                        https://twitter.com/majormecca\n",
       "514                      https://twitter.com/valbolsonaro\n",
       "560                      https://twitter.com/zimbaldirafa\n",
       "599                    https://twitter.com/CarlosGiannazi\n",
       "660              https://twitter.com/tenente_coimbra?s=11\n",
       "690                   https://twitter.com/rafaelsaraivasp\n",
       "741                    https://twitter.com/BrunoZambelli3\n",
       "742                      https://twitter.com/LFTeixeira13\n",
       "810                    https://twitter.com/EmidioDeSouza_\n",
       "847                          https://twitter.com/esuplicy\n",
       "885                      https://twitter.com/depeniotatto\n",
       "906                   https://twitter.com/anacarolserra23\n",
       "1015                   https://twitter.com/xerifedoconsum\n",
       "1191               http://www.twitter.com/auricchiothiago\n",
       "1203                    https://twitter.com/itamar_borges\n",
       "1286                    https://twitter.com/simaopedro_SP\n",
       "1353                      https://twitter.com/DaniloBalas\n",
       "1388                       https://twitter.com/vcamarinha\n",
       "1492                  https://twitter.com/marcosdamasiosp\n",
       "1531                      https://twitter.com/lcmarcolino\n",
       "1532                     https://twitter.com/danialonsoDA\n",
       "1833           https://twitter.com/bfeministapsol?lang=en\n",
       "1872                     https://twitter.com/gersonpessoa\n",
       "1878                   https://twitter.com/deleg_graciela\n",
       "2068                  https://twitter.com/ValdomiroLopes_\n",
       "2262                      https://twitter.com/lucasbovesp\n",
       "2307               HTTPS://WWW.TWITTER.COM/DANIELBRSOARES\n",
       "2347                      http://twitter.com/paulomansur_\n",
       "2416                https://www.twitter.com/andreawerner_\n",
       "2555    https://twitter.com/CONTELOPES?fbclid=IwAR30_h...\n",
       "2690                      https://twitter.com/anaperugini\n",
       "2923                  https://twitter.com/professorabebel\n",
       "3050                      https://twitter.com/EdmirChedid\n",
       "3293             https://www.twitter.com/deputadomaurici/\n",
       "3310                    https://twitter.com/carteiroreaca\n",
       "3408                     https://twitter.com/caiofranca40\n",
       "3454                    https://twitter.com/marcialiapt13\n",
       "3491                       https://twitter.com/letsaguiar\n",
       "3559                  https://twitter.com/thainarafariapt\n",
       "3624                   https://twitter.com/depbrunafurlan\n",
       "Name: DS_URL, dtype: object"
      ]
     },
     "execution_count": 14,
     "metadata": {},
     "output_type": "execute_result"
    }
   ],
   "source": [
    "# Vamos listar as contas no twitter dos deputados estaduais eleitos\n",
    "twitter_df.DS_URL"
   ]
  },
  {
   "cell_type": "code",
   "execution_count": 15,
   "id": "214ba6f6-5f7c-402e-b98e-0541317db760",
   "metadata": {
    "tags": []
   },
   "outputs": [
    {
     "name": "stderr",
     "output_type": "stream",
     "text": [
      "/tmp/ipykernel_6923/2390309642.py:8: SettingWithCopyWarning: \n",
      "A value is trying to be set on a copy of a slice from a DataFrame.\n",
      "Try using .loc[row_indexer,col_indexer] = value instead\n",
      "\n",
      "See the caveats in the documentation: https://pandas.pydata.org/pandas-docs/stable/user_guide/indexing.html#returning-a-view-versus-a-copy\n",
      "  twitter_df['TW_USER'] = twitter_df.DS_URL.apply(get_twitter_username)\n"
     ]
    },
    {
     "data": {
      "text/plain": [
       "count            49\n",
       "unique           49\n",
       "top       dreltonjr\n",
       "freq              1\n",
       "Name: TW_USER, dtype: object"
      ]
     },
     "execution_count": 15,
     "metadata": {},
     "output_type": "execute_result"
    }
   ],
   "source": [
    "# Como precisamos somente do username, precisamos aplicar uma função\n",
    "def get_twitter_username(link):\n",
    "    link = link.rstrip(\"/\")\n",
    "    username = link.split(\"/\")[-1]\n",
    "    username = username.split(\"?\")[0]\n",
    "    return username.lower()\n",
    "\n",
    "\n",
    "twitter_df[\"TW_USER\"] = twitter_df.DS_URL.apply(get_twitter_username)\n",
    "twitter_df[\"TW_USER\"].describe()\n"
   ]
  },
  {
   "cell_type": "code",
   "execution_count": 16,
   "id": "9418d5d8-381f-4b99-9349-42fcf6d005d5",
   "metadata": {
    "tags": []
   },
   "outputs": [
    {
     "name": "stdout",
     "output_type": "stream",
     "text": [
      "1/49 dreltonjr: {'followersCount': 875, 'friendsCount': 461, 'statusesCount': 746, 'favouritesCount': 304, 'listedCount': 2, 'mediaCount': 480}\n",
      "2/49 edianemariamtst: {'followersCount': 14692, 'friendsCount': 250, 'statusesCount': 3883, 'favouritesCount': 3294, 'listedCount': 41, 'mediaCount': 689}\n",
      "3/49 fabibbolsonaro: {'followersCount': 15497, 'friendsCount': 7072, 'statusesCount': 102, 'favouritesCount': 500, 'listedCount': 5, 'mediaCount': 41}\n",
      "4/49 delegadoolim: {'followersCount': 3004, 'friendsCount': 0, 'statusesCount': 1924, 'favouritesCount': 233, 'listedCount': 37, 'mediaCount': 465}\n",
      "5/49 leosiqueirabr: {'followersCount': 56635, 'friendsCount': 1099, 'statusesCount': 9042, 'favouritesCount': 4964, 'listedCount': 362, 'mediaCount': 1019}\n",
      "6/49 bethsahao: {'followersCount': 2768, 'friendsCount': 1574, 'statusesCount': 9681, 'favouritesCount': 3872, 'listedCount': 70, 'mediaCount': 545}\n",
      "7/49 sppretas: {'followersCount': 1800, 'friendsCount': 18, 'statusesCount': 283, 'favouritesCount': 712, 'listedCount': 11, 'mediaCount': 38}\n"
     ]
    },
    {
     "name": "stderr",
     "output_type": "stream",
     "text": [
      "Empty response\n"
     ]
    },
    {
     "name": "stdout",
     "output_type": "stream",
     "text": [
      "8/49 tomeabduch: Erro Could not resolve username 'tomeabduch' to ID\n",
      "9/49 prcarloscezar: {'followersCount': 5527, 'friendsCount': 585, 'statusesCount': 18304, 'favouritesCount': 254, 'listedCount': 76, 'mediaCount': 1791}\n",
      "10/49 majormecca: {'followersCount': 28661, 'friendsCount': 981, 'statusesCount': 12533, 'favouritesCount': 25860, 'listedCount': 60, 'mediaCount': 3900}\n",
      "11/49 valbolsonaro: {'followersCount': 54149, 'friendsCount': 328, 'statusesCount': 4280, 'favouritesCount': 27137, 'listedCount': 122, 'mediaCount': 1315}\n",
      "12/49 zimbaldirafa: {'followersCount': 1102, 'friendsCount': 353, 'statusesCount': 2525, 'favouritesCount': 130, 'listedCount': 39, 'mediaCount': 378}\n",
      "13/49 carlosgiannazi: {'followersCount': 21511, 'friendsCount': 833, 'statusesCount': 14564, 'favouritesCount': 14858, 'listedCount': 241, 'mediaCount': 7639}\n",
      "14/49 tenente_coimbra: {'followersCount': 81022, 'friendsCount': 3012, 'statusesCount': 4483, 'favouritesCount': 4496, 'listedCount': 73, 'mediaCount': 619}\n",
      "15/49 rafaelsaraivasp: {'followersCount': 936, 'friendsCount': 54, 'statusesCount': 401, 'favouritesCount': 202, 'listedCount': 5, 'mediaCount': 153}\n",
      "16/49 brunozambelli3: {'followersCount': 6167, 'friendsCount': 85, 'statusesCount': 527, 'favouritesCount': 882, 'listedCount': 9, 'mediaCount': 261}\n"
     ]
    },
    {
     "name": "stderr",
     "output_type": "stream",
     "text": [
      "Empty response\n"
     ]
    },
    {
     "name": "stdout",
     "output_type": "stream",
     "text": [
      "17/49 lfteixeira13: Erro Could not resolve username 'lfteixeira13' to ID\n",
      "18/49 emidiodesouza_: {'followersCount': 10391, 'friendsCount': 1090, 'statusesCount': 20289, 'favouritesCount': 5229, 'listedCount': 167, 'mediaCount': 3013}\n",
      "19/49 esuplicy: {'followersCount': 725415, 'friendsCount': 3687, 'statusesCount': 15051, 'favouritesCount': 6624, 'listedCount': 2204, 'mediaCount': 5625}\n",
      "20/49 depeniotatto: {'followersCount': 546, 'friendsCount': 206, 'statusesCount': 1374, 'favouritesCount': 185, 'listedCount': 19, 'mediaCount': 240}\n",
      "21/49 anacarolserra23: {'followersCount': 224, 'friendsCount': 194, 'statusesCount': 45, 'favouritesCount': 1211, 'listedCount': 5, 'mediaCount': 20}\n",
      "22/49 xerifedoconsum: {'followersCount': 1410, 'friendsCount': 4, 'statusesCount': 686, 'favouritesCount': 0, 'listedCount': 12, 'mediaCount': 180}\n",
      "23/49 auricchiothiago: {'followersCount': 1026, 'friendsCount': 22, 'statusesCount': 943, 'favouritesCount': 27, 'listedCount': 28, 'mediaCount': 76}\n",
      "24/49 itamar_borges: {'followersCount': 2235, 'friendsCount': 77, 'statusesCount': 3743, 'favouritesCount': 217, 'listedCount': 49, 'mediaCount': 1288}\n",
      "25/49 simaopedro_sp: {'followersCount': 13944, 'friendsCount': 8631, 'statusesCount': 21422, 'favouritesCount': 21260, 'listedCount': 177, 'mediaCount': 3485}\n",
      "26/49 danilobalas: {'followersCount': 20254, 'friendsCount': 195, 'statusesCount': 3292, 'favouritesCount': 18843, 'listedCount': 52, 'mediaCount': 1340}\n",
      "27/49 vcamarinha: {'followersCount': 1522, 'friendsCount': 399, 'statusesCount': 2170, 'favouritesCount': 10, 'listedCount': 42, 'mediaCount': 118}\n",
      "28/49 marcosdamasiosp: {'followersCount': 735, 'friendsCount': 37, 'statusesCount': 603, 'favouritesCount': 23, 'listedCount': 24, 'mediaCount': 522}\n",
      "29/49 lcmarcolino: {'followersCount': 2483, 'friendsCount': 984, 'statusesCount': 16299, 'favouritesCount': 1223, 'listedCount': 39, 'mediaCount': 584}\n",
      "30/49 danialonsoda: {'followersCount': 206, 'friendsCount': 25, 'statusesCount': 59, 'favouritesCount': 5, 'listedCount': 2, 'mediaCount': 9}\n",
      "31/49 bfeministapsol: {'followersCount': 7993, 'friendsCount': 258, 'statusesCount': 4468, 'favouritesCount': 2005, 'listedCount': 66, 'mediaCount': 942}\n",
      "32/49 gersonpessoa: {'followersCount': 73, 'friendsCount': 83, 'statusesCount': 25, 'favouritesCount': 1, 'listedCount': 3, 'mediaCount': 2}\n",
      "33/49 deleg_graciela: {'followersCount': 443, 'friendsCount': 0, 'statusesCount': 4, 'favouritesCount': 0, 'listedCount': 21, 'mediaCount': 4}\n",
      "34/49 valdomirolopes_: {'followersCount': 162, 'friendsCount': 131, 'statusesCount': 555, 'favouritesCount': 552, 'listedCount': 2, 'mediaCount': 502}\n",
      "35/49 lucasbovesp: {'followersCount': 5062, 'friendsCount': 112, 'statusesCount': 583, 'favouritesCount': 252, 'listedCount': 5, 'mediaCount': 121}\n",
      "36/49 danielbrsoares: {'followersCount': 134, 'friendsCount': 8, 'statusesCount': 67, 'favouritesCount': 19, 'listedCount': 4, 'mediaCount': 54}\n",
      "37/49 paulomansur_: {'followersCount': 137016, 'friendsCount': 14466, 'statusesCount': 8843, 'favouritesCount': 721, 'listedCount': 1258, 'mediaCount': 420}\n",
      "38/49 andreawerner_: {'followersCount': 63984, 'friendsCount': 3045, 'statusesCount': 37277, 'favouritesCount': 57656, 'listedCount': 175, 'mediaCount': 3211}\n",
      "39/49 contelopes: {'followersCount': 10575, 'friendsCount': 32, 'statusesCount': 3041, 'favouritesCount': 79, 'listedCount': 86, 'mediaCount': 212}\n",
      "40/49 anaperugini: {'followersCount': 5021, 'friendsCount': 1037, 'statusesCount': 10407, 'favouritesCount': 6917, 'listedCount': 133, 'mediaCount': 1560}\n",
      "41/49 professorabebel: {'followersCount': 9823, 'friendsCount': 2501, 'statusesCount': 4781, 'favouritesCount': 1164, 'listedCount': 43, 'mediaCount': 2212}\n",
      "42/49 edmirchedid: {'followersCount': 2217, 'friendsCount': 1089, 'statusesCount': 13884, 'favouritesCount': 146, 'listedCount': 74, 'mediaCount': 5925}\n",
      "43/49 deputadomaurici: {'followersCount': 2894, 'friendsCount': 2450, 'statusesCount': 1152, 'favouritesCount': 3188, 'listedCount': 17, 'mediaCount': 331}\n",
      "44/49 carteiroreaca: {'followersCount': 534122, 'friendsCount': 853, 'statusesCount': 16340, 'favouritesCount': 15232, 'listedCount': 675, 'mediaCount': 3093}\n",
      "45/49 caiofranca40: {'followersCount': 5835, 'friendsCount': 1150, 'statusesCount': 5001, 'favouritesCount': 3536, 'listedCount': 45, 'mediaCount': 1930}\n",
      "46/49 marcialiapt13: {'followersCount': 2727, 'friendsCount': 1658, 'statusesCount': 7265, 'favouritesCount': 7375, 'listedCount': 39, 'mediaCount': 994}\n",
      "47/49 letsaguiar: {'followersCount': 34250, 'friendsCount': 0, 'statusesCount': 5241, 'favouritesCount': 5832, 'listedCount': 61, 'mediaCount': 2085}\n",
      "48/49 thainarafariapt: {'followersCount': 6723, 'friendsCount': 192, 'statusesCount': 3908, 'favouritesCount': 2268, 'listedCount': 37, 'mediaCount': 943}\n",
      "49/49 depbrunafurlan: {'followersCount': 11863, 'friendsCount': 2465, 'statusesCount': 14107, 'favouritesCount': 9365, 'listedCount': 281, 'mediaCount': 8043}\n",
      "CPU times: user 1.22 s, sys: 56.3 ms, total: 1.27 s\n",
      "Wall time: 1min 16s\n"
     ]
    }
   ],
   "source": [
    "%%time\n",
    "# Vamos raspar os dados numéricos de cada uma das contas do Twitter\n",
    "usernames = list(twitter_df['TW_USER'])\n",
    "\n",
    "user_data = {}\n",
    "for i, username in enumerate(usernames):\n",
    "    try:\n",
    "        last_tweet = next(sntwitter.TwitterProfileScraper(username).get_items())\n",
    "        user_data[username] = {\n",
    "            'followersCount': last_tweet.user.followersCount,\n",
    "            'friendsCount': last_tweet.user.friendsCount,\n",
    "            'statusesCount': last_tweet.user.statusesCount,\n",
    "            'favouritesCount': last_tweet.user.favouritesCount,\n",
    "            'listedCount': last_tweet.user.listedCount,\n",
    "            'mediaCount': last_tweet.user.mediaCount,\n",
    "        }\n",
    "        print(f'{i+1}/{len(usernames)} {username}: {user_data[username]}')\n",
    "    except Exception as e:\n",
    "        print(f'{i+1}/{len(usernames)} {username}: Erro {e}')\n",
    "        user_data[username] = {\n",
    "            'followersCount': 0,\n",
    "            'friendsCount': 0,\n",
    "            'statusesCount': 0,\n",
    "            'favouritesCount': 0,\n",
    "            'listedCount': 0,\n",
    "            'mediaCount': 0,\n",
    "        }"
   ]
  },
  {
   "cell_type": "code",
   "execution_count": 17,
   "id": "d41781a5-c7b7-4ea3-bcd1-aa529d5b0790",
   "metadata": {
    "tags": []
   },
   "outputs": [
    {
     "name": "stderr",
     "output_type": "stream",
     "text": [
      "/tmp/ipykernel_6923/2004623770.py:4: SettingWithCopyWarning: \n",
      "A value is trying to be set on a copy of a slice from a DataFrame.\n",
      "Try using .loc[row_indexer,col_indexer] = value instead\n",
      "\n",
      "See the caveats in the documentation: https://pandas.pydata.org/pandas-docs/stable/user_guide/indexing.html#returning-a-view-versus-a-copy\n",
      "  twitter_df['TW_followersCount'] = twitter_df.TW_USER.apply(lambda x: user_data[x]['followersCount'])\n",
      "/tmp/ipykernel_6923/2004623770.py:7: SettingWithCopyWarning: \n",
      "A value is trying to be set on a copy of a slice from a DataFrame.\n",
      "Try using .loc[row_indexer,col_indexer] = value instead\n",
      "\n",
      "See the caveats in the documentation: https://pandas.pydata.org/pandas-docs/stable/user_guide/indexing.html#returning-a-view-versus-a-copy\n",
      "  twitter_df['TW_friendsCount'] = twitter_df.TW_USER.apply(lambda x: user_data[x]['friendsCount'])\n",
      "/tmp/ipykernel_6923/2004623770.py:10: SettingWithCopyWarning: \n",
      "A value is trying to be set on a copy of a slice from a DataFrame.\n",
      "Try using .loc[row_indexer,col_indexer] = value instead\n",
      "\n",
      "See the caveats in the documentation: https://pandas.pydata.org/pandas-docs/stable/user_guide/indexing.html#returning-a-view-versus-a-copy\n",
      "  twitter_df['TW_statusesCount'] = twitter_df.TW_USER.apply(lambda x: user_data[x]['statusesCount'])\n",
      "/tmp/ipykernel_6923/2004623770.py:13: SettingWithCopyWarning: \n",
      "A value is trying to be set on a copy of a slice from a DataFrame.\n",
      "Try using .loc[row_indexer,col_indexer] = value instead\n",
      "\n",
      "See the caveats in the documentation: https://pandas.pydata.org/pandas-docs/stable/user_guide/indexing.html#returning-a-view-versus-a-copy\n",
      "  twitter_df['TW_favouritesCount'] = twitter_df.TW_USER.apply(lambda x: user_data[x]['favouritesCount'])\n",
      "/tmp/ipykernel_6923/2004623770.py:15: SettingWithCopyWarning: \n",
      "A value is trying to be set on a copy of a slice from a DataFrame.\n",
      "Try using .loc[row_indexer,col_indexer] = value instead\n",
      "\n",
      "See the caveats in the documentation: https://pandas.pydata.org/pandas-docs/stable/user_guide/indexing.html#returning-a-view-versus-a-copy\n",
      "  twitter_df['TW_listedCount'] = twitter_df.TW_USER.apply(lambda x: user_data[x]['listedCount'])\n",
      "/tmp/ipykernel_6923/2004623770.py:16: SettingWithCopyWarning: \n",
      "A value is trying to be set on a copy of a slice from a DataFrame.\n",
      "Try using .loc[row_indexer,col_indexer] = value instead\n",
      "\n",
      "See the caveats in the documentation: https://pandas.pydata.org/pandas-docs/stable/user_guide/indexing.html#returning-a-view-versus-a-copy\n",
      "  twitter_df['TW_mediaCount'] = twitter_df.TW_USER.apply(lambda x: user_data[x]['mediaCount'])\n"
     ]
    },
    {
     "data": {
      "text/html": [
       "<div>\n",
       "<style scoped>\n",
       "    .dataframe tbody tr th:only-of-type {\n",
       "        vertical-align: middle;\n",
       "    }\n",
       "\n",
       "    .dataframe tbody tr th {\n",
       "        vertical-align: top;\n",
       "    }\n",
       "\n",
       "    .dataframe thead th {\n",
       "        text-align: right;\n",
       "    }\n",
       "</style>\n",
       "<table border=\"1\" class=\"dataframe\">\n",
       "  <thead>\n",
       "    <tr style=\"text-align: right;\">\n",
       "      <th></th>\n",
       "      <th>DT_GERACAO</th>\n",
       "      <th>HH_GERACAO</th>\n",
       "      <th>ANO_ELEICAO</th>\n",
       "      <th>CD_TIPO_ELEICAO</th>\n",
       "      <th>NM_TIPO_ELEICAO</th>\n",
       "      <th>NR_TURNO</th>\n",
       "      <th>CD_ELEICAO</th>\n",
       "      <th>DS_ELEICAO</th>\n",
       "      <th>DT_ELEICAO</th>\n",
       "      <th>TP_ABRANGENCIA</th>\n",
       "      <th>SG_UF</th>\n",
       "      <th>SG_UE</th>\n",
       "      <th>NM_UE</th>\n",
       "      <th>CD_CARGO</th>\n",
       "      <th>DS_CARGO</th>\n",
       "      <th>...</th>\n",
       "      <th>CD_SITUACAO_CANDIDATO_URNA</th>\n",
       "      <th>DS_SITUACAO_CANDIDATO_URNA</th>\n",
       "      <th>ST_CANDIDATO_INSERIDO_URNA</th>\n",
       "      <th>NM_TIPO_DESTINACAO_VOTOS</th>\n",
       "      <th>CD_SITUACAO_CANDIDATO_TOT</th>\n",
       "      <th>DS_SITUACAO_CANDIDATO_TOT</th>\n",
       "      <th>ST_PREST_CONTAS</th>\n",
       "      <th>DS_URL</th>\n",
       "      <th>TW_USER</th>\n",
       "      <th>TW_followersCount</th>\n",
       "      <th>TW_friendsCount</th>\n",
       "      <th>TW_statusesCount</th>\n",
       "      <th>TW_favouritesCount</th>\n",
       "      <th>TW_listedCount</th>\n",
       "      <th>TW_mediaCount</th>\n",
       "    </tr>\n",
       "  </thead>\n",
       "  <tbody>\n",
       "    <tr>\n",
       "      <th>22</th>\n",
       "      <td>15/02/2023</td>\n",
       "      <td>18:42:41</td>\n",
       "      <td>2022</td>\n",
       "      <td>2</td>\n",
       "      <td>ELEIÇÃO ORDINÁRIA</td>\n",
       "      <td>1</td>\n",
       "      <td>546</td>\n",
       "      <td>Eleições Gerais Estaduais 2022</td>\n",
       "      <td>02/10/2022</td>\n",
       "      <td>ESTADUAL</td>\n",
       "      <td>SP</td>\n",
       "      <td>SP</td>\n",
       "      <td>SÃO PAULO</td>\n",
       "      <td>7</td>\n",
       "      <td>DEPUTADO ESTADUAL</td>\n",
       "      <td>...</td>\n",
       "      <td>2</td>\n",
       "      <td>DEFERIDO</td>\n",
       "      <td>SIM</td>\n",
       "      <td>Válido</td>\n",
       "      <td>2</td>\n",
       "      <td>Deferido</td>\n",
       "      <td>S</td>\n",
       "      <td>https://www.twitter/dreltonjr</td>\n",
       "      <td>dreltonjr</td>\n",
       "      <td>875</td>\n",
       "      <td>461</td>\n",
       "      <td>746</td>\n",
       "      <td>304</td>\n",
       "      <td>2</td>\n",
       "      <td>480</td>\n",
       "    </tr>\n",
       "    <tr>\n",
       "      <th>232</th>\n",
       "      <td>15/02/2023</td>\n",
       "      <td>18:42:41</td>\n",
       "      <td>2022</td>\n",
       "      <td>2</td>\n",
       "      <td>ELEIÇÃO ORDINÁRIA</td>\n",
       "      <td>1</td>\n",
       "      <td>546</td>\n",
       "      <td>Eleições Gerais Estaduais 2022</td>\n",
       "      <td>02/10/2022</td>\n",
       "      <td>ESTADUAL</td>\n",
       "      <td>SP</td>\n",
       "      <td>SP</td>\n",
       "      <td>SÃO PAULO</td>\n",
       "      <td>7</td>\n",
       "      <td>DEPUTADO ESTADUAL</td>\n",
       "      <td>...</td>\n",
       "      <td>2</td>\n",
       "      <td>DEFERIDO</td>\n",
       "      <td>SIM</td>\n",
       "      <td>Válido</td>\n",
       "      <td>2</td>\n",
       "      <td>Deferido</td>\n",
       "      <td>S</td>\n",
       "      <td>https://twitter.com/EdianeMariaMTST?s=09</td>\n",
       "      <td>edianemariamtst</td>\n",
       "      <td>14692</td>\n",
       "      <td>250</td>\n",
       "      <td>3883</td>\n",
       "      <td>3294</td>\n",
       "      <td>41</td>\n",
       "      <td>689</td>\n",
       "    </tr>\n",
       "    <tr>\n",
       "      <th>276</th>\n",
       "      <td>15/02/2023</td>\n",
       "      <td>18:42:41</td>\n",
       "      <td>2022</td>\n",
       "      <td>2</td>\n",
       "      <td>ELEIÇÃO ORDINÁRIA</td>\n",
       "      <td>1</td>\n",
       "      <td>546</td>\n",
       "      <td>Eleições Gerais Estaduais 2022</td>\n",
       "      <td>02/10/2022</td>\n",
       "      <td>ESTADUAL</td>\n",
       "      <td>SP</td>\n",
       "      <td>SP</td>\n",
       "      <td>SÃO PAULO</td>\n",
       "      <td>7</td>\n",
       "      <td>DEPUTADO ESTADUAL</td>\n",
       "      <td>...</td>\n",
       "      <td>2</td>\n",
       "      <td>DEFERIDO</td>\n",
       "      <td>SIM</td>\n",
       "      <td>Válido</td>\n",
       "      <td>2</td>\n",
       "      <td>Deferido</td>\n",
       "      <td>S</td>\n",
       "      <td>https://twitter.com/fabibbolsonaro?s=21&amp;t=yq90...</td>\n",
       "      <td>fabibbolsonaro</td>\n",
       "      <td>15497</td>\n",
       "      <td>7072</td>\n",
       "      <td>102</td>\n",
       "      <td>500</td>\n",
       "      <td>5</td>\n",
       "      <td>41</td>\n",
       "    </tr>\n",
       "    <tr>\n",
       "      <th>318</th>\n",
       "      <td>15/02/2023</td>\n",
       "      <td>18:42:41</td>\n",
       "      <td>2022</td>\n",
       "      <td>2</td>\n",
       "      <td>ELEIÇÃO ORDINÁRIA</td>\n",
       "      <td>1</td>\n",
       "      <td>546</td>\n",
       "      <td>Eleições Gerais Estaduais 2022</td>\n",
       "      <td>02/10/2022</td>\n",
       "      <td>ESTADUAL</td>\n",
       "      <td>SP</td>\n",
       "      <td>SP</td>\n",
       "      <td>SÃO PAULO</td>\n",
       "      <td>7</td>\n",
       "      <td>DEPUTADO ESTADUAL</td>\n",
       "      <td>...</td>\n",
       "      <td>2</td>\n",
       "      <td>DEFERIDO</td>\n",
       "      <td>SIM</td>\n",
       "      <td>Válido</td>\n",
       "      <td>2</td>\n",
       "      <td>Deferido</td>\n",
       "      <td>S</td>\n",
       "      <td>https://twitter.com/delegadoolim</td>\n",
       "      <td>delegadoolim</td>\n",
       "      <td>3004</td>\n",
       "      <td>0</td>\n",
       "      <td>1924</td>\n",
       "      <td>233</td>\n",
       "      <td>37</td>\n",
       "      <td>465</td>\n",
       "    </tr>\n",
       "    <tr>\n",
       "      <th>367</th>\n",
       "      <td>15/02/2023</td>\n",
       "      <td>18:42:41</td>\n",
       "      <td>2022</td>\n",
       "      <td>2</td>\n",
       "      <td>ELEIÇÃO ORDINÁRIA</td>\n",
       "      <td>1</td>\n",
       "      <td>546</td>\n",
       "      <td>Eleições Gerais Estaduais 2022</td>\n",
       "      <td>02/10/2022</td>\n",
       "      <td>ESTADUAL</td>\n",
       "      <td>SP</td>\n",
       "      <td>SP</td>\n",
       "      <td>SÃO PAULO</td>\n",
       "      <td>7</td>\n",
       "      <td>DEPUTADO ESTADUAL</td>\n",
       "      <td>...</td>\n",
       "      <td>2</td>\n",
       "      <td>DEFERIDO</td>\n",
       "      <td>SIM</td>\n",
       "      <td>Válido</td>\n",
       "      <td>2</td>\n",
       "      <td>Deferido</td>\n",
       "      <td>S</td>\n",
       "      <td>https://www.twitter.com/https://twitter.com/le...</td>\n",
       "      <td>leosiqueirabr</td>\n",
       "      <td>56635</td>\n",
       "      <td>1099</td>\n",
       "      <td>9042</td>\n",
       "      <td>4964</td>\n",
       "      <td>362</td>\n",
       "      <td>1019</td>\n",
       "    </tr>\n",
       "  </tbody>\n",
       "</table>\n",
       "<p>5 rows × 79 columns</p>\n",
       "</div>"
      ],
      "text/plain": [
       "     DT_GERACAO HH_GERACAO  ANO_ELEICAO  CD_TIPO_ELEICAO    NM_TIPO_ELEICAO  \\\n",
       "22   15/02/2023   18:42:41         2022                2  ELEIÇÃO ORDINÁRIA   \n",
       "232  15/02/2023   18:42:41         2022                2  ELEIÇÃO ORDINÁRIA   \n",
       "276  15/02/2023   18:42:41         2022                2  ELEIÇÃO ORDINÁRIA   \n",
       "318  15/02/2023   18:42:41         2022                2  ELEIÇÃO ORDINÁRIA   \n",
       "367  15/02/2023   18:42:41         2022                2  ELEIÇÃO ORDINÁRIA   \n",
       "\n",
       "     NR_TURNO  CD_ELEICAO                      DS_ELEICAO  DT_ELEICAO  \\\n",
       "22          1         546  Eleições Gerais Estaduais 2022  02/10/2022   \n",
       "232         1         546  Eleições Gerais Estaduais 2022  02/10/2022   \n",
       "276         1         546  Eleições Gerais Estaduais 2022  02/10/2022   \n",
       "318         1         546  Eleições Gerais Estaduais 2022  02/10/2022   \n",
       "367         1         546  Eleições Gerais Estaduais 2022  02/10/2022   \n",
       "\n",
       "    TP_ABRANGENCIA SG_UF SG_UE      NM_UE  CD_CARGO           DS_CARGO  ...  \\\n",
       "22        ESTADUAL    SP    SP  SÃO PAULO         7  DEPUTADO ESTADUAL  ...   \n",
       "232       ESTADUAL    SP    SP  SÃO PAULO         7  DEPUTADO ESTADUAL  ...   \n",
       "276       ESTADUAL    SP    SP  SÃO PAULO         7  DEPUTADO ESTADUAL  ...   \n",
       "318       ESTADUAL    SP    SP  SÃO PAULO         7  DEPUTADO ESTADUAL  ...   \n",
       "367       ESTADUAL    SP    SP  SÃO PAULO         7  DEPUTADO ESTADUAL  ...   \n",
       "\n",
       "     CD_SITUACAO_CANDIDATO_URNA  DS_SITUACAO_CANDIDATO_URNA  \\\n",
       "22                            2                    DEFERIDO   \n",
       "232                           2                    DEFERIDO   \n",
       "276                           2                    DEFERIDO   \n",
       "318                           2                    DEFERIDO   \n",
       "367                           2                    DEFERIDO   \n",
       "\n",
       "    ST_CANDIDATO_INSERIDO_URNA NM_TIPO_DESTINACAO_VOTOS  \\\n",
       "22                         SIM                   Válido   \n",
       "232                        SIM                   Válido   \n",
       "276                        SIM                   Válido   \n",
       "318                        SIM                   Válido   \n",
       "367                        SIM                   Válido   \n",
       "\n",
       "    CD_SITUACAO_CANDIDATO_TOT  DS_SITUACAO_CANDIDATO_TOT ST_PREST_CONTAS  \\\n",
       "22                          2                   Deferido               S   \n",
       "232                         2                   Deferido               S   \n",
       "276                         2                   Deferido               S   \n",
       "318                         2                   Deferido               S   \n",
       "367                         2                   Deferido               S   \n",
       "\n",
       "                                                DS_URL          TW_USER  \\\n",
       "22                       https://www.twitter/dreltonjr        dreltonjr   \n",
       "232           https://twitter.com/EdianeMariaMTST?s=09  edianemariamtst   \n",
       "276  https://twitter.com/fabibbolsonaro?s=21&t=yq90...   fabibbolsonaro   \n",
       "318                   https://twitter.com/delegadoolim     delegadoolim   \n",
       "367  https://www.twitter.com/https://twitter.com/le...    leosiqueirabr   \n",
       "\n",
       "     TW_followersCount TW_friendsCount TW_statusesCount  TW_favouritesCount  \\\n",
       "22                 875             461              746                 304   \n",
       "232              14692             250             3883                3294   \n",
       "276              15497            7072              102                 500   \n",
       "318               3004               0             1924                 233   \n",
       "367              56635            1099             9042                4964   \n",
       "\n",
       "    TW_listedCount TW_mediaCount  \n",
       "22               2           480  \n",
       "232             41           689  \n",
       "276              5            41  \n",
       "318             37           465  \n",
       "367            362          1019  \n",
       "\n",
       "[5 rows x 79 columns]"
      ]
     },
     "execution_count": 17,
     "metadata": {},
     "output_type": "execute_result"
    }
   ],
   "source": [
    "# Agora vamos adicionar os dados dos usuários no mesmo dataframe\n",
    "\n",
    "# Quantidade de seguidores da conta\n",
    "twitter_df[\"TW_followersCount\"] = twitter_df.TW_USER.apply(\n",
    "    lambda x: user_data[x][\"followersCount\"]\n",
    ")\n",
    "\n",
    "# Quantidade de usuarios que a conta segue\n",
    "twitter_df[\"TW_friendsCount\"] = twitter_df.TW_USER.apply(\n",
    "    lambda x: user_data[x][\"friendsCount\"]\n",
    ")\n",
    "\n",
    "# Quantidade de tweets postados pela conta\n",
    "twitter_df[\"TW_statusesCount\"] = twitter_df.TW_USER.apply(\n",
    "    lambda x: user_data[x][\"statusesCount\"]\n",
    ")\n",
    "\n",
    "# Quantidade de tweets curtidos pela conta\n",
    "twitter_df[\"TW_favouritesCount\"] = twitter_df.TW_USER.apply(\n",
    "    lambda x: user_data[x][\"favouritesCount\"]\n",
    ")\n",
    "\n",
    "twitter_df[\"TW_listedCount\"] = twitter_df.TW_USER.apply(\n",
    "    lambda x: user_data[x][\"listedCount\"]\n",
    ")\n",
    "twitter_df[\"TW_mediaCount\"] = twitter_df.TW_USER.apply(\n",
    "    lambda x: user_data[x][\"mediaCount\"]\n",
    ")\n",
    "\n",
    "twitter_df.head()\n"
   ]
  },
  {
   "cell_type": "markdown",
   "id": "b511449f-6216-4a32-b049-c8f8cff4fa82",
   "metadata": {},
   "source": [
    "## Contagem de tweets"
   ]
  },
  {
   "cell_type": "code",
   "execution_count": 24,
   "id": "b2180ce8-a317-4dec-bf9d-35372c07123e",
   "metadata": {
    "tags": []
   },
   "outputs": [
    {
     "name": "stdout",
     "output_type": "stream",
     "text": [
      "1/49 dreltonjr: 9 tweets\n",
      "2/49 edianemariamtst: 1918 tweets\n"
     ]
    },
    {
     "name": "stderr",
     "output_type": "stream",
     "text": [
      "Skipping empty tweet entry tweet-1592514940224811008\n"
     ]
    },
    {
     "name": "stdout",
     "output_type": "stream",
     "text": [
      "3/49 fabibbolsonaro: 7 tweets\n",
      "4/49 delegadoolim: 3 tweets\n",
      "5/49 leosiqueirabr: 651 tweets\n"
     ]
    },
    {
     "name": "stderr",
     "output_type": "stream",
     "text": [
      "Unavailable user in card on tweet 1419754321030402052\n",
      "User 933811924147556352 not found in user refs in card on tweet 1419754321030402052\n"
     ]
    },
    {
     "name": "stdout",
     "output_type": "stream",
     "text": [
      "6/49 bethsahao: 96 tweets\n",
      "7/49 sppretas: 132 tweets\n"
     ]
    },
    {
     "name": "stderr",
     "output_type": "stream",
     "text": [
      "Empty response\n"
     ]
    },
    {
     "name": "stdout",
     "output_type": "stream",
     "text": [
      "8/49 tomeabduch: Erro Could not resolve username 'tomeabduch' to ID\n",
      "9/49 prcarloscezar: 114 tweets\n"
     ]
    },
    {
     "name": "stderr",
     "output_type": "stream",
     "text": [
      "Unavailable user in card on tweet 1585716931134296064\n",
      "User 1169664359628509184 not found in user refs in card on tweet 1585716931134296064\n"
     ]
    },
    {
     "name": "stdout",
     "output_type": "stream",
     "text": [
      "10/49 majormecca: 629 tweets\n",
      "11/49 valbolsonaro: 575 tweets\n",
      "12/49 zimbaldirafa: 20 tweets\n"
     ]
    },
    {
     "name": "stderr",
     "output_type": "stream",
     "text": [
      "Empty user ref object in card on tweet 1569336642774728706\n",
      "User 899733078641225728 not found in user refs in card on tweet 1569336642774728706\n"
     ]
    },
    {
     "name": "stdout",
     "output_type": "stream",
     "text": [
      "13/49 carlosgiannazi: 616 tweets\n",
      "14/49 tenente_coimbra: 90 tweets\n",
      "15/49 rafaelsaraivasp: 52 tweets\n",
      "16/49 brunozambelli3: 6 tweets\n"
     ]
    },
    {
     "name": "stderr",
     "output_type": "stream",
     "text": [
      "Empty response\n"
     ]
    },
    {
     "name": "stdout",
     "output_type": "stream",
     "text": [
      "17/49 lfteixeira13: Erro Could not resolve username 'lfteixeira13' to ID\n"
     ]
    },
    {
     "name": "stderr",
     "output_type": "stream",
     "text": [
      "Unavailable user in card on tweet 1645566457508679680\n",
      "User 462897140 not found in user refs in card on tweet 1645566457508679680\n",
      "Unavailable user in card on tweet 1645567435259658240\n",
      "User 462897140 not found in user refs in card on tweet 1645567435259658240\n"
     ]
    },
    {
     "name": "stdout",
     "output_type": "stream",
     "text": [
      "18/49 emidiodesouza_: 420 tweets\n",
      "19/49 esuplicy: 304 tweets\n",
      "20/49 depeniotatto: 162 tweets\n",
      "21/49 anacarolserra23: 3 tweets\n",
      "22/49 xerifedoconsum: 74 tweets\n",
      "23/49 auricchiothiago: 13 tweets\n",
      "24/49 itamar_borges: 154 tweets\n",
      "25/49 simaopedro_sp: 1213 tweets\n"
     ]
    },
    {
     "name": "stderr",
     "output_type": "stream",
     "text": [
      "Skipping empty tweet entry tweet-1575885887229267968\n",
      "Unavailable user in card on tweet 1491866389786812418\n",
      "User 1559574001927733253 not found in user refs in card on tweet 1491866389786812418\n"
     ]
    },
    {
     "name": "stdout",
     "output_type": "stream",
     "text": [
      "26/49 danilobalas: 552 tweets\n",
      "27/49 vcamarinha: 9 tweets\n",
      "28/49 marcosdamasiosp: 8 tweets\n",
      "29/49 lcmarcolino: 32 tweets\n",
      "30/49 danialonsoda: 6 tweets\n",
      "31/49 bfeministapsol: 904 tweets\n",
      "32/49 gersonpessoa: 3 tweets\n",
      "33/49 deleg_graciela: 3 tweets\n",
      "34/49 valdomirolopes_: 94 tweets\n",
      "35/49 lucasbovesp: 35 tweets\n",
      "36/49 danielbrsoares: 3 tweets\n"
     ]
    },
    {
     "name": "stderr",
     "output_type": "stream",
     "text": [
      "Empty user ref object in card on tweet 1111606662698360832\n",
      "User 899733078641225728 not found in user refs in card on tweet 1111606662698360832\n",
      "Unavailable user in card on tweet 396193141923258368\n",
      "User 14077430 not found in user refs in card on tweet 396193141923258368\n",
      "Unavailable user in card on tweet 396395540898131968\n",
      "User 14077430 not found in user refs in card on tweet 396395540898131968\n",
      "Skipping empty tweet entry tweet-208389122056916992\n",
      "Skipping empty tweet entry tweet-170252283634921472\n",
      "Skipping empty tweet entry tweet-168140523331260416\n",
      "Empty user ref object in card on tweet 157895250180968448\n",
      "Unavailable user in card on tweet 157895250180968448\n",
      "User 12925072 not found in user refs in card on tweet 157895250180968448\n",
      "User 12168440 not found in user refs in card on tweet 157895250180968448\n",
      "Empty user ref object in card on tweet 157895562178478080\n",
      "Unavailable user in card on tweet 157895562178478080\n",
      "User 12925072 not found in user refs in card on tweet 157895562178478080\n",
      "User 12168440 not found in user refs in card on tweet 157895562178478080\n"
     ]
    },
    {
     "name": "stdout",
     "output_type": "stream",
     "text": [
      "37/49 paulomansur_: 27 tweets\n"
     ]
    },
    {
     "name": "stderr",
     "output_type": "stream",
     "text": [
      "Could not translate t.co card URL on tweet 1639029459557679104\n"
     ]
    },
    {
     "name": "stdout",
     "output_type": "stream",
     "text": [
      "38/49 andreawerner_: 860 tweets\n"
     ]
    },
    {
     "name": "stderr",
     "output_type": "stream",
     "text": [
      "Empty user ref object in card on tweet 1174825416047124480\n",
      "User 899733078641225728 not found in user refs in card on tweet 1174825416047124480\n",
      "Empty user ref object in card on tweet 1132290164703846400\n",
      "User 899733078641225728 not found in user refs in card on tweet 1132290164703846400\n",
      "Empty user ref object in card on tweet 1131663957478072320\n",
      "User 899733078641225728 not found in user refs in card on tweet 1131663957478072320\n",
      "Empty user ref object in card on tweet 1128065598628474880\n",
      "User 899733078641225728 not found in user refs in card on tweet 1128065598628474880\n",
      "Empty user ref object in card on tweet 1125529423590121472\n",
      "User 899733078641225728 not found in user refs in card on tweet 1125529423590121472\n",
      "Empty user ref object in card on tweet 1121073909019938817\n",
      "User 899733078641225728 not found in user refs in card on tweet 1121073909019938817\n"
     ]
    },
    {
     "name": "stdout",
     "output_type": "stream",
     "text": [
      "39/49 contelopes: 42 tweets\n"
     ]
    },
    {
     "name": "stderr",
     "output_type": "stream",
     "text": [
      "Empty user ref object in card on tweet 1445511306308571145\n",
      "User 899733078641225728 not found in user refs in card on tweet 1445511306308571145\n",
      "Skipping empty tweet entry tweet-959214642341007366\n"
     ]
    },
    {
     "name": "stdout",
     "output_type": "stream",
     "text": [
      "40/49 anaperugini: 212 tweets\n"
     ]
    },
    {
     "name": "stderr",
     "output_type": "stream",
     "text": [
      "Twitter responded with an error: TimeoutError: Timeout: Unspecified, TimeoutError: Timeout: Unspecified, TimeoutError: Timeout: Unspecified, TimeoutError: Timeout: Unspecified, TimeoutError: Timeout: Unspecified, TimeoutError: Timeout: Unspecified, TimeoutError: Timeout: Unspecified, TimeoutError: Timeout: Unspecified, TimeoutError: Timeout: Unspecified, TimeoutError: Timeout: Unspecified, TimeoutError: Timeout: Unspecified, TimeoutError: Timeout: Unspecified, TimeoutError: Timeout: Unspecified, TimeoutError: Timeout: Unspecified, TimeoutError: Timeout: Unspecified, TimeoutError: Timeout: Unspecified, TimeoutError: Timeout: Unspecified, TimeoutError: Timeout: Unspecified, TimeoutError: Timeout: Unspecified, TimeoutError: Timeout: Unspecified, TimeoutError: Timeout: Unspecified, TimeoutError: Timeout: Unspecified, TimeoutError: Timeout: Unspecified, TimeoutError: Timeout: Unspecified, TimeoutError: Timeout: Unspecified, TimeoutError: Timeout: Unspecified, TimeoutError: Timeout: Unspecified, TimeoutError: Timeout: Unspecified, TimeoutError: Timeout: Unspecified, TimeoutError: Timeout: Unspecified, TimeoutError: Timeout: Unspecified, TimeoutError: Timeout: Unspecified, TimeoutError: Timeout: Unspecified, TimeoutError: Timeout: Unspecified, TimeoutError: Timeout: Unspecified, TimeoutError: Timeout: Unspecified, TimeoutError: Timeout: Unspecified\n",
      "Twitter responded with an error: TimeoutError: Timeout: Unspecified, TimeoutError: Timeout: Unspecified, TimeoutError: Timeout: Unspecified, TimeoutError: Timeout: Unspecified\n",
      "Twitter responded with an error: TimeoutError: Timeout: Unspecified, TimeoutError: Timeout: Unspecified, TimeoutError: Timeout: Unspecified\n"
     ]
    },
    {
     "name": "stdout",
     "output_type": "stream",
     "text": [
      "41/49 professorabebel: 183 tweets\n",
      "42/49 edmirchedid: 279 tweets\n"
     ]
    },
    {
     "name": "stderr",
     "output_type": "stream",
     "text": [
      "Empty user ref object in card on tweet 1381761704556691458\n",
      "User 899733078641225728 not found in user refs in card on tweet 1381761704556691458\n"
     ]
    },
    {
     "name": "stdout",
     "output_type": "stream",
     "text": [
      "43/49 deputadomaurici: 67 tweets\n"
     ]
    },
    {
     "name": "stderr",
     "output_type": "stream",
     "text": [
      "Skipping empty tweet entry tweet-1585603571705421826\n",
      "Skipping empty tweet entry tweet-1575700568210751488\n",
      "Skipping empty tweet entry tweet-1498858625036599296\n",
      "Skipping empty tweet entry tweet-1498783765774090246\n"
     ]
    },
    {
     "name": "stdout",
     "output_type": "stream",
     "text": [
      "44/49 carteiroreaca: 898 tweets\n"
     ]
    },
    {
     "name": "stderr",
     "output_type": "stream",
     "text": [
      "Empty user ref object in card on tweet 1235049683451437059\n",
      "User 899733078641225728 not found in user refs in card on tweet 1235049683451437059\n"
     ]
    },
    {
     "name": "stdout",
     "output_type": "stream",
     "text": [
      "45/49 caiofranca40: 330 tweets\n",
      "46/49 marcialiapt13: 267 tweets\n"
     ]
    },
    {
     "name": "stderr",
     "output_type": "stream",
     "text": [
      "Empty user ref object in card on tweet 1454167166673117190\n",
      "User 899733078641225728 not found in user refs in card on tweet 1454167166673117190\n",
      "Empty user ref object in card on tweet 1410749562810036224\n",
      "User 899733078641225728 not found in user refs in card on tweet 1410749562810036224\n",
      "Empty user ref object in card on tweet 1372899638815174659\n",
      "User 899733078641225728 not found in user refs in card on tweet 1372899638815174659\n",
      "Empty user ref object in card on tweet 1371118665819652100\n",
      "User 899733078641225728 not found in user refs in card on tweet 1371118665819652100\n",
      "Empty user ref object in card on tweet 1333411077288300546\n",
      "User 899733078641225728 not found in user refs in card on tweet 1333411077288300546\n"
     ]
    },
    {
     "name": "stdout",
     "output_type": "stream",
     "text": [
      "47/49 letsaguiar: 366 tweets\n"
     ]
    },
    {
     "name": "stderr",
     "output_type": "stream",
     "text": [
      "Skipping empty tweet entry tweet-948198764505858049\n"
     ]
    },
    {
     "name": "stdout",
     "output_type": "stream",
     "text": [
      "48/49 thainarafariapt: 218 tweets\n"
     ]
    },
    {
     "name": "stderr",
     "output_type": "stream",
     "text": [
      "Empty user ref object in card on tweet 1108354349024141313\n",
      "User 1244292630441328640 not found in user refs in card on tweet 1108354349024141313\n",
      "Empty user ref object in card on tweet 303576051173449729\n",
      "Unavailable user in card on tweet 303576051173449729\n",
      "User 12925072 not found in user refs in card on tweet 303576051173449729\n",
      "User 10070685 not found in user refs in card on tweet 303576051173449729\n",
      "Empty user ref object in card on tweet 298857397773017090\n",
      "Unavailable user in card on tweet 298857397773017090\n",
      "User 12925072 not found in user refs in card on tweet 298857397773017090\n",
      "User 10070685 not found in user refs in card on tweet 298857397773017090\n",
      "Empty user ref object in card on tweet 296779583318028288\n",
      "Unavailable user in card on tweet 296779583318028288\n",
      "User 12925072 not found in user refs in card on tweet 296779583318028288\n",
      "User 10070685 not found in user refs in card on tweet 296779583318028288\n",
      "Empty user ref object in card on tweet 296106627772317696\n",
      "Unavailable user in card on tweet 296106627772317696\n",
      "User 12925072 not found in user refs in card on tweet 296106627772317696\n",
      "User 10070685 not found in user refs in card on tweet 296106627772317696\n",
      "Empty user ref object in card on tweet 296087305045803008\n",
      "Unavailable user in card on tweet 296087305045803008\n",
      "User 12925072 not found in user refs in card on tweet 296087305045803008\n",
      "User 10070685 not found in user refs in card on tweet 296087305045803008\n"
     ]
    },
    {
     "name": "stdout",
     "output_type": "stream",
     "text": [
      "49/49 depbrunafurlan: 3 tweets\n",
      "CPU times: user 18.1 s, sys: 151 ms, total: 18.2 s\n",
      "Wall time: 16min 20s\n"
     ]
    }
   ],
   "source": [
    "%%time\n",
    "# Vamos contar quantos posts e respostas cada candidato teve no período analisado (setembro e outubro de 2022)\n",
    "# Esta etapa pode demorar bastante\n",
    "local_tz = pytz.timezone(\"America/Sao_Paulo\")\n",
    "since = datetime(year=2022, month=9, day=1, tzinfo=local_tz)\n",
    "until = datetime(year=2022, month=11, day=1, tzinfo=local_tz)\n",
    "\n",
    "user_tweets = {}\n",
    "MIN_TWEETS = 3\n",
    "\n",
    "for i, username in enumerate(usernames):\n",
    "    try:\n",
    "        scraping_results = sntwitter.TwitterProfileScraper(username).get_items()\n",
    "        tweets = []\n",
    "        \n",
    "        while True:\n",
    "            # Alguns erros de scraping ocorrem durante a iteração\n",
    "            # Para evitar que o loop seja quebrado por problemas em tweets pontuais, vamos iterar manualmente\n",
    "            try:\n",
    "                tweet = next(scraping_results)\n",
    "            except StopIteration:\n",
    "                break\n",
    "            \n",
    "            # O scraper também retorna objetos que não são exatamente tweets, como referências a tweets apagados (TweetRef e Tombstone)\n",
    "            # Eles não possuem as informações necessárias, e por isso são ignorados\n",
    "            if type(tweet) != sntwitter.Tweet:\n",
    "                continue\n",
    "                \n",
    "            # Gambiarra para que tweets pinados não caiam no filtro da data logo de cara\n",
    "            if (tweet.date > since and tweet.date < until) or (len(tweets) < MIN_TWEETS):\n",
    "                tweets.append(tweet)\n",
    "\n",
    "        user_tweets[username] = {\n",
    "            'posts': tweets,\n",
    "            'count': len(tweets),\n",
    "        }\n",
    "        print(f'{i+1}/{len(usernames)} {username}: {len(tweets)} tweets')\n",
    "        \n",
    "    except ScraperException as e:\n",
    "        print(f'{i+1}/{len(usernames)} {username}: Erro {e}')\n",
    "        user_tweets[username] = {\n",
    "            'posts': [],\n",
    "            'count': 0,\n",
    "        }\n",
    "        continue"
   ]
  },
  {
   "cell_type": "code",
   "execution_count": 25,
   "id": "21ab7bbd-f202-442f-a605-d87959ea4810",
   "metadata": {
    "tags": []
   },
   "outputs": [
    {
     "name": "stderr",
     "output_type": "stream",
     "text": [
      "/tmp/ipykernel_6923/3948402191.py:1: SettingWithCopyWarning: \n",
      "A value is trying to be set on a copy of a slice from a DataFrame.\n",
      "Try using .loc[row_indexer,col_indexer] = value instead\n",
      "\n",
      "See the caveats in the documentation: https://pandas.pydata.org/pandas-docs/stable/user_guide/indexing.html#returning-a-view-versus-a-copy\n",
      "  twitter_df['TW_electionTweets'] = twitter_df.TW_USER.apply(lambda x: user_tweets[x]['count'])\n"
     ]
    },
    {
     "data": {
      "text/plain": [
       "count      49.00\n",
       "mean      258.41\n",
       "std       381.53\n",
       "min         0.00\n",
       "25%         9.00\n",
       "50%        94.00\n",
       "75%       330.00\n",
       "max     1,918.00\n",
       "Name: TW_electionTweets, dtype: float64"
      ]
     },
     "execution_count": 25,
     "metadata": {},
     "output_type": "execute_result"
    }
   ],
   "source": [
    "twitter_df[\"TW_electionTweets\"] = twitter_df.TW_USER.apply(\n",
    "    lambda x: user_tweets[x][\"count\"]\n",
    ")\n",
    "twitter_df[\"TW_electionTweets\"].describe()\n"
   ]
  },
  {
   "cell_type": "code",
   "execution_count": 26,
   "id": "05fda78d-2a1b-4d92-bead-723c53f5f902",
   "metadata": {
    "tags": []
   },
   "outputs": [
    {
     "data": {
      "text/html": [
       "<div>\n",
       "<style scoped>\n",
       "    .dataframe tbody tr th:only-of-type {\n",
       "        vertical-align: middle;\n",
       "    }\n",
       "\n",
       "    .dataframe tbody tr th {\n",
       "        vertical-align: top;\n",
       "    }\n",
       "\n",
       "    .dataframe thead th {\n",
       "        text-align: right;\n",
       "    }\n",
       "</style>\n",
       "<table border=\"1\" class=\"dataframe\">\n",
       "  <thead>\n",
       "    <tr style=\"text-align: right;\">\n",
       "      <th></th>\n",
       "      <th>TW_USER</th>\n",
       "      <th>DS_GENERO</th>\n",
       "      <th>DS_COR_RACA</th>\n",
       "      <th>SG_PARTIDO</th>\n",
       "      <th>TW_followersCount</th>\n",
       "      <th>TW_statusesCount</th>\n",
       "      <th>TW_electionTweets</th>\n",
       "    </tr>\n",
       "  </thead>\n",
       "  <tbody>\n",
       "    <tr>\n",
       "      <th>232</th>\n",
       "      <td>edianemariamtst</td>\n",
       "      <td>FEMININO</td>\n",
       "      <td>PRETA</td>\n",
       "      <td>PSOL</td>\n",
       "      <td>14692</td>\n",
       "      <td>3883</td>\n",
       "      <td>1918</td>\n",
       "    </tr>\n",
       "    <tr>\n",
       "      <th>1286</th>\n",
       "      <td>simaopedro_sp</td>\n",
       "      <td>MASCULINO</td>\n",
       "      <td>BRANCA</td>\n",
       "      <td>PT</td>\n",
       "      <td>13944</td>\n",
       "      <td>21422</td>\n",
       "      <td>1213</td>\n",
       "    </tr>\n",
       "    <tr>\n",
       "      <th>1833</th>\n",
       "      <td>bfeministapsol</td>\n",
       "      <td>FEMININO</td>\n",
       "      <td>PRETA</td>\n",
       "      <td>PSOL</td>\n",
       "      <td>7993</td>\n",
       "      <td>4468</td>\n",
       "      <td>904</td>\n",
       "    </tr>\n",
       "    <tr>\n",
       "      <th>3310</th>\n",
       "      <td>carteiroreaca</td>\n",
       "      <td>MASCULINO</td>\n",
       "      <td>BRANCA</td>\n",
       "      <td>PL</td>\n",
       "      <td>534122</td>\n",
       "      <td>16340</td>\n",
       "      <td>898</td>\n",
       "    </tr>\n",
       "    <tr>\n",
       "      <th>2416</th>\n",
       "      <td>andreawerner_</td>\n",
       "      <td>FEMININO</td>\n",
       "      <td>BRANCA</td>\n",
       "      <td>PSB</td>\n",
       "      <td>63984</td>\n",
       "      <td>37277</td>\n",
       "      <td>860</td>\n",
       "    </tr>\n",
       "    <tr>\n",
       "      <th>367</th>\n",
       "      <td>leosiqueirabr</td>\n",
       "      <td>MASCULINO</td>\n",
       "      <td>BRANCA</td>\n",
       "      <td>NOVO</td>\n",
       "      <td>56635</td>\n",
       "      <td>9042</td>\n",
       "      <td>651</td>\n",
       "    </tr>\n",
       "    <tr>\n",
       "      <th>490</th>\n",
       "      <td>majormecca</td>\n",
       "      <td>MASCULINO</td>\n",
       "      <td>BRANCA</td>\n",
       "      <td>PL</td>\n",
       "      <td>28661</td>\n",
       "      <td>12533</td>\n",
       "      <td>629</td>\n",
       "    </tr>\n",
       "    <tr>\n",
       "      <th>599</th>\n",
       "      <td>carlosgiannazi</td>\n",
       "      <td>MASCULINO</td>\n",
       "      <td>BRANCA</td>\n",
       "      <td>PSOL</td>\n",
       "      <td>21511</td>\n",
       "      <td>14564</td>\n",
       "      <td>616</td>\n",
       "    </tr>\n",
       "    <tr>\n",
       "      <th>514</th>\n",
       "      <td>valbolsonaro</td>\n",
       "      <td>FEMININO</td>\n",
       "      <td>BRANCA</td>\n",
       "      <td>PL</td>\n",
       "      <td>54149</td>\n",
       "      <td>4280</td>\n",
       "      <td>575</td>\n",
       "    </tr>\n",
       "    <tr>\n",
       "      <th>1353</th>\n",
       "      <td>danilobalas</td>\n",
       "      <td>MASCULINO</td>\n",
       "      <td>BRANCA</td>\n",
       "      <td>PL</td>\n",
       "      <td>20254</td>\n",
       "      <td>3292</td>\n",
       "      <td>552</td>\n",
       "    </tr>\n",
       "    <tr>\n",
       "      <th>810</th>\n",
       "      <td>emidiodesouza_</td>\n",
       "      <td>MASCULINO</td>\n",
       "      <td>BRANCA</td>\n",
       "      <td>PT</td>\n",
       "      <td>10391</td>\n",
       "      <td>20289</td>\n",
       "      <td>420</td>\n",
       "    </tr>\n",
       "    <tr>\n",
       "      <th>3491</th>\n",
       "      <td>letsaguiar</td>\n",
       "      <td>FEMININO</td>\n",
       "      <td>BRANCA</td>\n",
       "      <td>PP</td>\n",
       "      <td>34250</td>\n",
       "      <td>5241</td>\n",
       "      <td>366</td>\n",
       "    </tr>\n",
       "    <tr>\n",
       "      <th>3408</th>\n",
       "      <td>caiofranca40</td>\n",
       "      <td>MASCULINO</td>\n",
       "      <td>BRANCA</td>\n",
       "      <td>PSB</td>\n",
       "      <td>5835</td>\n",
       "      <td>5001</td>\n",
       "      <td>330</td>\n",
       "    </tr>\n",
       "    <tr>\n",
       "      <th>847</th>\n",
       "      <td>esuplicy</td>\n",
       "      <td>MASCULINO</td>\n",
       "      <td>BRANCA</td>\n",
       "      <td>PT</td>\n",
       "      <td>725415</td>\n",
       "      <td>15051</td>\n",
       "      <td>304</td>\n",
       "    </tr>\n",
       "    <tr>\n",
       "      <th>3050</th>\n",
       "      <td>edmirchedid</td>\n",
       "      <td>MASCULINO</td>\n",
       "      <td>BRANCA</td>\n",
       "      <td>UNIÃO</td>\n",
       "      <td>2217</td>\n",
       "      <td>13884</td>\n",
       "      <td>279</td>\n",
       "    </tr>\n",
       "    <tr>\n",
       "      <th>3454</th>\n",
       "      <td>marcialiapt13</td>\n",
       "      <td>FEMININO</td>\n",
       "      <td>BRANCA</td>\n",
       "      <td>PT</td>\n",
       "      <td>2727</td>\n",
       "      <td>7265</td>\n",
       "      <td>267</td>\n",
       "    </tr>\n",
       "    <tr>\n",
       "      <th>3559</th>\n",
       "      <td>thainarafariapt</td>\n",
       "      <td>FEMININO</td>\n",
       "      <td>PRETA</td>\n",
       "      <td>PT</td>\n",
       "      <td>6723</td>\n",
       "      <td>3908</td>\n",
       "      <td>218</td>\n",
       "    </tr>\n",
       "    <tr>\n",
       "      <th>2690</th>\n",
       "      <td>anaperugini</td>\n",
       "      <td>FEMININO</td>\n",
       "      <td>BRANCA</td>\n",
       "      <td>PT</td>\n",
       "      <td>5021</td>\n",
       "      <td>10407</td>\n",
       "      <td>212</td>\n",
       "    </tr>\n",
       "    <tr>\n",
       "      <th>2923</th>\n",
       "      <td>professorabebel</td>\n",
       "      <td>FEMININO</td>\n",
       "      <td>BRANCA</td>\n",
       "      <td>PT</td>\n",
       "      <td>9823</td>\n",
       "      <td>4781</td>\n",
       "      <td>183</td>\n",
       "    </tr>\n",
       "    <tr>\n",
       "      <th>885</th>\n",
       "      <td>depeniotatto</td>\n",
       "      <td>MASCULINO</td>\n",
       "      <td>BRANCA</td>\n",
       "      <td>PT</td>\n",
       "      <td>546</td>\n",
       "      <td>1374</td>\n",
       "      <td>162</td>\n",
       "    </tr>\n",
       "    <tr>\n",
       "      <th>1203</th>\n",
       "      <td>itamar_borges</td>\n",
       "      <td>MASCULINO</td>\n",
       "      <td>BRANCA</td>\n",
       "      <td>MDB</td>\n",
       "      <td>2235</td>\n",
       "      <td>3743</td>\n",
       "      <td>154</td>\n",
       "    </tr>\n",
       "    <tr>\n",
       "      <th>427</th>\n",
       "      <td>sppretas</td>\n",
       "      <td>FEMININO</td>\n",
       "      <td>PRETA</td>\n",
       "      <td>PSOL</td>\n",
       "      <td>1800</td>\n",
       "      <td>283</td>\n",
       "      <td>132</td>\n",
       "    </tr>\n",
       "    <tr>\n",
       "      <th>459</th>\n",
       "      <td>prcarloscezar</td>\n",
       "      <td>MASCULINO</td>\n",
       "      <td>BRANCA</td>\n",
       "      <td>PL</td>\n",
       "      <td>5527</td>\n",
       "      <td>18304</td>\n",
       "      <td>114</td>\n",
       "    </tr>\n",
       "    <tr>\n",
       "      <th>391</th>\n",
       "      <td>bethsahao</td>\n",
       "      <td>FEMININO</td>\n",
       "      <td>BRANCA</td>\n",
       "      <td>PT</td>\n",
       "      <td>2768</td>\n",
       "      <td>9681</td>\n",
       "      <td>96</td>\n",
       "    </tr>\n",
       "  </tbody>\n",
       "</table>\n",
       "</div>"
      ],
      "text/plain": [
       "              TW_USER  DS_GENERO DS_COR_RACA SG_PARTIDO  TW_followersCount  \\\n",
       "232   edianemariamtst   FEMININO       PRETA       PSOL              14692   \n",
       "1286    simaopedro_sp  MASCULINO      BRANCA         PT              13944   \n",
       "1833   bfeministapsol   FEMININO       PRETA       PSOL               7993   \n",
       "3310    carteiroreaca  MASCULINO      BRANCA         PL             534122   \n",
       "2416    andreawerner_   FEMININO      BRANCA        PSB              63984   \n",
       "367     leosiqueirabr  MASCULINO      BRANCA       NOVO              56635   \n",
       "490        majormecca  MASCULINO      BRANCA         PL              28661   \n",
       "599    carlosgiannazi  MASCULINO      BRANCA       PSOL              21511   \n",
       "514      valbolsonaro   FEMININO      BRANCA         PL              54149   \n",
       "1353      danilobalas  MASCULINO      BRANCA         PL              20254   \n",
       "810    emidiodesouza_  MASCULINO      BRANCA         PT              10391   \n",
       "3491       letsaguiar   FEMININO      BRANCA         PP              34250   \n",
       "3408     caiofranca40  MASCULINO      BRANCA        PSB               5835   \n",
       "847          esuplicy  MASCULINO      BRANCA         PT             725415   \n",
       "3050      edmirchedid  MASCULINO      BRANCA      UNIÃO               2217   \n",
       "3454    marcialiapt13   FEMININO      BRANCA         PT               2727   \n",
       "3559  thainarafariapt   FEMININO       PRETA         PT               6723   \n",
       "2690      anaperugini   FEMININO      BRANCA         PT               5021   \n",
       "2923  professorabebel   FEMININO      BRANCA         PT               9823   \n",
       "885      depeniotatto  MASCULINO      BRANCA         PT                546   \n",
       "1203    itamar_borges  MASCULINO      BRANCA        MDB               2235   \n",
       "427          sppretas   FEMININO       PRETA       PSOL               1800   \n",
       "459     prcarloscezar  MASCULINO      BRANCA         PL               5527   \n",
       "391         bethsahao   FEMININO      BRANCA         PT               2768   \n",
       "\n",
       "      TW_statusesCount  TW_electionTweets  \n",
       "232               3883               1918  \n",
       "1286             21422               1213  \n",
       "1833              4468                904  \n",
       "3310             16340                898  \n",
       "2416             37277                860  \n",
       "367               9042                651  \n",
       "490              12533                629  \n",
       "599              14564                616  \n",
       "514               4280                575  \n",
       "1353              3292                552  \n",
       "810              20289                420  \n",
       "3491              5241                366  \n",
       "3408              5001                330  \n",
       "847              15051                304  \n",
       "3050             13884                279  \n",
       "3454              7265                267  \n",
       "3559              3908                218  \n",
       "2690             10407                212  \n",
       "2923              4781                183  \n",
       "885               1374                162  \n",
       "1203              3743                154  \n",
       "427                283                132  \n",
       "459              18304                114  \n",
       "391               9681                 96  "
      ]
     },
     "execution_count": 26,
     "metadata": {},
     "output_type": "execute_result"
    }
   ],
   "source": [
    "twitter_df[\n",
    "    twitter_df[\"TW_electionTweets\"] > twitter_df.TW_electionTweets.median()\n",
    "].sort_values(by=\"TW_electionTweets\", ascending=False)[\n",
    "    [\n",
    "        \"TW_USER\",\n",
    "        \"DS_GENERO\",\n",
    "        \"DS_COR_RACA\",\n",
    "        \"SG_PARTIDO\",\n",
    "        \"TW_followersCount\",\n",
    "        \"TW_statusesCount\",\n",
    "        \"TW_electionTweets\",\n",
    "    ]\n",
    "]\n"
   ]
  },
  {
   "cell_type": "markdown",
   "id": "477495ba-6220-4a8c-8847-b1f075afb23a",
   "metadata": {},
   "source": [
    "## Exploração dos dados do Twitter"
   ]
  },
  {
   "cell_type": "code",
   "execution_count": 27,
   "id": "94d306d9-4b1b-49b4-b5b3-af2b3779267b",
   "metadata": {
    "tags": []
   },
   "outputs": [
    {
     "data": {
      "text/plain": [
       "<Axes: xlabel='TW_electionTweets', ylabel='Count'>"
      ]
     },
     "execution_count": 27,
     "metadata": {},
     "output_type": "execute_result"
    },
    {
     "data": {
      "image/png": "[encoded data removed]",
      "text/plain": [
       "<Figure size 640x480 with 1 Axes>"
      ]
     },
     "metadata": {},
     "output_type": "display_data"
    }
   ],
   "source": [
    "sns.histplot(\n",
    "    data=twitter_df.loc[twitter_df[\"TW_electionTweets\"] > 50],\n",
    "    x=\"TW_electionTweets\",\n",
    "    hue=\"DS_GENERO\",\n",
    "    multiple=\"dodge\",\n",
    "    kde=True,\n",
    ")\n"
   ]
  },
  {
   "cell_type": "code",
   "execution_count": 28,
   "id": "6c39e8f9-05ae-41f1-845d-063d6f886de9",
   "metadata": {
    "tags": []
   },
   "outputs": [
    {
     "data": {
      "text/plain": [
       "<Axes: xlabel='TW_followersCount', ylabel='Count'>"
      ]
     },
     "execution_count": 28,
     "metadata": {},
     "output_type": "execute_result"
    },
    {
     "data": {
      "image/png": "[encoded data removed]",
      "text/plain": [
       "<Figure size 640x480 with 1 Axes>"
      ]
     },
     "metadata": {},
     "output_type": "display_data"
    }
   ],
   "source": [
    "sns.histplot(\n",
    "    data=twitter_df.loc[twitter_df[\"TW_followersCount\"] < 100000],\n",
    "    hue=\"DS_GENERO\",\n",
    "    x=\"TW_followersCount\",\n",
    "    multiple=\"dodge\",\n",
    "    kde=True,\n",
    ")\n"
   ]
  },
  {
   "cell_type": "code",
   "execution_count": 29,
   "id": "cd203ebe-df13-449b-8f21-25322ed0320b",
   "metadata": {
    "tags": []
   },
   "outputs": [
    {
     "data": {
      "text/plain": [
       "<Axes: xlabel='TW_followersCount', ylabel='Count'>"
      ]
     },
     "execution_count": 29,
     "metadata": {},
     "output_type": "execute_result"
    },
    {
     "data": {
      "image/png": "[encoded data removed]",
      "text/plain": [
       "<Figure size 640x480 with 1 Axes>"
      ]
     },
     "metadata": {},
     "output_type": "display_data"
    }
   ],
   "source": [
    "sns.histplot(\n",
    "    data=twitter_df.loc[twitter_df[\"TW_followersCount\"] < 100000],\n",
    "    hue=\"DS_COR_RACA\",\n",
    "    x=\"TW_followersCount\",\n",
    "    multiple=\"dodge\",\n",
    "    kde=True,\n",
    ")\n"
   ]
  },
  {
   "cell_type": "markdown",
   "id": "d7ec1bad-83a6-401c-a35e-78e95181fab8",
   "metadata": {},
   "source": [
    "# Exportação de dados"
   ]
  },
  {
   "cell_type": "code",
   "execution_count": 27,
   "id": "689e96ce-883d-498e-817c-1c59613fce24",
   "metadata": {},
   "outputs": [],
   "source": [
    "# Exportando dados scrapeados\n",
    "\n",
    "output_path = \"../data/processed/\"\n",
    "time_signature = datetime.now().strftime(\"%Y-%m-%d %H:%M:%S\")\n",
    "output_file = f\"sp_stdep_info-{time_signature}.csv\"\n",
    "\n",
    "\n",
    "# Para salvar os dados, descomente as linhas abaixo\n",
    "# twitter_df.to_csv(f\"{output_path}{output_file}\", sep=';', encoding='utf-8', index=False)\n"
   ]
  }
 ],
 "metadata": {
  "kernelspec": {
   "display_name": "Python 3 (ipykernel)",
   "language": "python",
   "name": "python3"
  },
  "language_info": {
   "codemirror_mode": {
    "name": "ipython",
    "version": 3
   },
   "file_extension": ".py",
   "mimetype": "text/x-python",
   "name": "python",
   "nbconvert_exporter": "python",
   "pygments_lexer": "ipython3",
   "version": "3.8.13"
  }
 },
 "nbformat": 4,
 "nbformat_minor": 5
}
