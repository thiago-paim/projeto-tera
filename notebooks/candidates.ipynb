{
 "cells": [
  {
   "cell_type": "markdown",
   "id": "00112d61-0f4f-419c-ad5f-c777e6db446e",
   "metadata": {},
   "source": [
    "# Inicialização"
   ]
  },
  {
   "cell_type": "code",
   "execution_count": 2,
   "id": "0be3c5c7-067a-40bf-bc10-5998e00bdf00",
   "metadata": {
    "tags": []
   },
   "outputs": [
    {
     "data": {
      "text/plain": [
       "'2023-03-30 17:15:31'"
      ]
     },
     "execution_count": 2,
     "metadata": {},
     "output_type": "execute_result"
    }
   ],
   "source": [
    "from datetime import datetime\n",
    "datetime.now().strftime(\"%Y-%m-%d %H:%M:%S\")"
   ]
  },
  {
   "cell_type": "code",
   "execution_count": 6,
   "id": "bc66754a-6a2c-402c-93db-f4d34212a62b",
   "metadata": {},
   "outputs": [],
   "source": [
    "from datetime import datetime\n",
    "import numpy as np\n",
    "import matplotlib.pyplot as plt\n",
    "import pandas as pd\n",
    "import seaborn as sns\n",
    "import snscrape.modules.twitter as sntwitter\n",
    "from tqdm import tqdm\n",
    "\n",
    "# Oculta warnings do notebook\n",
    "# import warnings\n",
    "# warnings.filterwarnings('ignore')\n",
    "\n",
    "# Configurações de visualização\n",
    "pd.set_option('display.max_columns', 30)\n",
    "pd.options.display.float_format = '{:,.2f}'.format"
   ]
  },
  {
   "cell_type": "code",
   "execution_count": 10,
   "id": "2a2677c1-f335-4983-9f79-83175b251631",
   "metadata": {},
   "outputs": [
    {
     "name": "stdout",
     "output_type": "stream",
     "text": [
      "(3659, 71)\n",
      "<class 'pandas.core.frame.DataFrame'>\n",
      "RangeIndex: 3659 entries, 0 to 3658\n",
      "Data columns (total 71 columns):\n",
      " #   Column                         Non-Null Count  Dtype  \n",
      "---  ------                         --------------  -----  \n",
      " 0   DT_GERACAO                     3659 non-null   object \n",
      " 1   HH_GERACAO                     3659 non-null   object \n",
      " 2   ANO_ELEICAO                    3659 non-null   int64  \n",
      " 3   CD_TIPO_ELEICAO                3659 non-null   int64  \n",
      " 4   NM_TIPO_ELEICAO                3659 non-null   object \n",
      " 5   NR_TURNO                       3659 non-null   int64  \n",
      " 6   CD_ELEICAO                     3659 non-null   int64  \n",
      " 7   DS_ELEICAO                     3659 non-null   object \n",
      " 8   DT_ELEICAO                     3659 non-null   object \n",
      " 9   TP_ABRANGENCIA                 3659 non-null   object \n",
      " 10  SG_UF                          3659 non-null   object \n",
      " 11  SG_UE                          3659 non-null   object \n",
      " 12  NM_UE                          3659 non-null   object \n",
      " 13  CD_CARGO                       3659 non-null   int64  \n",
      " 14  DS_CARGO                       3659 non-null   object \n",
      " 15  SQ_CANDIDATO                   3659 non-null   int64  \n",
      " 16  NR_CANDIDATO                   3659 non-null   int64  \n",
      " 17  NM_CANDIDATO                   3659 non-null   object \n",
      " 18  NM_URNA_CANDIDATO              3659 non-null   object \n",
      " 19  NM_SOCIAL_CANDIDATO            3659 non-null   object \n",
      " 20  NR_CPF_CANDIDATO               3659 non-null   int64  \n",
      " 21  NM_EMAIL                       3659 non-null   object \n",
      " 22  CD_SITUACAO_CANDIDATURA        3659 non-null   int64  \n",
      " 23  DS_SITUACAO_CANDIDATURA        3659 non-null   object \n",
      " 24  CD_DETALHE_SITUACAO_CAND       3659 non-null   int64  \n",
      " 25  DS_DETALHE_SITUACAO_CAND       3659 non-null   object \n",
      " 26  TP_AGREMIACAO                  3659 non-null   object \n",
      " 27  NR_PARTIDO                     3659 non-null   int64  \n",
      " 28  SG_PARTIDO                     3659 non-null   object \n",
      " 29  NM_PARTIDO                     3659 non-null   object \n",
      " 30  NR_FEDERACAO                   3659 non-null   int64  \n",
      " 31  NM_FEDERACAO                   3659 non-null   object \n",
      " 32  SG_FEDERACAO                   3659 non-null   object \n",
      " 33  DS_COMPOSICAO_FEDERACAO        3659 non-null   object \n",
      " 34  SQ_COLIGACAO                   3659 non-null   int64  \n",
      " 35  NM_COLIGACAO                   3659 non-null   object \n",
      " 36  DS_COMPOSICAO_COLIGACAO        3659 non-null   object \n",
      " 37  CD_NACIONALIDADE               3659 non-null   int64  \n",
      " 38  DS_NACIONALIDADE               3659 non-null   object \n",
      " 39  SG_UF_NASCIMENTO               3659 non-null   object \n",
      " 40  CD_MUNICIPIO_NASCIMENTO        3659 non-null   int64  \n",
      " 41  NM_MUNICIPIO_NASCIMENTO        3659 non-null   object \n",
      " 42  DT_NASCIMENTO                  3658 non-null   object \n",
      " 43  NR_IDADE_DATA_POSSE            3658 non-null   float64\n",
      " 44  NR_TITULO_ELEITORAL_CANDIDATO  3659 non-null   int64  \n",
      " 45  CD_GENERO                      3659 non-null   int64  \n",
      " 46  DS_GENERO                      3659 non-null   object \n",
      " 47  CD_GRAU_INSTRUCAO              3659 non-null   int64  \n",
      " 48  DS_GRAU_INSTRUCAO              3659 non-null   object \n",
      " 49  CD_ESTADO_CIVIL                3659 non-null   int64  \n",
      " 50  DS_ESTADO_CIVIL                3659 non-null   object \n",
      " 51  CD_COR_RACA                    3659 non-null   int64  \n",
      " 52  DS_COR_RACA                    3659 non-null   object \n",
      " 53  CD_OCUPACAO                    3659 non-null   int64  \n",
      " 54  DS_OCUPACAO                    3659 non-null   object \n",
      " 55  VR_DESPESA_MAX_CAMPANHA        3659 non-null   float64\n",
      " 56  CD_SIT_TOT_TURNO               3659 non-null   int64  \n",
      " 57  DS_SIT_TOT_TURNO               3659 non-null   object \n",
      " 58  ST_REELEICAO                   3659 non-null   object \n",
      " 59  ST_DECLARAR_BENS               3659 non-null   object \n",
      " 60  NR_PROTOCOLO_CANDIDATURA       3659 non-null   int64  \n",
      " 61  NR_PROCESSO                    3659 non-null   int64  \n",
      " 62  CD_SITUACAO_CANDIDATO_PLEITO   3659 non-null   int64  \n",
      " 63  DS_SITUACAO_CANDIDATO_PLEITO   3659 non-null   object \n",
      " 64  CD_SITUACAO_CANDIDATO_URNA     3659 non-null   int64  \n",
      " 65  DS_SITUACAO_CANDIDATO_URNA     3659 non-null   object \n",
      " 66  ST_CANDIDATO_INSERIDO_URNA     3659 non-null   object \n",
      " 67  NM_TIPO_DESTINACAO_VOTOS       3659 non-null   object \n",
      " 68  CD_SITUACAO_CANDIDATO_TOT      3659 non-null   int64  \n",
      " 69  DS_SITUACAO_CANDIDATO_TOT      3659 non-null   object \n",
      " 70  ST_PREST_CONTAS                3659 non-null   object \n",
      "dtypes: float64(2), int64(27), object(42)\n",
      "memory usage: 2.0+ MB\n"
     ]
    }
   ],
   "source": [
    "dataset_path = '../data/raw/'\n",
    "dataset_name = 'consulta_cand_2022_SP.csv'\n",
    "cand_sp_df = pd.read_csv(f\"{dataset_path}{dataset_name}\", sep=';')\n",
    "print(cand_sp_df.shape)\n",
    "cand_sp_df.info()"
   ]
  },
  {
   "cell_type": "code",
   "execution_count": null,
   "id": "2caaf66e-72dc-45a7-b5d0-734ce9647529",
   "metadata": {},
   "outputs": [],
   "source": [
    "# Carregando dataset com os dados de redes sociais dos candidatos de SP nas eleições de 2022\n",
    "rs_df = pd.read_csv(f\"{dataset_path}rede_social_candidato_2022_SP.csv\", sep=';')\n",
    "print(rs_df.shape)\n",
    "rs_df.info()"
   ]
  },
  {
   "cell_type": "markdown",
   "id": "19c1b09a-13fa-442c-a5b7-a674c9b8587e",
   "metadata": {},
   "source": [
    "## Juntando os datasets"
   ]
  },
  {
   "cell_type": "code",
   "execution_count": null,
   "id": "3db94401-7687-4fbe-89d0-ac1a8864d988",
   "metadata": {},
   "outputs": [],
   "source": [
    "# Filtrando somente candidatos com conta no Twitter\n",
    "rs_twitter_df = rs_df[rs_df.DS_URL.str.contains('twitter', case=False)]\n",
    "print(rs_twitter_df.shape)"
   ]
  },
  {
   "cell_type": "code",
   "execution_count": null,
   "id": "a7a3e7fb-66cf-498d-9148-ab197daaa443",
   "metadata": {},
   "outputs": [],
   "source": [
    "# Juntando as duas bases\n",
    "df = pd.merge(cand_sp_df, rs_twitter_df[['SQ_CANDIDATO', 'DS_URL']], on=\"SQ_CANDIDATO\", how=\"left\")\n",
    "df.shape"
   ]
  },
  {
   "cell_type": "code",
   "execution_count": null,
   "id": "963e6a60-63b5-433e-9693-f85cfa784ad3",
   "metadata": {},
   "outputs": [],
   "source": [
    "# Filtrando somente candidatos a deputado estadual\n",
    "candidates_df = df.loc[\n",
    "    (df['DS_CARGO'] == 'DEPUTADO ESTADUAL')\n",
    "]\n",
    "\n",
    "print(candidates_df.shape)"
   ]
  },
  {
   "cell_type": "markdown",
   "id": "34f51bb5-7623-4ba6-936b-ac5ebf48f7ae",
   "metadata": {},
   "source": [
    "# Checagem dos dados"
   ]
  },
  {
   "cell_type": "markdown",
   "id": "26dd625d-fbff-4b45-a3f7-2d3d7e51dd4f",
   "metadata": {},
   "source": [
    "## Dados duplicados"
   ]
  },
  {
   "cell_type": "code",
   "execution_count": null,
   "id": "53f8ea78-1b4f-42fb-8574-72687dc64973",
   "metadata": {},
   "outputs": [],
   "source": [
    "# Vamos checar os candidatos duplicados\n",
    "duplicated_candidates_id = (candidates_df.SQ_CANDIDATO.value_counts() > 1).loc[lambda x: x == True].index\n",
    "candidates_df[candidates_df['SQ_CANDIDATO'].isin(duplicated_candidates_id)][['SQ_CANDIDATO', 'DS_URL']]"
   ]
  },
  {
   "cell_type": "code",
   "execution_count": null,
   "id": "2f5c04a2-38d4-4e10-a175-09efbc4ef123",
   "metadata": {},
   "outputs": [],
   "source": [
    "# Vamos checar estas contas no Twitter\n",
    "drop_list = []\n",
    "\n",
    "# A conta DrMarcioAurelio está repetida, portanto vamos remover uma das linhas\n",
    "drop_list.append(180)\n",
    "\n",
    "# A conta raiztrabalhista é de um coletivo político e não do candidato\n",
    "drop_list.append(181)\n",
    "\n",
    "# A conta Mantiqueira18 é de um coletivo político e não do candidato\n",
    "drop_list.append(579)\n",
    "\n",
    "# A conta eniotatto13114 não existe mais\n",
    "drop_list.append(886)\n",
    "\n",
    "# A conta FabioAdonis é pessoal e não posta desde 2017\n",
    "drop_list.append(2344)\n",
    "\n",
    "# A conta alefrota77 não existe mais\n",
    "drop_list.append(2688)\n",
    "\n",
    "# A conta GeraldóNobrega não existe mais\n",
    "drop_list.append(2784)\n",
    "\n",
    "# A conta rodrigo_pt13 não tem nenhum tweet\n",
    "drop_list.append(3442)\n",
    "\n",
    "# A conta valverdemogi possui apenas um tweet de 2021\n",
    "drop_list.append(3443)"
   ]
  },
  {
   "cell_type": "code",
   "execution_count": null,
   "id": "509877a8-be11-4765-819c-44c5327f320f",
   "metadata": {},
   "outputs": [],
   "source": [
    "# Removendo as contas acima\n",
    "candidates_df = candidates_df.drop(drop_list)"
   ]
  },
  {
   "cell_type": "markdown",
   "id": "ae28f3ec-b262-4fce-a0ff-6a319a24d974",
   "metadata": {},
   "source": [
    "# Exploração dos dados"
   ]
  },
  {
   "cell_type": "code",
   "execution_count": null,
   "id": "f3ff6f4d-1c7c-4457-bfdd-86b3ba73c751",
   "metadata": {},
   "outputs": [],
   "source": [
    "# Vamos criar diferentes segmentações, para facilitar a comparação de diversidade\n",
    "elected_values = ['ELEITO POR QP', 'ELEITO POR MÉDIA', 'ELEITO']\n",
    "\n",
    "# Deputados estaduais eleitos\n",
    "elected_df = candidates_df.loc[\n",
    "    (candidates_df['DS_SIT_TOT_TURNO'].isin(elected_values))\n",
    "]\n",
    "\n",
    "# Deputados estaduais eleitos com perfil no Twitter\n",
    "twitter_df = elected_df.loc[\n",
    "    (elected_df['DS_URL'].notna())\n",
    "]\n",
    "\n",
    "print(candidates_df.shape)\n",
    "print(elected_df.shape)\n",
    "print(twitter_df.shape)"
   ]
  },
  {
   "cell_type": "markdown",
   "id": "a9e70cde-c6bd-412b-a4d9-657b96a205de",
   "metadata": {},
   "source": [
    "### Analisando a diversidade"
   ]
  },
  {
   "cell_type": "code",
   "execution_count": null,
   "id": "1b10a05b-78b9-47c4-b078-86ebe81d0877",
   "metadata": {},
   "outputs": [],
   "source": [
    "print('Candidatos a deputado estadual')\n",
    "print(candidates_df.groupby(['DS_GENERO', 'DS_COR_RACA']).size())\n",
    "print()\n",
    "print('Candidatos a deputado estadual eleitos')\n",
    "print(elected_df.groupby(['DS_GENERO', 'DS_COR_RACA']).size())\n",
    "print()\n",
    "print('Candidatos a deputado estadual eleitos com conta no Twitter')\n",
    "print(twitter_df.groupby(['DS_GENERO', 'DS_COR_RACA']).size())\n",
    "print()"
   ]
  },
  {
   "cell_type": "code",
   "execution_count": null,
   "id": "46d4d0e9-ef04-4caf-8340-1c4316d028f0",
   "metadata": {},
   "outputs": [],
   "source": [
    "# Visualizando a distribuição de gênero em raça, entre o candidatos, os eleitos e os eleitos com Twitter\n",
    "fig, ax = plt.subplots(1, 3, figsize=(16, 4), squeeze=False)\n",
    "fig.autofmt_xdate(rotation=45)\n",
    "\n",
    "sns.histplot(\n",
    "    data=candidates_df,\n",
    "    hue='DS_GENERO',\n",
    "    x='DS_COR_RACA',\n",
    "    multiple='stack',\n",
    "    ax=ax[0][0],\n",
    ")\n",
    "\n",
    "sns.histplot(\n",
    "    data=elected_df,\n",
    "    hue='DS_GENERO',\n",
    "    x='DS_COR_RACA',\n",
    "    multiple='stack',\n",
    "    ax=ax[0][1],\n",
    ")\n",
    "\n",
    "sns.histplot(\n",
    "    data=twitter_df,\n",
    "    hue='DS_GENERO',\n",
    "    x='DS_COR_RACA',\n",
    "    multiple='stack',\n",
    "    ax=ax[0][2],\n",
    ")\n",
    "\n",
    "print('Candidatos a Deputado Estadual ; Deputados Estaduais Eleitos ; Deputados Estaduais Eleitos com Twitter')\n",
    "plt.show()"
   ]
  },
  {
   "cell_type": "code",
   "execution_count": null,
   "id": "11dacdcc-3faf-4dff-bd7b-1b260204201b",
   "metadata": {},
   "outputs": [],
   "source": [
    "# Visualizando a distribuição de gênero e raça, entre o candidatos, os eleitos e os eleitos com Twitter\n",
    "fig, ax = plt.subplots(1, 3, figsize=(16, 4), squeeze=False)\n",
    "fig.autofmt_xdate(rotation=45)\n",
    "\n",
    "sns.histplot(\n",
    "    data=candidates_df,\n",
    "    hue='DS_COR_RACA',\n",
    "    x='DS_GENERO',\n",
    "    multiple='stack',\n",
    "    ax=ax[0][0],\n",
    ")\n",
    "\n",
    "sns.histplot(\n",
    "    data=elected_df,\n",
    "    hue='DS_COR_RACA',\n",
    "    x='DS_GENERO',\n",
    "    multiple='stack',\n",
    "    ax=ax[0][1],\n",
    ")\n",
    "\n",
    "sns.histplot(\n",
    "    data=twitter_df,\n",
    "    hue='DS_COR_RACA',\n",
    "    x='DS_GENERO',\n",
    "    multiple='stack',\n",
    "    ax=ax[0][2],\n",
    ")\n",
    "\n",
    "print('Candidatos a Deputado Estadual ; Deputados Estaduais Eleitos ; Deputados Estaduais Eleitos com Twitter')\n",
    "plt.show()"
   ]
  },
  {
   "cell_type": "markdown",
   "id": "0fe6d405-87f7-41a5-a96f-311a6501288e",
   "metadata": {},
   "source": [
    "# Extração de dados do Twitter"
   ]
  },
  {
   "cell_type": "markdown",
   "id": "8ea9a65e-f6ff-4229-904e-e65a133bdfa9",
   "metadata": {},
   "source": [
    "## Dados das contas"
   ]
  },
  {
   "cell_type": "code",
   "execution_count": null,
   "id": "8319759b-c80f-4466-b4e0-3584bb7eeb98",
   "metadata": {},
   "outputs": [],
   "source": [
    "# Vamos listar as contas no twitter dos deputados estaduais eleitos\n",
    "twitter_df.DS_URL"
   ]
  },
  {
   "cell_type": "code",
   "execution_count": 8,
   "id": "396db425-fe8e-41a6-8d55-1e9061c2fc44",
   "metadata": {
    "tags": []
   },
   "outputs": [
    {
     "data": {
      "text/plain": [
       "False"
      ]
     },
     "execution_count": 8,
     "metadata": {},
     "output_type": "execute_result"
    }
   ],
   "source": [
    "isinstance(123, str)"
   ]
  },
  {
   "cell_type": "code",
   "execution_count": 7,
   "id": "db0956a1-0d3f-457b-8232-6e9718723805",
   "metadata": {
    "tags": []
   },
   "outputs": [
    {
     "data": {
      "text/plain": [
       "False"
      ]
     },
     "execution_count": 7,
     "metadata": {},
     "output_type": "execute_result"
    }
   ],
   "source": [
    "type(123) == str"
   ]
  },
  {
   "cell_type": "code",
   "execution_count": null,
   "id": "214ba6f6-5f7c-402e-b98e-0541317db760",
   "metadata": {},
   "outputs": [],
   "source": [
    "# Como precisamos somente do username, precisamos aplicar uma função\n",
    "def get_twitter_username(link):\n",
    "    link = link.rstrip('/')\n",
    "    username = link.split('/')[-1]\n",
    "    username = username.split('?')[0]\n",
    "    return username.lower()\n",
    "\n",
    "twitter_df['TW_USER'] = twitter_df.DS_URL.apply(get_twitter_username)\n",
    "twitter_df['TW_USER'].describe()"
   ]
  },
  {
   "cell_type": "code",
   "execution_count": null,
   "id": "9418d5d8-381f-4b99-9349-42fcf6d005d5",
   "metadata": {},
   "outputs": [],
   "source": [
    "%%time\n",
    "# Vamos raspar os dados numéricos de cada uma das contas do Twitter\n",
    "usernames = list(twitter_df['TW_USER'])\n",
    "\n",
    "user_data = {}\n",
    "for i, username in enumerate(usernames):\n",
    "    try:\n",
    "        last_tweet = next(sntwitter.TwitterProfileScraper(username).get_items())\n",
    "        user_data[username] = {\n",
    "            'followersCount': last_tweet.user.followersCount,\n",
    "            'friendsCount': last_tweet.user.friendsCount,\n",
    "            'statusesCount': last_tweet.user.statusesCount,\n",
    "            'favouritesCount': last_tweet.user.favouritesCount,\n",
    "            'listedCount': last_tweet.user.listedCount,\n",
    "            'mediaCount': last_tweet.user.mediaCount,\n",
    "        }\n",
    "        print(f'{i+1}/{len(usernames)} {username}: {user_data[username]}')\n",
    "    except Exception as e:\n",
    "        print(f'{i+1}/{len(usernames)} {username}: Erro {e}')\n",
    "        user_data[username] = {\n",
    "            'followersCount': 0,\n",
    "            'friendsCount': 0,\n",
    "            'statusesCount': 0,\n",
    "            'favouritesCount': 0,\n",
    "            'listedCount': 0,\n",
    "            'mediaCount': 0,\n",
    "        }"
   ]
  },
  {
   "cell_type": "code",
   "execution_count": null,
   "id": "d41781a5-c7b7-4ea3-bcd1-aa529d5b0790",
   "metadata": {},
   "outputs": [],
   "source": [
    "# Agora vamos adicionar os dados dos usuários no mesmo dataframe\n",
    "\n",
    "# Quantidade de seguidores da conta\n",
    "twitter_df['TW_followersCount'] = twitter_df.TW_USER.apply(lambda x: user_data[x]['followersCount'])\n",
    "\n",
    "# Quantidade de usuarios que a conta segue\n",
    "twitter_df['TW_friendsCount'] = twitter_df.TW_USER.apply(lambda x: user_data[x]['friendsCount'])\n",
    "\n",
    "# Quantidade de tweets postados pela conta\n",
    "twitter_df['TW_statusesCount'] = twitter_df.TW_USER.apply(lambda x: user_data[x]['statusesCount'])\n",
    "\n",
    "# Quantidade de tweets curtidos pela conta\n",
    "twitter_df['TW_favouritesCount'] = twitter_df.TW_USER.apply(lambda x: user_data[x]['favouritesCount'])\n",
    "\n",
    "twitter_df['TW_listedCount'] = twitter_df.TW_USER.apply(lambda x: user_data[x]['listedCount'])\n",
    "twitter_df['TW_mediaCount'] = twitter_df.TW_USER.apply(lambda x: user_data[x]['mediaCount'])\n",
    "\n",
    "twitter_df.head()"
   ]
  },
  {
   "cell_type": "markdown",
   "id": "b511449f-6216-4a32-b049-c8f8cff4fa82",
   "metadata": {},
   "source": [
    "## Contagem de tweets"
   ]
  },
  {
   "cell_type": "code",
   "execution_count": null,
   "id": "9369037e-e943-47b1-ae30-034e0d5f4bd5",
   "metadata": {},
   "outputs": [],
   "source": [
    "%%time\n",
    "# Vamos contar quantos posts e respostas cada candidato teve no período analisado (setembro e outubro de 2022)\n",
    "# Esta etapa pode demorar bastante\n",
    "since = '2022-09-01'\n",
    "until = '2022-11-01'\n",
    "\n",
    "user_tweets = {}\n",
    "for i, username in enumerate(usernames):\n",
    "    try:\n",
    "        query = f'from:{username} since:{since} until:{until}'\n",
    "        user_scrapping_results = sntwitter.TwitterSearchScraper(query).get_items()\n",
    "        tweets = []\n",
    "        for tweet in user_scrapping_results:\n",
    "            tweets.append(tweet)\n",
    "\n",
    "        user_tweets[username] = {\n",
    "            'posts': tweets,\n",
    "            'count': len(tweets),\n",
    "        }\n",
    "        print(f'{i+1}/{len(usernames)} {username}: {len(tweets)} tweets')\n",
    "    except Exception as e:\n",
    "        print(f'{i+1}/{len(usernames)} {username}: Erro {e}')\n",
    "        user_tweets[username] = {\n",
    "            'posts': [],\n",
    "            'count': 0,\n",
    "        }"
   ]
  },
  {
   "cell_type": "code",
   "execution_count": null,
   "id": "21ab7bbd-f202-442f-a605-d87959ea4810",
   "metadata": {},
   "outputs": [],
   "source": [
    "twitter_df['TW_electionTweets'] = twitter_df.TW_USER.apply(lambda x: user_tweets[x]['count'])\n",
    "twitter_df['TW_electionTweets'].describe()"
   ]
  },
  {
   "cell_type": "code",
   "execution_count": null,
   "id": "735c9000-3f1f-4abe-986e-b9b18246ce96",
   "metadata": {},
   "outputs": [],
   "source": [
    "twitter_df.columns"
   ]
  },
  {
   "cell_type": "code",
   "execution_count": null,
   "id": "05fda78d-2a1b-4d92-bead-723c53f5f902",
   "metadata": {},
   "outputs": [],
   "source": [
    "twitter_df[twitter_df[\"TW_electionTweets\"] > twitter_df.TW_electionTweets.median()].sort_values(\n",
    "    by='TW_electionTweets', ascending=False\n",
    ")[[\n",
    "    'TW_USER', 'DS_GENERO', 'DS_COR_RACA', 'SG_PARTIDO', 'TW_followersCount', 'TW_statusesCount', 'TW_electionTweets'\n",
    "]]"
   ]
  },
  {
   "cell_type": "markdown",
   "id": "477495ba-6220-4a8c-8847-b1f075afb23a",
   "metadata": {},
   "source": [
    "## Exploração dos dados do Twitter"
   ]
  },
  {
   "cell_type": "code",
   "execution_count": null,
   "id": "94d306d9-4b1b-49b4-b5b3-af2b3779267b",
   "metadata": {},
   "outputs": [],
   "source": [
    "sns.histplot(\n",
    "    data=twitter_df.loc[twitter_df['TW_electionTweets'] > 50],\n",
    "    x='TW_electionTweets',\n",
    "    hue='DS_GENERO',\n",
    "    multiple='dodge',\n",
    "    kde=True,\n",
    ")"
   ]
  },
  {
   "cell_type": "code",
   "execution_count": null,
   "id": "6c39e8f9-05ae-41f1-845d-063d6f886de9",
   "metadata": {},
   "outputs": [],
   "source": [
    "sns.histplot(\n",
    "    data=twitter_df.loc[twitter_df['TW_followersCount'] < 100000],\n",
    "    hue='DS_GENERO',\n",
    "    x='TW_followersCount',\n",
    "    multiple='dodge',\n",
    "    kde=True,\n",
    ")"
   ]
  },
  {
   "cell_type": "code",
   "execution_count": null,
   "id": "cd203ebe-df13-449b-8f21-25322ed0320b",
   "metadata": {},
   "outputs": [],
   "source": [
    "sns.histplot(\n",
    "    data=twitter_df.loc[twitter_df['TW_followersCount'] < 100000],\n",
    "    hue='DS_COR_RACA',\n",
    "    x='TW_followersCount',\n",
    "    multiple='dodge',\n",
    "    kde=True,   \n",
    ")"
   ]
  },
  {
   "cell_type": "markdown",
   "id": "d7ec1bad-83a6-401c-a35e-78e95181fab8",
   "metadata": {},
   "source": [
    "# Exportação de dados"
   ]
  },
  {
   "cell_type": "code",
   "execution_count": null,
   "id": "689e96ce-883d-498e-817c-1c59613fce24",
   "metadata": {},
   "outputs": [],
   "source": [
    "# Exportando dados scrapeados\n",
    "\n",
    "output_path = 'datasets/scrapped/'\n",
    "output_file = f'deputados-estaduais-sp-{datetime.now().isoformat()}.csv'\n",
    "\n",
    "# Para salvar os dados, descomente as linhas abaixo\n",
    "# twitter_df.to_csv(f\"{output_path}{output_file}\", sep=';', encoding='utf-8', index=False)"
   ]
  }
 ],
 "metadata": {
  "kernelspec": {
   "display_name": "Python 3 (ipykernel)",
   "language": "python",
   "name": "python3"
  },
  "language_info": {
   "codemirror_mode": {
    "name": "ipython",
    "version": 3
   },
   "file_extension": ".py",
   "mimetype": "text/x-python",
   "name": "python",
   "nbconvert_exporter": "python",
   "pygments_lexer": "ipython3",
   "version": "3.8.13"
  }
 },
 "nbformat": 4,
 "nbformat_minor": 5
}
