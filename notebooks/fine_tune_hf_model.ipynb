{
 "cells": [
  {
   "cell_type": "code",
   "execution_count": 13,
   "id": "c77f3558-1cb3-41cb-810c-a036d626a4c9",
   "metadata": {},
   "outputs": [],
   "source": [
    "import matplotlib.pyplot as plt\n",
    "import matplotlib.ticker as mticker\n",
    "import seaborn as sns\n",
    "import numpy as np \n",
    "import pandas as pd\n",
    "from sklearn.model_selection import train_test_split\n",
    "from sklearn.metrics import precision_score, recall_score, f1_score, accuracy_score\n",
    "import torch\n",
    "from transformers import pipeline\n",
    "from transformers import BertTokenizer, BertForSequenceClassification\n",
    "\n",
    "plt.style.use('ggplot')\n",
    "custom_params = {\"axes.spines.right\": False, \"axes.spines.top\": False}\n",
    "sns.set_theme(style=\"ticks\", rc=custom_params)\n",
    "\n",
    "# pd.set_option('display.max_colwidth', None)\n",
    "# pd.set_option('display.max_rows', None)\n",
    "\n",
    "import warnings\n",
    "warnings.filterwarnings('ignore')\n"
   ]
  },
  {
   "cell_type": "code",
   "execution_count": 14,
   "id": "70bf4b6c-92ef-4c48-be1f-7f1a32f44a09",
   "metadata": {},
   "outputs": [],
   "source": [
    "# Juntando as planilhas com classificação manual.\n",
    "\n",
    "# Planilhas com classificação manual\n",
    "df_dani = pd.read_excel('../data/manual_eval_tweets.xlsx', sheet_name='Daniela Nomura')\n",
    "df_dagna = pd.read_excel('../data/manual_eval_tweets.xlsx', sheet_name='Dagna')\n",
    "df_jose = pd.read_excel('../data/manual_eval_tweets.xlsx', sheet_name='José Valdeir')\n",
    "df_bruno = pd.read_excel('../data/manual_eval_tweets.xlsx', sheet_name='Bruno')\n",
    "df_thiago = pd.read_excel('../data/manual_eval_tweets.xlsx', sheet_name='Thiago')\n",
    "\n",
    "# Agrupando dataframes com classificação manual para ajuste fino\n",
    "df_agrupado = pd.concat([df_dani, df_dagna, df_jose, df_bruno, df_thiago])\n",
    "\n",
    "# Salvando arquivo consolidado\n",
    "output_path = \"../data/processed/\"\n",
    "output_file = f\"manual_class-tweets.csv\"\n",
    "\n",
    "df_agrupado.to_csv(f\"{output_path}{output_file}\", sep=\";\", encoding=\"utf-8\", index=False)\n",
    "df_ajuste = df_agrupado[['content', 'classe_manual']]"
   ]
  },
  {
   "cell_type": "code",
   "execution_count": null,
   "id": "1e791025-9069-4450-bf21-dd98d507115e",
   "metadata": {},
   "outputs": [],
   "source": []
  },
  {
   "cell_type": "markdown",
   "id": "e24da15a-eec8-43c7-910c-ac36a165cfa3",
   "metadata": {},
   "source": [
    "## Utilizando dados classificados manualmente"
   ]
  },
  {
   "cell_type": "code",
   "execution_count": 15,
   "id": "143c0c55-586b-4492-9aba-c4e75834d731",
   "metadata": {},
   "outputs": [
    {
     "data": {
      "text/plain": [
       "0"
      ]
     },
     "execution_count": 15,
     "metadata": {},
     "output_type": "execute_result"
    }
   ],
   "source": [
    "torch.cuda.current_device()"
   ]
  },
  {
   "cell_type": "code",
   "execution_count": 16,
   "id": "695a3f12-ab90-4bdb-8662-bea026065a2b",
   "metadata": {},
   "outputs": [],
   "source": [
    "classifier = pipeline(\n",
    "    \"sentiment-analysis\",\n",
    "    model='ruanchaves/bert-base-portuguese-cased-hatebr',\n",
    "    device=torch.cuda.current_device(),\n",
    ")"
   ]
  },
  {
   "cell_type": "code",
   "execution_count": 17,
   "id": "cd1c6513-900c-4a7e-8dea-0b15b879d877",
   "metadata": {},
   "outputs": [
    {
     "name": "stdout",
     "output_type": "stream",
     "text": [
      "CPU times: user 12 s, sys: 1.59 s, total: 13.5 s\n",
      "Wall time: 13.6 s\n"
     ]
    }
   ],
   "source": [
    "%%time\n",
    "results = df_ajuste['content'].apply(lambda x: classifier(x))"
   ]
  },
  {
   "cell_type": "code",
   "execution_count": 18,
   "id": "e4c81521-75ff-4d9d-b98c-98642d0c1e8a",
   "metadata": {},
   "outputs": [],
   "source": [
    "# Separando rotulo e score\n",
    "labels = [result[0]['label'] for result in results]\n",
    "scores = [result[0]['score'] for result in results]"
   ]
  },
  {
   "cell_type": "code",
   "execution_count": 19,
   "id": "39f05aa4-ef6c-4971-a35f-fceeb4ac7a92",
   "metadata": {},
   "outputs": [],
   "source": [
    "# Criando colunas com rótulos e score no dataframe de ajuste\n",
    "df_ajuste['classif_sem_ajuste'] = labels\n",
    "df_ajuste['score_sem_ajuste'] = scores"
   ]
  },
  {
   "cell_type": "code",
   "execution_count": 20,
   "id": "876731fb-3aaf-42f2-8a99-b3da6953801d",
   "metadata": {},
   "outputs": [
    {
     "data": {
      "text/html": [
       "<div>\n",
       "<style scoped>\n",
       "    .dataframe tbody tr th:only-of-type {\n",
       "        vertical-align: middle;\n",
       "    }\n",
       "\n",
       "    .dataframe tbody tr th {\n",
       "        vertical-align: top;\n",
       "    }\n",
       "\n",
       "    .dataframe thead th {\n",
       "        text-align: right;\n",
       "    }\n",
       "</style>\n",
       "<table border=\"1\" class=\"dataframe\">\n",
       "  <thead>\n",
       "    <tr style=\"text-align: right;\">\n",
       "      <th></th>\n",
       "      <th>content</th>\n",
       "      <th>classe_manual</th>\n",
       "      <th>classif_sem_ajuste</th>\n",
       "    </tr>\n",
       "  </thead>\n",
       "  <tbody>\n",
       "    <tr>\n",
       "      <th>0</th>\n",
       "      <td>Não acredite nesses fantasmas que querem distr...</td>\n",
       "      <td>False</td>\n",
       "      <td>True</td>\n",
       "    </tr>\n",
       "    <tr>\n",
       "      <th>1</th>\n",
       "      <td>Pelo jeito, a carruagem virou abóbora antes da...</td>\n",
       "      <td>False</td>\n",
       "      <td>True</td>\n",
       "    </tr>\n",
       "    <tr>\n",
       "      <th>2</th>\n",
       "      <td>@rosana Gente, só eu não vi? Desculpa a vergon...</td>\n",
       "      <td>False</td>\n",
       "      <td>True</td>\n",
       "    </tr>\n",
       "    <tr>\n",
       "      <th>3</th>\n",
       "      <td>@victorpvianna Crime</td>\n",
       "      <td>False</td>\n",
       "      <td>False</td>\n",
       "    </tr>\n",
       "    <tr>\n",
       "      <th>4</th>\n",
       "      <td>O Alexandre tá passando pano?</td>\n",
       "      <td>False</td>\n",
       "      <td>True</td>\n",
       "    </tr>\n",
       "    <tr>\n",
       "      <th>...</th>\n",
       "      <td>...</td>\n",
       "      <td>...</td>\n",
       "      <td>...</td>\n",
       "    </tr>\n",
       "    <tr>\n",
       "      <th>396</th>\n",
       "      <td>@carteiroreaca 👏👏👏👏🇧🇷🇧🇷</td>\n",
       "      <td>False</td>\n",
       "      <td>False</td>\n",
       "    </tr>\n",
       "    <tr>\n",
       "      <th>397</th>\n",
       "      <td>@carteiroreaca E se fosse vc no lugar do Dougl...</td>\n",
       "      <td>False</td>\n",
       "      <td>False</td>\n",
       "    </tr>\n",
       "    <tr>\n",
       "      <th>398</th>\n",
       "      <td>@carteiroreaca @carteiroreaca ,como eu te prom...</td>\n",
       "      <td>False</td>\n",
       "      <td>False</td>\n",
       "    </tr>\n",
       "    <tr>\n",
       "      <th>399</th>\n",
       "      <td>@carteiroreaca É sensato da sua parte, deputado.</td>\n",
       "      <td>False</td>\n",
       "      <td>False</td>\n",
       "    </tr>\n",
       "    <tr>\n",
       "      <th>400</th>\n",
       "      <td>@carteiroreaca https://t.co/aHjBufnMAc</td>\n",
       "      <td>False</td>\n",
       "      <td>False</td>\n",
       "    </tr>\n",
       "  </tbody>\n",
       "</table>\n",
       "<p>2000 rows × 3 columns</p>\n",
       "</div>"
      ],
      "text/plain": [
       "                                               content classe_manual  \\\n",
       "0    Não acredite nesses fantasmas que querem distr...         False   \n",
       "1    Pelo jeito, a carruagem virou abóbora antes da...         False   \n",
       "2    @rosana Gente, só eu não vi? Desculpa a vergon...         False   \n",
       "3                                 @victorpvianna Crime         False   \n",
       "4                        O Alexandre tá passando pano?         False   \n",
       "..                                                 ...           ...   \n",
       "396                            @carteiroreaca 👏👏👏👏🇧🇷🇧🇷         False   \n",
       "397  @carteiroreaca E se fosse vc no lugar do Dougl...         False   \n",
       "398  @carteiroreaca @carteiroreaca ,como eu te prom...         False   \n",
       "399   @carteiroreaca É sensato da sua parte, deputado.         False   \n",
       "400             @carteiroreaca https://t.co/aHjBufnMAc         False   \n",
       "\n",
       "     classif_sem_ajuste  \n",
       "0                  True  \n",
       "1                  True  \n",
       "2                  True  \n",
       "3                 False  \n",
       "4                  True  \n",
       "..                  ...  \n",
       "396               False  \n",
       "397               False  \n",
       "398               False  \n",
       "399               False  \n",
       "400               False  \n",
       "\n",
       "[2000 rows x 3 columns]"
      ]
     },
     "execution_count": 20,
     "metadata": {},
     "output_type": "execute_result"
    }
   ],
   "source": [
    "df_ajuste.iloc[:, [0,1,2]]"
   ]
  },
  {
   "cell_type": "code",
   "execution_count": 21,
   "id": "7c82638e-7cb0-4696-93aa-7c761e0a33b6",
   "metadata": {},
   "outputs": [],
   "source": [
    "# criando coluna adicional para não ter perigo de errar e ter que fazer a classificação novamente\n",
    "df_ajuste['classe_manual_2'] = df_ajuste['classe_manual']"
   ]
  },
  {
   "cell_type": "code",
   "execution_count": 22,
   "id": "2a7bd099-a5c6-4514-868b-c62a7d9b2f32",
   "metadata": {},
   "outputs": [
    {
     "data": {
      "text/plain": [
       "False         1035\n",
       "FALSO          635\n",
       "True           170\n",
       "VERDADEIRO     160\n",
       "Name: classe_manual, dtype: int64"
      ]
     },
     "execution_count": 22,
     "metadata": {},
     "output_type": "execute_result"
    }
   ],
   "source": [
    "# Respostas com classificação divergente\n",
    "df_ajuste['classe_manual'].value_counts()"
   ]
  },
  {
   "cell_type": "code",
   "execution_count": 23,
   "id": "f71491ea-5a3e-4e86-b523-6b4a0f3e7111",
   "metadata": {},
   "outputs": [],
   "source": [
    "# Padronizando respostas\n",
    "df_ajuste['classe_manual_2'] = df_ajuste['classe_manual_2'].replace('FALSO', False)\n",
    "df_ajuste['classe_manual_2'] = df_ajuste['classe_manual_2'].replace('VERDADEIRO', True)"
   ]
  },
  {
   "cell_type": "code",
   "execution_count": 24,
   "id": "675fd6bd-f990-49ff-9cbb-9c7ea8346d22",
   "metadata": {},
   "outputs": [
    {
     "data": {
      "text/plain": [
       "False    1670\n",
       "True      330\n",
       "Name: classe_manual_2, dtype: int64"
      ]
     },
     "execution_count": 24,
     "metadata": {},
     "output_type": "execute_result"
    }
   ],
   "source": [
    "# Verificando resultados da classificação manual\n",
    "df_ajuste['classe_manual_2'].value_counts()"
   ]
  },
  {
   "cell_type": "code",
   "execution_count": 25,
   "id": "4ad58c18-a96d-44a2-9cb0-814813954f54",
   "metadata": {},
   "outputs": [
    {
     "data": {
      "text/plain": [
       "False    1463\n",
       "True      537\n",
       "Name: classif_sem_ajuste, dtype: int64"
      ]
     },
     "execution_count": 25,
     "metadata": {},
     "output_type": "execute_result"
    }
   ],
   "source": [
    "# Verificando resultados da classificação do modelo pré-treinado antes do ajuste fino\n",
    "df_ajuste['classif_sem_ajuste'].value_counts()"
   ]
  },
  {
   "cell_type": "code",
   "execution_count": 26,
   "id": "e8308d99-0f39-4106-86df-08e801267aad",
   "metadata": {},
   "outputs": [
    {
     "name": "stdout",
     "output_type": "stream",
     "text": [
      "==============================\n",
      "Classificação Pré Ajuste Fino\n",
      "------------------------------\n",
      "Acurácia: 0.824\n",
      "Precision: 0.48\n",
      "Recall: 0.782\n",
      "F1 Score: 0.595\n",
      "==============================\n"
     ]
    }
   ],
   "source": [
    "# Verificando métricas do modelo pré-treinado antes do ajuste fino\n",
    "acuracia_pre_ajuste = accuracy_score(df_ajuste['classe_manual_2'], df_ajuste['classif_sem_ajuste'])\n",
    "precision_pre_ajuste = precision_score(df_ajuste['classe_manual_2'], df_ajuste['classif_sem_ajuste'])\n",
    "recall_pre_ajuste = recall_score(df_ajuste['classe_manual_2'], df_ajuste['classif_sem_ajuste'])\n",
    "f1_pre_ajuste = f1_score(df_ajuste['classe_manual_2'], df_ajuste['classif_sem_ajuste'])\n",
    "\n",
    "print(\"=\"*30)\n",
    "print(\"Classificação Pré Ajuste Fino\")\n",
    "print(\"-\"*30)\n",
    "print(\"Acurácia:\", acuracia_pre_ajuste.round(3))\n",
    "print(\"Precision:\", precision_pre_ajuste.round(3))\n",
    "print(\"Recall:\", recall_pre_ajuste.round(3))\n",
    "print(\"F1 Score:\", f1_pre_ajuste.round(3))\n",
    "print(\"=\"*30)"
   ]
  },
  {
   "cell_type": "markdown",
   "id": "a385707d-b81d-474d-8f21-e03d7d4c48c0",
   "metadata": {},
   "source": [
    "# Ajuste fino do modelo escolhido"
   ]
  },
  {
   "cell_type": "code",
   "execution_count": 28,
   "id": "1369c451-663c-4537-9715-90fa8c625545",
   "metadata": {},
   "outputs": [
    {
     "data": {
      "text/html": [
       "<div>\n",
       "<style scoped>\n",
       "    .dataframe tbody tr th:only-of-type {\n",
       "        vertical-align: middle;\n",
       "    }\n",
       "\n",
       "    .dataframe tbody tr th {\n",
       "        vertical-align: top;\n",
       "    }\n",
       "\n",
       "    .dataframe thead th {\n",
       "        text-align: right;\n",
       "    }\n",
       "</style>\n",
       "<table border=\"1\" class=\"dataframe\">\n",
       "  <thead>\n",
       "    <tr style=\"text-align: right;\">\n",
       "      <th></th>\n",
       "      <th>content</th>\n",
       "      <th>classe_manual</th>\n",
       "      <th>classif_sem_ajuste</th>\n",
       "      <th>score_sem_ajuste</th>\n",
       "      <th>classe_manual_2</th>\n",
       "    </tr>\n",
       "  </thead>\n",
       "  <tbody>\n",
       "    <tr>\n",
       "      <th>0</th>\n",
       "      <td>Não acredite nesses fantasmas que querem distr...</td>\n",
       "      <td>False</td>\n",
       "      <td>True</td>\n",
       "      <td>0.999933</td>\n",
       "      <td>False</td>\n",
       "    </tr>\n",
       "    <tr>\n",
       "      <th>1</th>\n",
       "      <td>Pelo jeito, a carruagem virou abóbora antes da...</td>\n",
       "      <td>False</td>\n",
       "      <td>True</td>\n",
       "      <td>0.999743</td>\n",
       "      <td>False</td>\n",
       "    </tr>\n",
       "    <tr>\n",
       "      <th>2</th>\n",
       "      <td>@rosana Gente, só eu não vi? Desculpa a vergon...</td>\n",
       "      <td>False</td>\n",
       "      <td>True</td>\n",
       "      <td>0.999871</td>\n",
       "      <td>False</td>\n",
       "    </tr>\n",
       "    <tr>\n",
       "      <th>3</th>\n",
       "      <td>@victorpvianna Crime</td>\n",
       "      <td>False</td>\n",
       "      <td>False</td>\n",
       "      <td>0.956910</td>\n",
       "      <td>False</td>\n",
       "    </tr>\n",
       "    <tr>\n",
       "      <th>4</th>\n",
       "      <td>O Alexandre tá passando pano?</td>\n",
       "      <td>False</td>\n",
       "      <td>True</td>\n",
       "      <td>0.994142</td>\n",
       "      <td>False</td>\n",
       "    </tr>\n",
       "    <tr>\n",
       "      <th>...</th>\n",
       "      <td>...</td>\n",
       "      <td>...</td>\n",
       "      <td>...</td>\n",
       "      <td>...</td>\n",
       "      <td>...</td>\n",
       "    </tr>\n",
       "    <tr>\n",
       "      <th>396</th>\n",
       "      <td>@carteiroreaca 👏👏👏👏🇧🇷🇧🇷</td>\n",
       "      <td>False</td>\n",
       "      <td>False</td>\n",
       "      <td>0.999860</td>\n",
       "      <td>False</td>\n",
       "    </tr>\n",
       "    <tr>\n",
       "      <th>397</th>\n",
       "      <td>@carteiroreaca E se fosse vc no lugar do Dougl...</td>\n",
       "      <td>False</td>\n",
       "      <td>False</td>\n",
       "      <td>0.999962</td>\n",
       "      <td>False</td>\n",
       "    </tr>\n",
       "    <tr>\n",
       "      <th>398</th>\n",
       "      <td>@carteiroreaca @carteiroreaca ,como eu te prom...</td>\n",
       "      <td>False</td>\n",
       "      <td>False</td>\n",
       "      <td>0.999977</td>\n",
       "      <td>False</td>\n",
       "    </tr>\n",
       "    <tr>\n",
       "      <th>399</th>\n",
       "      <td>@carteiroreaca É sensato da sua parte, deputado.</td>\n",
       "      <td>False</td>\n",
       "      <td>False</td>\n",
       "      <td>0.999978</td>\n",
       "      <td>False</td>\n",
       "    </tr>\n",
       "    <tr>\n",
       "      <th>400</th>\n",
       "      <td>@carteiroreaca https://t.co/aHjBufnMAc</td>\n",
       "      <td>False</td>\n",
       "      <td>False</td>\n",
       "      <td>0.998612</td>\n",
       "      <td>False</td>\n",
       "    </tr>\n",
       "  </tbody>\n",
       "</table>\n",
       "<p>2000 rows × 5 columns</p>\n",
       "</div>"
      ],
      "text/plain": [
       "                                               content classe_manual  \\\n",
       "0    Não acredite nesses fantasmas que querem distr...         False   \n",
       "1    Pelo jeito, a carruagem virou abóbora antes da...         False   \n",
       "2    @rosana Gente, só eu não vi? Desculpa a vergon...         False   \n",
       "3                                 @victorpvianna Crime         False   \n",
       "4                        O Alexandre tá passando pano?         False   \n",
       "..                                                 ...           ...   \n",
       "396                            @carteiroreaca 👏👏👏👏🇧🇷🇧🇷         False   \n",
       "397  @carteiroreaca E se fosse vc no lugar do Dougl...         False   \n",
       "398  @carteiroreaca @carteiroreaca ,como eu te prom...         False   \n",
       "399   @carteiroreaca É sensato da sua parte, deputado.         False   \n",
       "400             @carteiroreaca https://t.co/aHjBufnMAc         False   \n",
       "\n",
       "     classif_sem_ajuste  score_sem_ajuste  classe_manual_2  \n",
       "0                  True          0.999933            False  \n",
       "1                  True          0.999743            False  \n",
       "2                  True          0.999871            False  \n",
       "3                 False          0.956910            False  \n",
       "4                  True          0.994142            False  \n",
       "..                  ...               ...              ...  \n",
       "396               False          0.999860            False  \n",
       "397               False          0.999962            False  \n",
       "398               False          0.999977            False  \n",
       "399               False          0.999978            False  \n",
       "400               False          0.998612            False  \n",
       "\n",
       "[2000 rows x 5 columns]"
      ]
     },
     "execution_count": 28,
     "metadata": {},
     "output_type": "execute_result"
    }
   ],
   "source": [
    "# Verificando dataframe que será usado para ajuste\n",
    "df_ajuste"
   ]
  },
  {
   "cell_type": "code",
   "execution_count": 29,
   "id": "611690e3-0dc8-4f8c-ad2a-cc2b9fb4e1d9",
   "metadata": {},
   "outputs": [],
   "source": [
    "# Convertendo classificação em binário para o formato adequado para ajuste fino do modelo\n",
    "df_ajuste['classe_manual_bin'] = df_ajuste['classe_manual_2'].apply(lambda x: 0 if x == False else 1)\n",
    "df_ajuste['classif_sem_ajuste_bin'] = df_ajuste['classif_sem_ajuste'].apply(lambda x: 0 if x == False else 1)"
   ]
  },
  {
   "cell_type": "code",
   "execution_count": 30,
   "id": "5cd2a1aa-cf0e-439e-a91f-f82ca5dedcac",
   "metadata": {},
   "outputs": [
    {
     "data": {
      "text/plain": [
       "classe_manual_bin  classe_manual_2\n",
       "0                  False              1670\n",
       "1                  True                330\n",
       "dtype: int64"
      ]
     },
     "execution_count": 30,
     "metadata": {},
     "output_type": "execute_result"
    }
   ],
   "source": [
    "# Verificando a conversão\n",
    "df_ajuste[['classe_manual_bin', 'classe_manual_2']].value_counts()"
   ]
  },
  {
   "cell_type": "code",
   "execution_count": 31,
   "id": "86153750-4d92-461b-9e1c-894af059b807",
   "metadata": {},
   "outputs": [
    {
     "data": {
      "text/plain": [
       "classif_sem_ajuste  classif_sem_ajuste_bin\n",
       "False               0                         1463\n",
       "True                1                          537\n",
       "dtype: int64"
      ]
     },
     "execution_count": 31,
     "metadata": {},
     "output_type": "execute_result"
    }
   ],
   "source": [
    "# Verificando a conversão\n",
    "df_ajuste[['classif_sem_ajuste', 'classif_sem_ajuste_bin']].value_counts()"
   ]
  },
  {
   "cell_type": "code",
   "execution_count": 32,
   "id": "a0ced7ac-90e0-40b5-bf33-c5f7a578733e",
   "metadata": {},
   "outputs": [],
   "source": [
    "# Fazendo divisão entre treino e teste\n",
    "X = df_ajuste['content']\n",
    "Y = df_ajuste['classe_manual_bin']\n",
    "\n",
    "X_train, X_test, y_train, y_test = train_test_split(\n",
    "    X, Y, test_size = 0.3, stratify = Y, random_state=42\n",
    ")"
   ]
  },
  {
   "cell_type": "code",
   "execution_count": 33,
   "id": "684fc5cf-c659-4c81-854e-cbc3b869c406",
   "metadata": {},
   "outputs": [],
   "source": [
    "# Fazendo divisão entre treino e validação\n",
    "X_train, X_val, y_train, y_val = train_test_split(\n",
    "    X_train, y_train, test_size = 0.3, stratify = y_train, random_state=42\n",
    ")"
   ]
  },
  {
   "cell_type": "code",
   "execution_count": 34,
   "id": "94fcb59b-8519-4d10-b2a1-84120fb5e892",
   "metadata": {},
   "outputs": [
    {
     "data": {
      "text/plain": [
       "((980,), (420,), (600,), (980,), (420,), (600,))"
      ]
     },
     "execution_count": 34,
     "metadata": {},
     "output_type": "execute_result"
    }
   ],
   "source": [
    "# Verificando dimensões\n",
    "X_train.shape, X_val.shape, X_test.shape, y_train.shape, y_val.shape, y_test.shape"
   ]
  },
  {
   "cell_type": "code",
   "execution_count": 35,
   "id": "50db58f0-7833-41f0-afcd-f352a657cc17",
   "metadata": {},
   "outputs": [],
   "source": [
    "# Carregando modelo BERT pré-treinado\n",
    "model_name = \"ruanchaves/bert-base-portuguese-cased-hatebr\"\n",
    "tokenizer = BertTokenizer.from_pretrained(model_name)\n",
    "model = BertForSequenceClassification.from_pretrained(model_name, num_labels=2)  # 2 rótulos: 'False', 'True'"
   ]
  },
  {
   "cell_type": "code",
   "execution_count": 36,
   "id": "07c519e7-5fb9-4829-918b-b2e0bc0ac17b",
   "metadata": {},
   "outputs": [
    {
     "name": "stderr",
     "output_type": "stream",
     "text": [
      "Asking to truncate to max_length but no maximum length is provided and the model has no predefined maximum length. Default to no truncation.\n"
     ]
    }
   ],
   "source": [
    "# Convertendo dados para formato adequado e separando conjunto de treino e validação.\n",
    "\n",
    "train_texts = X_train.to_list()  # Lista of tweet para treino\n",
    "train_labels = y_train.to_list() # Lista of rótulos (0 ou 1) para treino\n",
    "\n",
    "val_texts = X_val.to_list()    # Lista of tweet para validação\n",
    "val_labels = y_val.to_list()   # Lista of rótulos (0 ou 1) para validação\n",
    "\n",
    "# Tokenizar e converter dados para formato adequado para o BERT\n",
    "train_encodings = tokenizer(train_texts, truncation=True, padding=True)\n",
    "val_encodings = tokenizer(val_texts, truncation=True, padding=True)\n",
    "\n",
    "# Convertendo dados para tensores do PyTorch\n",
    "train_dataset = torch.utils.data.TensorDataset(\n",
    "    torch.tensor(train_encodings.input_ids),\n",
    "    torch.tensor(train_encodings.attention_mask),\n",
    "    torch.tensor(train_labels)\n",
    ")\n",
    "\n",
    "val_dataset = torch.utils.data.TensorDataset(\n",
    "    torch.tensor(val_encodings.input_ids),\n",
    "    torch.tensor(val_encodings.attention_mask),\n",
    "    torch.tensor(val_labels)\n",
    ")"
   ]
  },
  {
   "cell_type": "code",
   "execution_count": 37,
   "id": "df1755e4-dfb1-4e3a-ab4a-0062338d366d",
   "metadata": {},
   "outputs": [],
   "source": [
    "# Definindo o DataLoader para batching\n",
    "from torch.utils.data import DataLoader, RandomSampler\n",
    "\n",
    "train_batch_size = 16\n",
    "train_dataloader = DataLoader(train_dataset, sampler=RandomSampler(train_dataset), batch_size=train_batch_size)\n",
    "\n",
    "val_batch_size = 32\n",
    "val_dataloader = DataLoader(val_dataset, sampler=RandomSampler(val_dataset), batch_size=val_batch_size)"
   ]
  },
  {
   "cell_type": "code",
   "execution_count": 38,
   "id": "fbeb4c7d-6794-41e0-b92a-f2d614061c79",
   "metadata": {},
   "outputs": [
    {
     "name": "stdout",
     "output_type": "stream",
     "text": [
      "cuda\n"
     ]
    }
   ],
   "source": [
    "from transformers import AdamW\n",
    "\n",
    "# Define otimizador e loss function. \n",
    "# OBS: Aqui também poderia ser testado outros parametros.\n",
    "optimizer = AdamW(model.parameters(), lr=2e-5)\n",
    "loss_fn = torch.nn.CrossEntropyLoss()\n",
    "\n",
    "\n",
    "# Foi estabelecido 3 épocas. Sem GPU levou por volta de 18min cada. Talvez com mais épocas, mais dados ou os dois conseguimos melhoras\n",
    "num_epochs = 3   \n",
    "device = torch.device(\"cuda\" if torch.cuda.is_available() else \"cpu\")\n",
    "model.to(device)\n",
    "\n",
    "print(device)"
   ]
  },
  {
   "cell_type": "code",
   "execution_count": 39,
   "id": "4fdeed2d-e411-4887-87bb-474cb87bd598",
   "metadata": {},
   "outputs": [
    {
     "name": "stdout",
     "output_type": "stream",
     "text": [
      "Epoch 1/3\n",
      "Train loss: 0.4771, Validation loss: 0.2971\n",
      "Validation accuracy: 0.9000\n",
      "Epoch 2/3\n",
      "Train loss: 0.2226, Validation loss: 0.2840\n",
      "Validation accuracy: 0.8976\n",
      "Epoch 3/3\n",
      "Train loss: 0.1524, Validation loss: 0.2620\n",
      "Validation accuracy: 0.9071\n",
      "CPU times: user 39.4 s, sys: 18.8 s, total: 58.3 s\n",
      "Wall time: 59.1 s\n"
     ]
    }
   ],
   "source": [
    "%%time\n",
    "# Loop de ajuste fino\n",
    "for epoch in range(num_epochs):\n",
    "    model.train()\n",
    "    total_loss = 0\n",
    "\n",
    "    for batch in train_dataloader:\n",
    "        input_ids, attention_mask, labels = batch\n",
    "        input_ids, attention_mask, labels = input_ids.to(device), attention_mask.to(device), labels.to(device)\n",
    "\n",
    "        optimizer.zero_grad()\n",
    "\n",
    "        outputs = model(input_ids=input_ids, attention_mask=attention_mask, labels=labels)\n",
    "        loss = outputs.loss\n",
    "        total_loss += loss.item()\n",
    "\n",
    "        loss.backward()\n",
    "        optimizer.step()\n",
    "\n",
    "    avg_train_loss = total_loss / len(train_dataloader)\n",
    "\n",
    "    # Validação\n",
    "    model.eval()\n",
    "    val_accuracy = 0\n",
    "    val_loss = 0\n",
    "\n",
    "    with torch.no_grad():\n",
    "        for batch in val_dataloader:\n",
    "            input_ids, attention_mask, labels = batch\n",
    "            input_ids, attention_mask, labels = input_ids.to(device), attention_mask.to(device), labels.to(device)\n",
    "\n",
    "            outputs = model(input_ids=input_ids, attention_mask=attention_mask, labels=labels)\n",
    "            val_loss += outputs.loss.item()\n",
    "            logits = outputs.logits\n",
    "\n",
    "            _, preds = torch.max(logits, dim=1)\n",
    "            val_accuracy += torch.sum(preds == labels).item()\n",
    "\n",
    "    avg_val_loss = val_loss / len(val_dataloader)\n",
    "    avg_val_accuracy = val_accuracy / len(val_dataset)\n",
    "\n",
    "    print(f\"Epoch {epoch + 1}/{num_epochs}\")\n",
    "    print(f\"Train loss: {avg_train_loss:.4f}, Validation loss: {avg_val_loss:.4f}\")\n",
    "    print(f\"Validation accuracy: {avg_val_accuracy:.4f}\")"
   ]
  },
  {
   "cell_type": "code",
   "execution_count": 40,
   "id": "968efc42-d28d-40a8-bf37-b58b33205545",
   "metadata": {},
   "outputs": [
    {
     "data": {
      "text/plain": [
       "('./fine_tuned_model/tokenizer_config.json',\n",
       " './fine_tuned_model/special_tokens_map.json',\n",
       " './fine_tuned_model/vocab.txt',\n",
       " './fine_tuned_model/added_tokens.json')"
      ]
     },
     "execution_count": 40,
     "metadata": {},
     "output_type": "execute_result"
    }
   ],
   "source": [
    "# Salvando o modelo. No meu caso foi salvo no ambiente virtual\n",
    "output_dir = \"./fine_tuned_model\"\n",
    "model.save_pretrained(output_dir)\n",
    "tokenizer.save_pretrained(output_dir)"
   ]
  },
  {
   "cell_type": "markdown",
   "id": "84c75036-c2ec-4a55-bdc3-efe4c48e1c61",
   "metadata": {},
   "source": [
    "## Classificando com o modelo refinado"
   ]
  },
  {
   "cell_type": "code",
   "execution_count": null,
   "id": "17074b08-2805-4bd2-a16d-9099a08f6495",
   "metadata": {},
   "outputs": [],
   "source": [
    "# Diretório onde modelo foi salvo\n",
    "model_path = \"./fine_tuned_model\"\n",
    "\n",
    "# Carregando tokenizer e modelo\n",
    "tokenizer = BertTokenizer.from_pretrained(model_path)\n",
    "model = BertForSequenceClassification.from_pretrained(model_path)\n",
    "\n",
    "# Escolhendo o dispositivo adequado (CPU or GPU) caso haja mais que um disponível\n",
    "device = torch.device(\"cuda\" if torch.cuda.is_available() else \"cpu\")\n",
    "model.to(device)\n",
    "\n",
    "# Criando pipeline customizado de analise de sentimento\n",
    "# OBS: possível instanciar o modelo sem o tokenizer e device\n",
    "classifier = pipeline(\n",
    "    task=\"sentiment-analysis\",\n",
    "    model=model,\n",
    "    tokenizer=tokenizer,\n",
    "    device=torch.cuda.current_device()\n",
    ")"
   ]
  },
  {
   "cell_type": "code",
   "execution_count": null,
   "id": "5e4c67f4-a5b5-4f53-99d1-0583dae1a912",
   "metadata": {},
   "outputs": [],
   "source": [
    "# Armazenando resultados da classificação\n",
    "results = X_test.apply(lambda x: classifier(x))"
   ]
  },
  {
   "cell_type": "code",
   "execution_count": null,
   "id": "2bca8ae0-1bbe-4a19-a86c-05b8e091c357",
   "metadata": {},
   "outputs": [],
   "source": [
    "# Separando rotulo e score\n",
    "labels_pos_ajuste = [result[0]['label'] for result in results]\n",
    "scores_pos_ajuste = [result[0]['score'] for result in results]"
   ]
  },
  {
   "cell_type": "code",
   "execution_count": null,
   "id": "e04145cf-561d-4cff-81f6-8e976a7622da",
   "metadata": {},
   "outputs": [],
   "source": [
    "# Criando dataframe com tweets, classificação manual e do modelo pós ajuste fino\n",
    "df_pos_ajuste = pd.DataFrame({'tweets': X_test, 'classe_manual_bin': y_test, 'classe_ajuste_fino': labels_pos_ajuste})"
   ]
  },
  {
   "cell_type": "code",
   "execution_count": null,
   "id": "47d6756e-7f50-49be-b1b7-0fa2c0fbdc8e",
   "metadata": {},
   "outputs": [],
   "source": [
    "# Convertendo resultados binários e booleanos\n",
    "df_pos_ajuste['classe_manual'] = df_pos_ajuste['classe_manual_bin'].apply(lambda x: False if x == 0 else True)"
   ]
  },
  {
   "cell_type": "code",
   "execution_count": null,
   "id": "98cf1309-9b61-4d8a-b606-0406eac9191d",
   "metadata": {},
   "outputs": [],
   "source": [
    "# Verificando dataframe\n",
    "df_pos_ajuste"
   ]
  },
  {
   "cell_type": "code",
   "execution_count": null,
   "id": "f016af0b-3f68-44fe-ad67-5d94bfe7dbc4",
   "metadata": {},
   "outputs": [],
   "source": [
    "# Verificando performance do modelo pré-treinado pós ajuste fino \n",
    "acuracia_pos_ajuste = accuracy_score(df_pos_ajuste['classe_manual'], df_pos_ajuste['classe_ajuste_fino'])\n",
    "precision_pos_ajuste = precision_score(df_pos_ajuste['classe_manual'], df_pos_ajuste['classe_ajuste_fino'])\n",
    "recall_pos_ajuste = recall_score(df_pos_ajuste['classe_manual'], df_pos_ajuste['classe_ajuste_fino'])\n",
    "f1_pos_ajuste = f1_score(df_pos_ajuste['classe_manual'], df_pos_ajuste['classe_ajuste_fino'])"
   ]
  },
  {
   "cell_type": "code",
   "execution_count": null,
   "id": "7bccbecf-97a7-441b-a953-7570c6959c8e",
   "metadata": {},
   "outputs": [],
   "source": [
    "# Criando dataframe comparativo entre modelos\n",
    "modelos_dic = {\n",
    "    'Modelo Pré Ajuste Fino': {\n",
    "        \"Acurácia\": acuracia_pre_ajuste.round(3),\n",
    "        \"Precision\": precision_pre_ajuste.round(3),\n",
    "        \"Recall\": recall_pre_ajuste.round(3),\n",
    "        \"F1 Score\": f1_pre_ajuste.round(3) \n",
    "    },\n",
    "    'Modelo Pós Ajuste Fino': {\n",
    "        \"Acurácia\": acuracia_pos_ajuste.round(3),\n",
    "        \"Precision\": precision_pos_ajuste.round(3),\n",
    "        \"Recall\": recall_pos_ajuste.round(3),\n",
    "        \"F1 Score\": f1_pos_ajuste.round(3)\n",
    "    }\n",
    "}\n",
    "\n",
    "df_modelos = pd.DataFrame(modelos_dic)\n",
    "df_modelos"
   ]
  },
  {
   "cell_type": "code",
   "execution_count": null,
   "id": "ea26aada-c489-49d6-8182-741a28810385",
   "metadata": {},
   "outputs": [],
   "source": [
    "# criando dataframe para gráfico\n",
    "df_graficos_modelos = df_modelos.T.reset_index()\n",
    "df_graficos_modelos['Acurácia'] = df_graficos_modelos['Acurácia']*100\n",
    "df_graficos_modelos['Precision'] = df_graficos_modelos['Precision']*100\n",
    "df_graficos_modelos['Recall'] = df_graficos_modelos['Recall']*100\n",
    "df_graficos_modelos['F1 Score'] = df_graficos_modelos['F1 Score']*100\n",
    "df_graficos_modelos.rename(columns = {'index': 'Modelos'}, inplace=True)"
   ]
  },
  {
   "cell_type": "code",
   "execution_count": null,
   "id": "69d09ae3-d18a-4624-a7ec-92ea5657c925",
   "metadata": {},
   "outputs": [],
   "source": [
    "plt.figure(figsize = (6,4))\n",
    "ax = sns.barplot(df_graficos_modelos, x = 'Modelos', y = 'Acurácia', color = 'steelblue')\n",
    "ax.set_title('Acurácia', fontsize=20, x=0.003, y=1.2, color=\"#696969\")  # dimgrey\n",
    "ax.spines['bottom'].set_color('#696969')  \n",
    "ax.spines['left'].set_color('#696969')  \n",
    "ax.tick_params(axis='x', colors='#696969')  \n",
    "ax.tick_params(axis='y', colors='#696969')\n",
    "ax.patches[0].set_facecolor('indianred')\n",
    "ax.set_ylim(0, 100)\n",
    "ax.set_ylabel(\"\")\n",
    "ax.set_xlabel(\"\")\n",
    "\n",
    "aumento_acc = 8.07\n",
    "\n",
    "subtitle_text = rf\"${{Aumento\\ de}}$ \" + \\\n",
    "               fr\"${{\\bf{aumento_acc}\\%}}$ \" + \\\n",
    "               r\"${{em\\ acurácia}}$\"\n",
    "\n",
    "ax.text(0.135, 1.12, subtitle_text, transform=ax.transAxes, fontsize=10, ha='center', color='#696969')\n",
    "\n",
    "ax.yaxis.set_major_formatter(mticker.PercentFormatter(decimals=0))"
   ]
  },
  {
   "cell_type": "code",
   "execution_count": null,
   "id": "a0b04c42-a9b3-4c95-90c1-f8d91965d5bf",
   "metadata": {},
   "outputs": [],
   "source": [
    "plt.figure(figsize = (6,4))\n",
    "ax = sns.barplot(df_graficos_modelos, x = 'Modelos', y = 'Precision', color = 'steelblue')\n",
    "ax.set_title('Precision', fontsize=20, x=0.015, y=1.2, color=\"#696969\")  # dimgrey\n",
    "ax.spines['bottom'].set_color('#696969')  \n",
    "ax.spines['left'].set_color('#696969')  \n",
    "ax.tick_params(axis='x', colors='#696969')  \n",
    "ax.tick_params(axis='y', colors='#696969')\n",
    "ax.patches[0].set_facecolor('indianred')\n",
    "ax.set_ylim(0, 100)\n",
    "ax.set_ylabel(\"\")\n",
    "ax.set_xlabel(\"\")\n",
    "\n",
    "aumento_pc = 56.87\n",
    "\n",
    "subtitle_text = rf\"${{Aumento\\ de}}$ \" + \\\n",
    "               fr\"${{\\bf{aumento_pc}\\%}}$ \" + \\\n",
    "               r\"${{em\\ precision}}$\"\n",
    "\n",
    "ax.text(0.153, 1.12, subtitle_text, transform=ax.transAxes, fontsize=10, ha='center', color='#696969')\n",
    "\n",
    "ax.yaxis.set_major_formatter(mticker.PercentFormatter(decimals=0))"
   ]
  },
  {
   "cell_type": "code",
   "execution_count": null,
   "id": "d7f1233f-eb33-409a-be51-3f4b4a3285d1",
   "metadata": {},
   "outputs": [],
   "source": [
    "plt.figure(figsize = (6,4))\n",
    "ax = sns.barplot(df_graficos_modelos, x = 'Modelos', y = 'Recall', color = 'indianred')\n",
    "ax.set_title('Recall', fontsize=20, x=-0.025, y=1.2, color=\"#696969\")  # dimgrey\n",
    "ax.spines['bottom'].set_color('#696969')  \n",
    "ax.spines['left'].set_color('#696969')  \n",
    "ax.tick_params(axis='x', colors='#696969')  \n",
    "ax.tick_params(axis='y', colors='#696969')\n",
    "ax.patches[0].set_facecolor('steelblue')\n",
    "ax.set_ylim(0, 100)\n",
    "ax.set_ylabel(\"\")\n",
    "ax.set_xlabel(\"\")\n",
    "\n",
    "aumento_pc = 17.37 \n",
    "\n",
    "subtitle_text = rf\"${{Diminuição\\ de}}$ \" + \\\n",
    "               fr\"${{\\bf{aumento_pc}\\%}}$ \" + \\\n",
    "               r\"${{em\\ recall}}$\"\n",
    "\n",
    "ax.text(0.142, 1.12, subtitle_text, transform=ax.transAxes, fontsize=10, ha='center', color='#696969')\n",
    "\n",
    "ax.yaxis.set_major_formatter(mticker.PercentFormatter(decimals=0))"
   ]
  },
  {
   "cell_type": "code",
   "execution_count": null,
   "id": "35d722d8-4665-475a-9d09-e0c535862a5a",
   "metadata": {},
   "outputs": [],
   "source": [
    "plt.figure(figsize = (6,4))\n",
    "ax = sns.barplot(df_graficos_modelos, x = 'Modelos', y = 'F1 Score', color = 'steelblue')\n",
    "ax.set_title('F1 Score', fontsize=20, x=0.013, y=1.2, color=\"#696969\")  # dimgrey\n",
    "ax.spines['bottom'].set_color('#696969')  \n",
    "ax.spines['left'].set_color('#696969')  \n",
    "ax.tick_params(axis='x', colors='#696969')  \n",
    "ax.tick_params(axis='y', colors='#696969')\n",
    "ax.patches[0].set_facecolor('indianred')\n",
    "ax.set_ylim(0, 100)\n",
    "ax.set_ylabel(\"\")\n",
    "ax.set_xlabel(\"\")\n",
    "\n",
    "aumento_acc = 16.97\n",
    "\n",
    "subtitle_text = rf\"${{Aumento\\ de}}$ \" + \\\n",
    "               fr\"${{\\bf{aumento_acc}\\%}}$ \" + \\\n",
    "               r\"${{em\\ F1 Score}}$\"\n",
    "\n",
    "ax.text(0.145, 1.12, subtitle_text, transform=ax.transAxes, fontsize=10, ha='center', color='#696969')\n",
    "\n",
    "ax.yaxis.set_major_formatter(mticker.PercentFormatter(decimals=0))"
   ]
  },
  {
   "cell_type": "code",
   "execution_count": null,
   "id": "3cb66858-a6fe-46aa-98fd-4f511d7cf1df",
   "metadata": {},
   "outputs": [],
   "source": []
  },
  {
   "cell_type": "code",
   "execution_count": null,
   "id": "7e1ea3c0-75cf-44c1-bc61-92765912e9d0",
   "metadata": {},
   "outputs": [],
   "source": []
  }
 ],
 "metadata": {
  "kernelspec": {
   "display_name": "Python 3 (ipykernel)",
   "language": "python",
   "name": "python3"
  },
  "language_info": {
   "codemirror_mode": {
    "name": "ipython",
    "version": 3
   },
   "file_extension": ".py",
   "mimetype": "text/x-python",
   "name": "python",
   "nbconvert_exporter": "python",
   "pygments_lexer": "ipython3",
   "version": "3.8.13"
  }
 },
 "nbformat": 4,
 "nbformat_minor": 5
}
