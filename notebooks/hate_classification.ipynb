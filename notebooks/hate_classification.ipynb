{
 "cells": [
  {
   "cell_type": "code",
   "execution_count": 1,
   "metadata": {
    "tags": []
   },
   "outputs": [
    {
     "name": "stdout",
     "output_type": "stream",
     "text": [
      "Device: cuda\n"
     ]
    }
   ],
   "source": [
    "import numpy as np\n",
    "import pandas as pd\n",
    "import torch\n",
    "from tqdm import tqdm\n",
    "from transformers import AutoModelForSequenceClassification, AutoTokenizer, AutoConfig\n",
    "from scipy.special import softmax\n",
    "\n",
    "pd.options.display.max_colwidth = 300\n",
    "\n",
    "device = torch.device(\"cuda\" if torch.cuda.is_available() else \"cpu\")\n",
    "print(\"Device:\", device)\n",
    "\n",
    "model_name = \"ruanchaves/bert-large-portuguese-cased-hatebr\"\n"
   ]
  },
  {
   "cell_type": "code",
   "execution_count": 2,
   "metadata": {
    "tags": []
   },
   "outputs": [
    {
     "name": "stdout",
     "output_type": "stream",
     "text": [
      "(22505, 49) (20505, 49)\n"
     ]
    },
    {
     "name": "stderr",
     "output_type": "stream",
     "text": [
      "/tmp/ipykernel_1418/436036307.py:2: DtypeWarning: Columns (25) have mixed types. Specify dtype option on import or set low_memory=False.\n",
      "  raw_df = pd.read_csv(file_path, on_bad_lines=\"skip\", sep=\";\", encoding=\"utf-8\")\n"
     ]
    }
   ],
   "source": [
    "file_path = \"../data/raw/ErikakHilton-tweets.csv\"\n",
    "raw_df = pd.read_csv(file_path, on_bad_lines=\"skip\", sep=\";\", encoding=\"utf-8\")\n",
    "\n",
    "duplicated_indexes = raw_df[raw_df.duplicated()].index\n",
    "df = raw_df.drop(duplicated_indexes)\n",
    "\n",
    "print(raw_df.shape, df.shape)\n"
   ]
  },
  {
   "cell_type": "code",
   "execution_count": 3,
   "metadata": {
    "tags": []
   },
   "outputs": [],
   "source": [
    "tokenizer = AutoTokenizer.from_pretrained(model_name)\n",
    "config = AutoConfig.from_pretrained(model_name)\n",
    "\n",
    "\n",
    "# Classification head function\n",
    "def get_class(logit):\n",
    "    scores = softmax(logit)\n",
    "    label = config.id2label[np.argmax(scores)]\n",
    "    # print(f\"get_class(): {logit=}, {scores=}, {label=}\")\n",
    "    return label\n"
   ]
  },
  {
   "cell_type": "code",
   "execution_count": 4,
   "metadata": {},
   "outputs": [],
   "source": [
    "def process_batch_gpu(batch):\n",
    "    model_input = tokenizer(\n",
    "        *(list(batch[\"rawContent\"]),), padding=True, return_tensors=\"pt\"\n",
    "    ).to(device)\n",
    "\n",
    "    with torch.no_grad():\n",
    "        outputs = model(**model_input)\n",
    "        logits = outputs.logits.detach().cpu().numpy()\n",
    "    return logits\n",
    "\n",
    "\n",
    "def process_batch_cpu(batch):\n",
    "    model_input = tokenizer(\n",
    "        *(list(batch[\"rawContent\"]),), padding=True, return_tensors=\"pt\"\n",
    "    )\n",
    "\n",
    "    with torch.no_grad():\n",
    "        outputs = model(**model_input)\n",
    "        logits = outputs.logits.detach().numpy()\n",
    "    return logits\n"
   ]
  },
  {
   "cell_type": "code",
   "execution_count": 5,
   "metadata": {},
   "outputs": [
    {
     "name": "stdout",
     "output_type": "stream",
     "text": [
      "CPU times: user 3.35 s, sys: 2.14 s, total: 5.5 s\n",
      "Wall time: 5.93 s\n"
     ]
    }
   ],
   "source": [
    "if device.type == \"cuda\":  # GPU\n",
    "    model = AutoModelForSequenceClassification.from_pretrained(model_name).to(device)\n",
    "    process_batch = process_batch_gpu\n",
    "\n",
    "else:  # CPU\n",
    "    model = AutoModelForSequenceClassification.from_pretrained(model_name)\n",
    "    process_batch = process_batch_cpu\n"
   ]
  },
  {
   "cell_type": "code",
   "execution_count": 6,
   "metadata": {},
   "outputs": [],
   "source": [
    "BATCH_SIZE = 50\n",
    "logits_list = []\n",
    "\n",
    "# for i in tqdm(range(0, len(df), BATCH_SIZE)):\n",
    "for i in range(0, len(df), BATCH_SIZE):\n",
    "    if i + BATCH_SIZE < len(df):\n",
    "        batch = df.iloc[i : i + BATCH_SIZE].copy()\n",
    "    else:\n",
    "        batch = df.iloc[i : len(df)].copy()\n",
    "\n",
    "    logits = process_batch(batch)\n",
    "    logits_list.append(logits)\n"
   ]
  },
  {
   "cell_type": "code",
   "execution_count": 8,
   "metadata": {},
   "outputs": [
    {
     "name": "stdout",
     "output_type": "stream",
     "text": [
      "CPU times: user 370 ms, sys: 30.1 ms, total: 400 ms\n",
      "Wall time: 396 ms\n"
     ]
    },
    {
     "data": {
      "text/plain": [
       "(20505, 50)"
      ]
     },
     "execution_count": 8,
     "metadata": {},
     "output_type": "execute_result"
    }
   ],
   "source": [
    "logits = np.concatenate(logits_list)\n",
    "logits.shape\n",
    "\n",
    "classes = []\n",
    "for logit in logits:\n",
    "    classes.append(get_class(logit))\n",
    "\n",
    "df[\"BertL-offense\"] = classes\n",
    "df.shape\n"
   ]
  },
  {
   "attachments": {},
   "cell_type": "markdown",
   "metadata": {},
   "source": [
    "### Checking results"
   ]
  },
  {
   "cell_type": "code",
   "execution_count": 13,
   "metadata": {},
   "outputs": [
    {
     "name": "stdout",
     "output_type": "stream",
     "text": [
      "(4482, 50)\n"
     ]
    },
    {
     "data": {
      "text/html": [
       "<div>\n",
       "<style scoped>\n",
       "    .dataframe tbody tr th:only-of-type {\n",
       "        vertical-align: middle;\n",
       "    }\n",
       "\n",
       "    .dataframe tbody tr th {\n",
       "        vertical-align: top;\n",
       "    }\n",
       "\n",
       "    .dataframe thead th {\n",
       "        text-align: right;\n",
       "    }\n",
       "</style>\n",
       "<table border=\"1\" class=\"dataframe\">\n",
       "  <thead>\n",
       "    <tr style=\"text-align: right;\">\n",
       "      <th></th>\n",
       "      <th>url</th>\n",
       "      <th>date</th>\n",
       "      <th>rawContent</th>\n",
       "      <th>renderedContent</th>\n",
       "      <th>id</th>\n",
       "      <th>user</th>\n",
       "      <th>replyCount</th>\n",
       "      <th>retweetCount</th>\n",
       "      <th>likeCount</th>\n",
       "      <th>quoteCount</th>\n",
       "      <th>...</th>\n",
       "      <th>user_favouritesCount</th>\n",
       "      <th>user_listedCount</th>\n",
       "      <th>user_mediaCount</th>\n",
       "      <th>user_location</th>\n",
       "      <th>user_protected</th>\n",
       "      <th>user_link</th>\n",
       "      <th>user_profileImageUrl</th>\n",
       "      <th>user_profileBannerUrl</th>\n",
       "      <th>user_label</th>\n",
       "      <th>BertL-offense</th>\n",
       "    </tr>\n",
       "  </thead>\n",
       "  <tbody>\n",
       "    <tr>\n",
       "      <th>17</th>\n",
       "      <td>https://twitter.com/jorgeg_89/status/1587218453924122625</td>\n",
       "      <td>2022-10-31 23:02:23+00:00</td>\n",
       "      <td>@ErikakHilton É de uma vergonha sem tamanho... PRF tá praticamente apoiando esse circo do mi-mi-mi. https://t.co/zmaUHAOW2J</td>\n",
       "      <td>@ErikakHilton É de uma vergonha sem tamanho... PRF tá praticamente apoiando esse circo do mi-mi-mi. https://t.co/zmaUHAOW2J</td>\n",
       "      <td>1587218453924122625</td>\n",
       "      <td>https://twitter.com/jorgeg_89</td>\n",
       "      <td>1</td>\n",
       "      <td>0</td>\n",
       "      <td>10</td>\n",
       "      <td>0</td>\n",
       "      <td>...</td>\n",
       "      <td>4332</td>\n",
       "      <td>0</td>\n",
       "      <td>89</td>\n",
       "      <td>Santa Catarina</td>\n",
       "      <td>False</td>\n",
       "      <td>NaN</td>\n",
       "      <td>https://pbs.twimg.com/profile_images/1597375984109584384/SMHOUF1b_normal.jpg</td>\n",
       "      <td>https://pbs.twimg.com/profile_banners/1246716975918788609/1666725131</td>\n",
       "      <td>NaN</td>\n",
       "      <td>True</td>\n",
       "    </tr>\n",
       "    <tr>\n",
       "      <th>18</th>\n",
       "      <td>https://twitter.com/betomach/status/1587218933056258049</td>\n",
       "      <td>2022-10-31 23:04:17+00:00</td>\n",
       "      <td>@ErikakHilton Pior de tudo é q eles não estão fazendo nada, estão encostados do lado dos caminhominios</td>\n",
       "      <td>@ErikakHilton Pior de tudo é q eles não estão fazendo nada, estão encostados do lado dos caminhominios</td>\n",
       "      <td>1587218933056258049</td>\n",
       "      <td>https://twitter.com/betomach</td>\n",
       "      <td>1</td>\n",
       "      <td>0</td>\n",
       "      <td>3</td>\n",
       "      <td>0</td>\n",
       "      <td>...</td>\n",
       "      <td>23027</td>\n",
       "      <td>0</td>\n",
       "      <td>138</td>\n",
       "      <td>sp</td>\n",
       "      <td>False</td>\n",
       "      <td>NaN</td>\n",
       "      <td>https://pbs.twimg.com/profile_images/1533453602471104512/lCVyXw2w_normal.png</td>\n",
       "      <td>https://pbs.twimg.com/profile_banners/56263519/1653266803</td>\n",
       "      <td>NaN</td>\n",
       "      <td>True</td>\n",
       "    </tr>\n",
       "    <tr>\n",
       "      <th>25</th>\n",
       "      <td>https://twitter.com/Dakota301022/status/1587220763832098819</td>\n",
       "      <td>2022-10-31 23:11:33+00:00</td>\n",
       "      <td>@ErikakHilton Acho q o aparelhado não se interessa em transparência</td>\n",
       "      <td>@ErikakHilton Acho q o aparelhado não se interessa em transparência</td>\n",
       "      <td>1587220763832098819</td>\n",
       "      <td>https://twitter.com/Dakota301022</td>\n",
       "      <td>0</td>\n",
       "      <td>0</td>\n",
       "      <td>1</td>\n",
       "      <td>0</td>\n",
       "      <td>...</td>\n",
       "      <td>694</td>\n",
       "      <td>0</td>\n",
       "      <td>51</td>\n",
       "      <td>São Paulo, Brasil</td>\n",
       "      <td>False</td>\n",
       "      <td>NaN</td>\n",
       "      <td>https://pbs.twimg.com/profile_images/1578011297316491266/hK6jHxqW_normal.jpg</td>\n",
       "      <td>https://pbs.twimg.com/profile_banners/1578010935616217089/1665062756</td>\n",
       "      <td>NaN</td>\n",
       "      <td>True</td>\n",
       "    </tr>\n",
       "    <tr>\n",
       "      <th>29</th>\n",
       "      <td>https://twitter.com/LucianaMignoni/status/1587223004248956928</td>\n",
       "      <td>2022-10-31 23:20:28+00:00</td>\n",
       "      <td>@ErikakHilton Criancinhas birrentas kkk</td>\n",
       "      <td>@ErikakHilton Criancinhas birrentas kkk</td>\n",
       "      <td>1587223004248956928</td>\n",
       "      <td>https://twitter.com/LucianaMignoni</td>\n",
       "      <td>0</td>\n",
       "      <td>0</td>\n",
       "      <td>2</td>\n",
       "      <td>0</td>\n",
       "      <td>...</td>\n",
       "      <td>35786</td>\n",
       "      <td>0</td>\n",
       "      <td>835</td>\n",
       "      <td>Sao Paulo, Brazil</td>\n",
       "      <td>False</td>\n",
       "      <td>NaN</td>\n",
       "      <td>https://pbs.twimg.com/profile_images/1624566447325294594/jlVAqN93_normal.jpg</td>\n",
       "      <td>https://pbs.twimg.com/profile_banners/777954046753857536/1636937459</td>\n",
       "      <td>NaN</td>\n",
       "      <td>True</td>\n",
       "    </tr>\n",
       "    <tr>\n",
       "      <th>32</th>\n",
       "      <td>https://twitter.com/NunesN21668663/status/1587223840018649090</td>\n",
       "      <td>2022-10-31 23:23:47+00:00</td>\n",
       "      <td>@ErikakHilton @Beleza1965Pura #PRFvergonhanacional 👈</td>\n",
       "      <td>@ErikakHilton @Beleza1965Pura #PRFvergonhanacional 👈</td>\n",
       "      <td>1587223840018649090</td>\n",
       "      <td>https://twitter.com/NunesN21668663</td>\n",
       "      <td>0</td>\n",
       "      <td>0</td>\n",
       "      <td>0</td>\n",
       "      <td>0</td>\n",
       "      <td>...</td>\n",
       "      <td>187482</td>\n",
       "      <td>1</td>\n",
       "      <td>60</td>\n",
       "      <td>NaN</td>\n",
       "      <td>False</td>\n",
       "      <td>NaN</td>\n",
       "      <td>https://pbs.twimg.com/profile_images/1601398382186094596/bE1EqVfa_normal.jpg</td>\n",
       "      <td>https://pbs.twimg.com/profile_banners/1423072401496158212/1670634257</td>\n",
       "      <td>NaN</td>\n",
       "      <td>True</td>\n",
       "    </tr>\n",
       "  </tbody>\n",
       "</table>\n",
       "<p>5 rows × 50 columns</p>\n",
       "</div>"
      ],
      "text/plain": [
       "                                                              url  \\\n",
       "17       https://twitter.com/jorgeg_89/status/1587218453924122625   \n",
       "18        https://twitter.com/betomach/status/1587218933056258049   \n",
       "25    https://twitter.com/Dakota301022/status/1587220763832098819   \n",
       "29  https://twitter.com/LucianaMignoni/status/1587223004248956928   \n",
       "32  https://twitter.com/NunesN21668663/status/1587223840018649090   \n",
       "\n",
       "                         date  \\\n",
       "17  2022-10-31 23:02:23+00:00   \n",
       "18  2022-10-31 23:04:17+00:00   \n",
       "25  2022-10-31 23:11:33+00:00   \n",
       "29  2022-10-31 23:20:28+00:00   \n",
       "32  2022-10-31 23:23:47+00:00   \n",
       "\n",
       "                                                                                                                     rawContent  \\\n",
       "17  @ErikakHilton É de uma vergonha sem tamanho... PRF tá praticamente apoiando esse circo do mi-mi-mi. https://t.co/zmaUHAOW2J   \n",
       "18                       @ErikakHilton Pior de tudo é q eles não estão fazendo nada, estão encostados do lado dos caminhominios   \n",
       "25                                                          @ErikakHilton Acho q o aparelhado não se interessa em transparência   \n",
       "29                                                                                      @ErikakHilton Criancinhas birrentas kkk   \n",
       "32                                                                         @ErikakHilton @Beleza1965Pura #PRFvergonhanacional 👈   \n",
       "\n",
       "                                                                                                                renderedContent  \\\n",
       "17  @ErikakHilton É de uma vergonha sem tamanho... PRF tá praticamente apoiando esse circo do mi-mi-mi. https://t.co/zmaUHAOW2J   \n",
       "18                       @ErikakHilton Pior de tudo é q eles não estão fazendo nada, estão encostados do lado dos caminhominios   \n",
       "25                                                          @ErikakHilton Acho q o aparelhado não se interessa em transparência   \n",
       "29                                                                                      @ErikakHilton Criancinhas birrentas kkk   \n",
       "32                                                                         @ErikakHilton @Beleza1965Pura #PRFvergonhanacional 👈   \n",
       "\n",
       "                     id                                user  replyCount  \\\n",
       "17  1587218453924122625       https://twitter.com/jorgeg_89           1   \n",
       "18  1587218933056258049        https://twitter.com/betomach           1   \n",
       "25  1587220763832098819    https://twitter.com/Dakota301022           0   \n",
       "29  1587223004248956928  https://twitter.com/LucianaMignoni           0   \n",
       "32  1587223840018649090  https://twitter.com/NunesN21668663           0   \n",
       "\n",
       "    retweetCount  likeCount  quoteCount  ...  user_favouritesCount  \\\n",
       "17             0         10           0  ...                  4332   \n",
       "18             0          3           0  ...                 23027   \n",
       "25             0          1           0  ...                   694   \n",
       "29             0          2           0  ...                 35786   \n",
       "32             0          0           0  ...                187482   \n",
       "\n",
       "   user_listedCount  user_mediaCount      user_location  user_protected  \\\n",
       "17                0               89     Santa Catarina           False   \n",
       "18                0              138                 sp           False   \n",
       "25                0               51  São Paulo, Brasil           False   \n",
       "29                0              835  Sao Paulo, Brazil           False   \n",
       "32                1               60                NaN           False   \n",
       "\n",
       "   user_link  \\\n",
       "17       NaN   \n",
       "18       NaN   \n",
       "25       NaN   \n",
       "29       NaN   \n",
       "32       NaN   \n",
       "\n",
       "                                                            user_profileImageUrl  \\\n",
       "17  https://pbs.twimg.com/profile_images/1597375984109584384/SMHOUF1b_normal.jpg   \n",
       "18  https://pbs.twimg.com/profile_images/1533453602471104512/lCVyXw2w_normal.png   \n",
       "25  https://pbs.twimg.com/profile_images/1578011297316491266/hK6jHxqW_normal.jpg   \n",
       "29  https://pbs.twimg.com/profile_images/1624566447325294594/jlVAqN93_normal.jpg   \n",
       "32  https://pbs.twimg.com/profile_images/1601398382186094596/bE1EqVfa_normal.jpg   \n",
       "\n",
       "                                                   user_profileBannerUrl  \\\n",
       "17  https://pbs.twimg.com/profile_banners/1246716975918788609/1666725131   \n",
       "18             https://pbs.twimg.com/profile_banners/56263519/1653266803   \n",
       "25  https://pbs.twimg.com/profile_banners/1578010935616217089/1665062756   \n",
       "29   https://pbs.twimg.com/profile_banners/777954046753857536/1636937459   \n",
       "32  https://pbs.twimg.com/profile_banners/1423072401496158212/1670634257   \n",
       "\n",
       "   user_label  BertL-offense  \n",
       "17        NaN           True  \n",
       "18        NaN           True  \n",
       "25        NaN           True  \n",
       "29        NaN           True  \n",
       "32        NaN           True  \n",
       "\n",
       "[5 rows x 50 columns]"
      ]
     },
     "execution_count": 13,
     "metadata": {},
     "output_type": "execute_result"
    }
   ],
   "source": [
    "offensive_df = df[df[\"BertL-offense\"] == True]\n",
    "print(offensive_df.shape)\n",
    "offensive_df.head()\n"
   ]
  },
  {
   "cell_type": "code",
   "execution_count": 14,
   "metadata": {},
   "outputs": [
    {
     "data": {
      "text/plain": [
       "array(['@ErikakHilton É de uma vergonha sem tamanho... PRF tá praticamente apoiando esse circo do mi-mi-mi. https://t.co/zmaUHAOW2J',\n",
       "       '@ErikakHilton Pior de tudo é q eles não estão fazendo nada, estão encostados do lado dos caminhominios',\n",
       "       '@ErikakHilton Acho q o aparelhado não se interessa em transparência',\n",
       "       ...,\n",
       "       '@Filthiness @LulaOficial @Haddad_Fernando @marciofrancasp @Cortez50005 💜💜💜💜',\n",
       "       '@marconythe1 @pedrorhuas \\U0001faf6🏾\\U0001faf6🏾',\n",
       "       '#ovotoésecreto eu:\\n- deputada estadual: @neon_cunha 50700;\\n- deputada federal: @ErikakHilton 5070;\\n- senador: @marciofrancasp 400;\\n- governador: @Haddad_Fernando 13;\\n- Presidente: @LulaOficial 13;\\nPela democracia #LulaNo1ºTurno ! ☆☆☆☆☆☆☆☆☆☆☆☆☆☆'],\n",
       "      dtype=object)"
      ]
     },
     "execution_count": 14,
     "metadata": {},
     "output_type": "execute_result"
    }
   ],
   "source": [
    "offensive_df[\"rawContent\"].values\n"
   ]
  },
  {
   "cell_type": "code",
   "execution_count": 15,
   "metadata": {},
   "outputs": [],
   "source": [
    "output_path = \"../data/processed/\"\n",
    "output_file = f\"erika_bert-large-portuguese-cased-hatebr_output.csv\"\n",
    "\n",
    "# Para salvar os dados, descomente as linhas abaixo\n",
    "# df.to_csv(f\"{output_path}{output_file}\", sep=\";\", encoding=\"utf-8\", index=False)\n"
   ]
  }
 ],
 "metadata": {
  "kernelspec": {
   "display_name": "Python 3 (ipykernel)",
   "language": "python",
   "name": "python3"
  },
  "language_info": {
   "codemirror_mode": {
    "name": "ipython",
    "version": 3
   },
   "file_extension": ".py",
   "mimetype": "text/x-python",
   "name": "python",
   "nbconvert_exporter": "python",
   "pygments_lexer": "ipython3",
   "version": "3.8.13"
  }
 },
 "nbformat": 4,
 "nbformat_minor": 4
}
