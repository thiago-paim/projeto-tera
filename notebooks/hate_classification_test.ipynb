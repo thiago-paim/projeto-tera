{
 "cells": [
  {
   "cell_type": "code",
   "execution_count": 1,
   "metadata": {},
   "outputs": [],
   "source": [
    "# Full classification example from: https://huggingface.co/ruanchaves/bert-large-portuguese-cased-hatebr\n",
    "\n",
    "\n",
    "# from transformers import AutoModelForSequenceClassification, AutoTokenizer, AutoConfig\n",
    "# import numpy as np\n",
    "# import torch\n",
    "# from scipy.special import softmax\n",
    "\n",
    "# model_name = \"ruanchaves/bert-large-portuguese-cased-hatebr\"\n",
    "# s1 = \"Quem não deve não teme!!\"\n",
    "# model = AutoModelForSequenceClassification.from_pretrained(model_name)\n",
    "# tokenizer = AutoTokenizer.from_pretrained(model_name)\n",
    "# config = AutoConfig.from_pretrained(model_name)\n",
    "# model_input = tokenizer(*([s1],), padding=True, return_tensors=\"pt\")\n",
    "# with torch.no_grad():\n",
    "#     output = model(**model_input)\n",
    "#     scores = output[0][0].detach().numpy()\n",
    "#     scores = softmax(scores)\n",
    "#     ranking = np.argsort(scores)\n",
    "#     ranking = ranking[::-1]\n",
    "#     for i in range(scores.shape[0]):\n",
    "#         l = config.id2label[ranking[i]]\n",
    "#         s = scores[ranking[i]]\n",
    "#         print(f\"{i+1}) Label: {l} Score: {np.round(float(s), 4)}\")\n"
   ]
  },
  {
   "cell_type": "code",
   "execution_count": 2,
   "metadata": {
    "tags": []
   },
   "outputs": [],
   "source": [
    "import numpy as np\n",
    "import pandas as pd\n",
    "import torch\n",
    "from tqdm import tqdm\n",
    "from transformers import AutoModelForSequenceClassification, AutoTokenizer, AutoConfig\n",
    "from scipy.special import softmax\n"
   ]
  },
  {
   "cell_type": "code",
   "execution_count": 3,
   "metadata": {
    "tags": []
   },
   "outputs": [],
   "source": [
    "model_name = \"ruanchaves/bert-large-portuguese-cased-hatebr\"\n",
    "\n",
    "config = AutoConfig.from_pretrained(model_name)\n",
    "tokenizer = AutoTokenizer.from_pretrained(model_name)\n",
    "\n",
    "def get_class(logit):\n",
    "    scores = softmax(logit)\n",
    "    label = config.id2label[np.argmax(scores)]\n",
    "    return label\n"
   ]
  },
  {
   "cell_type": "code",
   "execution_count": 4,
   "metadata": {
    "tags": []
   },
   "outputs": [
    {
     "name": "stdout",
     "output_type": "stream",
     "text": [
      "(22505, 49) (20505, 49)\n"
     ]
    },
    {
     "name": "stderr",
     "output_type": "stream",
     "text": [
      "/tmp/ipykernel_6760/2068788951.py:2: DtypeWarning: Columns (25) have mixed types. Specify dtype option on import or set low_memory=False.\n",
      "  raw_df = pd.read_csv(file_path, on_bad_lines=\"skip\", sep=\";\", encoding=\"utf-8\")\n"
     ]
    }
   ],
   "source": [
    "file_path = \"../data/raw/ErikakHilton-tweets.csv\"\n",
    "raw_df = pd.read_csv(file_path, on_bad_lines=\"skip\", sep=\";\", encoding=\"utf-8\")\n",
    "\n",
    "duplicated_indexes = raw_df[raw_df.duplicated()].index\n",
    "df = raw_df.drop(duplicated_indexes)\n",
    "\n",
    "print(raw_df.shape, df.shape)"
   ]
  },
  {
   "cell_type": "code",
   "execution_count": 5,
   "metadata": {
    "tags": []
   },
   "outputs": [
    {
     "data": {
      "text/plain": [
       "(50, 49)"
      ]
     },
     "execution_count": 5,
     "metadata": {},
     "output_type": "execute_result"
    }
   ],
   "source": [
    "sample_df = df[:50]\n",
    "sample_df.shape"
   ]
  },
  {
   "cell_type": "code",
   "execution_count": 6,
   "metadata": {},
   "outputs": [
    {
     "name": "stdout",
     "output_type": "stream",
     "text": [
      "Device: cuda\n"
     ]
    }
   ],
   "source": [
    "device = torch.device(\"cuda\" if torch.cuda.is_available() else \"cpu\")\n",
    "print(\"Device:\", device)"
   ]
  },
  {
   "cell_type": "markdown",
   "metadata": {},
   "source": [
    "### Testing with CPU"
   ]
  },
  {
   "cell_type": "code",
   "execution_count": 7,
   "metadata": {},
   "outputs": [],
   "source": [
    "cpu_model = AutoModelForSequenceClassification.from_pretrained(model_name)"
   ]
  },
  {
   "cell_type": "code",
   "execution_count": 8,
   "metadata": {
    "tags": []
   },
   "outputs": [
    {
     "name": "stdout",
     "output_type": "stream",
     "text": [
      "6.74 s ± 44.5 ms per loop (mean ± std. dev. of 7 runs, 10 loops each)\n"
     ]
    }
   ],
   "source": [
    "%%timeit -n 10\n",
    "model_input = tokenizer(\n",
    "    *(list(sample_df[\"rawContent\"]),), padding=True, return_tensors=\"pt\"\n",
    ")\n",
    "\n",
    "with torch.no_grad():\n",
    "    outputs = cpu_model(**model_input)\n",
    "    logits = outputs.logits.detach().numpy()"
   ]
  },
  {
   "cell_type": "code",
   "execution_count": 13,
   "metadata": {},
   "outputs": [
    {
     "ename": "NameError",
     "evalue": "name 'logits' is not defined",
     "output_type": "error",
     "traceback": [
      "\u001b[0;31m---------------------------------------------------------------------------\u001b[0m",
      "\u001b[0;31mNameError\u001b[0m                                 Traceback (most recent call last)",
      "Cell \u001b[0;32mIn[13], line 2\u001b[0m\n\u001b[1;32m      1\u001b[0m classes \u001b[38;5;241m=\u001b[39m []\n\u001b[0;32m----> 2\u001b[0m \u001b[38;5;28;01mfor\u001b[39;00m logit \u001b[38;5;129;01min\u001b[39;00m tqdm(\u001b[43mlogits\u001b[49m):\n\u001b[1;32m      3\u001b[0m     classes\u001b[38;5;241m.\u001b[39mappend(get_class(logit))\n\u001b[1;32m      5\u001b[0m sample_df[\u001b[38;5;124m\"\u001b[39m\u001b[38;5;124mBertL-offense\u001b[39m\u001b[38;5;124m\"\u001b[39m] \u001b[38;5;241m=\u001b[39m classes\n",
      "\u001b[0;31mNameError\u001b[0m: name 'logits' is not defined"
     ]
    }
   ],
   "source": [
    "classes = []\n",
    "for logit in tqdm(logits):\n",
    "    classes.append(get_class(logit))\n",
    "\n",
    "sample_df[\"BertL-offense\"] = classes"
   ]
  },
  {
   "cell_type": "markdown",
   "metadata": {},
   "source": [
    "### Testing with GPU"
   ]
  },
  {
   "cell_type": "code",
   "execution_count": 14,
   "metadata": {},
   "outputs": [],
   "source": [
    "gpu_model = AutoModelForSequenceClassification.from_pretrained(model_name).to(device)"
   ]
  },
  {
   "cell_type": "code",
   "execution_count": 22,
   "metadata": {
    "tags": []
   },
   "outputs": [
    {
     "name": "stdout",
     "output_type": "stream",
     "text": [
      "431 ms ± 6.27 ms per loop (mean ± std. dev. of 7 runs, 10 loops each)\n"
     ]
    }
   ],
   "source": [
    "%%timeit -n 10\n",
    "\n",
    "model_input = tokenizer(\n",
    "    *(list(sample_df[\"rawContent\"]),), padding=True, return_tensors=\"pt\"\n",
    ").to(device)\n",
    "\n",
    "with torch.no_grad():\n",
    "    outputs = gpu_model(**model_input)\n",
    "    logits = outputs.logits.detach().cpu().numpy()"
   ]
  },
  {
   "cell_type": "code",
   "execution_count": 16,
   "metadata": {},
   "outputs": [
    {
     "ename": "NameError",
     "evalue": "name 'logits' is not defined",
     "output_type": "error",
     "traceback": [
      "\u001b[0;31m---------------------------------------------------------------------------\u001b[0m",
      "\u001b[0;31mNameError\u001b[0m                                 Traceback (most recent call last)",
      "Cell \u001b[0;32mIn[16], line 2\u001b[0m\n\u001b[1;32m      1\u001b[0m classes \u001b[38;5;241m=\u001b[39m []\n\u001b[0;32m----> 2\u001b[0m \u001b[38;5;28;01mfor\u001b[39;00m logit \u001b[38;5;129;01min\u001b[39;00m tqdm(\u001b[43mlogits\u001b[49m):\n\u001b[1;32m      3\u001b[0m     classes\u001b[38;5;241m.\u001b[39mappend(get_class(logit))\n\u001b[1;32m      5\u001b[0m sample_df[\u001b[38;5;124m\"\u001b[39m\u001b[38;5;124mBertL-offense\u001b[39m\u001b[38;5;124m\"\u001b[39m] \u001b[38;5;241m=\u001b[39m classes\n",
      "\u001b[0;31mNameError\u001b[0m: name 'logits' is not defined"
     ]
    }
   ],
   "source": [
    "classes = []\n",
    "for logit in tqdm(logits):\n",
    "    classes.append(get_class(logit))\n",
    "\n",
    "sample_df[\"BertL-offense\"] = classes"
   ]
  },
  {
   "cell_type": "code",
   "execution_count": null,
   "metadata": {},
   "outputs": [],
   "source": []
  },
  {
   "cell_type": "markdown",
   "metadata": {},
   "source": [
    "### Checking results"
   ]
  },
  {
   "cell_type": "code",
   "execution_count": null,
   "metadata": {
    "tags": []
   },
   "outputs": [],
   "source": [
    "pd.options.display.max_colwidth = 300\n",
    "sample_df[sample_df[\"BertL-offense\"] == True][['rawContent']]"
   ]
  }
 ],
 "metadata": {
  "kernelspec": {
   "display_name": "Python 3 (ipykernel)",
   "language": "python",
   "name": "python3"
  },
  "language_info": {
   "codemirror_mode": {
    "name": "ipython",
    "version": 3
   },
   "file_extension": ".py",
   "mimetype": "text/x-python",
   "name": "python",
   "nbconvert_exporter": "python",
   "pygments_lexer": "ipython3",
   "version": "3.8.13"
  }
 },
 "nbformat": 4,
 "nbformat_minor": 4
}
