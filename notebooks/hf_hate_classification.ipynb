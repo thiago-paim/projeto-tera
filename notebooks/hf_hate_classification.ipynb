{
 "cells": [
  {
   "cell_type": "code",
   "execution_count": 1,
   "metadata": {
    "tags": []
   },
   "outputs": [],
   "source": [
    "from datasets import Dataset\n",
    "import numpy as np\n",
    "import pandas as pd\n",
    "import torch\n",
    "from tqdm import tqdm\n",
    "from transformers import AutoModelForSequenceClassification, AutoTokenizer, AutoConfig, pipeline\n",
    "from transformers.pipelines.pt_utils import KeyDataset\n",
    "from scipy.special import softmax\n",
    "\n",
    "pd.options.display.max_colwidth = 300"
   ]
  },
  {
   "cell_type": "code",
   "execution_count": 35,
   "metadata": {
    "tags": []
   },
   "outputs": [
    {
     "name": "stdout",
     "output_type": "stream",
     "text": [
      "raw_df.shape=(102558, 18)\n",
      "df.shape=(102558, 18)\n"
     ]
    }
   ],
   "source": [
    "#file_path = \"../data/processed/sp_elected_state_deputies_tweets.csv\"\n",
    "file_path = \"../data/processed/classified.csv\"\n",
    "raw_df = pd.read_csv(file_path, on_bad_lines=\"skip\", sep=\";\", encoding=\"utf-8\")\n",
    "\n",
    "duplicated_indexes = raw_df[raw_df.duplicated()].index\n",
    "df = raw_df.drop(duplicated_indexes)\n",
    "\n",
    "print(f'{raw_df.shape=}')\n",
    "print(f'{df.shape=}')"
   ]
  },
  {
   "cell_type": "markdown",
   "metadata": {},
   "source": [
    "# Pipeline classification"
   ]
  },
  {
   "cell_type": "code",
   "execution_count": 36,
   "metadata": {},
   "outputs": [
    {
     "name": "stdout",
     "output_type": "stream",
     "text": [
      "Device: cuda\n"
     ]
    }
   ],
   "source": [
    "OFFENSE_MODELS = {\n",
    "    \"rc_bert_base\": \"ruanchaves/bert-base-portuguese-cased-hatebr\",\n",
    "    \"rc_mdeberta_base\": \"ruanchaves/mdeberta-v3-base-hatebr\",\n",
    "    \"cl_distilbert_base\": \"citizenlab/distilbert-base-multilingual-cased-toxicity\",\n",
    "}\n",
    "\n",
    "device = torch.device(\"cuda\" if torch.cuda.is_available() else \"cpu\")\n",
    "print(\"Device:\", device)"
   ]
  },
  {
   "cell_type": "code",
   "execution_count": 37,
   "metadata": {},
   "outputs": [],
   "source": [
    "indexes = df.content.str.len().sort_values().index\n",
    "tweets = df.reindex(indexes)\n",
    "tweets = tweets.reset_index(drop=True)"
   ]
  },
  {
   "cell_type": "code",
   "execution_count": null,
   "metadata": {},
   "outputs": [],
   "source": [
    "%%time\n",
    "col_name = \"content\"\n",
    "batch_size = 64\n",
    "num_batches = len(tweets) // batch_size + 1\n",
    "results = {}\n",
    "\n",
    "for model_key, model_name in OFFENSE_MODELS.items():\n",
    "    if device.type == \"cuda\":\n",
    "        classifier = pipeline(\"sentiment-analysis\", model=model_name, device=0)\n",
    "    else:\n",
    "        classifier = pipeline(\"sentiment-analysis\", model=model_name)\n",
    "\n",
    "    results[model_key] = []\n",
    "    for i in tqdm(range(num_batches)):\n",
    "       batch_start = i * batch_size\n",
    "       batch_end = min((i + 1) * batch_size, len(tweets))\n",
    "       batch_texts = tweets[col_name][batch_start:batch_end].tolist()\n",
    "       batch_results = classifier(batch_texts)\n",
    "       results[model_key] += batch_results"
   ]
  },
  {
   "cell_type": "code",
   "execution_count": 33,
   "metadata": {},
   "outputs": [],
   "source": [
    "# batch_size = 32\n",
    "# 100%|██████████████████████████████████████████████████████████████████████████████████| 3205/3205 [12:29<00:00,  4.28it/s]\n",
    "# 100%|████████████████████████████████████████████████████████████████████████████████████████| 3205/3205 [29:32<00:00,  1.81it/s]\n",
    "# 100%|████████████████████████████████████████████████████████████████████████████████████████| 3205/3205 [08:17<00:00,  6.44it/s]\n",
    "# CPU times: user 44min 22s, sys: 6min 8s, total: 50min 30s\n",
    "# Wall time: 50min 30s"
   ]
  },
  {
   "cell_type": "code",
   "execution_count": 9,
   "metadata": {},
   "outputs": [
    {
     "name": "stdout",
     "output_type": "stream",
     "text": [
      "rc_bert_base\n",
      "rc_mdeberta_base\n",
      "cl_distilbert_base\n",
      "<class 'pandas.core.frame.DataFrame'>\n",
      "RangeIndex: 102558 entries, 0 to 102557\n",
      "Data columns (total 18 columns):\n",
      " #   Column                    Non-Null Count   Dtype  \n",
      "---  ------                    --------------   -----  \n",
      " 0   url                       102558 non-null  object \n",
      " 1   date                      102558 non-null  object \n",
      " 2   content                   102558 non-null  object \n",
      " 3   user                      102558 non-null  object \n",
      " 4   reply_count               102558 non-null  int64  \n",
      " 5   retweet_count             102558 non-null  int64  \n",
      " 6   like_count                102558 non-null  int64  \n",
      " 7   quote_count               102558 non-null  int64  \n",
      " 8   in_reply_to_id            94389 non-null   float64\n",
      " 9   in_reply_to_user          94122 non-null   object \n",
      " 10  conversation_id           102558 non-null  object \n",
      " 11  conversation_user         102558 non-null  object \n",
      " 12  rc_bert_base_label        102558 non-null  bool   \n",
      " 13  rc_bert_base_score        102558 non-null  float64\n",
      " 14  rc_mdeberta_base_label    102558 non-null  bool   \n",
      " 15  rc_mdeberta_base_score    102558 non-null  float64\n",
      " 16  cl_distilbert_base_label  102558 non-null  object \n",
      " 17  cl_distilbert_base_score  102558 non-null  float64\n",
      "dtypes: bool(2), float64(4), int64(4), object(8)\n",
      "memory usage: 12.7+ MB\n"
     ]
    }
   ],
   "source": [
    "for key in OFFENSE_MODELS.keys():\n",
    "    print(key)\n",
    "    df[f'{key}_label'] = [result[\"label\"] for result in results[key]]\n",
    "    df[f'{key}_score'] = [result[\"score\"] for result in results[key]]\n",
    "\n",
    "df.info()"
   ]
  },
  {
   "cell_type": "code",
   "execution_count": 15,
   "metadata": {},
   "outputs": [
    {
     "data": {
      "text/plain": [
       "not_toxic    98394\n",
       "toxic         4164\n",
       "Name: cl_distilbert_base_label, dtype: int64"
      ]
     },
     "execution_count": 15,
     "metadata": {},
     "output_type": "execute_result"
    }
   ],
   "source": [
    "df.cl_distilbert_base_label.value_counts()"
   ]
  },
  {
   "cell_type": "code",
   "execution_count": null,
   "metadata": {},
   "outputs": [],
   "source": [
    "# Convertendo labels do distilbert para booleano\n",
    "def get_distilbert_label(label):\n",
    "    if label == \"toxic\":\n",
    "        return True\n",
    "    return False\n",
    "    \n",
    "df['cl_distilbert_base_label'] = df.cl_distilbert_base_label.apply(get_distilbert_label)"
   ]
  },
  {
   "cell_type": "code",
   "execution_count": 21,
   "metadata": {},
   "outputs": [
    {
     "data": {
      "text/plain": [
       "0    69168\n",
       "2    17977\n",
       "1    13407\n",
       "3     2006\n",
       "Name: label_sum, dtype: int64"
      ]
     },
     "execution_count": 21,
     "metadata": {},
     "output_type": "execute_result"
    }
   ],
   "source": [
    "def get_offense_label_sum(row):\n",
    "    count = 0\n",
    "    if row['rc_bert_base_label'] == True:\n",
    "        count += 1\n",
    "    if row['rc_mdeberta_base_label'] == True:\n",
    "        count += 1\n",
    "    if row['cl_distilbert_base_label'] == True:\n",
    "        count += 1\n",
    "    return count\n",
    "\n",
    "df['label_sum'] = df.apply(get_offense_label_sum, axis=1)\n",
    "df['label_sum'].value_counts()"
   ]
  },
  {
   "cell_type": "markdown",
   "metadata": {},
   "source": [
    "# Viewing data"
   ]
  },
  {
   "cell_type": "code",
   "execution_count": 23,
   "metadata": {},
   "outputs": [
    {
     "data": {
      "text/plain": [
       "rc_bert_base_label  rc_mdeberta_base_label  cl_distilbert_base_label\n",
       "False               False                   False                       69168\n",
       "True                True                    False                       17416\n",
       "False               True                    False                        7253\n",
       "True                False                   False                        4557\n",
       "                    True                    True                         2006\n",
       "False               False                   True                         1597\n",
       "                    True                    True                          378\n",
       "True                False                   True                          183\n",
       "dtype: int64"
      ]
     },
     "execution_count": 23,
     "metadata": {},
     "output_type": "execute_result"
    }
   ],
   "source": [
    "# df[['content', 'rc_bert_base_label', 'rc_mdeberta_base_label', 'cl_distilbert_base_label']].value_counts()\n",
    "df[['rc_bert_base_label', 'rc_mdeberta_base_label', 'cl_distilbert_base_label']].value_counts()"
   ]
  },
  {
   "cell_type": "code",
   "execution_count": 24,
   "metadata": {},
   "outputs": [
    {
     "data": {
      "text/html": [
       "<div>\n",
       "<style scoped>\n",
       "    .dataframe tbody tr th:only-of-type {\n",
       "        vertical-align: middle;\n",
       "    }\n",
       "\n",
       "    .dataframe tbody tr th {\n",
       "        vertical-align: top;\n",
       "    }\n",
       "\n",
       "    .dataframe thead th {\n",
       "        text-align: right;\n",
       "    }\n",
       "</style>\n",
       "<table border=\"1\" class=\"dataframe\">\n",
       "  <thead>\n",
       "    <tr style=\"text-align: right;\">\n",
       "      <th></th>\n",
       "      <th>rc_bert_base_label</th>\n",
       "      <th>rc_mdeberta_base_label</th>\n",
       "      <th>cl_distilbert_base_label</th>\n",
       "    </tr>\n",
       "  </thead>\n",
       "  <tbody>\n",
       "    <tr>\n",
       "      <th>count</th>\n",
       "      <td>102558</td>\n",
       "      <td>102558</td>\n",
       "      <td>102558</td>\n",
       "    </tr>\n",
       "    <tr>\n",
       "      <th>unique</th>\n",
       "      <td>2</td>\n",
       "      <td>2</td>\n",
       "      <td>2</td>\n",
       "    </tr>\n",
       "    <tr>\n",
       "      <th>top</th>\n",
       "      <td>False</td>\n",
       "      <td>False</td>\n",
       "      <td>False</td>\n",
       "    </tr>\n",
       "    <tr>\n",
       "      <th>freq</th>\n",
       "      <td>78396</td>\n",
       "      <td>75505</td>\n",
       "      <td>98394</td>\n",
       "    </tr>\n",
       "  </tbody>\n",
       "</table>\n",
       "</div>"
      ],
      "text/plain": [
       "       rc_bert_base_label rc_mdeberta_base_label cl_distilbert_base_label\n",
       "count              102558                 102558                   102558\n",
       "unique                  2                      2                        2\n",
       "top                 False                  False                    False\n",
       "freq                78396                  75505                    98394"
      ]
     },
     "execution_count": 24,
     "metadata": {},
     "output_type": "execute_result"
    }
   ],
   "source": [
    "df[['rc_bert_base_label', 'rc_mdeberta_base_label', 'cl_distilbert_base_label']].describe()"
   ]
  },
  {
   "cell_type": "code",
   "execution_count": 32,
   "metadata": {},
   "outputs": [
    {
     "data": {
      "text/html": [
       "<div>\n",
       "<style scoped>\n",
       "    .dataframe tbody tr th:only-of-type {\n",
       "        vertical-align: middle;\n",
       "    }\n",
       "\n",
       "    .dataframe tbody tr th {\n",
       "        vertical-align: top;\n",
       "    }\n",
       "\n",
       "    .dataframe thead th {\n",
       "        text-align: right;\n",
       "    }\n",
       "</style>\n",
       "<table border=\"1\" class=\"dataframe\">\n",
       "  <thead>\n",
       "    <tr style=\"text-align: right;\">\n",
       "      <th></th>\n",
       "      <th>content</th>\n",
       "      <th>rc_bert_base_label</th>\n",
       "      <th>rc_mdeberta_base_label</th>\n",
       "      <th>cl_distilbert_base_label</th>\n",
       "    </tr>\n",
       "  </thead>\n",
       "  <tbody>\n",
       "    <tr>\n",
       "      <th>391</th>\n",
       "      <td>@augustodeAB Obrigada, amigo!</td>\n",
       "      <td>True</td>\n",
       "      <td>True</td>\n",
       "      <td>True</td>\n",
       "    </tr>\n",
       "    <tr>\n",
       "      <th>827</th>\n",
       "      <td>@andreawerner_ Ainda não sei.</td>\n",
       "      <td>True</td>\n",
       "      <td>True</td>\n",
       "      <td>True</td>\n",
       "    </tr>\n",
       "    <tr>\n",
       "      <th>1977</th>\n",
       "      <td>@andreawerner_ Sergio Moro bandido vagabundo</td>\n",
       "      <td>True</td>\n",
       "      <td>True</td>\n",
       "      <td>True</td>\n",
       "    </tr>\n",
       "    <tr>\n",
       "      <th>2936</th>\n",
       "      <td>@andreawerner_ Eita p@rra!\\nSó faltava!</td>\n",
       "      <td>True</td>\n",
       "      <td>True</td>\n",
       "      <td>True</td>\n",
       "    </tr>\n",
       "    <tr>\n",
       "      <th>3463</th>\n",
       "      <td>@andreawerner_ @BaixadorDeVideo</td>\n",
       "      <td>True</td>\n",
       "      <td>True</td>\n",
       "      <td>True</td>\n",
       "    </tr>\n",
       "    <tr>\n",
       "      <th>...</th>\n",
       "      <td>...</td>\n",
       "      <td>...</td>\n",
       "      <td>...</td>\n",
       "      <td>...</td>\n",
       "    </tr>\n",
       "    <tr>\n",
       "      <th>102462</th>\n",
       "      <td>A Defesa Civil está realizando seu trabalho e Governo do Estado está dando total assistência às prefeituras para atender aos cidadãos, cuidando da população, contem sempre comigo!</td>\n",
       "      <td>True</td>\n",
       "      <td>True</td>\n",
       "      <td>True</td>\n",
       "    </tr>\n",
       "    <tr>\n",
       "      <th>102471</th>\n",
       "      <td>Catracas do metro de São Paulo vão aceitar cartão de crédito e débito com NFC!\\n\\nProjeto-piloto da Autopass e da Secretaria de Transportes Metropolitanos vai colocar máquinas com função contactless no embarque.</td>\n",
       "      <td>True</td>\n",
       "      <td>True</td>\n",
       "      <td>True</td>\n",
       "    </tr>\n",
       "    <tr>\n",
       "      <th>102474</th>\n",
       "      <td>@xerifedoconsum por favor deputado ,averigue a situação da aprovação que o STF  ,aprovou de que os inadimplentes com dívidas iram fica sem sua CNH e passaporte  , por favor https://t.co/bZiuNlwwFq</td>\n",
       "      <td>True</td>\n",
       "      <td>True</td>\n",
       "      <td>True</td>\n",
       "    </tr>\n",
       "    <tr>\n",
       "      <th>102479</th>\n",
       "      <td>O instituo Adolfo Lutz, juntamente com o Departamento de Nutrição da Faculdade de Saúde Pública da Universidade de São Paulo.</td>\n",
       "      <td>True</td>\n",
       "      <td>True</td>\n",
       "      <td>True</td>\n",
       "    </tr>\n",
       "    <tr>\n",
       "      <th>102527</th>\n",
       "      <td>Serão vacinadas 130 mil mulheres, de acordo com a prefeitura. Fiquem atentos às informações!\\n#Xerifedoconsumidor #COVID19</td>\n",
       "      <td>True</td>\n",
       "      <td>True</td>\n",
       "      <td>True</td>\n",
       "    </tr>\n",
       "  </tbody>\n",
       "</table>\n",
       "<p>2006 rows × 4 columns</p>\n",
       "</div>"
      ],
      "text/plain": [
       "                                                                                                                                                                                                                    content  \\\n",
       "391                                                                                                                                                                                           @augustodeAB Obrigada, amigo!   \n",
       "827                                                                                                                                                                                           @andreawerner_ Ainda não sei.   \n",
       "1977                                                                                                                                                                           @andreawerner_ Sergio Moro bandido vagabundo   \n",
       "2936                                                                                                                                                                                @andreawerner_ Eita p@rra!\\nSó faltava!   \n",
       "3463                                                                                                                                                                                        @andreawerner_ @BaixadorDeVideo   \n",
       "...                                                                                                                                                                                                                     ...   \n",
       "102462                                  A Defesa Civil está realizando seu trabalho e Governo do Estado está dando total assistência às prefeituras para atender aos cidadãos, cuidando da população, contem sempre comigo!   \n",
       "102471  Catracas do metro de São Paulo vão aceitar cartão de crédito e débito com NFC!\\n\\nProjeto-piloto da Autopass e da Secretaria de Transportes Metropolitanos vai colocar máquinas com função contactless no embarque.   \n",
       "102474                 @xerifedoconsum por favor deputado ,averigue a situação da aprovação que o STF  ,aprovou de que os inadimplentes com dívidas iram fica sem sua CNH e passaporte  , por favor https://t.co/bZiuNlwwFq   \n",
       "102479                                                                                        O instituo Adolfo Lutz, juntamente com o Departamento de Nutrição da Faculdade de Saúde Pública da Universidade de São Paulo.   \n",
       "102527                                                                                           Serão vacinadas 130 mil mulheres, de acordo com a prefeitura. Fiquem atentos às informações!\\n#Xerifedoconsumidor #COVID19   \n",
       "\n",
       "        rc_bert_base_label  rc_mdeberta_base_label  cl_distilbert_base_label  \n",
       "391                   True                    True                      True  \n",
       "827                   True                    True                      True  \n",
       "1977                  True                    True                      True  \n",
       "2936                  True                    True                      True  \n",
       "3463                  True                    True                      True  \n",
       "...                    ...                     ...                       ...  \n",
       "102462                True                    True                      True  \n",
       "102471                True                    True                      True  \n",
       "102474                True                    True                      True  \n",
       "102479                True                    True                      True  \n",
       "102527                True                    True                      True  \n",
       "\n",
       "[2006 rows x 4 columns]"
      ]
     },
     "execution_count": 32,
     "metadata": {},
     "output_type": "execute_result"
    }
   ],
   "source": [
    "df[df[\"label_sum\"] == 3][['content', 'rc_bert_base_label', 'rc_mdeberta_base_label', 'cl_distilbert_base_label']]"
   ]
  },
  {
   "cell_type": "markdown",
   "metadata": {},
   "source": [
    "# Exporting data"
   ]
  },
  {
   "cell_type": "code",
   "execution_count": 25,
   "metadata": {},
   "outputs": [],
   "source": [
    "output_path = \"../data/processed/\"\n",
    "output_file = f\"classified-tweets.csv\"\n",
    "\n",
    "# Para salvar os dados, descomente as linhas abaixo\n",
    "df.to_csv(f\"{output_path}{output_file}\", sep=\";\", encoding=\"utf-8\", index=False)"
   ]
  },
  {
   "cell_type": "code",
   "execution_count": null,
   "metadata": {},
   "outputs": [],
   "source": []
  },
  {
   "cell_type": "code",
   "execution_count": null,
   "metadata": {},
   "outputs": [],
   "source": []
  },
  {
   "cell_type": "code",
   "execution_count": null,
   "metadata": {},
   "outputs": [],
   "source": []
  },
  {
   "cell_type": "code",
   "execution_count": null,
   "metadata": {},
   "outputs": [],
   "source": []
  },
  {
   "cell_type": "code",
   "execution_count": null,
   "metadata": {},
   "outputs": [],
   "source": []
  },
  {
   "cell_type": "code",
   "execution_count": null,
   "metadata": {},
   "outputs": [],
   "source": []
  },
  {
   "cell_type": "markdown",
   "metadata": {},
   "source": [
    "# Step by step classification"
   ]
  },
  {
   "cell_type": "code",
   "execution_count": 10,
   "metadata": {
    "tags": []
   },
   "outputs": [],
   "source": [
    "tokenizer = AutoTokenizer.from_pretrained(model_name)\n",
    "config = AutoConfig.from_pretrained(model_name)\n",
    "\n",
    "\n",
    "# Classification head function\n",
    "def get_class(logit):\n",
    "    scores = softmax(logit)\n",
    "    label = config.id2label[np.argmax(scores)]\n",
    "    # print(f\"get_class(): {logit=}, {scores=}, {label=}\")\n",
    "    return label\n"
   ]
  },
  {
   "cell_type": "code",
   "execution_count": 11,
   "metadata": {},
   "outputs": [],
   "source": [
    "def process_batch_gpu(batch):\n",
    "    model_input = tokenizer(\n",
    "        *(list(batch[\"rawContent\"]),), padding=True, return_tensors=\"pt\"\n",
    "    ).to(device)\n",
    "\n",
    "    with torch.no_grad():\n",
    "        outputs = model(**model_input)\n",
    "        logits = outputs.logits.detach().cpu().numpy()\n",
    "    return logits\n",
    "\n",
    "\n",
    "def process_batch_cpu(batch):\n",
    "    model_input = tokenizer(\n",
    "        *(list(batch[\"rawContent\"]),), padding=True, return_tensors=\"pt\"\n",
    "    )\n",
    "\n",
    "    with torch.no_grad():\n",
    "        outputs = model(**model_input)\n",
    "        logits = outputs.logits.detach().numpy()\n",
    "    return logits\n"
   ]
  },
  {
   "cell_type": "code",
   "execution_count": 12,
   "metadata": {},
   "outputs": [],
   "source": [
    "if device.type == \"cuda\":  # GPU\n",
    "    model = AutoModelForSequenceClassification.from_pretrained(model_name).to(device)\n",
    "    process_batch = process_batch_gpu\n",
    "\n",
    "else:  # CPU\n",
    "    model = AutoModelForSequenceClassification.from_pretrained(model_name)\n",
    "    process_batch = process_batch_cpu\n"
   ]
  },
  {
   "cell_type": "code",
   "execution_count": null,
   "metadata": {},
   "outputs": [],
   "source": [
    "BATCH_SIZE = 50\n",
    "logits_list = []\n",
    "\n",
    "# for i in tqdm(range(0, len(df), BATCH_SIZE)):\n",
    "for i in range(0, len(df), BATCH_SIZE):\n",
    "    if i + BATCH_SIZE < len(df):\n",
    "        batch = df.iloc[i : i + BATCH_SIZE].copy()\n",
    "    else:\n",
    "        batch = df.iloc[i : len(df)].copy()\n",
    "\n",
    "    logits = process_batch(batch)\n",
    "    logits_list.append(logits)\n"
   ]
  },
  {
   "cell_type": "code",
   "execution_count": null,
   "metadata": {},
   "outputs": [],
   "source": [
    "logits = np.concatenate(logits_list)\n",
    "logits.shape\n",
    "\n",
    "classes = []\n",
    "for logit in logits:\n",
    "    classes.append(get_class(logit))\n",
    "\n",
    "df[\"BertL-offense\"] = classes\n",
    "df.shape\n"
   ]
  },
  {
   "attachments": {},
   "cell_type": "markdown",
   "metadata": {},
   "source": [
    "### Checking results"
   ]
  },
  {
   "cell_type": "code",
   "execution_count": null,
   "metadata": {},
   "outputs": [],
   "source": [
    "offensive_df = df[df[\"BertL-offense\"] == True]\n",
    "print(offensive_df.shape)\n",
    "offensive_df.head()\n"
   ]
  },
  {
   "cell_type": "code",
   "execution_count": null,
   "metadata": {},
   "outputs": [],
   "source": [
    "offensive_df[\"rawContent\"].values\n"
   ]
  }
 ],
 "metadata": {
  "kernelspec": {
   "display_name": "Python 3 (ipykernel)",
   "language": "python",
   "name": "python3"
  },
  "language_info": {
   "codemirror_mode": {
    "name": "ipython",
    "version": 3
   },
   "file_extension": ".py",
   "mimetype": "text/x-python",
   "name": "python",
   "nbconvert_exporter": "python",
   "pygments_lexer": "ipython3",
   "version": "3.8.13"
  }
 },
 "nbformat": 4,
 "nbformat_minor": 4
}
