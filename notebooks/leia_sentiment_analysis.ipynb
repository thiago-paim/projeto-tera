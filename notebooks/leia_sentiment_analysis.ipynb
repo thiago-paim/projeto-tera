{
 "cells": [
  {
   "cell_type": "markdown",
   "metadata": {},
   "source": [
    "# Importando bibliotecas e dataset "
   ]
  },
  {
   "cell_type": "code",
   "execution_count": 1,
   "metadata": {
    "tags": []
   },
   "outputs": [],
   "source": [
    "# Adicionando ao path para facilitar importações de arquivos\n",
    "import sys\n",
    "sys.path.append('../')"
   ]
  },
  {
   "cell_type": "code",
   "execution_count": 2,
   "metadata": {
    "tags": []
   },
   "outputs": [],
   "source": [
    "# Descomente a linha abaixo na primeira execução, caso não possua o `pt_core_news_lg`\n",
    "# !python -m spacy download pt_core_news_lg"
   ]
  },
  {
   "cell_type": "code",
   "execution_count": 3,
   "metadata": {
    "tags": []
   },
   "outputs": [],
   "source": [
    "import re\n",
    "import string\n",
    "import pandas as pd\n",
    "import numpy as np\n",
    "import spacy\n",
    "import nltk\n",
    "import pt_core_news_lg\n",
    "from spacy.lang.pt.stop_words import STOP_WORDS\n",
    "from sklearn.metrics import mean_absolute_error, mean_squared_error\n",
    "from nltk.sentiment import SentimentIntensityAnalyzer\n",
    "from LeIA import SentimentIntensityAnalyzer as LeIASentimentIntensityAnalyzer\n",
    "from tqdm import tqdm\n",
    "\n",
    "\n",
    "pd.options.display.max_colwidth = 100"
   ]
  },
  {
   "cell_type": "code",
   "execution_count": 4,
   "metadata": {
    "tags": []
   },
   "outputs": [
    {
     "name": "stderr",
     "output_type": "stream",
     "text": [
      "/tmp/ipykernel_14749/3505034139.py:2: DtypeWarning: Columns (25) have mixed types. Specify dtype option on import or set low_memory=False.\n",
      "  df = pd.read_csv(file_path, on_bad_lines='skip', sep=';', encoding='utf-8')\n"
     ]
    }
   ],
   "source": [
    "file_path = '../data/raw/ErikakHilton-tweets.csv'\n",
    "df = pd.read_csv(file_path, on_bad_lines='skip', sep=';', encoding='utf-8')"
   ]
  },
  {
   "cell_type": "code",
   "execution_count": 5,
   "metadata": {
    "tags": []
   },
   "outputs": [
    {
     "data": {
      "text/plain": [
       "(22505, 49)"
      ]
     },
     "execution_count": 5,
     "metadata": {},
     "output_type": "execute_result"
    }
   ],
   "source": [
    "df.shape"
   ]
  },
  {
   "cell_type": "markdown",
   "metadata": {},
   "source": [
    "# Pré processamento"
   ]
  },
  {
   "cell_type": "markdown",
   "metadata": {},
   "source": [
    "## Filtrar tweets\n",
    "Vamos remover tweets repetidos e filtrar uma amostra menor, para facilitar a comparação manual de resultados"
   ]
  },
  {
   "cell_type": "code",
   "execution_count": 6,
   "metadata": {
    "tags": []
   },
   "outputs": [
    {
     "data": {
      "text/plain": [
       "(20505, 49)"
      ]
     },
     "execution_count": 6,
     "metadata": {},
     "output_type": "execute_result"
    }
   ],
   "source": [
    "duplicated_indexes = df[df.duplicated()].index\n",
    "sample_df = df.drop(duplicated_indexes)\n",
    "sample_df.shape"
   ]
  },
  {
   "cell_type": "code",
   "execution_count": 7,
   "metadata": {
    "tags": []
   },
   "outputs": [],
   "source": [
    "sample_df = sample_df[:100]"
   ]
  },
  {
   "cell_type": "markdown",
   "metadata": {},
   "source": [
    "## Limpeza dos tweets"
   ]
  },
  {
   "cell_type": "code",
   "execution_count": 8,
   "metadata": {
    "tags": []
   },
   "outputs": [],
   "source": [
    "# Removendo \"não\" das stopwords\n",
    "STOP_WORDS.remove('não')\n",
    "\n",
    "# Instanciando spacy/pt_core_news_lg - corpus completo\n",
    "nlp = spacy.load('pt_core_news_lg')"
   ]
  },
  {
   "cell_type": "code",
   "execution_count": 9,
   "metadata": {
    "tags": []
   },
   "outputs": [],
   "source": [
    "# Função para remover URL\n",
    "def remover_url(texto):\n",
    "    texto = re.sub(r'http\\S+', '', texto)\n",
    "    return texto\n",
    "\n",
    "# Função para remover contas\n",
    "def remover_twiters(texto):\n",
    "    texto = re.sub(r'@\\w+', '', texto)\n",
    "    return texto\n",
    "\n",
    "# Função para remover pontuações\n",
    "def remover_pontuacao(texto):\n",
    "    texto = re.sub(f\"[{re.escape(string.punctuation)}]\", \"\", texto)\n",
    "    return texto\n",
    "\n",
    "# Função para remoção de stopwords e digitos\n",
    "def limpar_texto(texto):\n",
    "    doc = nlp(texto)\n",
    "    tokens = [token.text for token in doc if not token.is_stop and not token.is_digit]\n",
    "    texto_limpo = \" \".join(tokens)\n",
    "    return texto_limpo"
   ]
  },
  {
   "cell_type": "code",
   "execution_count": 10,
   "metadata": {
    "tags": []
   },
   "outputs": [],
   "source": [
    "# Aplicando limpezas\n",
    "tweets = sample_df['rawContent']\n",
    "\n",
    "tweets = tweets.str.lower()\n",
    "tweets = tweets.apply(remover_url)\n",
    "tweets = tweets.apply(remover_twiters)\n",
    "tweets = tweets.apply(remover_pontuacao)\n",
    "tweets = tweets.apply(limpar_texto)"
   ]
  },
  {
   "cell_type": "code",
   "execution_count": 11,
   "metadata": {
    "tags": []
   },
   "outputs": [],
   "source": [
    "# Jogando de volta para o dataframe\n",
    "sample_df['content_formatted'] = tweets"
   ]
  },
  {
   "cell_type": "code",
   "execution_count": 12,
   "metadata": {
    "tags": []
   },
   "outputs": [
    {
     "data": {
      "text/html": [
       "<div>\n",
       "<style scoped>\n",
       "    .dataframe tbody tr th:only-of-type {\n",
       "        vertical-align: middle;\n",
       "    }\n",
       "\n",
       "    .dataframe tbody tr th {\n",
       "        vertical-align: top;\n",
       "    }\n",
       "\n",
       "    .dataframe thead th {\n",
       "        text-align: right;\n",
       "    }\n",
       "</style>\n",
       "<table border=\"1\" class=\"dataframe\">\n",
       "  <thead>\n",
       "    <tr style=\"text-align: right;\">\n",
       "      <th></th>\n",
       "      <th>rawContent</th>\n",
       "      <th>content_formatted</th>\n",
       "    </tr>\n",
       "  </thead>\n",
       "  <tbody>\n",
       "    <tr>\n",
       "      <th>0</th>\n",
       "      <td>Ao longo do dia estou recebendo denúncias, inclusive de pessoas presas há mais de 16h na estrada...</td>\n",
       "      <td>longo dia recebendo denúncias pessoas presas há 16h estrada água comida bloqueios ilegais caminh...</td>\n",
       "    </tr>\n",
       "    <tr>\n",
       "      <th>1</th>\n",
       "      <td>@ErikakHilton Simplesmente a maior ❤️❤️❤️ https://t.co/SBA5EPiN7k</td>\n",
       "      <td>simplesmente ❤ ️ ❤ ️ ❤ ️</td>\n",
       "    </tr>\n",
       "    <tr>\n",
       "      <th>2</th>\n",
       "      <td>@PalasAthenas18 Hahahhaha 💜💜💜</td>\n",
       "      <td>hahahhaha 💜 💜 💜</td>\n",
       "    </tr>\n",
       "    <tr>\n",
       "      <th>4</th>\n",
       "      <td>@ErikakHilton É isso aí...</td>\n",
       "      <td></td>\n",
       "    </tr>\n",
       "    <tr>\n",
       "      <th>5</th>\n",
       "      <td>@Mendes2588 🫶🏾🫶🏾</td>\n",
       "      <td>🫶🏾🫶🏾</td>\n",
       "    </tr>\n",
       "  </tbody>\n",
       "</table>\n",
       "</div>"
      ],
      "text/plain": [
       "                                                                                            rawContent  \\\n",
       "0  Ao longo do dia estou recebendo denúncias, inclusive de pessoas presas há mais de 16h na estrada...   \n",
       "1                                    @ErikakHilton Simplesmente a maior ❤️❤️❤️ https://t.co/SBA5EPiN7k   \n",
       "2                                                                        @PalasAthenas18 Hahahhaha 💜💜💜   \n",
       "4                                                                           @ErikakHilton É isso aí...   \n",
       "5                                                                                     @Mendes2588 🫶🏾🫶🏾   \n",
       "\n",
       "                                                                                     content_formatted  \n",
       "0  longo dia recebendo denúncias pessoas presas há 16h estrada água comida bloqueios ilegais caminh...  \n",
       "1                                                                             simplesmente ❤ ️ ❤ ️ ❤ ️  \n",
       "2                                                                                      hahahhaha 💜 💜 💜  \n",
       "4                                                                                                       \n",
       "5                                                                                                 🫶🏾🫶🏾  "
      ]
     },
     "execution_count": 12,
     "metadata": {},
     "output_type": "execute_result"
    }
   ],
   "source": [
    "sample_df[['rawContent', 'content_formatted']].head()"
   ]
  },
  {
   "cell_type": "markdown",
   "metadata": {},
   "source": [
    "## Lemmatizando"
   ]
  },
  {
   "cell_type": "code",
   "execution_count": 13,
   "metadata": {
    "tags": []
   },
   "outputs": [],
   "source": [
    "# Função para lemmatização\n",
    "def lemmatiza(texto):\n",
    "    doc = nlp(texto)\n",
    "    lemmatized_tokens = []\n",
    "    for token in doc:\n",
    "        lemmatized_tokens.append(token.lemma_)\n",
    "    return \" \".join(lemmatized_tokens)"
   ]
  },
  {
   "cell_type": "code",
   "execution_count": 14,
   "metadata": {
    "tags": []
   },
   "outputs": [],
   "source": [
    "sample_df['lemma_content'] = sample_df['content_formatted'].apply(lemmatiza)"
   ]
  },
  {
   "cell_type": "markdown",
   "metadata": {},
   "source": [
    "# Análise de Sentimento"
   ]
  },
  {
   "cell_type": "markdown",
   "metadata": {},
   "source": [
    "## Vader Sentiment Intensity Analysis\n",
    "O Vader (do NLTK) não foi treinado com português, portanto seus resultados não são confiáveis. Vamos aplicar aqui apenas para comparar com o LeIA"
   ]
  },
  {
   "cell_type": "code",
   "execution_count": 15,
   "metadata": {
    "tags": []
   },
   "outputs": [
    {
     "name": "stderr",
     "output_type": "stream",
     "text": [
      "[nltk_data] Downloading package vader_lexicon to\n",
      "[nltk_data]     /home/paim/nltk_data...\n",
      "[nltk_data]   Package vader_lexicon is already up-to-date!\n"
     ]
    },
    {
     "data": {
      "text/plain": [
       "True"
      ]
     },
     "execution_count": 15,
     "metadata": {},
     "output_type": "execute_result"
    }
   ],
   "source": [
    "nltk.download('vader_lexicon') # download do sentiment lexicon"
   ]
  },
  {
   "cell_type": "code",
   "execution_count": 16,
   "metadata": {
    "tags": []
   },
   "outputs": [],
   "source": [
    "vader_sia = SentimentIntensityAnalyzer()\n",
    "\n",
    "def vader_sentiment_analysis(text):\n",
    "    return vader_sia.polarity_scores(text)['compound']\n",
    "\n",
    "sample_df['vader_sentiment_score'] = sample_df['lemma_content'].apply(vader_sentiment_analysis)"
   ]
  },
  {
   "cell_type": "code",
   "execution_count": 17,
   "metadata": {
    "tags": []
   },
   "outputs": [
    {
     "data": {
      "text/plain": [
       "<Axes: >"
      ]
     },
     "execution_count": 17,
     "metadata": {},
     "output_type": "execute_result"
    },
    {
     "data": {
      "image/png": "[encoded data removed]",
      "text/plain": [
       "<Figure size 640x480 with 1 Axes>"
      ]
     },
     "metadata": {},
     "output_type": "display_data"
    }
   ],
   "source": [
    "sample_df['vader_sentiment_score'].hist()"
   ]
  },
  {
   "cell_type": "markdown",
   "metadata": {},
   "source": [
    "## LeIA Sentiment Intensity Analysis\n",
    "\n",
    "LeIA (Léxico para Inferência Adaptada) é uma adaptação da analise de intensidade de sentimento do Vader para o português"
   ]
  },
  {
   "cell_type": "code",
   "execution_count": 18,
   "metadata": {
    "tags": []
   },
   "outputs": [],
   "source": [
    "leia_sia = LeIASentimentIntensityAnalyzer() # criar sentiment analyzer\n",
    "\n",
    "def leia_sentiment_analysis(text):\n",
    "    return leia_sia.polarity_scores(text)['compound']\n",
    "\n",
    "sample_df['leia_sentiment_score'] = sample_df['lemma_content'].apply(leia_sentiment_analysis)"
   ]
  },
  {
   "cell_type": "code",
   "execution_count": 19,
   "metadata": {
    "tags": []
   },
   "outputs": [
    {
     "data": {
      "text/plain": [
       "<Axes: >"
      ]
     },
     "execution_count": 19,
     "metadata": {},
     "output_type": "execute_result"
    },
    {
     "data": {
      "image/png": "[encoded data removed]",
      "text/plain": [
       "<Figure size 640x480 with 1 Axes>"
      ]
     },
     "metadata": {},
     "output_type": "display_data"
    }
   ],
   "source": [
    "sample_df['leia_sentiment_score'].hist()"
   ]
  },
  {
   "cell_type": "markdown",
   "metadata": {},
   "source": [
    "## Avaliação do ChatGPT\n",
    "Vamos usar a API do ChatGPT para gerar outra análise de sentimentos, para comparar os resultados."
   ]
  },
  {
   "cell_type": "code",
   "execution_count": 23,
   "metadata": {
    "tags": []
   },
   "outputs": [],
   "source": [
    "import os\n",
    "import openai\n",
    "from src.config import OPENAI_API_KEY\n",
    "\n",
    "openai.api_key = OPENAI_API_KEY"
   ]
  },
  {
   "cell_type": "code",
   "execution_count": 21,
   "metadata": {},
   "outputs": [
    {
     "data": {
      "text/plain": [
       "'\\nEstava tentando um resultado mais elaborado, mas as respostas estão muito inconsistentes. \\nAcho que vale a pena tentar otimizar os prompts para respostas mais precisas e bem explicadas\\n'"
      ]
     },
     "execution_count": 21,
     "metadata": {},
     "output_type": "execute_result"
    }
   ],
   "source": [
    "\"\"\"\n",
    "Estava tentando um resultado mais elaborado, mas as respostas estão muito inconsistentes. \n",
    "Acho que vale a pena tentar otimizar os prompts para respostas mais precisas e bem explicadas\n",
    "\"\"\"\n",
    "# base_msg = (\n",
    "#     \"Você é meu assistente de PLN e fará uma análise de sentimentos nos tweets que eu mandar. \"\n",
    "#     \"Os tweets serão enviados no formato CSV com duas colunas (separadas por ;;):\\n - Id do tweet\\n - Texto do tweet\\n\\n\"\n",
    "#     \"Para cada tweet você deve gerar um score de -1 (extremamente negativo) a 1(extremamente positivo), com até 4 casas decimais.\\n\"\n",
    "#     \"Sua resposta deve vir no formato de um arquivo CSV com três colunas (separadas por ;;):\\n\"\n",
    "#     \" - Id do tweet\\n - Score de sentimentos do tweet\\n - Breve explicação do score\\n\\n\"\n",
    "#     \"Aqui vão os tweets para análise:\\n\"\n",
    "# )\n",
    "\n",
    "# def get_chatgpt_tweet_input(tweet):\n",
    "#     return f\"{tweet.id};;{tweet.rawContent}\"\n",
    "\n",
    "# tweets_input = sample_df[:10].apply(get_chatgpt_row_input, axis=1).values\n",
    "# tweets_input = '\\n'.join(tweets_input)\n",
    "\n",
    "# msg = base_msg + tweets_input\n",
    "# print(msg)\n",
    "# print('\\n\\n')\n",
    "\n",
    "# completion = openai.ChatCompletion.create(\n",
    "#     model=\"gpt-3.5-turbo\",\n",
    "#     messages=[{\"role\": \"user\", \"content\": msg}],\n",
    "#     temperature=0,\n",
    "# )\n",
    "\n",
    "# print(completion.choices[0].message.content)"
   ]
  },
  {
   "cell_type": "code",
   "execution_count": 24,
   "metadata": {
    "tags": []
   },
   "outputs": [],
   "source": [
    "base_msg = (\n",
    "    \"Você é meu assistente de PLN e irá realizar uma análise de sentimentos no tweet que eu enviar. \"\n",
    "    \"Você deve gerar um score de sentimento de -1 (extremamente negativo) a 1(extremamente positivo), com até 4 casas decimais. \"\n",
    "    \"Sua resposta deve conter apenas o número do score de sentimento.\"\n",
    "    \"Tweet: \"\n",
    ")\n",
    "\n",
    "raw_chatgpt_sentiment_score = []\n",
    "\n",
    "for tweet in sample_df['rawContent']:\n",
    "    msg = base_msg + tweet    \n",
    "    completion = openai.ChatCompletion.create(\n",
    "        model=\"gpt-3.5-turbo\",\n",
    "        messages=[{\"role\": \"user\", \"content\": msg}],\n",
    "        temperature=0,\n",
    "    )\n",
    "\n",
    "    raw_chatgpt_sentiment_score.append(completion.choices[0].message.content)"
   ]
  },
  {
   "cell_type": "code",
   "execution_count": 25,
   "metadata": {
    "tags": []
   },
   "outputs": [
    {
     "name": "stdout",
     "output_type": "stream",
     "text": [
      "['-0.8750', '0.8750', '0.8', '0.0', '0.0', '0.8', '0.0', '0.4583', '0.0', '-0.7847', '-0.8571', '0.0', '0.7788', '0.7143', '0.0', '0.9', '0.8750', '-0.5714', '-0.9365', '0.8750', '0.8750', '-0.5', '0.8750', '1.0', '-0.8571', '0.6364', '0.4583', '-0.7847', 'Desculpe, mas não é possível realizar a análise de sentimentos sem o conteúdo do tweet. Por favor, envie o tweet completo para que eu possa gerar o score de sentimento.', '-0.7143', '-0.9365', '-0.8571', '0.8750', '0.8750', '0.4583', '0.9375', '0.4583', '-0.5', '-0.8571', '0.8750', '0.9365', '-0.5714', '0.4583', '0.8750', '0.8750', '0.7782', '0.9583', '0.9712', '-0.8571', '-0.9', '0.2', '-0.9365', 'Desculpe, mas como assistente de PLN, não tenho acesso ao conteúdo do tweet fornecido. Por favor, forneça o texto do tweet para que eu possa realizar a análise de sentimentos.', '1.0', '0.0', '1.0', '0.5', '0.8', '-0.8', '0.75', '0.0', '0.8750', '0.4583', '0.4583', '0.9717', '0.9750', '0.4583', '1.0', '-0.8571', '0.5719', '-0.8571', '-0.4583', '0.3182', '0.0', '0.0', '-0.3333', '0.4583', '0.0', '-0.5422', '-0.8571', '0.8225', '0.4583', '-0.7847', '0.8225', '0.0', '-0.9362', '-0.8571', '0.0', '-0.3182', '-0.25', '0.8750', '0.0', '0.8750', '-0.8571', '0.4583', '0.0', '0.3182', '-0.8571', '0.8750', '-0.9365']\n"
     ]
    }
   ],
   "source": [
    "print(raw_chatgpt_sentiment_score)"
   ]
  },
  {
   "cell_type": "code",
   "execution_count": 26,
   "metadata": {
    "tags": []
   },
   "outputs": [],
   "source": [
    "# O ChatGPT não conseguiu avaliar alguns tweets, por isso precisamos remover alguns dos resultados\n",
    "def convert_score(raw_score):\n",
    "    try:\n",
    "        return float(score)\n",
    "    except Exception as e:\n",
    "        return None\n",
    "\n",
    "chatgpt_sentiment_score = []\n",
    "for score in raw_chatgpt_sentiment_score:\n",
    "    chatgpt_sentiment_score.append(convert_score(score))\n",
    "    \n",
    "sample_df['chatgpt_sentiment_score'] = chatgpt_sentiment_score"
   ]
  },
  {
   "cell_type": "markdown",
   "metadata": {},
   "source": [
    "# Comparação de Resultados"
   ]
  },
  {
   "cell_type": "code",
   "execution_count": 27,
   "metadata": {
    "tags": []
   },
   "outputs": [
    {
     "name": "stdout",
     "output_type": "stream",
     "text": [
      "Axes(0.125,0.11;0.775x0.77)\n"
     ]
    },
    {
     "data": {
      "image/png": "[encoded data removed]",
      "text/plain": [
       "<Figure size 640x480 with 1 Axes>"
      ]
     },
     "metadata": {},
     "output_type": "display_data"
    }
   ],
   "source": [
    "print(sample_df['vader_sentiment_score'].hist())"
   ]
  },
  {
   "cell_type": "code",
   "execution_count": 28,
   "metadata": {
    "tags": []
   },
   "outputs": [
    {
     "name": "stdout",
     "output_type": "stream",
     "text": [
      "Axes(0.125,0.11;0.775x0.77)\n"
     ]
    },
    {
     "data": {
      "image/png": "[encoded data removed]",
      "text/plain": [
       "<Figure size 640x480 with 1 Axes>"
      ]
     },
     "metadata": {},
     "output_type": "display_data"
    }
   ],
   "source": [
    "print(sample_df['leia_sentiment_score'].hist())"
   ]
  },
  {
   "cell_type": "code",
   "execution_count": 29,
   "metadata": {
    "tags": []
   },
   "outputs": [
    {
     "name": "stdout",
     "output_type": "stream",
     "text": [
      "Axes(0.125,0.11;0.775x0.77)\n"
     ]
    },
    {
     "data": {
      "image/png": "[encoded data removed]",
      "text/plain": [
       "<Figure size 640x480 with 1 Axes>"
      ]
     },
     "metadata": {},
     "output_type": "display_data"
    }
   ],
   "source": [
    "print(sample_df['chatgpt_sentiment_score'].hist())"
   ]
  },
  {
   "cell_type": "code",
   "execution_count": 281,
   "metadata": {
    "tags": []
   },
   "outputs": [
    {
     "name": "stdout",
     "output_type": "stream",
     "text": [
      "Axes(0.125,0.11;0.775x0.77)\n"
     ]
    },
    {
     "data": {
      "image/png": "[encoded data removed]",
      "text/plain": [
       "<Figure size 640x480 with 1 Axes>"
      ]
     },
     "metadata": {},
     "output_type": "display_data"
    }
   ],
   "source": [
    "print(sample_df['chatgpt_sentiment_score'].hist())"
   ]
  },
  {
   "cell_type": "code",
   "execution_count": 282,
   "metadata": {
    "tags": []
   },
   "outputs": [
    {
     "data": {
      "text/html": [
       "<div>\n",
       "<style scoped>\n",
       "    .dataframe tbody tr th:only-of-type {\n",
       "        vertical-align: middle;\n",
       "    }\n",
       "\n",
       "    .dataframe tbody tr th {\n",
       "        vertical-align: top;\n",
       "    }\n",
       "\n",
       "    .dataframe thead th {\n",
       "        text-align: right;\n",
       "    }\n",
       "</style>\n",
       "<table border=\"1\" class=\"dataframe\">\n",
       "  <thead>\n",
       "    <tr style=\"text-align: right;\">\n",
       "      <th></th>\n",
       "      <th>rawContent</th>\n",
       "      <th>lemma_content</th>\n",
       "      <th>vader_sentiment_score</th>\n",
       "      <th>leia_sentiment_score</th>\n",
       "      <th>chatgpt_sentiment_score</th>\n",
       "    </tr>\n",
       "  </thead>\n",
       "  <tbody>\n",
       "    <tr>\n",
       "      <th>0</th>\n",
       "      <td>Ao longo do dia estou recebendo denúncias, inclusive de pessoas presas há mais de 16h na estrada...</td>\n",
       "      <td>longo dia receber denúncia pessoa presas haver 16h estrada água comer bloqueio ilegal caminhonei...</td>\n",
       "      <td>0.0</td>\n",
       "      <td>-0.7579</td>\n",
       "      <td>-0.8750</td>\n",
       "    </tr>\n",
       "    <tr>\n",
       "      <th>1</th>\n",
       "      <td>@ErikakHilton Simplesmente a maior ❤️❤️❤️ https://t.co/SBA5EPiN7k</td>\n",
       "      <td>simplesmente ❤ ️ ❤ ️ ❤ ️</td>\n",
       "      <td>0.0</td>\n",
       "      <td>0.0000</td>\n",
       "      <td>0.8750</td>\n",
       "    </tr>\n",
       "    <tr>\n",
       "      <th>2</th>\n",
       "      <td>@PalasAthenas18 Hahahhaha 💜💜💜</td>\n",
       "      <td>hahahhaha 💜 💜 💜</td>\n",
       "      <td>0.0</td>\n",
       "      <td>0.0000</td>\n",
       "      <td>0.8000</td>\n",
       "    </tr>\n",
       "    <tr>\n",
       "      <th>4</th>\n",
       "      <td>@ErikakHilton É isso aí...</td>\n",
       "      <td></td>\n",
       "      <td>0.0</td>\n",
       "      <td>0.0000</td>\n",
       "      <td>0.0000</td>\n",
       "    </tr>\n",
       "    <tr>\n",
       "      <th>5</th>\n",
       "      <td>@Mendes2588 🫶🏾🫶🏾</td>\n",
       "      <td>🫶🏾🫶🏾</td>\n",
       "      <td>0.0</td>\n",
       "      <td>0.0000</td>\n",
       "      <td>0.0000</td>\n",
       "    </tr>\n",
       "    <tr>\n",
       "      <th>...</th>\n",
       "      <td>...</td>\n",
       "      <td>...</td>\n",
       "      <td>...</td>\n",
       "      <td>...</td>\n",
       "      <td>...</td>\n",
       "    </tr>\n",
       "    <tr>\n",
       "      <th>103</th>\n",
       "      <td>@ErikakHilton @LulaOficial ouvimos amém</td>\n",
       "      <td>ouvir amém</td>\n",
       "      <td>0.0</td>\n",
       "      <td>0.0000</td>\n",
       "      <td>0.0000</td>\n",
       "    </tr>\n",
       "    <tr>\n",
       "      <th>104</th>\n",
       "      <td>@ErikakHilton @LulaOficial Isso já tá sendo tudo pra minha saúde mental. O silêncio.</td>\n",
       "      <td>tar ser pra saúde mental silêncio</td>\n",
       "      <td>0.0</td>\n",
       "      <td>0.0000</td>\n",
       "      <td>0.3182</td>\n",
       "    </tr>\n",
       "    <tr>\n",
       "      <th>105</th>\n",
       "      <td>Cada hora de silêncio que passa só mostra o quão pequeno é um sujeito como Bolsonaro.\\n\\nQue sai...</td>\n",
       "      <td>hora silêncio passar mostrar quão pequeno sujeitar bolsonaro \\n\\n  saia presidência pra voltar</td>\n",
       "      <td>0.0</td>\n",
       "      <td>0.0000</td>\n",
       "      <td>-0.8571</td>\n",
       "    </tr>\n",
       "    <tr>\n",
       "      <th>106</th>\n",
       "      <td>@ErikakHilton obrigada por tudo 💜</td>\n",
       "      <td>💜</td>\n",
       "      <td>0.0</td>\n",
       "      <td>0.0000</td>\n",
       "      <td>0.8750</td>\n",
       "    </tr>\n",
       "    <tr>\n",
       "      <th>107</th>\n",
       "      <td>@ErikakHilton O cara é birrento, metido e soberbo! Nosso foco é o Brasil e ele que lute!</td>\n",
       "      <td>cara birrento meter soberbo foco brasil lute</td>\n",
       "      <td>0.0</td>\n",
       "      <td>-0.1531</td>\n",
       "      <td>-0.9365</td>\n",
       "    </tr>\n",
       "  </tbody>\n",
       "</table>\n",
       "<p>100 rows × 5 columns</p>\n",
       "</div>"
      ],
      "text/plain": [
       "                                                                                              rawContent  \\\n",
       "0    Ao longo do dia estou recebendo denúncias, inclusive de pessoas presas há mais de 16h na estrada...   \n",
       "1                                      @ErikakHilton Simplesmente a maior ❤️❤️❤️ https://t.co/SBA5EPiN7k   \n",
       "2                                                                          @PalasAthenas18 Hahahhaha 💜💜💜   \n",
       "4                                                                             @ErikakHilton É isso aí...   \n",
       "5                                                                                       @Mendes2588 🫶🏾🫶🏾   \n",
       "..                                                                                                   ...   \n",
       "103                                                              @ErikakHilton @LulaOficial ouvimos amém   \n",
       "104                 @ErikakHilton @LulaOficial Isso já tá sendo tudo pra minha saúde mental. O silêncio.   \n",
       "105  Cada hora de silêncio que passa só mostra o quão pequeno é um sujeito como Bolsonaro.\\n\\nQue sai...   \n",
       "106                                                                    @ErikakHilton obrigada por tudo 💜   \n",
       "107             @ErikakHilton O cara é birrento, metido e soberbo! Nosso foco é o Brasil e ele que lute!   \n",
       "\n",
       "                                                                                           lemma_content  \\\n",
       "0    longo dia receber denúncia pessoa presas haver 16h estrada água comer bloqueio ilegal caminhonei...   \n",
       "1                                                                               simplesmente ❤ ️ ❤ ️ ❤ ️   \n",
       "2                                                                                        hahahhaha 💜 💜 💜   \n",
       "4                                                                                                          \n",
       "5                                                                                                   🫶🏾🫶🏾   \n",
       "..                                                                                                   ...   \n",
       "103                                                                                           ouvir amém   \n",
       "104                                                                    tar ser pra saúde mental silêncio   \n",
       "105       hora silêncio passar mostrar quão pequeno sujeitar bolsonaro \\n\\n  saia presidência pra voltar   \n",
       "106                                                                                                    💜   \n",
       "107                                                         cara birrento meter soberbo foco brasil lute   \n",
       "\n",
       "     vader_sentiment_score  leia_sentiment_score  chatgpt_sentiment_score  \n",
       "0                      0.0               -0.7579                  -0.8750  \n",
       "1                      0.0                0.0000                   0.8750  \n",
       "2                      0.0                0.0000                   0.8000  \n",
       "4                      0.0                0.0000                   0.0000  \n",
       "5                      0.0                0.0000                   0.0000  \n",
       "..                     ...                   ...                      ...  \n",
       "103                    0.0                0.0000                   0.0000  \n",
       "104                    0.0                0.0000                   0.3182  \n",
       "105                    0.0                0.0000                  -0.8571  \n",
       "106                    0.0                0.0000                   0.8750  \n",
       "107                    0.0               -0.1531                  -0.9365  \n",
       "\n",
       "[100 rows x 5 columns]"
      ]
     },
     "execution_count": 282,
     "metadata": {},
     "output_type": "execute_result"
    }
   ],
   "source": [
    "sample_df[['rawContent', 'lemma_content', 'vader_sentiment_score', 'leia_sentiment_score', 'chatgpt_sentiment_score']]"
   ]
  },
  {
   "cell_type": "code",
   "execution_count": 284,
   "metadata": {
    "tags": []
   },
   "outputs": [
    {
     "name": "stdout",
     "output_type": "stream",
     "text": [
      "MAE: 0.5231135416666667\n",
      "MSE: 0.40081571052083337\n"
     ]
    }
   ],
   "source": [
    "# Necessário remover as linhas com None para calcular o erro\n",
    "results_df = sample_df.dropna(subset=['leia_sentiment_score', 'chatgpt_sentiment_score'])\n",
    "\n",
    "# Calculando métricas da análise\n",
    "mae = mean_absolute_error(\n",
    "    results_df['chatgpt_sentiment_score'], \n",
    "    results_df['leia_sentiment_score']\n",
    ")\n",
    "mse = mean_squared_error(\n",
    "    results_df['chatgpt_sentiment_score'], \n",
    "    results_df['leia_sentiment_score']\n",
    ")\n",
    "\n",
    "print(f\"MAE: {mae}\")\n",
    "print(f\"MSE: {mse}\")"
   ]
  },
  {
   "cell_type": "markdown",
   "metadata": {},
   "source": [
    "## Salvando os resultados"
   ]
  },
  {
   "cell_type": "code",
   "execution_count": 30,
   "metadata": {
    "tags": []
   },
   "outputs": [
    {
     "data": {
      "text/html": [
       "<div>\n",
       "<style scoped>\n",
       "    .dataframe tbody tr th:only-of-type {\n",
       "        vertical-align: middle;\n",
       "    }\n",
       "\n",
       "    .dataframe tbody tr th {\n",
       "        vertical-align: top;\n",
       "    }\n",
       "\n",
       "    .dataframe thead th {\n",
       "        text-align: right;\n",
       "    }\n",
       "</style>\n",
       "<table border=\"1\" class=\"dataframe\">\n",
       "  <thead>\n",
       "    <tr style=\"text-align: right;\">\n",
       "      <th></th>\n",
       "      <th>url</th>\n",
       "      <th>date</th>\n",
       "      <th>rawContent</th>\n",
       "      <th>renderedContent</th>\n",
       "      <th>id</th>\n",
       "      <th>user</th>\n",
       "      <th>replyCount</th>\n",
       "      <th>retweetCount</th>\n",
       "      <th>likeCount</th>\n",
       "      <th>quoteCount</th>\n",
       "      <th>...</th>\n",
       "      <th>user_protected</th>\n",
       "      <th>user_link</th>\n",
       "      <th>user_profileImageUrl</th>\n",
       "      <th>user_profileBannerUrl</th>\n",
       "      <th>user_label</th>\n",
       "      <th>content_formatted</th>\n",
       "      <th>lemma_content</th>\n",
       "      <th>vader_sentiment_score</th>\n",
       "      <th>leia_sentiment_score</th>\n",
       "      <th>chatgpt_sentiment_score</th>\n",
       "    </tr>\n",
       "  </thead>\n",
       "  <tbody>\n",
       "    <tr>\n",
       "      <th>0</th>\n",
       "      <td>https://twitter.com/ErikakHilton/status/1587217512470659074</td>\n",
       "      <td>2022-10-31 22:58:38+00:00</td>\n",
       "      <td>Ao longo do dia estou recebendo denúncias, inclusive de pessoas presas há mais de 16h na estrada...</td>\n",
       "      <td>Ao longo do dia estou recebendo denúncias, inclusive de pessoas presas há mais de 16h na estrada...</td>\n",
       "      <td>1587217512470659074</td>\n",
       "      <td>https://twitter.com/ErikakHilton</td>\n",
       "      <td>61</td>\n",
       "      <td>327</td>\n",
       "      <td>2568</td>\n",
       "      <td>63</td>\n",
       "      <td>...</td>\n",
       "      <td>False</td>\n",
       "      <td>TextLink(text='erikahilton.com.br', url='http://erikahilton.com.br/', tcourl='https://t.co/5KKZ3...</td>\n",
       "      <td>https://pbs.twimg.com/profile_images/1559380990333706240/vEImKRHW_normal.jpg</td>\n",
       "      <td>https://pbs.twimg.com/profile_banners/738143559920934912/1670375803</td>\n",
       "      <td>NaN</td>\n",
       "      <td>longo dia recebendo denúncias pessoas presas há 16h estrada água comida bloqueios ilegais caminh...</td>\n",
       "      <td>longo dia receber denúncia pessoa presas haver 16h estrada água comer bloqueio ilegal caminhonei...</td>\n",
       "      <td>0.0000</td>\n",
       "      <td>-0.7579</td>\n",
       "      <td>-0.8750</td>\n",
       "    </tr>\n",
       "    <tr>\n",
       "      <th>1</th>\n",
       "      <td>https://twitter.com/PalasAthenas18/status/1587217834643423232</td>\n",
       "      <td>2022-10-31 22:59:55+00:00</td>\n",
       "      <td>@ErikakHilton Simplesmente a maior ❤️❤️❤️ https://t.co/SBA5EPiN7k</td>\n",
       "      <td>@ErikakHilton Simplesmente a maior ❤️❤️❤️ https://t.co/SBA5EPiN7k</td>\n",
       "      <td>1587217834643423232</td>\n",
       "      <td>https://twitter.com/PalasAthenas18</td>\n",
       "      <td>3</td>\n",
       "      <td>2</td>\n",
       "      <td>204</td>\n",
       "      <td>0</td>\n",
       "      <td>...</td>\n",
       "      <td>False</td>\n",
       "      <td>NaN</td>\n",
       "      <td>https://pbs.twimg.com/profile_images/1622763976307212291/G_dY8w3Z_normal.jpg</td>\n",
       "      <td>https://pbs.twimg.com/profile_banners/1240253653451227136/1665902903</td>\n",
       "      <td>NaN</td>\n",
       "      <td>simplesmente ❤ ️ ❤ ️ ❤ ️</td>\n",
       "      <td>simplesmente ❤ ️ ❤ ️ ❤ ️</td>\n",
       "      <td>0.0000</td>\n",
       "      <td>0.0000</td>\n",
       "      <td>0.8750</td>\n",
       "    </tr>\n",
       "    <tr>\n",
       "      <th>2</th>\n",
       "      <td>https://twitter.com/ErikakHilton/status/1587217915220213762</td>\n",
       "      <td>2022-10-31 23:00:14+00:00</td>\n",
       "      <td>@PalasAthenas18 Hahahhaha 💜💜💜</td>\n",
       "      <td>@PalasAthenas18 Hahahhaha 💜💜💜</td>\n",
       "      <td>1587217915220213762</td>\n",
       "      <td>https://twitter.com/ErikakHilton</td>\n",
       "      <td>0</td>\n",
       "      <td>0</td>\n",
       "      <td>19</td>\n",
       "      <td>0</td>\n",
       "      <td>...</td>\n",
       "      <td>False</td>\n",
       "      <td>TextLink(text='erikahilton.com.br', url='http://erikahilton.com.br/', tcourl='https://t.co/5KKZ3...</td>\n",
       "      <td>https://pbs.twimg.com/profile_images/1559380990333706240/vEImKRHW_normal.jpg</td>\n",
       "      <td>https://pbs.twimg.com/profile_banners/738143559920934912/1670375803</td>\n",
       "      <td>NaN</td>\n",
       "      <td>hahahhaha 💜 💜 💜</td>\n",
       "      <td>hahahhaha 💜 💜 💜</td>\n",
       "      <td>0.0000</td>\n",
       "      <td>0.0000</td>\n",
       "      <td>0.8000</td>\n",
       "    </tr>\n",
       "    <tr>\n",
       "      <th>4</th>\n",
       "      <td>https://twitter.com/LNaty125/status/1587217794789265409</td>\n",
       "      <td>2022-10-31 22:59:46+00:00</td>\n",
       "      <td>@ErikakHilton É isso aí...</td>\n",
       "      <td>@ErikakHilton É isso aí...</td>\n",
       "      <td>1587217794789265409</td>\n",
       "      <td>https://twitter.com/LNaty125</td>\n",
       "      <td>1</td>\n",
       "      <td>0</td>\n",
       "      <td>1</td>\n",
       "      <td>0</td>\n",
       "      <td>...</td>\n",
       "      <td>False</td>\n",
       "      <td>NaN</td>\n",
       "      <td>https://pbs.twimg.com/profile_images/1563859369514733569/-WoAV1XK_normal.jpg</td>\n",
       "      <td>https://pbs.twimg.com/profile_banners/1186596179087376386/1672607870</td>\n",
       "      <td>NaN</td>\n",
       "      <td></td>\n",
       "      <td></td>\n",
       "      <td>0.0000</td>\n",
       "      <td>0.0000</td>\n",
       "      <td>0.0000</td>\n",
       "    </tr>\n",
       "    <tr>\n",
       "      <th>5</th>\n",
       "      <td>https://twitter.com/ErikakHilton/status/1587217852381143042</td>\n",
       "      <td>2022-10-31 22:59:59+00:00</td>\n",
       "      <td>@Mendes2588 🫶🏾🫶🏾</td>\n",
       "      <td>@Mendes2588 🫶🏾🫶🏾</td>\n",
       "      <td>1587217852381143042</td>\n",
       "      <td>https://twitter.com/ErikakHilton</td>\n",
       "      <td>1</td>\n",
       "      <td>0</td>\n",
       "      <td>2</td>\n",
       "      <td>0</td>\n",
       "      <td>...</td>\n",
       "      <td>False</td>\n",
       "      <td>TextLink(text='erikahilton.com.br', url='http://erikahilton.com.br/', tcourl='https://t.co/5KKZ3...</td>\n",
       "      <td>https://pbs.twimg.com/profile_images/1559380990333706240/vEImKRHW_normal.jpg</td>\n",
       "      <td>https://pbs.twimg.com/profile_banners/738143559920934912/1670375803</td>\n",
       "      <td>NaN</td>\n",
       "      <td>🫶🏾🫶🏾</td>\n",
       "      <td>🫶🏾🫶🏾</td>\n",
       "      <td>0.0000</td>\n",
       "      <td>0.0000</td>\n",
       "      <td>0.0000</td>\n",
       "    </tr>\n",
       "    <tr>\n",
       "      <th>6</th>\n",
       "      <td>https://twitter.com/LNaty125/status/1587217956999761923</td>\n",
       "      <td>2022-10-31 23:00:24+00:00</td>\n",
       "      <td>@ErikakHilton 🤏🏻❤</td>\n",
       "      <td>@ErikakHilton 🤏🏻❤</td>\n",
       "      <td>1587217956999761923</td>\n",
       "      <td>https://twitter.com/LNaty125</td>\n",
       "      <td>0</td>\n",
       "      <td>0</td>\n",
       "      <td>0</td>\n",
       "      <td>0</td>\n",
       "      <td>...</td>\n",
       "      <td>False</td>\n",
       "      <td>NaN</td>\n",
       "      <td>https://pbs.twimg.com/profile_images/1563859369514733569/-WoAV1XK_normal.jpg</td>\n",
       "      <td>https://pbs.twimg.com/profile_banners/1186596179087376386/1672607870</td>\n",
       "      <td>NaN</td>\n",
       "      <td>🤏🏻 ❤</td>\n",
       "      <td>🤏🏻 ❤</td>\n",
       "      <td>0.0000</td>\n",
       "      <td>0.0000</td>\n",
       "      <td>0.8000</td>\n",
       "    </tr>\n",
       "    <tr>\n",
       "      <th>8</th>\n",
       "      <td>https://twitter.com/ErikakHilton/status/1587217807422414855</td>\n",
       "      <td>2022-10-31 22:59:49+00:00</td>\n",
       "      <td>@juknobel 🫶🏾</td>\n",
       "      <td>@juknobel 🫶🏾</td>\n",
       "      <td>1587217807422414855</td>\n",
       "      <td>https://twitter.com/ErikakHilton</td>\n",
       "      <td>0</td>\n",
       "      <td>0</td>\n",
       "      <td>11</td>\n",
       "      <td>0</td>\n",
       "      <td>...</td>\n",
       "      <td>False</td>\n",
       "      <td>TextLink(text='erikahilton.com.br', url='http://erikahilton.com.br/', tcourl='https://t.co/5KKZ3...</td>\n",
       "      <td>https://pbs.twimg.com/profile_images/1559380990333706240/vEImKRHW_normal.jpg</td>\n",
       "      <td>https://pbs.twimg.com/profile_banners/738143559920934912/1670375803</td>\n",
       "      <td>NaN</td>\n",
       "      <td>🫶🏾</td>\n",
       "      <td>🫶🏾</td>\n",
       "      <td>0.0000</td>\n",
       "      <td>0.0000</td>\n",
       "      <td>0.0000</td>\n",
       "    </tr>\n",
       "    <tr>\n",
       "      <th>15</th>\n",
       "      <td>https://twitter.com/hikarumasaof/status/1587218045684142084</td>\n",
       "      <td>2022-10-31 23:00:45+00:00</td>\n",
       "      <td>@ErikakHilton Ah obrigado, Erika, já tava aflito sem saber se alguém já tinha tomado providências.</td>\n",
       "      <td>@ErikakHilton Ah obrigado, Erika, já tava aflito sem saber se alguém já tinha tomado providências.</td>\n",
       "      <td>1587218045684142084</td>\n",
       "      <td>https://twitter.com/hikarumasaof</td>\n",
       "      <td>0</td>\n",
       "      <td>0</td>\n",
       "      <td>6</td>\n",
       "      <td>0</td>\n",
       "      <td>...</td>\n",
       "      <td>False</td>\n",
       "      <td>NaN</td>\n",
       "      <td>https://pbs.twimg.com/profile_images/1595431085923598344/P9JUu7DC_normal.jpg</td>\n",
       "      <td>https://pbs.twimg.com/profile_banners/717503155047632896/1612569383</td>\n",
       "      <td>NaN</td>\n",
       "      <td>ah erika tava aflito alguém tinha tomado providências</td>\n",
       "      <td>ah erika tar aflito alguém ter tomar providência</td>\n",
       "      <td>0.0000</td>\n",
       "      <td>0.0000</td>\n",
       "      <td>0.4583</td>\n",
       "    </tr>\n",
       "    <tr>\n",
       "      <th>16</th>\n",
       "      <td>https://twitter.com/moidsch/status/1587218414149451776</td>\n",
       "      <td>2022-10-31 23:02:13+00:00</td>\n",
       "      <td>@ErikakHilton Pelo que eu entendi, a PRF tá adicionando eles nos close friends do instagram.</td>\n",
       "      <td>@ErikakHilton Pelo que eu entendi, a PRF tá adicionando eles nos close friends do instagram.</td>\n",
       "      <td>1587218414149451776</td>\n",
       "      <td>https://twitter.com/moidsch</td>\n",
       "      <td>0</td>\n",
       "      <td>0</td>\n",
       "      <td>4</td>\n",
       "      <td>0</td>\n",
       "      <td>...</td>\n",
       "      <td>False</td>\n",
       "      <td>NaN</td>\n",
       "      <td>https://pbs.twimg.com/profile_images/1572338202467307521/I5creRnu_normal.jpg</td>\n",
       "      <td>https://pbs.twimg.com/profile_banners/101843055/1632064572</td>\n",
       "      <td>NaN</td>\n",
       "      <td>entendi prf tá adicionando close friends instagram</td>\n",
       "      <td>entendi prf tar adicionar close friends instagrar</td>\n",
       "      <td>0.4767</td>\n",
       "      <td>0.0000</td>\n",
       "      <td>0.0000</td>\n",
       "    </tr>\n",
       "    <tr>\n",
       "      <th>17</th>\n",
       "      <td>https://twitter.com/jorgeg_89/status/1587218453924122625</td>\n",
       "      <td>2022-10-31 23:02:23+00:00</td>\n",
       "      <td>@ErikakHilton É de uma vergonha sem tamanho... PRF tá praticamente apoiando esse circo do mi-mi-...</td>\n",
       "      <td>@ErikakHilton É de uma vergonha sem tamanho... PRF tá praticamente apoiando esse circo do mi-mi-...</td>\n",
       "      <td>1587218453924122625</td>\n",
       "      <td>https://twitter.com/jorgeg_89</td>\n",
       "      <td>1</td>\n",
       "      <td>0</td>\n",
       "      <td>10</td>\n",
       "      <td>0</td>\n",
       "      <td>...</td>\n",
       "      <td>False</td>\n",
       "      <td>NaN</td>\n",
       "      <td>https://pbs.twimg.com/profile_images/1597375984109584384/SMHOUF1b_normal.jpg</td>\n",
       "      <td>https://pbs.twimg.com/profile_banners/1246716975918788609/1666725131</td>\n",
       "      <td>NaN</td>\n",
       "      <td>vergonha tamanho prf tá praticamente apoiando circo mimimi</td>\n",
       "      <td>vergonha tamanho prf tar praticamente apoiar circo mimimi</td>\n",
       "      <td>0.0000</td>\n",
       "      <td>-0.4019</td>\n",
       "      <td>-0.7847</td>\n",
       "    </tr>\n",
       "  </tbody>\n",
       "</table>\n",
       "<p>10 rows × 54 columns</p>\n",
       "</div>"
      ],
      "text/plain": [
       "                                                              url  \\\n",
       "0     https://twitter.com/ErikakHilton/status/1587217512470659074   \n",
       "1   https://twitter.com/PalasAthenas18/status/1587217834643423232   \n",
       "2     https://twitter.com/ErikakHilton/status/1587217915220213762   \n",
       "4         https://twitter.com/LNaty125/status/1587217794789265409   \n",
       "5     https://twitter.com/ErikakHilton/status/1587217852381143042   \n",
       "6         https://twitter.com/LNaty125/status/1587217956999761923   \n",
       "8     https://twitter.com/ErikakHilton/status/1587217807422414855   \n",
       "15    https://twitter.com/hikarumasaof/status/1587218045684142084   \n",
       "16         https://twitter.com/moidsch/status/1587218414149451776   \n",
       "17       https://twitter.com/jorgeg_89/status/1587218453924122625   \n",
       "\n",
       "                         date  \\\n",
       "0   2022-10-31 22:58:38+00:00   \n",
       "1   2022-10-31 22:59:55+00:00   \n",
       "2   2022-10-31 23:00:14+00:00   \n",
       "4   2022-10-31 22:59:46+00:00   \n",
       "5   2022-10-31 22:59:59+00:00   \n",
       "6   2022-10-31 23:00:24+00:00   \n",
       "8   2022-10-31 22:59:49+00:00   \n",
       "15  2022-10-31 23:00:45+00:00   \n",
       "16  2022-10-31 23:02:13+00:00   \n",
       "17  2022-10-31 23:02:23+00:00   \n",
       "\n",
       "                                                                                             rawContent  \\\n",
       "0   Ao longo do dia estou recebendo denúncias, inclusive de pessoas presas há mais de 16h na estrada...   \n",
       "1                                     @ErikakHilton Simplesmente a maior ❤️❤️❤️ https://t.co/SBA5EPiN7k   \n",
       "2                                                                         @PalasAthenas18 Hahahhaha 💜💜💜   \n",
       "4                                                                            @ErikakHilton É isso aí...   \n",
       "5                                                                                      @Mendes2588 🫶🏾🫶🏾   \n",
       "6                                                                                     @ErikakHilton 🤏🏻❤   \n",
       "8                                                                                          @juknobel 🫶🏾   \n",
       "15   @ErikakHilton Ah obrigado, Erika, já tava aflito sem saber se alguém já tinha tomado providências.   \n",
       "16         @ErikakHilton Pelo que eu entendi, a PRF tá adicionando eles nos close friends do instagram.   \n",
       "17  @ErikakHilton É de uma vergonha sem tamanho... PRF tá praticamente apoiando esse circo do mi-mi-...   \n",
       "\n",
       "                                                                                        renderedContent  \\\n",
       "0   Ao longo do dia estou recebendo denúncias, inclusive de pessoas presas há mais de 16h na estrada...   \n",
       "1                                     @ErikakHilton Simplesmente a maior ❤️❤️❤️ https://t.co/SBA5EPiN7k   \n",
       "2                                                                         @PalasAthenas18 Hahahhaha 💜💜💜   \n",
       "4                                                                            @ErikakHilton É isso aí...   \n",
       "5                                                                                      @Mendes2588 🫶🏾🫶🏾   \n",
       "6                                                                                     @ErikakHilton 🤏🏻❤   \n",
       "8                                                                                          @juknobel 🫶🏾   \n",
       "15   @ErikakHilton Ah obrigado, Erika, já tava aflito sem saber se alguém já tinha tomado providências.   \n",
       "16         @ErikakHilton Pelo que eu entendi, a PRF tá adicionando eles nos close friends do instagram.   \n",
       "17  @ErikakHilton É de uma vergonha sem tamanho... PRF tá praticamente apoiando esse circo do mi-mi-...   \n",
       "\n",
       "                     id                                user  replyCount  \\\n",
       "0   1587217512470659074    https://twitter.com/ErikakHilton          61   \n",
       "1   1587217834643423232  https://twitter.com/PalasAthenas18           3   \n",
       "2   1587217915220213762    https://twitter.com/ErikakHilton           0   \n",
       "4   1587217794789265409        https://twitter.com/LNaty125           1   \n",
       "5   1587217852381143042    https://twitter.com/ErikakHilton           1   \n",
       "6   1587217956999761923        https://twitter.com/LNaty125           0   \n",
       "8   1587217807422414855    https://twitter.com/ErikakHilton           0   \n",
       "15  1587218045684142084    https://twitter.com/hikarumasaof           0   \n",
       "16  1587218414149451776         https://twitter.com/moidsch           0   \n",
       "17  1587218453924122625       https://twitter.com/jorgeg_89           1   \n",
       "\n",
       "    retweetCount  likeCount  quoteCount  ...  user_protected  \\\n",
       "0            327       2568          63  ...           False   \n",
       "1              2        204           0  ...           False   \n",
       "2              0         19           0  ...           False   \n",
       "4              0          1           0  ...           False   \n",
       "5              0          2           0  ...           False   \n",
       "6              0          0           0  ...           False   \n",
       "8              0         11           0  ...           False   \n",
       "15             0          6           0  ...           False   \n",
       "16             0          4           0  ...           False   \n",
       "17             0         10           0  ...           False   \n",
       "\n",
       "                                                                                              user_link  \\\n",
       "0   TextLink(text='erikahilton.com.br', url='http://erikahilton.com.br/', tcourl='https://t.co/5KKZ3...   \n",
       "1                                                                                                   NaN   \n",
       "2   TextLink(text='erikahilton.com.br', url='http://erikahilton.com.br/', tcourl='https://t.co/5KKZ3...   \n",
       "4                                                                                                   NaN   \n",
       "5   TextLink(text='erikahilton.com.br', url='http://erikahilton.com.br/', tcourl='https://t.co/5KKZ3...   \n",
       "6                                                                                                   NaN   \n",
       "8   TextLink(text='erikahilton.com.br', url='http://erikahilton.com.br/', tcourl='https://t.co/5KKZ3...   \n",
       "15                                                                                                  NaN   \n",
       "16                                                                                                  NaN   \n",
       "17                                                                                                  NaN   \n",
       "\n",
       "                                                            user_profileImageUrl  \\\n",
       "0   https://pbs.twimg.com/profile_images/1559380990333706240/vEImKRHW_normal.jpg   \n",
       "1   https://pbs.twimg.com/profile_images/1622763976307212291/G_dY8w3Z_normal.jpg   \n",
       "2   https://pbs.twimg.com/profile_images/1559380990333706240/vEImKRHW_normal.jpg   \n",
       "4   https://pbs.twimg.com/profile_images/1563859369514733569/-WoAV1XK_normal.jpg   \n",
       "5   https://pbs.twimg.com/profile_images/1559380990333706240/vEImKRHW_normal.jpg   \n",
       "6   https://pbs.twimg.com/profile_images/1563859369514733569/-WoAV1XK_normal.jpg   \n",
       "8   https://pbs.twimg.com/profile_images/1559380990333706240/vEImKRHW_normal.jpg   \n",
       "15  https://pbs.twimg.com/profile_images/1595431085923598344/P9JUu7DC_normal.jpg   \n",
       "16  https://pbs.twimg.com/profile_images/1572338202467307521/I5creRnu_normal.jpg   \n",
       "17  https://pbs.twimg.com/profile_images/1597375984109584384/SMHOUF1b_normal.jpg   \n",
       "\n",
       "                                                   user_profileBannerUrl  \\\n",
       "0    https://pbs.twimg.com/profile_banners/738143559920934912/1670375803   \n",
       "1   https://pbs.twimg.com/profile_banners/1240253653451227136/1665902903   \n",
       "2    https://pbs.twimg.com/profile_banners/738143559920934912/1670375803   \n",
       "4   https://pbs.twimg.com/profile_banners/1186596179087376386/1672607870   \n",
       "5    https://pbs.twimg.com/profile_banners/738143559920934912/1670375803   \n",
       "6   https://pbs.twimg.com/profile_banners/1186596179087376386/1672607870   \n",
       "8    https://pbs.twimg.com/profile_banners/738143559920934912/1670375803   \n",
       "15   https://pbs.twimg.com/profile_banners/717503155047632896/1612569383   \n",
       "16            https://pbs.twimg.com/profile_banners/101843055/1632064572   \n",
       "17  https://pbs.twimg.com/profile_banners/1246716975918788609/1666725131   \n",
       "\n",
       "    user_label  \\\n",
       "0          NaN   \n",
       "1          NaN   \n",
       "2          NaN   \n",
       "4          NaN   \n",
       "5          NaN   \n",
       "6          NaN   \n",
       "8          NaN   \n",
       "15         NaN   \n",
       "16         NaN   \n",
       "17         NaN   \n",
       "\n",
       "                                                                                      content_formatted  \\\n",
       "0   longo dia recebendo denúncias pessoas presas há 16h estrada água comida bloqueios ilegais caminh...   \n",
       "1                                                                              simplesmente ❤ ️ ❤ ️ ❤ ️   \n",
       "2                                                                                       hahahhaha 💜 💜 💜   \n",
       "4                                                                                                         \n",
       "5                                                                                                  🫶🏾🫶🏾   \n",
       "6                                                                                                  🤏🏻 ❤   \n",
       "8                                                                                                    🫶🏾   \n",
       "15                                                ah erika tava aflito alguém tinha tomado providências   \n",
       "16                                                   entendi prf tá adicionando close friends instagram   \n",
       "17                                           vergonha tamanho prf tá praticamente apoiando circo mimimi   \n",
       "\n",
       "                                                                                          lemma_content  \\\n",
       "0   longo dia receber denúncia pessoa presas haver 16h estrada água comer bloqueio ilegal caminhonei...   \n",
       "1                                                                              simplesmente ❤ ️ ❤ ️ ❤ ️   \n",
       "2                                                                                       hahahhaha 💜 💜 💜   \n",
       "4                                                                                                         \n",
       "5                                                                                                  🫶🏾🫶🏾   \n",
       "6                                                                                                  🤏🏻 ❤   \n",
       "8                                                                                                    🫶🏾   \n",
       "15                                                     ah erika tar aflito alguém ter tomar providência   \n",
       "16                                                    entendi prf tar adicionar close friends instagrar   \n",
       "17                                            vergonha tamanho prf tar praticamente apoiar circo mimimi   \n",
       "\n",
       "    vader_sentiment_score leia_sentiment_score  chatgpt_sentiment_score  \n",
       "0                  0.0000              -0.7579                  -0.8750  \n",
       "1                  0.0000               0.0000                   0.8750  \n",
       "2                  0.0000               0.0000                   0.8000  \n",
       "4                  0.0000               0.0000                   0.0000  \n",
       "5                  0.0000               0.0000                   0.0000  \n",
       "6                  0.0000               0.0000                   0.8000  \n",
       "8                  0.0000               0.0000                   0.0000  \n",
       "15                 0.0000               0.0000                   0.4583  \n",
       "16                 0.4767               0.0000                   0.0000  \n",
       "17                 0.0000              -0.4019                  -0.7847  \n",
       "\n",
       "[10 rows x 54 columns]"
      ]
     },
     "execution_count": 30,
     "metadata": {},
     "output_type": "execute_result"
    }
   ],
   "source": [
    "sample_df[:10]"
   ]
  },
  {
   "cell_type": "code",
   "execution_count": 285,
   "metadata": {
    "tags": []
   },
   "outputs": [],
   "source": [
    "output_path = '../data/processed/'\n",
    "output_file = f'sentiment_analysis_comparison_output.csv'\n",
    "\n",
    "# Para salvar os dados, descomente as linhas abaixo\n",
    "# sample_df.to_csv(f\"{output_path}{output_file}\", sep=';', encoding='utf-8', index=False)"
   ]
  }
 ],
 "metadata": {
  "kernelspec": {
   "display_name": "Python 3 (ipykernel)",
   "language": "python",
   "name": "python3"
  },
  "language_info": {
   "codemirror_mode": {
    "name": "ipython",
    "version": 3
   },
   "file_extension": ".py",
   "mimetype": "text/x-python",
   "name": "python",
   "nbconvert_exporter": "python",
   "pygments_lexer": "ipython3",
   "version": "3.8.13"
  },
  "vscode": {
   "interpreter": {
    "hash": "2852de53f51e57db0fb3c92b7d03cd28fd1e6acc643c7bf23f4addc7db48be7a"
   }
  }
 },
 "nbformat": 4,
 "nbformat_minor": 4
}
