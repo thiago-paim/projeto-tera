{
 "cells": [
  {
   "cell_type": "markdown",
   "metadata": {},
   "source": [
    "# Importando bibliotecas e dataset "
   ]
  },
  {
   "cell_type": "code",
   "execution_count": 1,
   "metadata": {
    "tags": []
   },
   "outputs": [],
   "source": [
    "# Adicionando ao path para facilitar importações de arquivos\n",
    "import sys\n",
    "sys.path.append('../')"
   ]
  },
  {
   "cell_type": "code",
   "execution_count": 2,
   "metadata": {
    "tags": []
   },
   "outputs": [],
   "source": [
    "# Descomente a linha abaixo na primeira execução, caso não possua o `pt_core_news_lg`\n",
    "# !python -m spacy download pt_core_news_lg"
   ]
  },
  {
   "cell_type": "code",
   "execution_count": 3,
   "metadata": {
    "tags": []
   },
   "outputs": [],
   "source": [
    "import matplotlib.pyplot as plt\n",
    "import nltk\n",
    "import numpy as np\n",
    "import os\n",
    "import openai\n",
    "import pandas as pd\n",
    "import re\n",
    "import seaborn as sns\n",
    "import spacy\n",
    "import string\n",
    "\n",
    "from LeIA import SentimentIntensityAnalyzer as LeIASentimentIntensityAnalyzer\n",
    "from nltk.sentiment import SentimentIntensityAnalyzer\n",
    "from spacy.lang.pt.stop_words import STOP_WORDS\n",
    "from sklearn.metrics import mean_absolute_error, mean_squared_error, r2_score\n",
    "from tqdm import tqdm\n",
    "\n",
    "import pt_core_news_lg\n",
    "\n",
    "pd.options.display.max_colwidth = 100"
   ]
  },
  {
   "cell_type": "code",
   "execution_count": 4,
   "metadata": {
    "tags": []
   },
   "outputs": [
    {
     "name": "stderr",
     "output_type": "stream",
     "text": [
      "/tmp/ipykernel_8170/3505034139.py:2: DtypeWarning: Columns (25) have mixed types. Specify dtype option on import or set low_memory=False.\n",
      "  df = pd.read_csv(file_path, on_bad_lines='skip', sep=';', encoding='utf-8')\n"
     ]
    }
   ],
   "source": [
    "file_path = '../data/raw/ErikakHilton-tweets.csv'\n",
    "df = pd.read_csv(file_path, on_bad_lines='skip', sep=';', encoding='utf-8')"
   ]
  },
  {
   "cell_type": "code",
   "execution_count": 5,
   "metadata": {
    "tags": []
   },
   "outputs": [
    {
     "data": {
      "text/plain": [
       "(22505, 49)"
      ]
     },
     "execution_count": 5,
     "metadata": {},
     "output_type": "execute_result"
    }
   ],
   "source": [
    "df.shape"
   ]
  },
  {
   "cell_type": "markdown",
   "metadata": {},
   "source": [
    "# Pré processamento"
   ]
  },
  {
   "cell_type": "markdown",
   "metadata": {},
   "source": [
    "## Filtrar tweets\n",
    "Vamos remover tweets repetidos e filtrar uma amostra menor, para facilitar a comparação manual de resultados"
   ]
  },
  {
   "cell_type": "code",
   "execution_count": 6,
   "metadata": {
    "tags": []
   },
   "outputs": [
    {
     "data": {
      "text/plain": [
       "(20505, 49)"
      ]
     },
     "execution_count": 6,
     "metadata": {},
     "output_type": "execute_result"
    }
   ],
   "source": [
    "duplicated_indexes = df[df.duplicated()].index\n",
    "sample_df = df.drop(duplicated_indexes)\n",
    "sample_df.shape"
   ]
  },
  {
   "cell_type": "code",
   "execution_count": 7,
   "metadata": {
    "tags": []
   },
   "outputs": [],
   "source": [
    "sample_df = sample_df[:100]"
   ]
  },
  {
   "cell_type": "markdown",
   "metadata": {},
   "source": [
    "## Limpeza dos tweets"
   ]
  },
  {
   "cell_type": "code",
   "execution_count": 8,
   "metadata": {
    "tags": []
   },
   "outputs": [],
   "source": [
    "# Removendo \"não\" das stopwords\n",
    "STOP_WORDS.remove('não')\n",
    "\n",
    "# Instanciando spacy/pt_core_news_lg - corpus completo\n",
    "nlp = spacy.load('pt_core_news_lg')"
   ]
  },
  {
   "cell_type": "code",
   "execution_count": 9,
   "metadata": {
    "tags": []
   },
   "outputs": [],
   "source": [
    "# Função para remover URL\n",
    "def remover_url(texto):\n",
    "    texto = re.sub(r'http\\S+', '', texto)\n",
    "    return texto\n",
    "\n",
    "# Função para remover contas\n",
    "def remover_twiters(texto):\n",
    "    texto = re.sub(r'@\\w+', '', texto)\n",
    "    return texto\n",
    "\n",
    "# Função para remover pontuações\n",
    "def remover_pontuacao(texto):\n",
    "    texto = re.sub(f\"[{re.escape(string.punctuation)}]\", \"\", texto)\n",
    "    return texto\n",
    "\n",
    "# Função para remoção de stopwords e digitos\n",
    "def limpar_texto(texto):\n",
    "    doc = nlp(texto)\n",
    "    tokens = [token.text for token in doc if not token.is_stop and not token.is_digit]\n",
    "    texto_limpo = \" \".join(tokens)\n",
    "    return texto_limpo"
   ]
  },
  {
   "cell_type": "code",
   "execution_count": 10,
   "metadata": {
    "tags": []
   },
   "outputs": [],
   "source": [
    "# Aplicando limpezas\n",
    "tweets = sample_df['rawContent']\n",
    "\n",
    "tweets = tweets.str.lower()\n",
    "tweets = tweets.apply(remover_url)\n",
    "tweets = tweets.apply(remover_twiters)\n",
    "tweets = tweets.apply(remover_pontuacao)\n",
    "tweets = tweets.apply(limpar_texto)"
   ]
  },
  {
   "cell_type": "code",
   "execution_count": 11,
   "metadata": {
    "tags": []
   },
   "outputs": [],
   "source": [
    "# Jogando de volta para o dataframe\n",
    "sample_df['formatted_content'] = tweets"
   ]
  },
  {
   "cell_type": "code",
   "execution_count": 12,
   "metadata": {
    "tags": []
   },
   "outputs": [
    {
     "data": {
      "text/html": [
       "<div>\n",
       "<style scoped>\n",
       "    .dataframe tbody tr th:only-of-type {\n",
       "        vertical-align: middle;\n",
       "    }\n",
       "\n",
       "    .dataframe tbody tr th {\n",
       "        vertical-align: top;\n",
       "    }\n",
       "\n",
       "    .dataframe thead th {\n",
       "        text-align: right;\n",
       "    }\n",
       "</style>\n",
       "<table border=\"1\" class=\"dataframe\">\n",
       "  <thead>\n",
       "    <tr style=\"text-align: right;\">\n",
       "      <th></th>\n",
       "      <th>rawContent</th>\n",
       "      <th>formatted_content</th>\n",
       "    </tr>\n",
       "  </thead>\n",
       "  <tbody>\n",
       "    <tr>\n",
       "      <th>0</th>\n",
       "      <td>Ao longo do dia estou recebendo denúncias, inclusive de pessoas presas há mais de 16h na estrada...</td>\n",
       "      <td>longo dia recebendo denúncias pessoas presas há 16h estrada água comida bloqueios ilegais caminh...</td>\n",
       "    </tr>\n",
       "    <tr>\n",
       "      <th>1</th>\n",
       "      <td>@ErikakHilton Simplesmente a maior ❤️❤️❤️ https://t.co/SBA5EPiN7k</td>\n",
       "      <td>simplesmente ❤ ️ ❤ ️ ❤ ️</td>\n",
       "    </tr>\n",
       "    <tr>\n",
       "      <th>2</th>\n",
       "      <td>@PalasAthenas18 Hahahhaha 💜💜💜</td>\n",
       "      <td>hahahhaha 💜 💜 💜</td>\n",
       "    </tr>\n",
       "    <tr>\n",
       "      <th>4</th>\n",
       "      <td>@ErikakHilton É isso aí...</td>\n",
       "      <td></td>\n",
       "    </tr>\n",
       "    <tr>\n",
       "      <th>5</th>\n",
       "      <td>@Mendes2588 🫶🏾🫶🏾</td>\n",
       "      <td>🫶🏾🫶🏾</td>\n",
       "    </tr>\n",
       "  </tbody>\n",
       "</table>\n",
       "</div>"
      ],
      "text/plain": [
       "                                                                                            rawContent  \\\n",
       "0  Ao longo do dia estou recebendo denúncias, inclusive de pessoas presas há mais de 16h na estrada...   \n",
       "1                                    @ErikakHilton Simplesmente a maior ❤️❤️❤️ https://t.co/SBA5EPiN7k   \n",
       "2                                                                        @PalasAthenas18 Hahahhaha 💜💜💜   \n",
       "4                                                                           @ErikakHilton É isso aí...   \n",
       "5                                                                                     @Mendes2588 🫶🏾🫶🏾   \n",
       "\n",
       "                                                                                     formatted_content  \n",
       "0  longo dia recebendo denúncias pessoas presas há 16h estrada água comida bloqueios ilegais caminh...  \n",
       "1                                                                             simplesmente ❤ ️ ❤ ️ ❤ ️  \n",
       "2                                                                                      hahahhaha 💜 💜 💜  \n",
       "4                                                                                                       \n",
       "5                                                                                                 🫶🏾🫶🏾  "
      ]
     },
     "execution_count": 12,
     "metadata": {},
     "output_type": "execute_result"
    }
   ],
   "source": [
    "sample_df[['rawContent', 'formatted_content']].head()"
   ]
  },
  {
   "cell_type": "markdown",
   "metadata": {},
   "source": [
    "## Lemmatizando"
   ]
  },
  {
   "cell_type": "code",
   "execution_count": 13,
   "metadata": {
    "tags": []
   },
   "outputs": [],
   "source": [
    "# Função para lemmatização\n",
    "def lemmatiza(texto):\n",
    "    doc = nlp(texto)\n",
    "    lemmatized_tokens = []\n",
    "    for token in doc:\n",
    "        lemmatized_tokens.append(token.lemma_)\n",
    "    return \" \".join(lemmatized_tokens)"
   ]
  },
  {
   "cell_type": "code",
   "execution_count": 14,
   "metadata": {
    "tags": []
   },
   "outputs": [],
   "source": [
    "sample_df['lemma_content'] = sample_df['formatted_content'].apply(lemmatiza)"
   ]
  },
  {
   "cell_type": "code",
   "execution_count": 15,
   "metadata": {
    "tags": []
   },
   "outputs": [
    {
     "data": {
      "text/html": [
       "<div>\n",
       "<style scoped>\n",
       "    .dataframe tbody tr th:only-of-type {\n",
       "        vertical-align: middle;\n",
       "    }\n",
       "\n",
       "    .dataframe tbody tr th {\n",
       "        vertical-align: top;\n",
       "    }\n",
       "\n",
       "    .dataframe thead th {\n",
       "        text-align: right;\n",
       "    }\n",
       "</style>\n",
       "<table border=\"1\" class=\"dataframe\">\n",
       "  <thead>\n",
       "    <tr style=\"text-align: right;\">\n",
       "      <th></th>\n",
       "      <th>rawContent</th>\n",
       "      <th>formatted_content</th>\n",
       "      <th>lemma_content</th>\n",
       "    </tr>\n",
       "  </thead>\n",
       "  <tbody>\n",
       "    <tr>\n",
       "      <th>0</th>\n",
       "      <td>Ao longo do dia estou recebendo denúncias, inclusive de pessoas presas há mais de 16h na estrada...</td>\n",
       "      <td>longo dia recebendo denúncias pessoas presas há 16h estrada água comida bloqueios ilegais caminh...</td>\n",
       "      <td>longo dia receber denúncia pessoa presas haver 16h estrada água comer bloqueio ilegal caminhonei...</td>\n",
       "    </tr>\n",
       "    <tr>\n",
       "      <th>1</th>\n",
       "      <td>@ErikakHilton Simplesmente a maior ❤️❤️❤️ https://t.co/SBA5EPiN7k</td>\n",
       "      <td>simplesmente ❤ ️ ❤ ️ ❤ ️</td>\n",
       "      <td>simplesmente ❤ ️ ❤ ️ ❤ ️</td>\n",
       "    </tr>\n",
       "    <tr>\n",
       "      <th>2</th>\n",
       "      <td>@PalasAthenas18 Hahahhaha 💜💜💜</td>\n",
       "      <td>hahahhaha 💜 💜 💜</td>\n",
       "      <td>hahahhaha 💜 💜 💜</td>\n",
       "    </tr>\n",
       "    <tr>\n",
       "      <th>4</th>\n",
       "      <td>@ErikakHilton É isso aí...</td>\n",
       "      <td></td>\n",
       "      <td></td>\n",
       "    </tr>\n",
       "    <tr>\n",
       "      <th>5</th>\n",
       "      <td>@Mendes2588 🫶🏾🫶🏾</td>\n",
       "      <td>🫶🏾🫶🏾</td>\n",
       "      <td>🫶🏾🫶🏾</td>\n",
       "    </tr>\n",
       "  </tbody>\n",
       "</table>\n",
       "</div>"
      ],
      "text/plain": [
       "                                                                                            rawContent  \\\n",
       "0  Ao longo do dia estou recebendo denúncias, inclusive de pessoas presas há mais de 16h na estrada...   \n",
       "1                                    @ErikakHilton Simplesmente a maior ❤️❤️❤️ https://t.co/SBA5EPiN7k   \n",
       "2                                                                        @PalasAthenas18 Hahahhaha 💜💜💜   \n",
       "4                                                                           @ErikakHilton É isso aí...   \n",
       "5                                                                                     @Mendes2588 🫶🏾🫶🏾   \n",
       "\n",
       "                                                                                     formatted_content  \\\n",
       "0  longo dia recebendo denúncias pessoas presas há 16h estrada água comida bloqueios ilegais caminh...   \n",
       "1                                                                             simplesmente ❤ ️ ❤ ️ ❤ ️   \n",
       "2                                                                                      hahahhaha 💜 💜 💜   \n",
       "4                                                                                                        \n",
       "5                                                                                                 🫶🏾🫶🏾   \n",
       "\n",
       "                                                                                         lemma_content  \n",
       "0  longo dia receber denúncia pessoa presas haver 16h estrada água comer bloqueio ilegal caminhonei...  \n",
       "1                                                                             simplesmente ❤ ️ ❤ ️ ❤ ️  \n",
       "2                                                                                      hahahhaha 💜 💜 💜  \n",
       "4                                                                                                       \n",
       "5                                                                                                 🫶🏾🫶🏾  "
      ]
     },
     "execution_count": 15,
     "metadata": {},
     "output_type": "execute_result"
    }
   ],
   "source": [
    "sample_df[['rawContent', 'formatted_content', 'lemma_content']].head()"
   ]
  },
  {
   "cell_type": "markdown",
   "metadata": {},
   "source": [
    "# Análise de Sentimento"
   ]
  },
  {
   "cell_type": "markdown",
   "metadata": {},
   "source": [
    "## Vader Sentiment Intensity Analysis\n",
    "O Vader (do NLTK) não foi treinado com português, portanto seus resultados não são confiáveis. Vamos aplicar aqui apenas para comparar com o LeIA"
   ]
  },
  {
   "cell_type": "code",
   "execution_count": 16,
   "metadata": {
    "tags": []
   },
   "outputs": [
    {
     "name": "stderr",
     "output_type": "stream",
     "text": [
      "[nltk_data] Downloading package vader_lexicon to\n",
      "[nltk_data]     /home/paim/nltk_data...\n",
      "[nltk_data]   Package vader_lexicon is already up-to-date!\n"
     ]
    },
    {
     "data": {
      "text/plain": [
       "True"
      ]
     },
     "execution_count": 16,
     "metadata": {},
     "output_type": "execute_result"
    }
   ],
   "source": [
    "nltk.download('vader_lexicon') # download do sentiment lexicon"
   ]
  },
  {
   "cell_type": "code",
   "execution_count": 17,
   "metadata": {
    "tags": []
   },
   "outputs": [],
   "source": [
    "vader_sia = SentimentIntensityAnalyzer()\n",
    "\n",
    "def vader_sentiment_analysis(text):\n",
    "    return vader_sia.polarity_scores(text)['compound']\n",
    "\n",
    "sample_df['vader_sentiment_score'] = sample_df['rawContent'].apply(vader_sentiment_analysis)"
   ]
  },
  {
   "cell_type": "markdown",
   "metadata": {},
   "source": [
    "## LeIA Sentiment Intensity Analysis\n",
    "\n",
    "LeIA (Léxico para Inferência Adaptada) é uma adaptação da analise de intensidade de sentimento do Vader para o português"
   ]
  },
  {
   "cell_type": "code",
   "execution_count": 20,
   "metadata": {
    "tags": []
   },
   "outputs": [],
   "source": [
    "leia_sia = LeIASentimentIntensityAnalyzer() # criar sentiment analyzer\n",
    "\n",
    "def leia_sentiment_analysis(text):\n",
    "    return leia_sia.polarity_scores(text)\n",
    "\n",
    "scores = sample_df['rawContent'].apply(leia_sentiment_analysis)\n",
    "sample_df['leia_sentiment_neg'] = scores.apply(lambda score: score['neg'])\n",
    "sample_df['leia_sentiment_neu'] = scores.apply(lambda score: score['neu'])\n",
    "sample_df['leia_sentiment_pos'] = scores.apply(lambda score: score['pos'])\n",
    "sample_df['leia_sentiment_score'] = scores.apply(lambda score: score['compound'])\n",
    "\n",
    "# Score com texto lemmatizado, para comparação\n",
    "lemma_scores = sample_df['lemma_content'].apply(leia_sentiment_analysis)\n",
    "sample_df['lemma_leia_sentiment_score'] = lemma_scores.apply(lambda score: score['compound'])"
   ]
  },
  {
   "cell_type": "markdown",
   "metadata": {},
   "source": [
    "## Avaliação do ChatGPT\n",
    "Vamos usar a API do ChatGPT para gerar outra análise de sentimentos, para comparar os resultados."
   ]
  },
  {
   "cell_type": "code",
   "execution_count": 21,
   "metadata": {
    "tags": []
   },
   "outputs": [],
   "source": [
    "from src.config import OPENAI_API_KEY\n",
    "openai.api_key = OPENAI_API_KEY"
   ]
  },
  {
   "cell_type": "code",
   "execution_count": null,
   "metadata": {},
   "outputs": [],
   "source": [
    "\"\"\"\n",
    "Estava tentando um resultado mais elaborado, mas as respostas estão muito inconsistentes. \n",
    "Acho que vale a pena tentar otimizar os prompts para respostas mais precisas e bem explicadas\n",
    "\"\"\"\n",
    "# base_msg = (\n",
    "#     \"Você é meu assistente de PLN e fará uma análise de sentimentos nos tweets que eu mandar. \"\n",
    "#     \"Os tweets serão enviados no formato CSV com duas colunas (separadas por ;;):\\n - Id do tweet\\n - Texto do tweet\\n\\n\"\n",
    "#     \"Para cada tweet você deve gerar um score de -1 (extremamente negativo) a 1(extremamente positivo), com até 4 casas decimais.\\n\"\n",
    "#     \"Sua resposta deve vir no formato de um arquivo CSV com três colunas (separadas por ;;):\\n\"\n",
    "#     \" - Id do tweet\\n - Score de sentimentos do tweet\\n - Breve explicação do score\\n\\n\"\n",
    "#     \"Aqui vão os tweets para análise:\\n\"\n",
    "# )\n",
    "\n",
    "# def get_chatgpt_tweet_input(tweet):\n",
    "#     return f\"{tweet.id};;{tweet.rawContent}\"\n",
    "\n",
    "# tweets_input = sample_df[:10].apply(get_chatgpt_row_input, axis=1).values\n",
    "# tweets_input = '\\n'.join(tweets_input)\n",
    "\n",
    "# msg = base_msg + tweets_input\n",
    "# print(msg)\n",
    "# print('\\n\\n')\n",
    "\n",
    "# completion = openai.ChatCompletion.create(\n",
    "#     model=\"gpt-3.5-turbo\",\n",
    "#     messages=[{\"role\": \"user\", \"content\": msg}],\n",
    "#     temperature=0,\n",
    "# )\n",
    "\n",
    "# print(completion.choices[0].message.content)"
   ]
  },
  {
   "cell_type": "code",
   "execution_count": 27,
   "metadata": {
    "tags": []
   },
   "outputs": [
    {
     "name": "stderr",
     "output_type": "stream",
     "text": [
      "100%|██████████████████████████████████████████████████████████████████████████████████████████████████████████████████████████████████████████████████████████████████████████| 100/100 [01:23<00:00,  1.19it/s]\n"
     ]
    }
   ],
   "source": [
    "base_msg = (\n",
    "    \"Você é meu assistente de PLN e irá realizar uma análise de sentimentos no tweet que eu enviar. \"\n",
    "    \"Você deve gerar um score de sentimento de -1 (extremamente negativo) a 1(extremamente positivo), com até 4 casas decimais. \"\n",
    "    \"Sua resposta deve conter apenas o número do score de sentimento.\"\n",
    "    \"Tweet: \"\n",
    ")\n",
    "\n",
    "raw_chatgpt_sentiment_score = []\n",
    "\n",
    "for tweet in tqdm(sample_df['rawContent']):\n",
    "    msg = base_msg + tweet    \n",
    "    completion = openai.ChatCompletion.create(\n",
    "        model=\"gpt-3.5-turbo\",\n",
    "        messages=[{\"role\": \"user\", \"content\": msg}],\n",
    "        temperature=0,\n",
    "    )\n",
    "\n",
    "    raw_chatgpt_sentiment_score.append(completion.choices[0].message.content)"
   ]
  },
  {
   "cell_type": "code",
   "execution_count": 29,
   "metadata": {
    "tags": []
   },
   "outputs": [],
   "source": [
    "# O ChatGPT não consegue avaliar alguns tweets, por isso precisamos remover alguns dos resultados\n",
    "def convert_score(raw_score):\n",
    "    try:\n",
    "        return float(score)\n",
    "    except Exception as e:\n",
    "        return None\n",
    "\n",
    "chatgpt_sentiment_score = []\n",
    "for score in raw_chatgpt_sentiment_score:\n",
    "    chatgpt_sentiment_score.append(convert_score(score))\n",
    "    \n",
    "sample_df['chatgpt_sentiment_score'] = chatgpt_sentiment_score"
   ]
  },
  {
   "cell_type": "code",
   "execution_count": 30,
   "metadata": {
    "tags": []
   },
   "outputs": [
    {
     "data": {
      "text/plain": [
       "pos    40\n",
       "neu    33\n",
       "neg    27\n",
       "Name: chatgpt_sentiment, dtype: int64"
      ]
     },
     "execution_count": 30,
     "metadata": {},
     "output_type": "execute_result"
    }
   ],
   "source": [
    "def get_sentiment_from_score(score):\n",
    "    if score <= -0.5:\n",
    "        return \"neg\"\n",
    "    if score < 0.5:\n",
    "        return \"neu\"\n",
    "    return \"pos\"\n",
    "\n",
    "sample_df['chatgpt_sentiment'] = sample_df['chatgpt_sentiment_score'].apply(get_sentiment_from_score)\n",
    "sample_df['chatgpt_sentiment'].value_counts()"
   ]
  },
  {
   "cell_type": "markdown",
   "metadata": {},
   "source": [
    "# Comparação de Resultados"
   ]
  },
  {
   "cell_type": "code",
   "execution_count": null,
   "metadata": {
    "tags": []
   },
   "outputs": [],
   "source": [
    "print(sample_df['vader_sentiment_score'].hist())"
   ]
  },
  {
   "cell_type": "code",
   "execution_count": null,
   "metadata": {
    "tags": []
   },
   "outputs": [],
   "source": [
    "print(sample_df['lemma_leia_sentiment_score'].hist())"
   ]
  },
  {
   "cell_type": "code",
   "execution_count": null,
   "metadata": {
    "tags": []
   },
   "outputs": [],
   "source": [
    "print(sample_df['leia_sentiment_score'].hist())"
   ]
  },
  {
   "cell_type": "code",
   "execution_count": null,
   "metadata": {
    "tags": []
   },
   "outputs": [],
   "source": [
    "print(sample_df['chatgpt_sentiment_score'].hist())"
   ]
  },
  {
   "cell_type": "code",
   "execution_count": null,
   "metadata": {
    "tags": []
   },
   "outputs": [],
   "source": [
    "sample_df[['rawContent', 'lemma_content', 'vader_sentiment_score', 'lemma_leia_sentiment_score', 'leia_sentiment_score', 'chatgpt_sentiment_score']]"
   ]
  },
  {
   "cell_type": "code",
   "execution_count": null,
   "metadata": {
    "tags": []
   },
   "outputs": [],
   "source": [
    "sample_df[['vader_sentiment_score', 'lemma_leia_sentiment_score', 'leia_sentiment_score', 'chatgpt_sentiment_score']].describe()"
   ]
  },
  {
   "cell_type": "markdown",
   "metadata": {},
   "source": [
    "### Métricas"
   ]
  },
  {
   "cell_type": "code",
   "execution_count": null,
   "metadata": {
    "tags": []
   },
   "outputs": [],
   "source": [
    "# Necessário remover as linhas com None para calcular o erro\n",
    "results_df = sample_df.dropna(subset=['leia_sentiment_score', 'chatgpt_sentiment_score'])\n",
    "\n",
    "# Calculando métricas da análise\n",
    "mae = mean_absolute_error(\n",
    "    results_df['chatgpt_sentiment_score'], \n",
    "    results_df['leia_sentiment_score']\n",
    ")\n",
    "lemma_mae = mean_absolute_error(\n",
    "    results_df['chatgpt_sentiment_score'], \n",
    "    results_df['lemma_leia_sentiment_score']\n",
    ")\n",
    "\n",
    "mse = mean_squared_error(\n",
    "    results_df['chatgpt_sentiment_score'], \n",
    "    results_df['leia_sentiment_score']\n",
    ")\n",
    "lemma_mse = mean_squared_error(\n",
    "    results_df['chatgpt_sentiment_score'], \n",
    "    results_df['lemma_leia_sentiment_score']\n",
    ")\n",
    "\n",
    "r2 = r2_score(\n",
    "    results_df['chatgpt_sentiment_score'], \n",
    "    results_df['leia_sentiment_score']\n",
    ")\n",
    "lemma_r2 = r2_score(\n",
    "    results_df['chatgpt_sentiment_score'], \n",
    "    results_df['lemma_leia_sentiment_score']\n",
    ")\n",
    "\n",
    "print(f\"MAE: {mae}\")\n",
    "print(f\"MSE: {mse}\")\n",
    "print(f\"R2: {r2}\")\n",
    "\n",
    "print(f\"Lemma MAE: {lemma_mae}\")\n",
    "print(f\"Lemma MSE: {lemma_mse}\")\n",
    "print(f\"Lemma R2: {lemma_r2}\")"
   ]
  },
  {
   "cell_type": "code",
   "execution_count": null,
   "metadata": {
    "tags": []
   },
   "outputs": [],
   "source": [
    "# Comparando analises do LeIA com e sem tratamento\n",
    "comp_mae = mean_absolute_error(\n",
    "    results_df['leia_sentiment_score'], \n",
    "    results_df['lemma_leia_sentiment_score']\n",
    ")\n",
    "\n",
    "comp_mse = mean_squared_error(\n",
    "    results_df['leia_sentiment_score'], \n",
    "    results_df['lemma_leia_sentiment_score']\n",
    ")\n",
    "\n",
    "comp_r2 = r2_score(\n",
    "    results_df['leia_sentiment_score'], \n",
    "    results_df['lemma_leia_sentiment_score']\n",
    ")\n",
    "\n",
    "print(f\"{comp_mae=}\")\n",
    "print(f\"{comp_mse=}\")\n",
    "print(f\"{comp_r2=}\")"
   ]
  },
  {
   "cell_type": "code",
   "execution_count": null,
   "metadata": {},
   "outputs": [],
   "source": [
    "O LeIA não requer pré-processamento, mas calculamos apenas para confirmar. Como o resultado da analise com texto lematizado foi pior, confirmamos a hipótese."
   ]
  },
  {
   "cell_type": "markdown",
   "metadata": {},
   "source": [
    "## Analisando resultados do LeIA"
   ]
  },
  {
   "cell_type": "code",
   "execution_count": 22,
   "metadata": {
    "tags": []
   },
   "outputs": [
    {
     "name": "stdout",
     "output_type": "stream",
     "text": [
      "73\n",
      "0\n",
      "65\n"
     ]
    }
   ],
   "source": [
    "# Checando quantas linhas não tiveram nenhum token por valencia\n",
    "print(sample_df[sample_df['leia_sentiment_neg'] == 0].shape[0])\n",
    "print(sample_df[sample_df['leia_sentiment_neu'] == 0].shape[0])\n",
    "print(sample_df[sample_df['leia_sentiment_pos'] == 0].shape[0])"
   ]
  },
  {
   "cell_type": "code",
   "execution_count": null,
   "metadata": {
    "tags": []
   },
   "outputs": [],
   "source": [
    "sample_df['abs_leia_error'] = abs(sample_df['chatgpt_sentiment_score'] - sample_df['leia_sentiment_score'])\n",
    "\n",
    "print(sample_df['abs_leia_error'].describe())\n",
    "sample_df['abs_leia_error'].hist()"
   ]
  },
  {
   "cell_type": "markdown",
   "metadata": {},
   "source": [
    "### Distribuição da quantidade de palavras"
   ]
  },
  {
   "cell_type": "code",
   "execution_count": 24,
   "metadata": {
    "tags": []
   },
   "outputs": [
    {
     "data": {
      "text/plain": [
       "<Axes: xlabel='word_count', ylabel='Count'>"
      ]
     },
     "execution_count": 24,
     "metadata": {},
     "output_type": "execute_result"
    },
    {
     "data": {
      "image/png": "[encoded data removed]",
      "text/plain": [
       "<Figure size 640x480 with 1 Axes>"
      ]
     },
     "metadata": {},
     "output_type": "display_data"
    }
   ],
   "source": [
    "def get_word_count(text):\n",
    "    words = text.split(\" \")\n",
    "    return len(words)\n",
    "\n",
    "sample_df['word_count'] = sample_df['rawContent'].apply(get_word_count)\n",
    "\n",
    "sns.histplot(data=sample_df[\"word_count\"])"
   ]
  },
  {
   "cell_type": "code",
   "execution_count": null,
   "metadata": {
    "tags": []
   },
   "outputs": [],
   "source": [
    "sns.histplot(\n",
    "    data=sample_df, \n",
    "    x=\"word_count\", \n",
    "    hue='chatgpt_sentiment', \n",
    "    multiple='stack',\n",
    "    palette='Set1',\n",
    "    # element=\"poly\"\n",
    ")"
   ]
  },
  {
   "cell_type": "code",
   "execution_count": null,
   "metadata": {
    "tags": []
   },
   "outputs": [],
   "source": [
    "# Distribuição de word count segmentado pelo sentimento\n",
    "fig, ax = plt.subplots(1, 3, figsize=(20, 4))\n",
    "\n",
    "sns.histplot(\n",
    "    data=sample_df[sample_df['chatgpt_sentiment'] == 'neg'], \n",
    "    x=\"word_count\", \n",
    "    hue='chatgpt_sentiment', \n",
    "    discrete=True,\n",
    "    ax=ax[0],\n",
    "    kde=True,\n",
    "    palette=\"Reds\",\n",
    ")\n",
    "\n",
    "sns.histplot(\n",
    "    data=sample_df[sample_df['chatgpt_sentiment'] == 'neu'], \n",
    "    x=\"word_count\", \n",
    "    hue='chatgpt_sentiment', \n",
    "    discrete=True,\n",
    "    palette='Greens',\n",
    "    ax=ax[1],\n",
    "    kde=True,\n",
    ")\n",
    "\n",
    "sns.histplot(\n",
    "    data=sample_df[sample_df['chatgpt_sentiment'] == 'pos'], \n",
    "    x=\"word_count\", \n",
    "    hue='chatgpt_sentiment', \n",
    "    discrete=True,\n",
    "    palette='Blues',\n",
    "    ax=ax[2],\n",
    "    kde=True,\n",
    ")"
   ]
  },
  {
   "cell_type": "code",
   "execution_count": null,
   "metadata": {
    "tags": []
   },
   "outputs": [],
   "source": [
    "sns.scatterplot(\n",
    "    data=sample_df, \n",
    "    x=\"word_count\", \n",
    "    y=\"abs_leia_error\", \n",
    "    hue='chatgpt_sentiment', \n",
    "    palette='Set1'\n",
    ")"
   ]
  },
  {
   "cell_type": "code",
   "execution_count": null,
   "metadata": {},
   "outputs": [],
   "source": []
  },
  {
   "cell_type": "markdown",
   "metadata": {},
   "source": [
    "## Salvando os resultados"
   ]
  },
  {
   "cell_type": "code",
   "execution_count": null,
   "metadata": {
    "tags": []
   },
   "outputs": [],
   "source": [
    "sample_df[:10]"
   ]
  },
  {
   "cell_type": "code",
   "execution_count": null,
   "metadata": {
    "tags": []
   },
   "outputs": [],
   "source": [
    "output_path = '../data/processed/'\n",
    "output_file = f'sentiment_analysis_comparison_output.csv'\n",
    "\n",
    "# Para salvar os dados, descomente as linhas abaixo\n",
    "# sample_df.to_csv(f\"{output_path}{output_file}\", sep=';', encoding='utf-8', index=False)"
   ]
  }
 ],
 "metadata": {
  "kernelspec": {
   "display_name": "Python 3 (ipykernel)",
   "language": "python",
   "name": "python3"
  },
  "language_info": {
   "codemirror_mode": {
    "name": "ipython",
    "version": 3
   },
   "file_extension": ".py",
   "mimetype": "text/x-python",
   "name": "python",
   "nbconvert_exporter": "python",
   "pygments_lexer": "ipython3",
   "version": "3.8.13"
  },
  "vscode": {
   "interpreter": {
    "hash": "2852de53f51e57db0fb3c92b7d03cd28fd1e6acc643c7bf23f4addc7db48be7a"
   }
  }
 },
 "nbformat": 4,
 "nbformat_minor": 4
}
