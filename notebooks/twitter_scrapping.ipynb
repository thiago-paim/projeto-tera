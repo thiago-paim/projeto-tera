{
 "cells": [
  {
   "cell_type": "markdown",
   "id": "89b9c332-f41a-4e6a-bec9-a01cd4c0afc9",
   "metadata": {},
   "source": [
    "# Inicialização"
   ]
  },
  {
   "cell_type": "code",
   "execution_count": 1,
   "id": "QUPpsqbQm64D",
   "metadata": {
    "colab": {
     "base_uri": "https://localhost:8080/"
    },
    "id": "QUPpsqbQm64D",
    "outputId": "770a7b9c-36e2-4db8-a857-0b931f941978"
   },
   "outputs": [],
   "source": [
    "# Certifique-se de que está usando a versão mais atualizada do SNScrape\n",
    "# !pip3 install --upgrade git+https://github.com/JustAnotherArchivist/snscrape.git"
   ]
  },
  {
   "cell_type": "code",
   "execution_count": 2,
   "id": "6750a614-faea-4df2-9ada-8182e60539c4",
   "metadata": {
    "id": "6750a614-faea-4df2-9ada-8182e60539c4"
   },
   "outputs": [],
   "source": [
    "from dataclasses import fields\n",
    "from datetime import datetime\n",
    "import pandas as pd\n",
    "import pytz\n",
    "from snscrape.base import ScraperException\n",
    "import snscrape.modules.twitter as sntwitter\n",
    "from tqdm import tqdm\n",
    "\n",
    "# Oculta warnings do notebook\n",
    "# import warnings\n",
    "# warnings.filterwarnings('ignore')\n",
    "\n",
    "pd.set_option('display.max_columns', 80)\n",
    "pd.options.display.float_format = '{:,.2f}'.format"
   ]
  },
  {
   "cell_type": "markdown",
   "id": "17f271f7-4a6d-4f6a-8087-0cddffd97fa3",
   "metadata": {},
   "source": [
    "# Buscando tweets por usuario"
   ]
  },
  {
   "cell_type": "code",
   "execution_count": 3,
   "id": "cca996d6-482b-4fe7-a21f-8e60285ac2c2",
   "metadata": {},
   "outputs": [],
   "source": [
    "# Contas dos candidatos eleitos\n",
    "users = [\n",
    "    'dreltonjr', 'EdianeMariaMTST', 'fabibbolsonaro', 'delegadoolim', 'leosiqueirabr', 'bethsahao', \n",
    "    'sppretas', 'tomeabduch', 'prcarloscezar', 'majormecca', 'valbolsonaro', 'zimbaldirafa', \n",
    "    'CarlosGiannazi', 'tenente_coimbra', 'rafaelsaraivasp', 'BrunoZambelli3', 'LFTeixeira13', \n",
    "    'EmidioDeSouza_', 'esuplicy', 'depeniotatto', 'eniotatto13114', 'anacarolserra23',\n",
    "    'xerifedoconsum', 'auricchiothiago', 'itamar_borges', 'simaopedro_SP', 'DaniloBalas', 'vcamarinha', \n",
    "    'marcosdamasiosp', 'lcmarcolino', 'danialonsoDA', 'bfeministapsol', 'gersonpessoa',\n",
    "    'deleg_graciela', 'ValdomiroLopes_', 'lucasbovesp', 'DANIELBRSOARES', 'paulomansur_', \n",
    "    'andreawerner_', 'CONTELOPES', 'anaperugini', 'professorabebel', 'EdmirChedid', 'deputadomaurici',\n",
    "    'carteiroreaca', 'caiofranca40', 'marcialiapt13', 'letsaguiar', 'thainarafariapt', 'depbrunafurlan'\n",
    "]\n",
    "\n",
    "local_tz = pytz.timezone(\"America/Sao_Paulo\")\n",
    "since = datetime(year=2022, month=9, day=1, tzinfo=local_tz)"
   ]
  },
  {
   "cell_type": "code",
   "execution_count": 4,
   "id": "46d0927a-68ba-4175-91f0-c3fb423d4ed5",
   "metadata": {
    "tags": []
   },
   "outputs": [
    {
     "name": "stdout",
     "output_type": "stream",
     "text": [
      "1/50 dreltonjr: 25 tweets\n",
      "2/50 EdianeMariaMTST: 2876 tweets\n"
     ]
    },
    {
     "name": "stderr",
     "output_type": "stream",
     "text": [
      "Skipping empty tweet entry tweet-1592514940224811008\n"
     ]
    },
    {
     "name": "stdout",
     "output_type": "stream",
     "text": [
      "3/50 fabibbolsonaro: 38 tweets\n"
     ]
    },
    {
     "name": "stderr",
     "output_type": "stream",
     "text": [
      "Empty user ref object in card on tweet 1085614633673785345\n",
      "User 899733078641225728 not found in user refs in card on tweet 1085614633673785345\n"
     ]
    },
    {
     "name": "stdout",
     "output_type": "stream",
     "text": [
      "4/50 delegadoolim: 3 tweets\n",
      "5/50 leosiqueirabr: 1758 tweets\n"
     ]
    },
    {
     "name": "stderr",
     "output_type": "stream",
     "text": [
      "Unavailable user in card on tweet 1419754321030402052\n",
      "User 933811924147556352 not found in user refs in card on tweet 1419754321030402052\n",
      "Empty user ref object in card on tweet 1104136425019240448\n",
      "User 899733078641225728 not found in user refs in card on tweet 1104136425019240448\n"
     ]
    },
    {
     "name": "stdout",
     "output_type": "stream",
     "text": [
      "6/50 bethsahao: 140 tweets\n",
      "7/50 sppretas: 136 tweets\n"
     ]
    },
    {
     "name": "stderr",
     "output_type": "stream",
     "text": [
      "Empty response\n"
     ]
    },
    {
     "name": "stdout",
     "output_type": "stream",
     "text": [
      "8/50 tomeabduch: Could not resolve username 'tomeabduch' to ID\n"
     ]
    },
    {
     "name": "stderr",
     "output_type": "stream",
     "text": [
      "Empty user ref object in card on tweet 1092874151977672704\n",
      "User 899733078641225728 not found in user refs in card on tweet 1092874151977672704\n"
     ]
    },
    {
     "name": "stdout",
     "output_type": "stream",
     "text": [
      "9/50 prcarloscezar: 300 tweets\n"
     ]
    },
    {
     "name": "stderr",
     "output_type": "stream",
     "text": [
      "Unavailable user in card on tweet 1585716931134296064\n",
      "User 1169664359628509184 not found in user refs in card on tweet 1585716931134296064\n",
      "Empty user ref object in card on tweet 1581028320426303488\n",
      "User 1244292630441328640 not found in user refs in card on tweet 1581028320426303488\n",
      "Empty user ref object in card on tweet 1581038118718738432\n",
      "User 1244292630441328640 not found in user refs in card on tweet 1581038118718738432\n",
      "Empty user ref object in card on tweet 1539639430197157889\n",
      "User 1244292630441328640 not found in user refs in card on tweet 1539639430197157889\n"
     ]
    },
    {
     "name": "stdout",
     "output_type": "stream",
     "text": [
      "10/50 majormecca: 2548 tweets\n",
      "11/50 valbolsonaro: 1247 tweets\n"
     ]
    },
    {
     "name": "stderr",
     "output_type": "stream",
     "text": [
      "Empty user ref object in card on tweet 1528747991837843458\n",
      "User 899733078641225728 not found in user refs in card on tweet 1528747991837843458\n",
      "Empty user ref object in card on tweet 1491400068855119873\n",
      "User 899733078641225728 not found in user refs in card on tweet 1491400068855119873\n",
      "Empty user ref object in card on tweet 1489421634855444481\n",
      "User 899733078641225728 not found in user refs in card on tweet 1489421634855444481\n",
      "Empty user ref object in card on tweet 1445384465342160899\n",
      "User 899733078641225728 not found in user refs in card on tweet 1445384465342160899\n",
      "Empty user ref object in card on tweet 1286405242955993094\n",
      "User 899733078641225728 not found in user refs in card on tweet 1286405242955993094\n"
     ]
    },
    {
     "name": "stdout",
     "output_type": "stream",
     "text": [
      "12/50 zimbaldirafa: 136 tweets\n"
     ]
    },
    {
     "name": "stderr",
     "output_type": "stream",
     "text": [
      "Empty user ref object in card on tweet 1623365017465651200\n",
      "User 899733078641225728 not found in user refs in card on tweet 1623365017465651200\n",
      "Empty user ref object in card on tweet 1616477451596464163\n",
      "User 899733078641225728 not found in user refs in card on tweet 1616477451596464163\n",
      "Empty user ref object in card on tweet 1607382155738640385\n",
      "User 899733078641225728 not found in user refs in card on tweet 1607382155738640385\n",
      "Empty user ref object in card on tweet 1606295466794258433\n",
      "User 899733078641225728 not found in user refs in card on tweet 1606295466794258433\n",
      "Empty user ref object in card on tweet 1605696106377072642\n",
      "User 899733078641225728 not found in user refs in card on tweet 1605696106377072642\n",
      "Empty user ref object in card on tweet 1605644372246237184\n",
      "User 899733078641225728 not found in user refs in card on tweet 1605644372246237184\n",
      "Empty user ref object in card on tweet 1605643771085000731\n",
      "User 899733078641225728 not found in user refs in card on tweet 1605643771085000731\n",
      "Empty user ref object in card on tweet 1596171049653399552\n",
      "User 899733078641225728 not found in user refs in card on tweet 1596171049653399552\n",
      "Empty user ref object in card on tweet 1596171441594109953\n",
      "User 899733078641225728 not found in user refs in card on tweet 1596171441594109953\n",
      "Empty user ref object in card on tweet 1589005641146064896\n",
      "User 899733078641225728 not found in user refs in card on tweet 1589005641146064896\n",
      "Empty user ref object in card on tweet 1588298222912516096\n",
      "User 899733078641225728 not found in user refs in card on tweet 1588298222912516096\n",
      "Empty user ref object in card on tweet 1583595968540598273\n",
      "User 899733078641225728 not found in user refs in card on tweet 1583595968540598273\n",
      "Empty user ref object in card on tweet 1582025536939102208\n",
      "User 899733078641225728 not found in user refs in card on tweet 1582025536939102208\n",
      "Empty user ref object in card on tweet 1578763644665356288\n",
      "User 899733078641225728 not found in user refs in card on tweet 1578763644665356288\n",
      "Empty user ref object in card on tweet 1578464236191158272\n",
      "User 899733078641225728 not found in user refs in card on tweet 1578464236191158272\n",
      "Empty user ref object in card on tweet 1577673062576791554\n",
      "User 899733078641225728 not found in user refs in card on tweet 1577673062576791554\n",
      "Empty user ref object in card on tweet 1576303852923416576\n",
      "User 899733078641225728 not found in user refs in card on tweet 1576303852923416576\n",
      "Empty user ref object in card on tweet 1576019023703068673\n",
      "User 899733078641225728 not found in user refs in card on tweet 1576019023703068673\n",
      "Empty user ref object in card on tweet 1575970682352984065\n",
      "User 899733078641225728 not found in user refs in card on tweet 1575970682352984065\n",
      "Empty user ref object in card on tweet 1574763402764980225\n",
      "User 899733078641225728 not found in user refs in card on tweet 1574763402764980225\n",
      "Empty user ref object in card on tweet 1574044585482981378\n",
      "User 899733078641225728 not found in user refs in card on tweet 1574044585482981378\n",
      "Empty user ref object in card on tweet 1572665403054166017\n",
      "User 899733078641225728 not found in user refs in card on tweet 1572665403054166017\n",
      "Empty user ref object in card on tweet 1570929522694033408\n",
      "User 899733078641225728 not found in user refs in card on tweet 1570929522694033408\n",
      "Empty user ref object in card on tweet 1570028964780843009\n",
      "User 899733078641225728 not found in user refs in card on tweet 1570028964780843009\n",
      "Empty user ref object in card on tweet 1569463122829934593\n",
      "User 899733078641225728 not found in user refs in card on tweet 1569463122829934593\n",
      "Empty user ref object in card on tweet 1569336642774728706\n",
      "User 899733078641225728 not found in user refs in card on tweet 1569336642774728706\n",
      "Empty user ref object in card on tweet 1569012318649868291\n",
      "User 899733078641225728 not found in user refs in card on tweet 1569012318649868291\n",
      "Empty user ref object in card on tweet 1568273780966825985\n",
      "User 899733078641225728 not found in user refs in card on tweet 1568273780966825985\n",
      "Empty user ref object in card on tweet 1567513899758493697\n",
      "User 899733078641225728 not found in user refs in card on tweet 1567513899758493697\n",
      "Empty user ref object in card on tweet 1566486016172728320\n",
      "User 899733078641225728 not found in user refs in card on tweet 1566486016172728320\n",
      "Empty user ref object in card on tweet 1566114486079168518\n",
      "User 899733078641225728 not found in user refs in card on tweet 1566114486079168518\n",
      "Empty user ref object in card on tweet 1561414579405656066\n",
      "User 899733078641225728 not found in user refs in card on tweet 1561414579405656066\n",
      "Empty user ref object in card on tweet 1559999927132078080\n",
      "User 899733078641225728 not found in user refs in card on tweet 1559999927132078080\n",
      "Empty user ref object in card on tweet 1559899292734726150\n",
      "User 899733078641225728 not found in user refs in card on tweet 1559899292734726150\n",
      "Empty user ref object in card on tweet 1559536979586555911\n",
      "User 899733078641225728 not found in user refs in card on tweet 1559536979586555911\n",
      "Empty user ref object in card on tweet 1558103617890131969\n",
      "User 899733078641225728 not found in user refs in card on tweet 1558103617890131969\n",
      "Empty user ref object in card on tweet 1557399106192121862\n",
      "User 899733078641225728 not found in user refs in card on tweet 1557399106192121862\n",
      "Empty user ref object in card on tweet 1557010296182538244\n",
      "User 899733078641225728 not found in user refs in card on tweet 1557010296182538244\n",
      "Empty user ref object in card on tweet 1557014733324173312\n",
      "User 899733078641225728 not found in user refs in card on tweet 1557014733324173312\n",
      "Empty user ref object in card on tweet 1554245639369883651\n",
      "User 899733078641225728 not found in user refs in card on tweet 1554245639369883651\n",
      "Empty user ref object in card on tweet 1553799707633270787\n",
      "User 899733078641225728 not found in user refs in card on tweet 1553799707633270787\n",
      "Empty user ref object in card on tweet 1553799539739467776\n",
      "User 899733078641225728 not found in user refs in card on tweet 1553799539739467776\n",
      "Empty user ref object in card on tweet 1545155032680747014\n",
      "User 899733078641225728 not found in user refs in card on tweet 1545155032680747014\n",
      "Empty user ref object in card on tweet 1544835354104143872\n",
      "User 899733078641225728 not found in user refs in card on tweet 1544835354104143872\n",
      "Empty user ref object in card on tweet 1535029544167657502\n",
      "User 899733078641225728 not found in user refs in card on tweet 1535029544167657502\n"
     ]
    },
    {
     "name": "stdout",
     "output_type": "stream",
     "text": [
      "13/50 CarlosGiannazi: 2256 tweets\n"
     ]
    },
    {
     "name": "stderr",
     "output_type": "stream",
     "text": [
      "Empty user ref object in card on tweet 1188114356803911680\n",
      "User 899733078641225728 not found in user refs in card on tweet 1188114356803911680\n"
     ]
    },
    {
     "name": "stdout",
     "output_type": "stream",
     "text": [
      "14/50 tenente_coimbra: 467 tweets\n",
      "15/50 rafaelsaraivasp: 161 tweets\n",
      "16/50 BrunoZambelli3: 310 tweets\n"
     ]
    },
    {
     "name": "stderr",
     "output_type": "stream",
     "text": [
      "Empty response\n"
     ]
    },
    {
     "name": "stdout",
     "output_type": "stream",
     "text": [
      "17/50 LFTeixeira13: Could not resolve username 'LFTeixeira13' to ID\n"
     ]
    },
    {
     "name": "stderr",
     "output_type": "stream",
     "text": [
      "Unavailable user in card on tweet 1645566457508679680\n",
      "User 462897140 not found in user refs in card on tweet 1645566457508679680\n",
      "Unavailable user in card on tweet 1645567435259658240\n",
      "User 462897140 not found in user refs in card on tweet 1645567435259658240\n",
      "Unavailable user in card on tweet 1644081043975045120\n",
      "User 462897140 not found in user refs in card on tweet 1644081043975045120\n",
      "Unavailable user in card on tweet 1644126716397232128\n",
      "User 462897140 not found in user refs in card on tweet 1644126716397232128\n",
      "Empty user ref object in card on tweet 1623025726772416513\n",
      "User 899733078641225728 not found in user refs in card on tweet 1623025726772416513\n",
      "Empty user ref object in card on tweet 1577078740688916480\n",
      "User 899733078641225728 not found in user refs in card on tweet 1577078740688916480\n",
      "Empty user ref object in card on tweet 1559994680150032385\n",
      "User 899733078641225728 not found in user refs in card on tweet 1559994680150032385\n",
      "Empty user ref object in card on tweet 1554954039720398853\n",
      "User 899733078641225728 not found in user refs in card on tweet 1554954039720398853\n",
      "Empty user ref object in card on tweet 1548435281358901250\n",
      "User 899733078641225728 not found in user refs in card on tweet 1548435281358901250\n",
      "Empty user ref object in card on tweet 1533943442124025861\n",
      "User 899733078641225728 not found in user refs in card on tweet 1533943442124025861\n",
      "Empty user ref object in card on tweet 1523802320886288385\n",
      "User 899733078641225728 not found in user refs in card on tweet 1523802320886288385\n",
      "Empty user ref object in card on tweet 1521252036951560193\n",
      "User 899733078641225728 not found in user refs in card on tweet 1521252036951560193\n",
      "Empty user ref object in card on tweet 1512434464600776707\n",
      "User 899733078641225728 not found in user refs in card on tweet 1512434464600776707\n",
      "Empty user ref object in card on tweet 1491890703747760132\n",
      "User 899733078641225728 not found in user refs in card on tweet 1491890703747760132\n",
      "Empty user ref object in card on tweet 1466531883290816513\n",
      "User 899733078641225728 not found in user refs in card on tweet 1466531883290816513\n",
      "Empty user ref object in card on tweet 1461691980388478981\n",
      "User 899733078641225728 not found in user refs in card on tweet 1461691980388478981\n",
      "Empty user ref object in card on tweet 1437886472552595464\n",
      "User 899733078641225728 not found in user refs in card on tweet 1437886472552595464\n",
      "Empty user ref object in card on tweet 1419796823380795401\n",
      "User 899733078641225728 not found in user refs in card on tweet 1419796823380795401\n",
      "Empty user ref object in card on tweet 1411344920170860544\n",
      "User 899733078641225728 not found in user refs in card on tweet 1411344920170860544\n",
      "Empty user ref object in card on tweet 1411044578786955264\n",
      "User 899733078641225728 not found in user refs in card on tweet 1411044578786955264\n",
      "Empty user ref object in card on tweet 1408479922067234821\n",
      "User 899733078641225728 not found in user refs in card on tweet 1408479922067234821\n",
      "Empty user ref object in card on tweet 1405634653520809989\n",
      "User 899733078641225728 not found in user refs in card on tweet 1405634653520809989\n",
      "Empty user ref object in card on tweet 1405286992766590976\n",
      "User 899733078641225728 not found in user refs in card on tweet 1405286992766590976\n"
     ]
    },
    {
     "name": "stdout",
     "output_type": "stream",
     "text": [
      "18/50 EmidioDeSouza_: 1153 tweets\n"
     ]
    },
    {
     "name": "stderr",
     "output_type": "stream",
     "text": [
      "Empty user ref object in card on tweet 1456057302897856515\n",
      "User 899733078641225728 not found in user refs in card on tweet 1456057302897856515\n",
      "Empty user ref object in card on tweet 1403792761044733952\n",
      "User 899733078641225728 not found in user refs in card on tweet 1403792761044733952\n"
     ]
    },
    {
     "name": "stdout",
     "output_type": "stream",
     "text": [
      "19/50 esuplicy: 1042 tweets\n",
      "20/50 depeniotatto: 489 tweets\n"
     ]
    },
    {
     "name": "stderr",
     "output_type": "stream",
     "text": [
      "Empty response\n"
     ]
    },
    {
     "name": "stdout",
     "output_type": "stream",
     "text": [
      "21/50 eniotatto13114: Could not resolve username 'eniotatto13114' to ID\n",
      "22/50 anacarolserra23: 37 tweets\n",
      "23/50 xerifedoconsum: 340 tweets\n",
      "24/50 auricchiothiago: 180 tweets\n"
     ]
    },
    {
     "name": "stderr",
     "output_type": "stream",
     "text": [
      "Twitter responded with an error: DownstreamOverCapacityError: OverCapacity: Unspecified, DownstreamOverCapacityError: OverCapacity: Unspecified, DownstreamOverCapacityError: OverCapacity: Unspecified, DownstreamOverCapacityError: OverCapacity: Unspecified, DownstreamOverCapacityError: OverCapacity: Unspecified, DownstreamOverCapacityError: OverCapacity: Unspecified, DownstreamOverCapacityError: OverCapacity: Unspecified, DownstreamOverCapacityError: OverCapacity: Unspecified, DownstreamOverCapacityError: OverCapacity: Unspecified, DownstreamOverCapacityError: OverCapacity: Unspecified, DownstreamOverCapacityError: OverCapacity: Unspecified, DownstreamOverCapacityError: OverCapacity: Unspecified, DownstreamOverCapacityError: OverCapacity: Unspecified, DownstreamOverCapacityError: OverCapacity: Unspecified, DownstreamOverCapacityError: OverCapacity: Unspecified, DownstreamOverCapacityError: OverCapacity: Unspecified, DownstreamOverCapacityError: OverCapacity: Unspecified, DownstreamOverCapacityError: OverCapacity: Unspecified, DownstreamOverCapacityError: OverCapacity: Unspecified, DownstreamOverCapacityError: OverCapacity: Unspecified\n",
      "Skipping empty tweet entry tweet-237593823906258944\n",
      "Skipping empty tweet entry tweet-236578027960676352\n",
      "Skipping empty tweet entry tweet-235431668595441665\n",
      "Skipping empty tweet entry tweet-234282317106016256\n",
      "Skipping empty tweet entry tweet-233275791373398016\n",
      "Skipping empty tweet entry tweet-233243594880872448\n",
      "Skipping empty tweet entry tweet-232899435762438144\n",
      "Skipping empty tweet entry tweet-232881970353434624\n",
      "Skipping empty tweet entry tweet-232505396277948416\n",
      "Skipping empty tweet entry tweet-231461542120546304\n",
      "Skipping empty tweet entry tweet-230340754915078144\n",
      "Skipping empty tweet entry tweet-225598625852571648\n",
      "Skipping empty tweet entry tweet-224868778012459008\n",
      "Skipping empty tweet entry tweet-220977380334907392\n",
      "Skipping empty tweet entry tweet-220686378109902848\n",
      "Skipping empty tweet entry tweet-218764700685578241\n",
      "Skipping empty tweet entry tweet-218412472074379266\n",
      "Skipping empty tweet entry tweet-218388261184339969\n",
      "Skipping empty tweet entry tweet-218388075729006593\n",
      "Skipping empty tweet entry tweet-217390149926010880\n"
     ]
    },
    {
     "name": "stdout",
     "output_type": "stream",
     "text": [
      "25/50 itamar_borges: 164 tweets\n"
     ]
    },
    {
     "name": "stderr",
     "output_type": "stream",
     "text": [
      "Empty user ref object in card on tweet 1586870014375755776\n",
      "User 899733078641225728 not found in user refs in card on tweet 1586870014375755776\n"
     ]
    },
    {
     "name": "stdout",
     "output_type": "stream",
     "text": [
      "26/50 simaopedro_SP: 2751 tweets\n"
     ]
    },
    {
     "name": "stderr",
     "output_type": "stream",
     "text": [
      "Skipping empty tweet entry tweet-1575885887229267968\n",
      "Unavailable user in card on tweet 1491866389786812418\n",
      "User 1559574001927733253 not found in user refs in card on tweet 1491866389786812418\n",
      "Empty user ref object in card on tweet 1118303090460057602\n",
      "User 899733078641225728 not found in user refs in card on tweet 1118303090460057602\n",
      "Empty user ref object in card on tweet 1114897700246425607\n",
      "User 899733078641225728 not found in user refs in card on tweet 1114897700246425607\n",
      "Empty user ref object in card on tweet 1110285909281460225\n",
      "User 899733078641225728 not found in user refs in card on tweet 1110285909281460225\n",
      "Empty user ref object in card on tweet 1105150187415183360\n",
      "User 899733078641225728 not found in user refs in card on tweet 1105150187415183360\n",
      "Empty user ref object in card on tweet 990279145610395648\n",
      "User 899733078641225728 not found in user refs in card on tweet 990279145610395648\n"
     ]
    },
    {
     "name": "stdout",
     "output_type": "stream",
     "text": [
      "27/50 DaniloBalas: 1071 tweets\n",
      "28/50 vcamarinha: 21 tweets\n",
      "29/50 marcosdamasiosp: 24 tweets\n"
     ]
    },
    {
     "name": "stderr",
     "output_type": "stream",
     "text": [
      "Unavailable user in card on tweet 1640387579223613444\n",
      "User 462897140 not found in user refs in card on tweet 1640387579223613444\n",
      "Unavailable user in card on tweet 1640388804040093703\n",
      "User 462897140 not found in user refs in card on tweet 1640388804040093703\n"
     ]
    },
    {
     "name": "stdout",
     "output_type": "stream",
     "text": [
      "30/50 lcmarcolino: 365 tweets\n",
      "31/50 danialonsoDA: 22 tweets\n",
      "32/50 bfeministapsol: 1781 tweets\n",
      "33/50 gersonpessoa: 3 tweets\n",
      "34/50 deleg_graciela: 3 tweets\n",
      "35/50 ValdomiroLopes_: 217 tweets\n",
      "36/50 lucasbovesp: 103 tweets\n",
      "37/50 DANIELBRSOARES: 65 tweets\n"
     ]
    },
    {
     "name": "stderr",
     "output_type": "stream",
     "text": [
      "Empty user ref object in card on tweet 1111662723824259078\n",
      "User 899733078641225728 not found in user refs in card on tweet 1111662723824259078\n",
      "Empty user ref object in card on tweet 1111606662698360832\n",
      "User 899733078641225728 not found in user refs in card on tweet 1111606662698360832\n",
      "Empty user ref object in card on tweet 1103983724100608005\n",
      "User 899733078641225728 not found in user refs in card on tweet 1103983724100608005\n",
      "Empty user ref object in card on tweet 1098911804183392257\n",
      "User 899733078641225728 not found in user refs in card on tweet 1098911804183392257\n",
      "Empty user ref object in card on tweet 910516666567741442\n",
      "User 899733078641225728 not found in user refs in card on tweet 910516666567741442\n",
      "Unavailable user in card on tweet 396193141923258368\n",
      "User 14077430 not found in user refs in card on tweet 396193141923258368\n",
      "Unavailable user in card on tweet 396395540898131968\n",
      "User 14077430 not found in user refs in card on tweet 396395540898131968\n",
      "Skipping empty tweet entry tweet-208389122056916992\n",
      "Skipping empty tweet entry tweet-170252283634921472\n",
      "Skipping empty tweet entry tweet-168140523331260416\n",
      "Empty user ref object in card on tweet 157895250180968448\n",
      "Unavailable user in card on tweet 157895250180968448\n",
      "User 12925072 not found in user refs in card on tweet 157895250180968448\n",
      "User 12168440 not found in user refs in card on tweet 157895250180968448\n",
      "Empty user ref object in card on tweet 157895562178478080\n",
      "Unavailable user in card on tweet 157895562178478080\n",
      "User 12925072 not found in user refs in card on tweet 157895562178478080\n",
      "User 12168440 not found in user refs in card on tweet 157895562178478080\n"
     ]
    },
    {
     "name": "stdout",
     "output_type": "stream",
     "text": [
      "38/50 paulomansur_: 250 tweets\n"
     ]
    },
    {
     "name": "stderr",
     "output_type": "stream",
     "text": [
      "Could not translate t.co card URL on tweet 1639029459557679104\n"
     ]
    },
    {
     "name": "stdout",
     "output_type": "stream",
     "text": [
      "39/50 andreawerner_: 3238 tweets\n"
     ]
    },
    {
     "name": "stderr",
     "output_type": "stream",
     "text": [
      "Empty user ref object in card on tweet 1505686722700587012\n",
      "User 899733078641225728 not found in user refs in card on tweet 1505686722700587012\n",
      "Empty user ref object in card on tweet 1490479332011216904\n",
      "User 899733078641225728 not found in user refs in card on tweet 1490479332011216904\n",
      "Empty user ref object in card on tweet 1174825416047124480\n",
      "User 899733078641225728 not found in user refs in card on tweet 1174825416047124480\n",
      "Empty user ref object in card on tweet 1132382775770849281\n",
      "User 899733078641225728 not found in user refs in card on tweet 1132382775770849281\n",
      "Empty user ref object in card on tweet 1132290164703846400\n",
      "User 899733078641225728 not found in user refs in card on tweet 1132290164703846400\n",
      "Empty user ref object in card on tweet 1131925769645699073\n",
      "User 899733078641225728 not found in user refs in card on tweet 1131925769645699073\n",
      "Empty user ref object in card on tweet 1131663957478072320\n",
      "User 899733078641225728 not found in user refs in card on tweet 1131663957478072320\n",
      "Empty user ref object in card on tweet 1130958991331340292\n",
      "User 899733078641225728 not found in user refs in card on tweet 1130958991331340292\n",
      "Empty user ref object in card on tweet 1130889736472682500\n",
      "User 899733078641225728 not found in user refs in card on tweet 1130889736472682500\n",
      "Empty user ref object in card on tweet 1129869453653626881\n",
      "User 899733078641225728 not found in user refs in card on tweet 1129869453653626881\n",
      "Empty user ref object in card on tweet 1128065598628474880\n",
      "User 899733078641225728 not found in user refs in card on tweet 1128065598628474880\n",
      "Empty user ref object in card on tweet 1127357462733119488\n",
      "User 899733078641225728 not found in user refs in card on tweet 1127357462733119488\n",
      "Empty user ref object in card on tweet 1126250884160208896\n",
      "User 899733078641225728 not found in user refs in card on tweet 1126250884160208896\n",
      "Empty user ref object in card on tweet 1125529423590121472\n",
      "User 899733078641225728 not found in user refs in card on tweet 1125529423590121472\n",
      "Empty user ref object in card on tweet 1123955623853469698\n",
      "User 899733078641225728 not found in user refs in card on tweet 1123955623853469698\n",
      "Empty user ref object in card on tweet 1123792926545522688\n",
      "User 899733078641225728 not found in user refs in card on tweet 1123792926545522688\n",
      "Empty user ref object in card on tweet 1123354785598648322\n",
      "User 899733078641225728 not found in user refs in card on tweet 1123354785598648322\n",
      "Empty user ref object in card on tweet 1122895303324131330\n",
      "User 899733078641225728 not found in user refs in card on tweet 1122895303324131330\n",
      "Empty user ref object in card on tweet 1121899157545988097\n",
      "User 899733078641225728 not found in user refs in card on tweet 1121899157545988097\n",
      "Empty user ref object in card on tweet 1121536260886147072\n",
      "User 899733078641225728 not found in user refs in card on tweet 1121536260886147072\n",
      "Empty user ref object in card on tweet 1121073909019938817\n",
      "User 899733078641225728 not found in user refs in card on tweet 1121073909019938817\n",
      "Empty user ref object in card on tweet 1119573374932541440\n",
      "User 899733078641225728 not found in user refs in card on tweet 1119573374932541440\n",
      "Empty user ref object in card on tweet 1118519821099048960\n",
      "User 899733078641225728 not found in user refs in card on tweet 1118519821099048960\n"
     ]
    },
    {
     "name": "stdout",
     "output_type": "stream",
     "text": [
      "40/50 CONTELOPES: 82 tweets\n"
     ]
    },
    {
     "name": "stderr",
     "output_type": "stream",
     "text": [
      "Empty user ref object in card on tweet 1484558737289453572\n",
      "User 899733078641225728 not found in user refs in card on tweet 1484558737289453572\n",
      "Empty user ref object in card on tweet 1445511306308571145\n",
      "User 899733078641225728 not found in user refs in card on tweet 1445511306308571145\n",
      "Empty user ref object in card on tweet 1431251696630501376\n",
      "User 899733078641225728 not found in user refs in card on tweet 1431251696630501376\n",
      "Empty user ref object in card on tweet 985169433567035400\n",
      "User 899733078641225728 not found in user refs in card on tweet 985169433567035400\n",
      "Empty user ref object in card on tweet 985169614077349888\n",
      "User 899733078641225728 not found in user refs in card on tweet 985169614077349888\n",
      "Empty user ref object in card on tweet 985163908729245697\n",
      "User 899733078641225728 not found in user refs in card on tweet 985163908729245697\n",
      "Empty user ref object in card on tweet 985164064195301378\n",
      "User 899733078641225728 not found in user refs in card on tweet 985164064195301378\n",
      "Empty user ref object in card on tweet 982729859804942337\n",
      "User 899733078641225728 not found in user refs in card on tweet 982729859804942337\n",
      "Empty user ref object in card on tweet 982732947609530368\n",
      "User 899733078641225728 not found in user refs in card on tweet 982732947609530368\n",
      "Skipping empty tweet entry tweet-959214642341007366\n"
     ]
    },
    {
     "name": "stdout",
     "output_type": "stream",
     "text": [
      "41/50 anaperugini: 357 tweets\n"
     ]
    },
    {
     "name": "stderr",
     "output_type": "stream",
     "text": [
      "Empty user ref object in card on tweet 1542501165492862980\n",
      "User 899733078641225728 not found in user refs in card on tweet 1542501165492862980\n",
      "Empty user ref object in card on tweet 1542496773788377088\n",
      "User 899733078641225728 not found in user refs in card on tweet 1542496773788377088\n",
      "Empty user ref object in card on tweet 1463950980605784074\n",
      "User 899733078641225728 not found in user refs in card on tweet 1463950980605784074\n",
      "Empty user ref object in card on tweet 1463954270139686918\n",
      "User 899733078641225728 not found in user refs in card on tweet 1463954270139686918\n",
      "Empty user ref object in card on tweet 1370103341867540480\n",
      "User 899733078641225728 not found in user refs in card on tweet 1370103341867540480\n",
      "Empty user ref object in card on tweet 1370103327661424642\n",
      "User 899733078641225728 not found in user refs in card on tweet 1370103327661424642\n"
     ]
    },
    {
     "name": "stdout",
     "output_type": "stream",
     "text": [
      "42/50 professorabebel: 584 tweets\n",
      "43/50 EdmirChedid: 790 tweets\n"
     ]
    },
    {
     "name": "stderr",
     "output_type": "stream",
     "text": [
      "Empty user ref object in card on tweet 1415079912474611718\n",
      "User 899733078641225728 not found in user refs in card on tweet 1415079912474611718\n",
      "Empty user ref object in card on tweet 1393270630578069510\n",
      "User 899733078641225728 not found in user refs in card on tweet 1393270630578069510\n",
      "Empty user ref object in card on tweet 1381761704556691458\n",
      "User 899733078641225728 not found in user refs in card on tweet 1381761704556691458\n"
     ]
    },
    {
     "name": "stdout",
     "output_type": "stream",
     "text": [
      "44/50 deputadomaurici: 182 tweets\n"
     ]
    },
    {
     "name": "stderr",
     "output_type": "stream",
     "text": [
      "Skipping empty tweet entry tweet-1585603571705421826\n",
      "Skipping empty tweet entry tweet-1575700568210751488\n",
      "Twitter responded with an error: TimeoutError: Timeout: Unspecified, TimeoutError: Timeout: Unspecified\n",
      "Skipping empty tweet entry tweet-1498858625036599296\n",
      "Skipping empty tweet entry tweet-1498783765774090246\n"
     ]
    },
    {
     "name": "stdout",
     "output_type": "stream",
     "text": [
      "45/50 carteiroreaca: 1417 tweets\n"
     ]
    },
    {
     "name": "stderr",
     "output_type": "stream",
     "text": [
      "Empty user ref object in card on tweet 1235049683451437059\n",
      "User 899733078641225728 not found in user refs in card on tweet 1235049683451437059\n"
     ]
    },
    {
     "name": "stdout",
     "output_type": "stream",
     "text": [
      "46/50 caiofranca40: 702 tweets\n"
     ]
    },
    {
     "name": "stderr",
     "output_type": "stream",
     "text": [
      "Empty user ref object in card on tweet 1558111897500749827\n",
      "User 899733078641225728 not found in user refs in card on tweet 1558111897500749827\n",
      "Empty user ref object in card on tweet 1440734114047356937\n",
      "User 899733078641225728 not found in user refs in card on tweet 1440734114047356937\n",
      "Empty user ref object in card on tweet 1440762869537075202\n",
      "User 899733078641225728 not found in user refs in card on tweet 1440762869537075202\n"
     ]
    },
    {
     "name": "stdout",
     "output_type": "stream",
     "text": [
      "47/50 marcialiapt13: 587 tweets\n"
     ]
    },
    {
     "name": "stderr",
     "output_type": "stream",
     "text": [
      "Empty user ref object in card on tweet 1575450243721723904\n",
      "User 899733078641225728 not found in user refs in card on tweet 1575450243721723904\n",
      "Empty user ref object in card on tweet 1575450076775948288\n",
      "User 899733078641225728 not found in user refs in card on tweet 1575450076775948288\n",
      "Empty user ref object in card on tweet 1575449956063879169\n",
      "User 899733078641225728 not found in user refs in card on tweet 1575449956063879169\n",
      "Empty user ref object in card on tweet 1503336547986423814\n",
      "User 899733078641225728 not found in user refs in card on tweet 1503336547986423814\n",
      "Empty user ref object in card on tweet 1501564917283008515\n",
      "User 899733078641225728 not found in user refs in card on tweet 1501564917283008515\n",
      "Empty user ref object in card on tweet 1500202791918264321\n",
      "User 899733078641225728 not found in user refs in card on tweet 1500202791918264321\n",
      "Empty user ref object in card on tweet 1500202768644165636\n",
      "User 899733078641225728 not found in user refs in card on tweet 1500202768644165636\n",
      "Empty user ref object in card on tweet 1500202690177114113\n",
      "User 899733078641225728 not found in user refs in card on tweet 1500202690177114113\n",
      "Empty user ref object in card on tweet 1500185322331815940\n",
      "User 899733078641225728 not found in user refs in card on tweet 1500185322331815940\n",
      "Empty user ref object in card on tweet 1500183307971174401\n",
      "User 899733078641225728 not found in user refs in card on tweet 1500183307971174401\n",
      "Empty user ref object in card on tweet 1500183246595936261\n",
      "User 899733078641225728 not found in user refs in card on tweet 1500183246595936261\n",
      "Empty user ref object in card on tweet 1500179355166810114\n",
      "User 899733078641225728 not found in user refs in card on tweet 1500179355166810114\n",
      "Empty user ref object in card on tweet 1500177105417641995\n",
      "User 899733078641225728 not found in user refs in card on tweet 1500177105417641995\n",
      "Empty user ref object in card on tweet 1500175378035400708\n",
      "User 899733078641225728 not found in user refs in card on tweet 1500175378035400708\n",
      "Empty user ref object in card on tweet 1500169125922017282\n",
      "User 899733078641225728 not found in user refs in card on tweet 1500169125922017282\n",
      "Empty user ref object in card on tweet 1500167593566552073\n",
      "User 899733078641225728 not found in user refs in card on tweet 1500167593566552073\n",
      "Empty user ref object in card on tweet 1500165110626721796\n",
      "User 899733078641225728 not found in user refs in card on tweet 1500165110626721796\n",
      "Empty user ref object in card on tweet 1454167166673117190\n",
      "User 899733078641225728 not found in user refs in card on tweet 1454167166673117190\n",
      "Empty user ref object in card on tweet 1410749562810036224\n",
      "User 899733078641225728 not found in user refs in card on tweet 1410749562810036224\n",
      "Empty user ref object in card on tweet 1372899638815174659\n",
      "User 899733078641225728 not found in user refs in card on tweet 1372899638815174659\n",
      "Empty user ref object in card on tweet 1371118665819652100\n",
      "User 899733078641225728 not found in user refs in card on tweet 1371118665819652100\n",
      "Empty user ref object in card on tweet 1358858676333928448\n",
      "User 1244292630441328640 not found in user refs in card on tweet 1358858676333928448\n",
      "Empty user ref object in card on tweet 1333411077288300546\n",
      "User 899733078641225728 not found in user refs in card on tweet 1333411077288300546\n",
      "Empty user ref object in card on tweet 1291009385909686272\n",
      "User 899733078641225728 not found in user refs in card on tweet 1291009385909686272\n",
      "Empty user ref object in card on tweet 1276870622681972736\n",
      "User 899733078641225728 not found in user refs in card on tweet 1276870622681972736\n",
      "Empty user ref object in card on tweet 1260983994570637313\n",
      "User 899733078641225728 not found in user refs in card on tweet 1260983994570637313\n",
      "Empty user ref object in card on tweet 1253042482453110784\n",
      "User 899733078641225728 not found in user refs in card on tweet 1253042482453110784\n",
      "Empty user ref object in card on tweet 1250916954526883840\n",
      "User 899733078641225728 not found in user refs in card on tweet 1250916954526883840\n"
     ]
    },
    {
     "name": "stdout",
     "output_type": "stream",
     "text": [
      "48/50 letsaguiar: 671 tweets\n"
     ]
    },
    {
     "name": "stderr",
     "output_type": "stream",
     "text": [
      "Skipping empty tweet entry tweet-948198764505858049\n"
     ]
    },
    {
     "name": "stdout",
     "output_type": "stream",
     "text": [
      "49/50 thainarafariapt: 649 tweets\n"
     ]
    },
    {
     "name": "stderr",
     "output_type": "stream",
     "text": [
      "Empty user ref object in card on tweet 1108354349024141313\n",
      "User 1244292630441328640 not found in user refs in card on tweet 1108354349024141313\n",
      "Empty user ref object in card on tweet 303576051173449729\n",
      "Unavailable user in card on tweet 303576051173449729\n",
      "User 12925072 not found in user refs in card on tweet 303576051173449729\n",
      "User 10070685 not found in user refs in card on tweet 303576051173449729\n",
      "Empty user ref object in card on tweet 298857397773017090\n",
      "Unavailable user in card on tweet 298857397773017090\n",
      "User 12925072 not found in user refs in card on tweet 298857397773017090\n",
      "User 10070685 not found in user refs in card on tweet 298857397773017090\n",
      "Empty user ref object in card on tweet 296779583318028288\n",
      "Unavailable user in card on tweet 296779583318028288\n",
      "User 12925072 not found in user refs in card on tweet 296779583318028288\n",
      "User 10070685 not found in user refs in card on tweet 296779583318028288\n",
      "Empty user ref object in card on tweet 296106627772317696\n",
      "Unavailable user in card on tweet 296106627772317696\n",
      "User 12925072 not found in user refs in card on tweet 296106627772317696\n",
      "User 10070685 not found in user refs in card on tweet 296106627772317696\n",
      "Empty user ref object in card on tweet 296087305045803008\n",
      "Unavailable user in card on tweet 296087305045803008\n",
      "User 12925072 not found in user refs in card on tweet 296087305045803008\n",
      "User 10070685 not found in user refs in card on tweet 296087305045803008\n"
     ]
    },
    {
     "name": "stdout",
     "output_type": "stream",
     "text": [
      "50/50 depbrunafurlan: 3 tweets\n"
     ]
    }
   ],
   "source": [
    "user_tweets = {}\n",
    "MIN_TWEETS = 3\n",
    "\n",
    "for i, user in enumerate(users):\n",
    "    try:\n",
    "        user_scrapping_results = sntwitter.TwitterProfileScraper(user).get_items()\n",
    "        tweets = []\n",
    "        \n",
    "        while True:\n",
    "            # Alguns erros de scraping ocorrem durante a iteração\n",
    "            # Para evitar que o loop seja quebrado por problemas em tweets pontuais, vamos iterar manualmente\n",
    "            try:\n",
    "                tweet = next(user_scrapping_results)\n",
    "            except StopIteration:\n",
    "                break\n",
    "            \n",
    "            # O scraper também retorna objetos que não são exatamente tweets, como referências a tweets apagados (TweetRef e Tombstone)\n",
    "            # Eles não possuem as informações necessárias, e por isso são ignorados\n",
    "            if type(tweet) != sntwitter.Tweet:\n",
    "                continue\n",
    "                \n",
    "            # Gambiarra para que tweets pinados não caiam no filtro da data logo de cara\n",
    "            if tweet.date > since or len(tweets) < MIN_TWEETS:\n",
    "                tweets.append(tweet)\n",
    "\n",
    "        user_tweets[user] = tweets\n",
    "        print(f'{i+1}/{len(users)} {user}: {len(tweets)} tweets')\n",
    "        \n",
    "    except ScraperException as e:\n",
    "        print(f'{i+1}/{len(users)} {user}: {e}')\n",
    "        continue"
   ]
  },
  {
   "cell_type": "markdown",
   "id": "9d2a3603-624c-47da-90b8-45fc55965394",
   "metadata": {},
   "source": [
    "# Buscando replies a um tweet\n",
    "\n",
    "Após raspar os tweets de um candidato dentro do período, precisamos raspar as respostas de cada tweet"
   ]
  },
  {
   "cell_type": "code",
   "execution_count": 5,
   "id": "98698d10-fcce-4129-b308-e0b5062a13e9",
   "metadata": {
    "tags": []
   },
   "outputs": [
    {
     "data": {
      "text/plain": [
       "1652084174742867972"
      ]
     },
     "execution_count": 5,
     "metadata": {},
     "output_type": "execute_result"
    }
   ],
   "source": [
    "user_tweets['dreltonjr'][0].id"
   ]
  },
  {
   "cell_type": "code",
   "execution_count": 6,
   "id": "a5739fb7-2fd6-4282-8191-0756b24f599c",
   "metadata": {},
   "outputs": [
    {
     "name": "stdout",
     "output_type": "stream",
     "text": [
      "1/25 1652084174742867972: 1 tweets\n",
      "2/25 1651908726784155648: 3 tweets\n",
      "3/25 1644139280543916033: 1 tweets\n",
      "4/25 1636849282450948100: 2 tweets\n",
      "5/25 1623692227389038592: 1 tweets\n",
      "6/25 1619511924672323584: 1 tweets\n",
      "7/25 1617729036888965120: 1 tweets\n",
      "8/25 1617728931960090625: 1 tweets\n",
      "9/25 1631729096169332766: 3 tweets\n",
      "10/25 1617728416559816706: 1 tweets\n",
      "11/25 1612414845965434881: 4 tweets\n",
      "12/25 1611314504536563712: 9 tweets\n",
      "13/25 1604547396389638145: 2 tweets\n",
      "14/25 1603791081967161344: 1 tweets\n",
      "15/25 1601262671219019777: 1 tweets\n",
      "16/25 1601040314025660416: 1 tweets\n",
      "17/25 1597423093324345344: 1 tweets\n",
      "18/25 1590808622174699522: 3 tweets\n",
      "19/25 1590465520309936128: 1 tweets\n",
      "20/25 1586979751817842692: 3 tweets\n",
      "21/25 1586908901399826432: 1 tweets\n",
      "22/25 1586908805790683136: 1 tweets\n",
      "23/25 1584746657807491072: 1 tweets\n",
      "24/25 1584745331035885569: 1 tweets\n"
     ]
    },
    {
     "name": "stderr",
     "output_type": "stream",
     "text": [
      "Skipping unrecognised entry ID: 'label-7653966201171337198'\n"
     ]
    },
    {
     "name": "stdout",
     "output_type": "stream",
     "text": [
      "25/25 1580342225287847942: 3 tweets\n"
     ]
    }
   ],
   "source": [
    "# Vamos usar como exemplo o primeiro candidato da lista, que possui menos tweets)\n",
    "user = 'dreltonjr'\n",
    "mode = sntwitter.TwitterTweetScraperMode.SCROLL\n",
    "\n",
    "tweets_and_replies = []\n",
    "for i, tweet in enumerate(user_tweets[user]):\n",
    "    try:\n",
    "        tweet_scraper = sntwitter.TwitterTweetScraper(tweet.id, mode=mode).get_items()\n",
    "        replies = []\n",
    "        \n",
    "        while True:\n",
    "            # Alguns erros de scraping ocorrem durante a iteração\n",
    "            # Para evitar que o loop seja quebrado por problemas em tweets pontuais, vamos iterar manualmente\n",
    "            try:\n",
    "                tweet = next(tweet_scraper)\n",
    "            except StopIteration:\n",
    "                break\n",
    "                \n",
    "            # O scraper também retorna objetos que não são exatamente tweets, como referências a tweets apagados (TweetRef e Tombstone)\n",
    "            # Eles não possuem as informações necessárias, e por isso são ignorados\n",
    "            if type(tweet) != sntwitter.Tweet:\n",
    "                continue\n",
    "            \n",
    "            replies.append(tweet)\n",
    "                \n",
    "        tweets_and_replies += replies\n",
    "        print(f'{i+1}/{len(user_tweets[user])} {tweet.id}: {len(replies)} tweets')\n",
    "                \n",
    "    except ScraperException as e:\n",
    "        print(f'{i+1}/{len(user_tweets[user])} {tweet.id}: {e}')\n",
    "        continue"
   ]
  },
  {
   "cell_type": "code",
   "execution_count": 7,
   "id": "b6366ead-81bf-4855-9603-c275ab8e8741",
   "metadata": {
    "tags": []
   },
   "outputs": [
    {
     "name": "stdout",
     "output_type": "stream",
     "text": [
      "(48, 50)\n"
     ]
    },
    {
     "data": {
      "text/html": [
       "<div>\n",
       "<style scoped>\n",
       "    .dataframe tbody tr th:only-of-type {\n",
       "        vertical-align: middle;\n",
       "    }\n",
       "\n",
       "    .dataframe tbody tr th {\n",
       "        vertical-align: top;\n",
       "    }\n",
       "\n",
       "    .dataframe thead th {\n",
       "        text-align: right;\n",
       "    }\n",
       "</style>\n",
       "<table border=\"1\" class=\"dataframe\">\n",
       "  <thead>\n",
       "    <tr style=\"text-align: right;\">\n",
       "      <th></th>\n",
       "      <th>url</th>\n",
       "      <th>date</th>\n",
       "      <th>rawContent</th>\n",
       "      <th>renderedContent</th>\n",
       "      <th>id</th>\n",
       "      <th>user</th>\n",
       "      <th>replyCount</th>\n",
       "      <th>retweetCount</th>\n",
       "      <th>likeCount</th>\n",
       "      <th>quoteCount</th>\n",
       "      <th>conversationId</th>\n",
       "      <th>lang</th>\n",
       "      <th>source</th>\n",
       "      <th>sourceUrl</th>\n",
       "      <th>sourceLabel</th>\n",
       "      <th>links</th>\n",
       "      <th>media</th>\n",
       "      <th>retweetedTweet</th>\n",
       "      <th>quotedTweet</th>\n",
       "      <th>inReplyToTweetId</th>\n",
       "      <th>inReplyToUser</th>\n",
       "      <th>mentionedUsers</th>\n",
       "      <th>coordinates</th>\n",
       "      <th>place</th>\n",
       "      <th>hashtags</th>\n",
       "      <th>cashtags</th>\n",
       "      <th>card</th>\n",
       "      <th>viewCount</th>\n",
       "      <th>vibe</th>\n",
       "      <th>bookmarkCount</th>\n",
       "      <th>user_username</th>\n",
       "      <th>user_id</th>\n",
       "      <th>user_displayname</th>\n",
       "      <th>user_rawDescription</th>\n",
       "      <th>user_renderedDescription</th>\n",
       "      <th>user_descriptionLinks</th>\n",
       "      <th>user_verified</th>\n",
       "      <th>user_created</th>\n",
       "      <th>user_followersCount</th>\n",
       "      <th>user_friendsCount</th>\n",
       "      <th>user_statusesCount</th>\n",
       "      <th>user_favouritesCount</th>\n",
       "      <th>user_listedCount</th>\n",
       "      <th>user_mediaCount</th>\n",
       "      <th>user_location</th>\n",
       "      <th>user_protected</th>\n",
       "      <th>user_link</th>\n",
       "      <th>user_profileImageUrl</th>\n",
       "      <th>user_profileBannerUrl</th>\n",
       "      <th>user_label</th>\n",
       "    </tr>\n",
       "  </thead>\n",
       "  <tbody>\n",
       "    <tr>\n",
       "      <th>0</th>\n",
       "      <td>https://twitter.com/dreltonjr/status/165208417...</td>\n",
       "      <td>2023-04-28 22:55:36+00:00</td>\n",
       "      <td>RT @Damadeferroofic: Parabéns, @luisamell você...</td>\n",
       "      <td>RT @Damadeferroofic: Parabéns, @luisamell você...</td>\n",
       "      <td>1652084174742867972</td>\n",
       "      <td>https://twitter.com/dreltonjr</td>\n",
       "      <td>0</td>\n",
       "      <td>3746</td>\n",
       "      <td>0</td>\n",
       "      <td>0</td>\n",
       "      <td>1652084174742867972</td>\n",
       "      <td>pt</td>\n",
       "      <td>None</td>\n",
       "      <td>None</td>\n",
       "      <td>None</td>\n",
       "      <td>None</td>\n",
       "      <td>[Photo(previewUrl='https://pbs.twimg.com/media...</td>\n",
       "      <td>https://twitter.com/Damadeferroofic/status/165...</td>\n",
       "      <td>None</td>\n",
       "      <td>NaN</td>\n",
       "      <td>None</td>\n",
       "      <td>[https://twitter.com/Damadeferroofic, https://...</td>\n",
       "      <td>None</td>\n",
       "      <td>None</td>\n",
       "      <td>None</td>\n",
       "      <td>None</td>\n",
       "      <td>None</td>\n",
       "      <td>NaN</td>\n",
       "      <td>None</td>\n",
       "      <td>0</td>\n",
       "      <td>dreltonjr</td>\n",
       "      <td>739270494629842946</td>\n",
       "      <td>Dr. Elton</td>\n",
       "      <td>Nasci para servir. Isto envolve uma decisão. P...</td>\n",
       "      <td>Nasci para servir. Isto envolve uma decisão. P...</td>\n",
       "      <td>None</td>\n",
       "      <td>False</td>\n",
       "      <td>2016-06-05 01:39:55+00:00</td>\n",
       "      <td>875</td>\n",
       "      <td>461</td>\n",
       "      <td>746</td>\n",
       "      <td>304</td>\n",
       "      <td>2</td>\n",
       "      <td>480</td>\n",
       "      <td>São José dos Campos, Brasil</td>\n",
       "      <td>None</td>\n",
       "      <td>TextLink(text='drelton.com.br', url='http://ww...</td>\n",
       "      <td>https://pbs.twimg.com/profile_images/160359917...</td>\n",
       "      <td>https://pbs.twimg.com/profile_banners/73927049...</td>\n",
       "      <td>None</td>\n",
       "    </tr>\n",
       "    <tr>\n",
       "      <th>1</th>\n",
       "      <td>https://twitter.com/dreltonjr/status/165186681...</td>\n",
       "      <td>2023-04-28 08:31:54+00:00</td>\n",
       "      <td>Escreva aí, como você avalia meu trabalho ness...</td>\n",
       "      <td>Escreva aí, como você avalia meu trabalho ness...</td>\n",
       "      <td>1651866816912801792</td>\n",
       "      <td>https://twitter.com/dreltonjr</td>\n",
       "      <td>2</td>\n",
       "      <td>0</td>\n",
       "      <td>3</td>\n",
       "      <td>0</td>\n",
       "      <td>1651866816912801792</td>\n",
       "      <td>pt</td>\n",
       "      <td>None</td>\n",
       "      <td>None</td>\n",
       "      <td>None</td>\n",
       "      <td>None</td>\n",
       "      <td>None</td>\n",
       "      <td>None</td>\n",
       "      <td>None</td>\n",
       "      <td>NaN</td>\n",
       "      <td>None</td>\n",
       "      <td>None</td>\n",
       "      <td>None</td>\n",
       "      <td>None</td>\n",
       "      <td>None</td>\n",
       "      <td>None</td>\n",
       "      <td>None</td>\n",
       "      <td>102.00</td>\n",
       "      <td>None</td>\n",
       "      <td>0</td>\n",
       "      <td>dreltonjr</td>\n",
       "      <td>739270494629842946</td>\n",
       "      <td>Dr. Elton</td>\n",
       "      <td>Nasci para servir. Isto envolve uma decisão. P...</td>\n",
       "      <td>Nasci para servir. Isto envolve uma decisão. P...</td>\n",
       "      <td>None</td>\n",
       "      <td>False</td>\n",
       "      <td>2016-06-05 01:39:55+00:00</td>\n",
       "      <td>875</td>\n",
       "      <td>461</td>\n",
       "      <td>746</td>\n",
       "      <td>304</td>\n",
       "      <td>2</td>\n",
       "      <td>480</td>\n",
       "      <td>São José dos Campos, Brasil</td>\n",
       "      <td>None</td>\n",
       "      <td>TextLink(text='drelton.com.br', url='http://ww...</td>\n",
       "      <td>https://pbs.twimg.com/profile_images/160359917...</td>\n",
       "      <td>https://pbs.twimg.com/profile_banners/73927049...</td>\n",
       "      <td>None</td>\n",
       "    </tr>\n",
       "    <tr>\n",
       "      <th>2</th>\n",
       "      <td>https://twitter.com/ILSONRIBEIRODE3/status/165...</td>\n",
       "      <td>2023-04-28 10:04:52+00:00</td>\n",
       "      <td>@dreltonjr Parabéns estas fazendo nossos votos...</td>\n",
       "      <td>@dreltonjr Parabéns estas fazendo nossos votos...</td>\n",
       "      <td>1651890216569798658</td>\n",
       "      <td>https://twitter.com/ILSONRIBEIRODE3</td>\n",
       "      <td>0</td>\n",
       "      <td>0</td>\n",
       "      <td>0</td>\n",
       "      <td>0</td>\n",
       "      <td>1651866816912801792</td>\n",
       "      <td>pt</td>\n",
       "      <td>None</td>\n",
       "      <td>None</td>\n",
       "      <td>None</td>\n",
       "      <td>None</td>\n",
       "      <td>None</td>\n",
       "      <td>None</td>\n",
       "      <td>None</td>\n",
       "      <td>1,651,866,816,912,801,792.00</td>\n",
       "      <td>https://twitter.com/dreltonjr</td>\n",
       "      <td>[https://twitter.com/dreltonjr]</td>\n",
       "      <td>None</td>\n",
       "      <td>None</td>\n",
       "      <td>None</td>\n",
       "      <td>None</td>\n",
       "      <td>None</td>\n",
       "      <td>11.00</td>\n",
       "      <td>None</td>\n",
       "      <td>0</td>\n",
       "      <td>ILSONRIBEIRODE3</td>\n",
       "      <td>1552798600539029505</td>\n",
       "      <td>ILSON RIBEIRO DE CARVALHO</td>\n",
       "      <td>alegre</td>\n",
       "      <td>alegre</td>\n",
       "      <td>None</td>\n",
       "      <td>False</td>\n",
       "      <td>2022-07-28 23:30:27+00:00</td>\n",
       "      <td>0</td>\n",
       "      <td>27</td>\n",
       "      <td>15</td>\n",
       "      <td>9</td>\n",
       "      <td>0</td>\n",
       "      <td>4</td>\n",
       "      <td>Sao Paulo, Brazil</td>\n",
       "      <td>None</td>\n",
       "      <td>None</td>\n",
       "      <td>https://pbs.twimg.com/profile_images/155977907...</td>\n",
       "      <td>None</td>\n",
       "      <td>None</td>\n",
       "    </tr>\n",
       "    <tr>\n",
       "      <th>3</th>\n",
       "      <td>https://twitter.com/CSaquetti/status/165190872...</td>\n",
       "      <td>2023-04-28 11:18:26+00:00</td>\n",
       "      <td>@dreltonjr Estou orgulhosa do meu voto continu...</td>\n",
       "      <td>@dreltonjr Estou orgulhosa do meu voto continu...</td>\n",
       "      <td>1651908726784155648</td>\n",
       "      <td>https://twitter.com/CSaquetti</td>\n",
       "      <td>0</td>\n",
       "      <td>0</td>\n",
       "      <td>0</td>\n",
       "      <td>0</td>\n",
       "      <td>1651866816912801792</td>\n",
       "      <td>pt</td>\n",
       "      <td>None</td>\n",
       "      <td>None</td>\n",
       "      <td>None</td>\n",
       "      <td>None</td>\n",
       "      <td>None</td>\n",
       "      <td>None</td>\n",
       "      <td>None</td>\n",
       "      <td>1,651,866,816,912,801,792.00</td>\n",
       "      <td>https://twitter.com/dreltonjr</td>\n",
       "      <td>[https://twitter.com/dreltonjr]</td>\n",
       "      <td>None</td>\n",
       "      <td>None</td>\n",
       "      <td>[somosfamilia]</td>\n",
       "      <td>None</td>\n",
       "      <td>None</td>\n",
       "      <td>8.00</td>\n",
       "      <td>None</td>\n",
       "      <td>0</td>\n",
       "      <td>CSaquetti</td>\n",
       "      <td>1059817072778268673</td>\n",
       "      <td>Camila Saquetti</td>\n",
       "      <td>Filha amada de Deus.. Aprendendo a viver na De...</td>\n",
       "      <td>Filha amada de Deus.. Aprendendo a viver na De...</td>\n",
       "      <td>None</td>\n",
       "      <td>False</td>\n",
       "      <td>2018-11-06 14:37:35+00:00</td>\n",
       "      <td>13</td>\n",
       "      <td>283</td>\n",
       "      <td>433</td>\n",
       "      <td>1222</td>\n",
       "      <td>0</td>\n",
       "      <td>0</td>\n",
       "      <td></td>\n",
       "      <td>None</td>\n",
       "      <td>None</td>\n",
       "      <td>https://pbs.twimg.com/profile_images/105982181...</td>\n",
       "      <td>None</td>\n",
       "      <td>None</td>\n",
       "    </tr>\n",
       "    <tr>\n",
       "      <th>4</th>\n",
       "      <td>https://twitter.com/dreltonjr/status/164413928...</td>\n",
       "      <td>2023-04-07 00:45:25+00:00</td>\n",
       "      <td>RT @carlitopaes: Vejam… olhem bem… alegrem-se…...</td>\n",
       "      <td>RT @carlitopaes: Vejam… olhem bem… alegrem-se…...</td>\n",
       "      <td>1644139280543916033</td>\n",
       "      <td>https://twitter.com/dreltonjr</td>\n",
       "      <td>0</td>\n",
       "      <td>3</td>\n",
       "      <td>0</td>\n",
       "      <td>0</td>\n",
       "      <td>1644139280543916033</td>\n",
       "      <td>pt</td>\n",
       "      <td>None</td>\n",
       "      <td>None</td>\n",
       "      <td>None</td>\n",
       "      <td>None</td>\n",
       "      <td>[Photo(previewUrl='https://pbs.twimg.com/media...</td>\n",
       "      <td>https://twitter.com/carlitopaes/status/1644102...</td>\n",
       "      <td>None</td>\n",
       "      <td>NaN</td>\n",
       "      <td>None</td>\n",
       "      <td>[https://twitter.com/carlitopaes]</td>\n",
       "      <td>None</td>\n",
       "      <td>None</td>\n",
       "      <td>None</td>\n",
       "      <td>None</td>\n",
       "      <td>None</td>\n",
       "      <td>NaN</td>\n",
       "      <td>None</td>\n",
       "      <td>0</td>\n",
       "      <td>dreltonjr</td>\n",
       "      <td>739270494629842946</td>\n",
       "      <td>Dr. Elton</td>\n",
       "      <td>Nasci para servir. Isto envolve uma decisão. P...</td>\n",
       "      <td>Nasci para servir. Isto envolve uma decisão. P...</td>\n",
       "      <td>None</td>\n",
       "      <td>False</td>\n",
       "      <td>2016-06-05 01:39:55+00:00</td>\n",
       "      <td>875</td>\n",
       "      <td>461</td>\n",
       "      <td>746</td>\n",
       "      <td>304</td>\n",
       "      <td>2</td>\n",
       "      <td>480</td>\n",
       "      <td>São José dos Campos, Brasil</td>\n",
       "      <td>None</td>\n",
       "      <td>TextLink(text='drelton.com.br', url='http://ww...</td>\n",
       "      <td>https://pbs.twimg.com/profile_images/160359917...</td>\n",
       "      <td>https://pbs.twimg.com/profile_banners/73927049...</td>\n",
       "      <td>None</td>\n",
       "    </tr>\n",
       "  </tbody>\n",
       "</table>\n",
       "</div>"
      ],
      "text/plain": [
       "                                                 url  \\\n",
       "0  https://twitter.com/dreltonjr/status/165208417...   \n",
       "1  https://twitter.com/dreltonjr/status/165186681...   \n",
       "2  https://twitter.com/ILSONRIBEIRODE3/status/165...   \n",
       "3  https://twitter.com/CSaquetti/status/165190872...   \n",
       "4  https://twitter.com/dreltonjr/status/164413928...   \n",
       "\n",
       "                       date  \\\n",
       "0 2023-04-28 22:55:36+00:00   \n",
       "1 2023-04-28 08:31:54+00:00   \n",
       "2 2023-04-28 10:04:52+00:00   \n",
       "3 2023-04-28 11:18:26+00:00   \n",
       "4 2023-04-07 00:45:25+00:00   \n",
       "\n",
       "                                          rawContent  \\\n",
       "0  RT @Damadeferroofic: Parabéns, @luisamell você...   \n",
       "1  Escreva aí, como você avalia meu trabalho ness...   \n",
       "2  @dreltonjr Parabéns estas fazendo nossos votos...   \n",
       "3  @dreltonjr Estou orgulhosa do meu voto continu...   \n",
       "4  RT @carlitopaes: Vejam… olhem bem… alegrem-se…...   \n",
       "\n",
       "                                     renderedContent                   id  \\\n",
       "0  RT @Damadeferroofic: Parabéns, @luisamell você...  1652084174742867972   \n",
       "1  Escreva aí, como você avalia meu trabalho ness...  1651866816912801792   \n",
       "2  @dreltonjr Parabéns estas fazendo nossos votos...  1651890216569798658   \n",
       "3  @dreltonjr Estou orgulhosa do meu voto continu...  1651908726784155648   \n",
       "4  RT @carlitopaes: Vejam… olhem bem… alegrem-se…...  1644139280543916033   \n",
       "\n",
       "                                  user  replyCount  retweetCount  likeCount  \\\n",
       "0        https://twitter.com/dreltonjr           0          3746          0   \n",
       "1        https://twitter.com/dreltonjr           2             0          3   \n",
       "2  https://twitter.com/ILSONRIBEIRODE3           0             0          0   \n",
       "3        https://twitter.com/CSaquetti           0             0          0   \n",
       "4        https://twitter.com/dreltonjr           0             3          0   \n",
       "\n",
       "   quoteCount       conversationId lang source sourceUrl sourceLabel links  \\\n",
       "0           0  1652084174742867972   pt   None      None        None  None   \n",
       "1           0  1651866816912801792   pt   None      None        None  None   \n",
       "2           0  1651866816912801792   pt   None      None        None  None   \n",
       "3           0  1651866816912801792   pt   None      None        None  None   \n",
       "4           0  1644139280543916033   pt   None      None        None  None   \n",
       "\n",
       "                                               media  \\\n",
       "0  [Photo(previewUrl='https://pbs.twimg.com/media...   \n",
       "1                                               None   \n",
       "2                                               None   \n",
       "3                                               None   \n",
       "4  [Photo(previewUrl='https://pbs.twimg.com/media...   \n",
       "\n",
       "                                      retweetedTweet quotedTweet  \\\n",
       "0  https://twitter.com/Damadeferroofic/status/165...        None   \n",
       "1                                               None        None   \n",
       "2                                               None        None   \n",
       "3                                               None        None   \n",
       "4  https://twitter.com/carlitopaes/status/1644102...        None   \n",
       "\n",
       "              inReplyToTweetId                  inReplyToUser  \\\n",
       "0                          NaN                           None   \n",
       "1                          NaN                           None   \n",
       "2 1,651,866,816,912,801,792.00  https://twitter.com/dreltonjr   \n",
       "3 1,651,866,816,912,801,792.00  https://twitter.com/dreltonjr   \n",
       "4                          NaN                           None   \n",
       "\n",
       "                                      mentionedUsers coordinates place  \\\n",
       "0  [https://twitter.com/Damadeferroofic, https://...        None  None   \n",
       "1                                               None        None  None   \n",
       "2                    [https://twitter.com/dreltonjr]        None  None   \n",
       "3                    [https://twitter.com/dreltonjr]        None  None   \n",
       "4                  [https://twitter.com/carlitopaes]        None  None   \n",
       "\n",
       "         hashtags cashtags  card  viewCount  vibe  bookmarkCount  \\\n",
       "0            None     None  None        NaN  None              0   \n",
       "1            None     None  None     102.00  None              0   \n",
       "2            None     None  None      11.00  None              0   \n",
       "3  [somosfamilia]     None  None       8.00  None              0   \n",
       "4            None     None  None        NaN  None              0   \n",
       "\n",
       "     user_username              user_id           user_displayname  \\\n",
       "0        dreltonjr   739270494629842946                  Dr. Elton   \n",
       "1        dreltonjr   739270494629842946                  Dr. Elton   \n",
       "2  ILSONRIBEIRODE3  1552798600539029505  ILSON RIBEIRO DE CARVALHO   \n",
       "3        CSaquetti  1059817072778268673            Camila Saquetti   \n",
       "4        dreltonjr   739270494629842946                  Dr. Elton   \n",
       "\n",
       "                                 user_rawDescription  \\\n",
       "0  Nasci para servir. Isto envolve uma decisão. P...   \n",
       "1  Nasci para servir. Isto envolve uma decisão. P...   \n",
       "2                                             alegre   \n",
       "3  Filha amada de Deus.. Aprendendo a viver na De...   \n",
       "4  Nasci para servir. Isto envolve uma decisão. P...   \n",
       "\n",
       "                            user_renderedDescription user_descriptionLinks  \\\n",
       "0  Nasci para servir. Isto envolve uma decisão. P...                  None   \n",
       "1  Nasci para servir. Isto envolve uma decisão. P...                  None   \n",
       "2                                             alegre                  None   \n",
       "3  Filha amada de Deus.. Aprendendo a viver na De...                  None   \n",
       "4  Nasci para servir. Isto envolve uma decisão. P...                  None   \n",
       "\n",
       "   user_verified              user_created  user_followersCount  \\\n",
       "0          False 2016-06-05 01:39:55+00:00                  875   \n",
       "1          False 2016-06-05 01:39:55+00:00                  875   \n",
       "2          False 2022-07-28 23:30:27+00:00                    0   \n",
       "3          False 2018-11-06 14:37:35+00:00                   13   \n",
       "4          False 2016-06-05 01:39:55+00:00                  875   \n",
       "\n",
       "   user_friendsCount  user_statusesCount  user_favouritesCount  \\\n",
       "0                461                 746                   304   \n",
       "1                461                 746                   304   \n",
       "2                 27                  15                     9   \n",
       "3                283                 433                  1222   \n",
       "4                461                 746                   304   \n",
       "\n",
       "   user_listedCount  user_mediaCount                user_location  \\\n",
       "0                 2              480  São José dos Campos, Brasil   \n",
       "1                 2              480  São José dos Campos, Brasil   \n",
       "2                 0                4            Sao Paulo, Brazil   \n",
       "3                 0                0                                \n",
       "4                 2              480  São José dos Campos, Brasil   \n",
       "\n",
       "  user_protected                                          user_link  \\\n",
       "0           None  TextLink(text='drelton.com.br', url='http://ww...   \n",
       "1           None  TextLink(text='drelton.com.br', url='http://ww...   \n",
       "2           None                                               None   \n",
       "3           None                                               None   \n",
       "4           None  TextLink(text='drelton.com.br', url='http://ww...   \n",
       "\n",
       "                                user_profileImageUrl  \\\n",
       "0  https://pbs.twimg.com/profile_images/160359917...   \n",
       "1  https://pbs.twimg.com/profile_images/160359917...   \n",
       "2  https://pbs.twimg.com/profile_images/155977907...   \n",
       "3  https://pbs.twimg.com/profile_images/105982181...   \n",
       "4  https://pbs.twimg.com/profile_images/160359917...   \n",
       "\n",
       "                               user_profileBannerUrl user_label  \n",
       "0  https://pbs.twimg.com/profile_banners/73927049...       None  \n",
       "1  https://pbs.twimg.com/profile_banners/73927049...       None  \n",
       "2                                               None       None  \n",
       "3                                               None       None  \n",
       "4  https://pbs.twimg.com/profile_banners/73927049...       None  "
      ]
     },
     "execution_count": 7,
     "metadata": {},
     "output_type": "execute_result"
    }
   ],
   "source": [
    "# Convertendo as informações para DataFrame\n",
    "tweet_fields = [f.name for f in fields(tweet)]\n",
    "user_fields = [f.name for f in fields(tweet.user)]\n",
    "all_columns = tweet_fields + ['user_' + f for f in user_fields]\n",
    "\n",
    "tweets_data = [\n",
    "    [getattr(t, field) for field in tweet_fields] + \n",
    "    [getattr(t.user, field) for field in user_fields] \n",
    "    for t in tweets_and_replies\n",
    "]\n",
    "tweets_df = pd.DataFrame(tweets_data, columns=all_columns)\n",
    "\n",
    "print(tweets_df.shape)\n",
    "tweets_df.head()"
   ]
  },
  {
   "cell_type": "code",
   "execution_count": 8,
   "id": "4efe14e7-24dd-4adf-b32a-a74fbe041c1c",
   "metadata": {
    "tags": []
   },
   "outputs": [],
   "source": [
    "# Exportando dados scrapeados\n",
    "# Para salvar os dados é só descomentar as linhas abaixo\n",
    "\n",
    "# output_path = '../data/raw/'\n",
    "# output_file = f'{user}-{since}-{datetime.now().isoformat()}.csv'\n",
    "\n",
    "# tweets_df.to_csv(f\"{output_path}{output_file}\", sep=';', encoding='utf-8', index=False)"
   ]
  }
 ],
 "metadata": {
  "colab": {
   "provenance": []
  },
  "kernelspec": {
   "display_name": "Python 3 (ipykernel)",
   "language": "python",
   "name": "python3"
  },
  "language_info": {
   "codemirror_mode": {
    "name": "ipython",
    "version": 3
   },
   "file_extension": ".py",
   "mimetype": "text/x-python",
   "name": "python",
   "nbconvert_exporter": "python",
   "pygments_lexer": "ipython3",
   "version": "3.8.13"
  }
 },
 "nbformat": 4,
 "nbformat_minor": 5
}
