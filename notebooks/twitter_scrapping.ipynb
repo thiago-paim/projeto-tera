{
 "cells": [
  {
   "cell_type": "markdown",
   "id": "89b9c332-f41a-4e6a-bec9-a01cd4c0afc9",
   "metadata": {},
   "source": [
    "# Inicialização"
   ]
  },
  {
   "cell_type": "code",
   "execution_count": 1,
   "id": "QUPpsqbQm64D",
   "metadata": {
    "colab": {
     "base_uri": "https://localhost:8080/"
    },
    "id": "QUPpsqbQm64D",
    "outputId": "770a7b9c-36e2-4db8-a857-0b931f941978"
   },
   "outputs": [],
   "source": [
    "# Se estiver rodando em um Colab, descomente a linha abaixo\n",
    "# !pip install snscrape tqdm"
   ]
  },
  {
   "cell_type": "code",
   "execution_count": 2,
   "id": "6750a614-faea-4df2-9ada-8182e60539c4",
   "metadata": {
    "id": "6750a614-faea-4df2-9ada-8182e60539c4"
   },
   "outputs": [],
   "source": [
    "from dataclasses import fields\n",
    "from datetime import datetime\n",
    "import pandas as pd\n",
    "import snscrape.modules.twitter as sntwitter\n",
    "from tqdm import tqdm\n",
    "\n",
    "# Oculta warnings do notebook\n",
    "# import warnings\n",
    "# warnings.filterwarnings('ignore')\n",
    "\n",
    "pd.set_option('display.max_columns', 80)\n",
    "pd.options.display.float_format = '{:,.2f}'.format"
   ]
  },
  {
   "cell_type": "markdown",
   "id": "17f271f7-4a6d-4f6a-8087-0cddffd97fa3",
   "metadata": {},
   "source": [
    "# Contagem de tweets por candidato"
   ]
  },
  {
   "cell_type": "code",
   "execution_count": 3,
   "id": "cca996d6-482b-4fe7-a21f-8e60285ac2c2",
   "metadata": {},
   "outputs": [],
   "source": [
    "# Contas dos candidatos eleitos\n",
    "users = [\n",
    "    'dreltonjr', 'EdianeMariaMTST', 'fabibbolsonaro', 'delegadoolim', 'leosiqueirabr', 'bethsahao', \n",
    "    'sppretas', 'tomeabduch', 'prcarloscezar', 'majormecca', 'valbolsonaro', 'zimbaldirafa', \n",
    "    'CarlosGiannazi', 'tenente_coimbra', 'rafaelsaraivasp', 'BrunoZambelli3', 'LFTeixeira13', \n",
    "    'EmidioDeSouza_', 'esuplicy', 'depeniotatto', 'eniotatto13114', 'anacarolserra23',\n",
    "    'xerifedoconsum', 'auricchiothiago', 'itamar_borges', 'simaopedro_SP', 'DaniloBalas', 'vcamarinha', \n",
    "    'marcosdamasiosp', 'lcmarcolino', 'danialonsoDA', 'bfeministapsol', 'gersonpessoa',\n",
    "    'deleg_graciela', 'ValdomiroLopes_', 'lucasbovesp', 'DANIELBRSOARES', 'paulomansur_', \n",
    "    'andreawerner_', 'CONTELOPES', 'anaperugini', 'professorabebel', 'EdmirChedid', 'deputadomaurici',\n",
    "    'carteiroreaca', 'caiofranca40', 'marcialiapt13', 'letsaguiar', 'thainarafariapt', 'depbrunafurlan'\n",
    "]\n",
    "\n",
    "since = '2022-09-01'\n",
    "until = '2022-11-01'"
   ]
  },
  {
   "cell_type": "code",
   "execution_count": 4,
   "id": "1d1c9b5e-fadb-446f-b3b0-cfc76b1c1665",
   "metadata": {},
   "outputs": [
    {
     "name": "stderr",
     "output_type": "stream",
     "text": [
      "Error retrieving https://api.twitter.com/2/search/adaptive.json?include_profile_interstitial_type=1&include_blocking=1&include_blocked_by=1&include_followed_by=1&include_want_retweets=1&include_mute_edge=1&include_can_dm=1&include_can_media_tag=1&include_ext_has_nft_avatar=1&include_ext_is_blue_verified=1&include_ext_verified_type=1&skip_status=1&cards_platform=Web-12&include_cards=1&include_ext_alt_text=true&include_ext_limited_action_results=false&include_quote_count=true&include_reply_count=1&tweet_mode=extended&include_ext_collab_control=true&include_ext_views=true&include_entities=true&include_user_entities=true&include_ext_media_color=true&include_ext_media_availability=true&include_ext_sensitive_media_warning=true&include_ext_trusted_friends_metadata=true&send_error_codes=true&simple_quoted_tweet=true&q=from%3Adreltonjr+since%3A2022-09-01+until%3A2022-11-01&tweet_search_mode=live&count=20&query_source=spelling_expansion_revert_click&pc=1&spelling_corrections=1&include_ext_edit_control=true&ext=mediaStats%2ChighlightedLabel%2ChasNftAvatar%2CvoiceInfo%2Cenrichments%2CsuperFollowMetadata%2CunmentionInfo%2CeditControl%2Ccollab_control%2Cvibe: blocked (403)\n",
      "4 requests to https://api.twitter.com/2/search/adaptive.json?include_profile_interstitial_type=1&include_blocking=1&include_blocked_by=1&include_followed_by=1&include_want_retweets=1&include_mute_edge=1&include_can_dm=1&include_can_media_tag=1&include_ext_has_nft_avatar=1&include_ext_is_blue_verified=1&include_ext_verified_type=1&skip_status=1&cards_platform=Web-12&include_cards=1&include_ext_alt_text=true&include_ext_limited_action_results=false&include_quote_count=true&include_reply_count=1&tweet_mode=extended&include_ext_collab_control=true&include_ext_views=true&include_entities=true&include_user_entities=true&include_ext_media_color=true&include_ext_media_availability=true&include_ext_sensitive_media_warning=true&include_ext_trusted_friends_metadata=true&send_error_codes=true&simple_quoted_tweet=true&q=from%3Adreltonjr+since%3A2022-09-01+until%3A2022-11-01&tweet_search_mode=live&count=20&query_source=spelling_expansion_revert_click&pc=1&spelling_corrections=1&include_ext_edit_control=true&ext=mediaStats%2ChighlightedLabel%2ChasNftAvatar%2CvoiceInfo%2Cenrichments%2CsuperFollowMetadata%2CunmentionInfo%2CeditControl%2Ccollab_control%2Cvibe failed, giving up.\n",
      "Errors: blocked (403), blocked (403), blocked (403), blocked (403)\n"
     ]
    },
    {
     "ename": "ScraperException",
     "evalue": "4 requests to https://api.twitter.com/2/search/adaptive.json?include_profile_interstitial_type=1&include_blocking=1&include_blocked_by=1&include_followed_by=1&include_want_retweets=1&include_mute_edge=1&include_can_dm=1&include_can_media_tag=1&include_ext_has_nft_avatar=1&include_ext_is_blue_verified=1&include_ext_verified_type=1&skip_status=1&cards_platform=Web-12&include_cards=1&include_ext_alt_text=true&include_ext_limited_action_results=false&include_quote_count=true&include_reply_count=1&tweet_mode=extended&include_ext_collab_control=true&include_ext_views=true&include_entities=true&include_user_entities=true&include_ext_media_color=true&include_ext_media_availability=true&include_ext_sensitive_media_warning=true&include_ext_trusted_friends_metadata=true&send_error_codes=true&simple_quoted_tweet=true&q=from%3Adreltonjr+since%3A2022-09-01+until%3A2022-11-01&tweet_search_mode=live&count=20&query_source=spelling_expansion_revert_click&pc=1&spelling_corrections=1&include_ext_edit_control=true&ext=mediaStats%2ChighlightedLabel%2ChasNftAvatar%2CvoiceInfo%2Cenrichments%2CsuperFollowMetadata%2CunmentionInfo%2CeditControl%2Ccollab_control%2Cvibe failed, giving up.",
     "output_type": "error",
     "traceback": [
      "\u001b[0;31m---------------------------------------------------------------------------\u001b[0m",
      "\u001b[0;31mScraperException\u001b[0m                          Traceback (most recent call last)",
      "Cell \u001b[0;32mIn[4], line 7\u001b[0m\n\u001b[1;32m      5\u001b[0m user_scrapping_results \u001b[38;5;241m=\u001b[39m sntwitter\u001b[38;5;241m.\u001b[39mTwitterSearchScraper(query)\n\u001b[1;32m      6\u001b[0m tweet_ids \u001b[38;5;241m=\u001b[39m []\n\u001b[0;32m----> 7\u001b[0m \u001b[38;5;28;01mfor\u001b[39;00m tweet \u001b[38;5;129;01min\u001b[39;00m user_scrapping_results\u001b[38;5;241m.\u001b[39mget_items():\n\u001b[1;32m      8\u001b[0m     tweet_ids\u001b[38;5;241m.\u001b[39mappend(tweet\u001b[38;5;241m.\u001b[39mid)\n\u001b[1;32m      9\u001b[0m user_tweets[user] \u001b[38;5;241m=\u001b[39m tweet_ids\n",
      "File \u001b[0;32m~/projects/complete_venv/lib/python3.8/site-packages/snscrape/modules/twitter.py:1657\u001b[0m, in \u001b[0;36mTwitterSearchScraper.get_items\u001b[0;34m(self)\u001b[0m\n\u001b[1;32m   1654\u001b[0m params \u001b[38;5;241m=\u001b[39m paginationParams\u001b[38;5;241m.\u001b[39mcopy()\n\u001b[1;32m   1655\u001b[0m \u001b[38;5;28;01mdel\u001b[39;00m params[\u001b[38;5;124m'\u001b[39m\u001b[38;5;124mcursor\u001b[39m\u001b[38;5;124m'\u001b[39m]\n\u001b[0;32m-> 1657\u001b[0m \u001b[38;5;28;01mfor\u001b[39;00m obj \u001b[38;5;129;01min\u001b[39;00m \u001b[38;5;28mself\u001b[39m\u001b[38;5;241m.\u001b[39m_iter_api_data(\u001b[38;5;124m'\u001b[39m\u001b[38;5;124mhttps://api.twitter.com/2/search/adaptive.json\u001b[39m\u001b[38;5;124m'\u001b[39m, _TwitterAPIType\u001b[38;5;241m.\u001b[39mV2, params, paginationParams, cursor \u001b[38;5;241m=\u001b[39m \u001b[38;5;28mself\u001b[39m\u001b[38;5;241m.\u001b[39m_cursor):\n\u001b[1;32m   1658\u001b[0m \t\u001b[38;5;28;01myield from\u001b[39;00m \u001b[38;5;28mself\u001b[39m\u001b[38;5;241m.\u001b[39m_v2_timeline_instructions_to_tweets_or_users(obj)\n",
      "File \u001b[0;32m~/projects/complete_venv/lib/python3.8/site-packages/snscrape/modules/twitter.py:761\u001b[0m, in \u001b[0;36m_TwitterAPIScraper._iter_api_data\u001b[0;34m(self, endpoint, apiType, params, paginationParams, cursor, direction)\u001b[0m\n\u001b[1;32m    759\u001b[0m \u001b[38;5;28;01mwhile\u001b[39;00m \u001b[38;5;28;01mTrue\u001b[39;00m:\n\u001b[1;32m    760\u001b[0m \t_logger\u001b[38;5;241m.\u001b[39minfo(\u001b[38;5;124mf\u001b[39m\u001b[38;5;124m'\u001b[39m\u001b[38;5;124mRetrieving scroll page \u001b[39m\u001b[38;5;132;01m{\u001b[39;00mcursor\u001b[38;5;132;01m}\u001b[39;00m\u001b[38;5;124m'\u001b[39m)\n\u001b[0;32m--> 761\u001b[0m \tobj \u001b[38;5;241m=\u001b[39m \u001b[38;5;28;43mself\u001b[39;49m\u001b[38;5;241;43m.\u001b[39;49m\u001b[43m_get_api_data\u001b[49m\u001b[43m(\u001b[49m\u001b[43mendpoint\u001b[49m\u001b[43m,\u001b[49m\u001b[43m \u001b[49m\u001b[43mapiType\u001b[49m\u001b[43m,\u001b[49m\u001b[43m \u001b[49m\u001b[43mreqParams\u001b[49m\u001b[43m)\u001b[49m\n\u001b[1;32m    762\u001b[0m \t\u001b[38;5;28;01myield\u001b[39;00m obj\n\u001b[1;32m    764\u001b[0m \t\u001b[38;5;66;03m# No data format test, just a hard and loud crash if anything's wrong :-)\u001b[39;00m\n",
      "File \u001b[0;32m~/projects/complete_venv/lib/python3.8/site-packages/snscrape/modules/twitter.py:727\u001b[0m, in \u001b[0;36m_TwitterAPIScraper._get_api_data\u001b[0;34m(self, endpoint, apiType, params)\u001b[0m\n\u001b[1;32m    725\u001b[0m \u001b[38;5;28;01mif\u001b[39;00m apiType \u001b[38;5;129;01mis\u001b[39;00m _TwitterAPIType\u001b[38;5;241m.\u001b[39mGRAPHQL:\n\u001b[1;32m    726\u001b[0m \tparams \u001b[38;5;241m=\u001b[39m urllib\u001b[38;5;241m.\u001b[39mparse\u001b[38;5;241m.\u001b[39murlencode({k: json\u001b[38;5;241m.\u001b[39mdumps(v, separators \u001b[38;5;241m=\u001b[39m (\u001b[38;5;124m'\u001b[39m\u001b[38;5;124m,\u001b[39m\u001b[38;5;124m'\u001b[39m, \u001b[38;5;124m'\u001b[39m\u001b[38;5;124m:\u001b[39m\u001b[38;5;124m'\u001b[39m)) \u001b[38;5;28;01mfor\u001b[39;00m k, v \u001b[38;5;129;01min\u001b[39;00m params\u001b[38;5;241m.\u001b[39mitems()}, quote_via \u001b[38;5;241m=\u001b[39m urllib\u001b[38;5;241m.\u001b[39mparse\u001b[38;5;241m.\u001b[39mquote)\n\u001b[0;32m--> 727\u001b[0m r \u001b[38;5;241m=\u001b[39m \u001b[38;5;28;43mself\u001b[39;49m\u001b[38;5;241;43m.\u001b[39;49m\u001b[43m_get\u001b[49m\u001b[43m(\u001b[49m\u001b[43mendpoint\u001b[49m\u001b[43m,\u001b[49m\u001b[43m \u001b[49m\u001b[43mparams\u001b[49m\u001b[43m \u001b[49m\u001b[38;5;241;43m=\u001b[39;49m\u001b[43m \u001b[49m\u001b[43mparams\u001b[49m\u001b[43m,\u001b[49m\u001b[43m \u001b[49m\u001b[43mheaders\u001b[49m\u001b[43m \u001b[49m\u001b[38;5;241;43m=\u001b[39;49m\u001b[43m \u001b[49m\u001b[38;5;28;43mself\u001b[39;49m\u001b[38;5;241;43m.\u001b[39;49m\u001b[43m_apiHeaders\u001b[49m\u001b[43m,\u001b[49m\u001b[43m \u001b[49m\u001b[43mresponseOkCallback\u001b[49m\u001b[43m \u001b[49m\u001b[38;5;241;43m=\u001b[39;49m\u001b[43m \u001b[49m\u001b[38;5;28;43mself\u001b[39;49m\u001b[38;5;241;43m.\u001b[39;49m\u001b[43m_check_api_response\u001b[49m\u001b[43m)\u001b[49m\n\u001b[1;32m    728\u001b[0m \u001b[38;5;28;01mtry\u001b[39;00m:\n\u001b[1;32m    729\u001b[0m \tobj \u001b[38;5;241m=\u001b[39m r\u001b[38;5;241m.\u001b[39mjson()\n",
      "File \u001b[0;32m~/projects/complete_venv/lib/python3.8/site-packages/snscrape/base.py:251\u001b[0m, in \u001b[0;36mScraper._get\u001b[0;34m(self, *args, **kwargs)\u001b[0m\n\u001b[1;32m    250\u001b[0m \u001b[38;5;28;01mdef\u001b[39;00m \u001b[38;5;21m_get\u001b[39m(\u001b[38;5;28mself\u001b[39m, \u001b[38;5;241m*\u001b[39margs, \u001b[38;5;241m*\u001b[39m\u001b[38;5;241m*\u001b[39mkwargs):\n\u001b[0;32m--> 251\u001b[0m \t\u001b[38;5;28;01mreturn\u001b[39;00m \u001b[38;5;28;43mself\u001b[39;49m\u001b[38;5;241;43m.\u001b[39;49m\u001b[43m_request\u001b[49m\u001b[43m(\u001b[49m\u001b[38;5;124;43m'\u001b[39;49m\u001b[38;5;124;43mGET\u001b[39;49m\u001b[38;5;124;43m'\u001b[39;49m\u001b[43m,\u001b[49m\u001b[43m \u001b[49m\u001b[38;5;241;43m*\u001b[39;49m\u001b[43margs\u001b[49m\u001b[43m,\u001b[49m\u001b[43m \u001b[49m\u001b[38;5;241;43m*\u001b[39;49m\u001b[38;5;241;43m*\u001b[39;49m\u001b[43mkwargs\u001b[49m\u001b[43m)\u001b[49m\n",
      "File \u001b[0;32m~/projects/complete_venv/lib/python3.8/site-packages/snscrape/base.py:247\u001b[0m, in \u001b[0;36mScraper._request\u001b[0;34m(self, method, url, params, data, headers, timeout, responseOkCallback, allowRedirects, proxies)\u001b[0m\n\u001b[1;32m    245\u001b[0m \t_logger\u001b[38;5;241m.\u001b[39mfatal(msg)\n\u001b[1;32m    246\u001b[0m \t_logger\u001b[38;5;241m.\u001b[39mfatal(\u001b[38;5;124mf\u001b[39m\u001b[38;5;124m'\u001b[39m\u001b[38;5;124mErrors: \u001b[39m\u001b[38;5;132;01m{\u001b[39;00m\u001b[38;5;124m\"\u001b[39m\u001b[38;5;124m, \u001b[39m\u001b[38;5;124m\"\u001b[39m\u001b[38;5;241m.\u001b[39mjoin(errors)\u001b[38;5;132;01m}\u001b[39;00m\u001b[38;5;124m'\u001b[39m)\n\u001b[0;32m--> 247\u001b[0m \t\u001b[38;5;28;01mraise\u001b[39;00m ScraperException(msg)\n\u001b[1;32m    248\u001b[0m \u001b[38;5;28;01mraise\u001b[39;00m \u001b[38;5;167;01mRuntimeError\u001b[39;00m(\u001b[38;5;124m'\u001b[39m\u001b[38;5;124mReached unreachable code\u001b[39m\u001b[38;5;124m'\u001b[39m)\n",
      "\u001b[0;31mScraperException\u001b[0m: 4 requests to https://api.twitter.com/2/search/adaptive.json?include_profile_interstitial_type=1&include_blocking=1&include_blocked_by=1&include_followed_by=1&include_want_retweets=1&include_mute_edge=1&include_can_dm=1&include_can_media_tag=1&include_ext_has_nft_avatar=1&include_ext_is_blue_verified=1&include_ext_verified_type=1&skip_status=1&cards_platform=Web-12&include_cards=1&include_ext_alt_text=true&include_ext_limited_action_results=false&include_quote_count=true&include_reply_count=1&tweet_mode=extended&include_ext_collab_control=true&include_ext_views=true&include_entities=true&include_user_entities=true&include_ext_media_color=true&include_ext_media_availability=true&include_ext_sensitive_media_warning=true&include_ext_trusted_friends_metadata=true&send_error_codes=true&simple_quoted_tweet=true&q=from%3Adreltonjr+since%3A2022-09-01+until%3A2022-11-01&tweet_search_mode=live&count=20&query_source=spelling_expansion_revert_click&pc=1&spelling_corrections=1&include_ext_edit_control=true&ext=mediaStats%2ChighlightedLabel%2ChasNftAvatar%2CvoiceInfo%2Cenrichments%2CsuperFollowMetadata%2CunmentionInfo%2CeditControl%2Ccollab_control%2Cvibe failed, giving up."
     ]
    }
   ],
   "source": [
    "user_tweets = {}\n",
    "\n",
    "for i, user in enumerate(users):\n",
    "    query = f'from:{user} since:{since} until:{until}'\n",
    "    user_scrapping_results = sntwitter.TwitterSearchScraper(query)\n",
    "    tweet_ids = []\n",
    "    for tweet in user_scrapping_results.get_items():\n",
    "        tweet_ids.append(tweet.id)\n",
    "    user_tweets[user] = tweet_ids\n",
    "    print(f'{i}/{len(users)} {user}: {len(tweet_ids)} tweets')"
   ]
  },
  {
   "cell_type": "markdown",
   "id": "9d2a3603-624c-47da-90b8-45fc55965394",
   "metadata": {},
   "source": [
    "# Scrapping de tweets por filtro"
   ]
  },
  {
   "cell_type": "code",
   "execution_count": null,
   "id": "a5739fb7-2fd6-4282-8191-0756b24f599c",
   "metadata": {},
   "outputs": [],
   "source": [
    "# Começamos filtrando todos os tweets de um usuario, dentro do período desejado\n",
    "# Para buscar outros tweets, é só alterar estes parâmetros\n",
    "username = 'ErikakHilton'\n",
    "since = '2022-10-01'\n",
    "until = '2022-11-01'"
   ]
  },
  {
   "cell_type": "code",
   "execution_count": null,
   "id": "a82d2939-1f21-4741-b3f4-1a67350af91c",
   "metadata": {
    "colab": {
     "base_uri": "https://localhost:8080/"
    },
    "id": "a82d2939-1f21-4741-b3f4-1a67350af91c",
    "outputId": "ee07cc4a-a895-4dea-a77e-6369fd20fd45"
   },
   "outputs": [],
   "source": [
    "# Montando e executando a busca\n",
    "query = f'from:{username} since:{since} until:{until}'\n",
    "user_scrapping_results = sntwitter.TwitterSearchScraper(query)\n",
    "\n",
    "# Listando o id de todos os tweets retornados\n",
    "tweet_ids = []\n",
    "for tweet in tqdm(user_scrapping_results.get_items()):\n",
    "    tweet_ids.append(tweet.id)\n",
    "\n",
    "print(len(tweet_ids))"
   ]
  },
  {
   "cell_type": "code",
   "execution_count": null,
   "id": "3d40093f-be99-451a-a4ae-6e639add83e1",
   "metadata": {
    "colab": {
     "base_uri": "https://localhost:8080/"
    },
    "id": "3d40093f-be99-451a-a4ae-6e639add83e1",
    "outputId": "0dbad14a-99a5-4d31-85b8-e9d514530f2f"
   },
   "outputs": [],
   "source": [
    "# Vamos iterar entre os id's para pegar os dados dos tweets e também suas respostas\n",
    "# Esta etapa pode demorar um pouco\n",
    "tweets_and_replies = []\n",
    "\n",
    "for tweet_id in tqdm(tweet_ids):\n",
    "    tweet_scrapper = sntwitter.TwitterTweetScraper(tweet_id, mode=sntwitter.TwitterTweetScraperMode.SCROLL)\n",
    "    for tweet in tweet_scrapper.get_items():\n",
    "        tweets_and_replies.append(tweet)\n",
    "        \n",
    "print(len(tweets_and_replies))"
   ]
  },
  {
   "cell_type": "code",
   "execution_count": null,
   "id": "7dc6b3b8-e615-4a49-a536-48d8571430dd",
   "metadata": {
    "colab": {
     "base_uri": "https://localhost:8080/"
    },
    "id": "7dc6b3b8-e615-4a49-a536-48d8571430dd",
    "outputId": "0ea43d3d-c888-4864-b6f0-f0d12f78551b"
   },
   "outputs": [],
   "source": [
    "# Convertendo as informações para DataFrame\n",
    "tweet_fields = [f.name for f in fields(tweet)]\n",
    "user_fields = [f.name for f in fields(tweet.user)]\n",
    "all_columns = tweet_fields + ['user_' + f for f in user_fields]\n",
    "\n",
    "tweets_data = [\n",
    "    [getattr(t, field) for field in tweet_fields] + \n",
    "    [getattr(t.user, field) for field in user_fields] \n",
    "    for t in tweets_and_replies\n",
    "]\n",
    "tweets_df = pd.DataFrame(tweets_data, columns=all_columns)\n",
    "\n",
    "print(tweets_df.shape)\n",
    "tweets_df.head()"
   ]
  },
  {
   "cell_type": "code",
   "execution_count": null,
   "id": "Vl3W3QzosczP",
   "metadata": {
    "colab": {
     "base_uri": "https://localhost:8080/"
    },
    "id": "Vl3W3QzosczP",
    "outputId": "bf6a7eb7-37b8-4447-975f-6be5d9419af5"
   },
   "outputs": [],
   "source": [
    "tweets_df.info()"
   ]
  },
  {
   "cell_type": "code",
   "execution_count": null,
   "id": "ac6dc1a4-7d95-4ff9-a6c3-97e624c98f58",
   "metadata": {},
   "outputs": [],
   "source": [
    "tweets_df.iloc[0]"
   ]
  },
  {
   "cell_type": "code",
   "execution_count": null,
   "id": "cbe28817-ece0-4034-a5a0-44d47bffedad",
   "metadata": {},
   "outputs": [],
   "source": [
    "# Exportando dados scrapeados\n",
    "# Para salvar os dados é só descomentar as linhas abaixo\n",
    "\n",
    "# output_path = 'datasets/scrapped/'\n",
    "# output_file = f'{username}-{since}-{until}-{datetime.now().isoformat()}.csv'\n",
    "\n",
    "# tweets_df.to_csv(f\"{output_path}{output_file}\", sep=';', encoding='utf-8', index=False)"
   ]
  },
  {
   "cell_type": "code",
   "execution_count": null,
   "id": "49e23d4f-d28f-4dbe-90fa-9b53ac9e8779",
   "metadata": {},
   "outputs": [],
   "source": []
  },
  {
   "cell_type": "code",
   "execution_count": null,
   "id": "db3aa412-d11d-41c5-a01f-761197495888",
   "metadata": {},
   "outputs": [],
   "source": []
  },
  {
   "cell_type": "code",
   "execution_count": 5,
   "id": "7331c2e5-a817-40fa-8ba8-bfdb600b6702",
   "metadata": {
    "tags": []
   },
   "outputs": [
    {
     "data": {
      "text/plain": [
       "Tweet(url='https://twitter.com/ErikakHilton/status/1576714415231336448', date=datetime.datetime(2022, 10, 2, 23, 23, 5, tzinfo=datetime.timezone.utc), rawContent='Já dá pra dizer: TRAVESTI PRETA ELEITA! https://t.co/U7nkJwyGMM', renderedContent='Já dá pra dizer: TRAVESTI PRETA ELEITA! https://t.co/U7nkJwyGMM', id=1576714415231336448, user=User(username='ErikakHilton', id=738143559920934912, displayname='ERIKA HILTON', rawDescription='Deputada Federal - PSOL/SP (2023-2027)\\nVereadora + votada do Brasil em 2020, presidenta duas vezes da Comissão de Direitos Humanos de São Paulo.', renderedDescription='Deputada Federal - PSOL/SP (2023-2027)\\nVereadora + votada do Brasil em 2020, presidenta duas vezes da Comissão de Direitos Humanos de São Paulo.', descriptionLinks=None, verified=False, created=datetime.datetime(2016, 6, 1, 23, 1, 53, tzinfo=datetime.timezone.utc), followersCount=266261, friendsCount=4805, statusesCount=27219, favouritesCount=66036, listedCount=480, mediaCount=3443, location='São Paulo, Brasil', protected=False, link=TextLink(text='erikahilton.com.br', url='http://erikahilton.com.br/', tcourl='https://t.co/5KKZ3fVaUj', indices=(0, 23)), profileImageUrl='https://pbs.twimg.com/profile_images/1559380990333706240/vEImKRHW_normal.jpg', profileBannerUrl='https://pbs.twimg.com/profile_banners/738143559920934912/1670375803', label=None), replyCount=2678, retweetCount=15682, likeCount=93668, quoteCount=3398, conversationId=1576714415231336448, lang='pt', source=None, sourceUrl=None, sourceLabel=None, links=None, media=[Photo(previewUrl='https://pbs.twimg.com/media/FeGdZ39X0AEsYnC?format=jpg&name=small', fullUrl='https://pbs.twimg.com/media/FeGdZ39X0AEsYnC?format=jpg&name=orig', altText=None)], retweetedTweet=None, quotedTweet=None, inReplyToTweetId=None, inReplyToUser=None, mentionedUsers=None, coordinates=None, place=None, hashtags=None, cashtags=None, card=None, viewCount=None, vibe=None)"
      ]
     },
     "execution_count": 5,
     "metadata": {},
     "output_type": "execute_result"
    }
   ],
   "source": [
    "username = 'ErikakHilton'\n",
    "\n",
    "tweet_obj = next(sntwitter.TwitterProfileScraper(username).get_items())\n",
    "last_tweet"
   ]
  },
  {
   "cell_type": "code",
   "execution_count": null,
   "id": "d510de06-bb41-4dc6-b9bf-125df1236da3",
   "metadata": {
    "tags": []
   },
   "outputs": [],
   "source": [
    "limit = datetime.datetime(2023, 4, 1, tzinfo=datetime.timezone.utc)\n",
    "\n",
    "i = 0\n",
    "tweets = []\n",
    "twitter_generator = sntwitter.TwitterProfileScraper(username).get_items()\n",
    "\n",
    "for tweet in twitter_generator:\n",
    "    print(tweet.url, tweet.date)\n",
    "    if tweet.date < limit and len(tweets) > 5:\n",
    "    #if i > 10:\n",
    "        print('out')\n",
    "        break\n",
    "    \n",
    "    tweets.append(tweet)\n",
    "    i += 1"
   ]
  },
  {
   "cell_type": "code",
   "execution_count": null,
   "id": "ebc43500-ab48-4406-9f66-37f7acb682cd",
   "metadata": {
    "tags": []
   },
   "outputs": [],
   "source": [
    "tweet"
   ]
  },
  {
   "cell_type": "code",
   "execution_count": null,
   "id": "f6eafd16-7de0-401e-b3b0-f669c834b9e8",
   "metadata": {},
   "outputs": [],
   "source": [
    "Tweet(\n",
    "    url=\"https://twitter.com/ErikakHilton/status/1576714415231336448\",\n",
    "    date=datetime.datetime(2022, 10, 2, 23, 23, 5, tzinfo=datetime.timezone.utc),\n",
    "    rawContent=\"Já dá pra dizer: TRAVESTI PRETA ELEITA! https://t.co/U7nkJwyGMM\",\n",
    "    renderedContent=\"Já dá pra dizer: TRAVESTI PRETA ELEITA! https://t.co/U7nkJwyGMM\",\n",
    "    id=1576714415231336448,\n",
    "    user=User(\n",
    "        username=\"ErikakHilton\",\n",
    "        id=738143559920934912,\n",
    "        displayname=\"ERIKA HILTON\",\n",
    "        rawDescription=\"Deputada Federal - PSOL/SP (2023-2027)\\nVereadora + votada do Brasil em 2020, presidenta duas vezes da Comissão de Direitos Humanos de São Paulo.\",\n",
    "        renderedDescription=\"Deputada Federal - PSOL/SP (2023-2027)\\nVereadora + votada do Brasil em 2020, presidenta duas vezes da Comissão de Direitos Humanos de São Paulo.\",\n",
    "        descriptionLinks=None,\n",
    "        verified=False,\n",
    "        created=datetime.datetime(2016, 6, 1, 23, 1, 53, tzinfo=datetime.timezone.utc),\n",
    "        followersCount=266261,\n",
    "        friendsCount=4805,\n",
    "        statusesCount=27219,\n",
    "        favouritesCount=66036,\n",
    "        listedCount=480,\n",
    "        mediaCount=3443,\n",
    "        location=\"São Paulo, Brasil\",\n",
    "        protected=False,\n",
    "        link=TextLink(\n",
    "            text=\"erikahilton.com.br\",\n",
    "            url=\"http://erikahilton.com.br/\",\n",
    "            tcourl=\"https://t.co/5KKZ3fVaUj\",\n",
    "            indices=(0, 23),\n",
    "        ),\n",
    "        profileImageUrl=\"https://pbs.twimg.com/profile_images/1559380990333706240/vEImKRHW_normal.jpg\",\n",
    "        profileBannerUrl=\"https://pbs.twimg.com/profile_banners/738143559920934912/1670375803\",\n",
    "        label=None,\n",
    "    ),\n",
    "    replyCount=2678,\n",
    "    retweetCount=15682,\n",
    "    likeCount=93668,\n",
    "    quoteCount=3398,\n",
    "    conversationId=1576714415231336448,\n",
    "    lang=\"pt\",\n",
    "    source=None,\n",
    "    sourceUrl=None,\n",
    "    sourceLabel=None,\n",
    "    links=None,\n",
    "    media=[\n",
    "        Photo(\n",
    "            previewUrl=\"https://pbs.twimg.com/media/FeGdZ39X0AEsYnC?format=jpg&name=small\",\n",
    "            fullUrl=\"https://pbs.twimg.com/media/FeGdZ39X0AEsYnC?format=jpg&name=orig\",\n",
    "            altText=None,\n",
    "        )\n",
    "    ],\n",
    "    retweetedTweet=None,\n",
    "    quotedTweet=None,\n",
    "    inReplyToTweetId=None,\n",
    "    inReplyToUser=None,\n",
    "    mentionedUsers=None,\n",
    "    coordinates=None,\n",
    "    place=None,\n",
    "    hashtags=None,\n",
    "    cashtags=None,\n",
    "    card=None,\n",
    "    viewCount=None,\n",
    "    vibe=None,\n",
    ")\n"
   ]
  }
 ],
 "metadata": {
  "colab": {
   "provenance": []
  },
  "kernelspec": {
   "display_name": "complete_venv",
   "language": "python",
   "name": "complete_venv"
  },
  "language_info": {
   "codemirror_mode": {
    "name": "ipython",
    "version": 3
   },
   "file_extension": ".py",
   "mimetype": "text/x-python",
   "name": "python",
   "nbconvert_exporter": "python",
   "pygments_lexer": "ipython3",
   "version": "3.8.13"
  }
 },
 "nbformat": 4,
 "nbformat_minor": 5
}
