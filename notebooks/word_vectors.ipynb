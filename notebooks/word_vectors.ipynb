{
 "cells": [
  {
   "cell_type": "code",
   "execution_count": 1,
   "metadata": {
    "id": "0de703c4"
   },
   "outputs": [],
   "source": [
    "# Importando Spacy e sua biblioteca em português\n",
    "import re\n",
    "import emoji\n",
    "import matplotlib.pyplot as plt\n",
    "import matplotlib.ticker as mticker\n",
    "import seaborn as sns\n",
    "import numpy as np\n",
    "import pandas as pd\n",
    "import spacy\n",
    "from spacy.lang.pt.stop_words import STOP_WORDS\n",
    "import string\n",
    "import pt_core_news_lg\n",
    "import nltk\n",
    "from nltk.tokenize import word_tokenize\n",
    "from nltk.corpus import stopwords\n",
    "from spellchecker import SpellChecker\n",
    "from sklearn.decomposition import PCA\n",
    "from sklearn.preprocessing import StandardScaler\n",
    "from sklearn.feature_extraction.text import TfidfVectorizer, CountVectorizer\n",
    "\n",
    "# Importando Word2Vec da biblioteca gensim\n",
    "from gensim.models import Word2Vec\n",
    "\n",
    "import warnings\n",
    "warnings.filterwarnings('ignore')\n",
    "\n",
    "sns.set_style(\"whitegrid\")\n",
    "plt.style.use('ggplot')\n",
    "custom_params = {\n",
    "    \"axes.spines.right\": False, \n",
    "    \"axes.spines.top\": False\n",
    "}\n",
    "sns.set_theme(style=\"ticks\", rc=custom_params)"
   ]
  },
  {
   "cell_type": "code",
   "execution_count": 2,
   "metadata": {},
   "outputs": [],
   "source": [
    "# df_tweets = pd.read_csv('data/tweets_erika_modelo_ajustado.csv')\n",
    "# df_tweets.shape[0]"
   ]
  },
  {
   "cell_type": "code",
   "execution_count": 3,
   "metadata": {},
   "outputs": [
    {
     "data": {
      "text/plain": [
       "(125112, 33)"
      ]
     },
     "execution_count": 3,
     "metadata": {},
     "output_type": "execute_result"
    }
   ],
   "source": [
    "# Carregando dataset de tweets\n",
    "file_path = \"../data/processed/\"\n",
    "file_name = 'sp_elected_est_fed_dep_tweets'\n",
    "file_suffix = \"analysis\"\n",
    "file_format = 'parquet'\n",
    "\n",
    "df_tweets = pd.read_parquet(f\"{file_path}{file_name}-{file_suffix}.{file_format}\")\n",
    "df_tweets.shape"
   ]
  },
  {
   "cell_type": "markdown",
   "metadata": {
    "id": "34d5e485"
   },
   "source": [
    "# Pre Processing"
   ]
  },
  {
   "cell_type": "code",
   "execution_count": 4,
   "metadata": {},
   "outputs": [],
   "source": [
    "# Instanciando Spacy\n",
    "nlp = spacy.load(\"pt_core_news_lg\")"
   ]
  },
  {
   "cell_type": "code",
   "execution_count": 5,
   "metadata": {},
   "outputs": [],
   "source": [
    "def remove_emojis_and_urls(text):\n",
    "    # Regular expression pattern to match emojis\n",
    "    emoji_pattern = re.compile(\n",
    "        \"[\"\n",
    "            u\"\\U0001F600-\\U0001F64F\"  # emoticons\n",
    "            u\"\\U0001F300-\\U0001F5FF\"  # symbols & pictographs\n",
    "            u\"\\U0001F680-\\U0001F6FF\"  # transport & map symbols\n",
    "            u\"\\U0001F700-\\U0001F77F\"  # alchemical symbols\n",
    "            u\"\\U0001F780-\\U0001F7FF\"  # Geometric Shapes Extended\n",
    "            u\"\\U0001F800-\\U0001F8FF\"  # Supplemental Arrows-C\n",
    "            u\"\\U0001F900-\\U0001F9FF\"  # Supplemental Symbols and Pictographs\n",
    "            u\"\\U0001FA00-\\U0001FA6F\"  # Chess Symbols\n",
    "            u\"\\U0001FA70-\\U0001FAFF\"  # Symbols and Pictographs Extended-A\n",
    "            u\"\\U00002702-\\U000027B0\"  # Dingbats\n",
    "            u\"\\U000024C2-\\U0001F251\" \n",
    "        \"]+\", \n",
    "        flags=re.UNICODE\n",
    "    )\n",
    "\n",
    "    # Regular expression pattern to match URLs\n",
    "    url_pattern = re.compile(r'https?://\\S+|www\\.\\S+')\n",
    "\n",
    "    # Remove emojis and URLs from the text\n",
    "    text_without_emojis_and_urls = emoji_pattern.sub('', text)\n",
    "    text_without_emojis_and_urls = url_pattern.sub('', text_without_emojis_and_urls)\n",
    "\n",
    "    return text_without_emojis_and_urls\n",
    "\n",
    "\n",
    "def clean_tweet(text):\n",
    "    # Remove emojis and URLs from the text\n",
    "    text_without_emojis_and_urls = remove_emojis_and_urls(text)\n",
    "\n",
    "    # Apply spaCy's NLP pipeline to the text without emojis and URLs\n",
    "    doc = nlp(text_without_emojis_and_urls)\n",
    "\n",
    "    # Custom list of stopwords to keep\n",
    "    custom_stopwords = ['não', 'nunca', 'jamais']\n",
    "\n",
    "    # Regular expression pattern to match special characters (@, (, ), -)\n",
    "    special_chars_pattern = r'[\\(\\)\\-]'\n",
    "\n",
    "    # Lemmatize the tokens, remove punctuation, numbers, digits, stopwords, and special characters\n",
    "    tokens_limpos = [\n",
    "        re.sub(special_chars_pattern, \"\", token.lemma_.lower().strip())\n",
    "        for token in doc\n",
    "        if not token.is_punct\n",
    "        and not token.like_num\n",
    "        and (token.text.lower() in custom_stopwords or not token.is_stop)\n",
    "    ]\n",
    "\n",
    "    return tokens_limpos"
   ]
  },
  {
   "cell_type": "code",
   "execution_count": 6,
   "metadata": {},
   "outputs": [
    {
     "name": "stdout",
     "output_type": "stream",
     "text": [
      "CPU times: user 8min 27s, sys: 308 ms, total: 8min 28s\n",
      "Wall time: 8min 28s\n"
     ]
    }
   ],
   "source": [
    "%%time\n",
    "# Esta etapa demora um pouco mais\n",
    "df_tweets['cleaned_content'] = df_tweets['content'].apply(clean_tweet)\n",
    "df_tweets['cleaned_tokens'] = df_tweets['cleaned_content'].apply(lambda tokens: \" \".join(tokens))"
   ]
  },
  {
   "cell_type": "code",
   "execution_count": 13,
   "metadata": {},
   "outputs": [
    {
     "name": "stdout",
     "output_type": "stream",
     "text": [
      "../data/processed/sp_elected_est_fed_dep_tweets-cleaned.parquet\n"
     ]
    }
   ],
   "source": [
    "# Salvando arquivos consolidado\n",
    "output_path = \"../data/processed/\"\n",
    "file_name = 'sp_elected_est_fed_dep_tweets'\n",
    "output_suffix = \"cleaned\"\n",
    "file_format = 'parquet'\n",
    "\n",
    "output_file = f\"{output_path}{file_name}-{output_suffix}.{file_format}\"\n",
    "print(output_file)\n",
    "\n",
    "df_tweets.to_parquet(output_file)"
   ]
  },
  {
   "cell_type": "code",
   "execution_count": 7,
   "metadata": {},
   "outputs": [],
   "source": [
    "df_off_tweets = df_tweets[df_tweets['class_label'] == True]"
   ]
  },
  {
   "cell_type": "code",
   "execution_count": 14,
   "metadata": {},
   "outputs": [
    {
     "data": {
      "text/plain": [
       "200       @anaperugini bolsonaro corrupto  confiscar din...\n",
       "763          @andreawerner @paizinhovirgula marrentinho lir\n",
       "835       @andreawerner mulher roubada frente lula fingi...\n",
       "844       @erikakhilton @andreawerner muito educação  in...\n",
       "851       @andreawerner vc q candidata bolsonar tebet ta...\n",
       "                                ...                        \n",
       "125081                                          ficar pior \n",
       "125091                   tiririca bom remédio pra política \n",
       "125092                   tiririca bom remédio pra política \n",
       "125093                   tiririca bom remédio pra política \n",
       "125110    deputado federal  tiririca  deputado  deputado...\n",
       "Name: cleaned_tokens, Length: 21025, dtype: object"
      ]
     },
     "execution_count": 14,
     "metadata": {},
     "output_type": "execute_result"
    }
   ],
   "source": [
    "df_off_tweets['cleaned_tokens']"
   ]
  },
  {
   "cell_type": "markdown",
   "metadata": {
    "id": "34d5e485"
   },
   "source": [
    "# Word Embeddings"
   ]
  },
  {
   "cell_type": "markdown",
   "metadata": {
    "id": "5390323c"
   },
   "source": [
    "As técnicas do Bag of Words e TF-IDF combinadas com uma boa limpeza de stop words, stemming e lemmatization geralmente geram resultados relevantes em nossas modelagens, mas e se quiséssemos ir um passo além? E se ao invés de contarmos frequências e ocorrências de palavras passássemos a buscar por contextos, informações semânticas e sintáticas nos textos? \n",
    "\n",
    "Fazer isso seria quase como ensinar uma máquina a realmente ler e compreender textos, como um humano faz. Para entender melhor sobre isso iremos entrar no mundo das redes neurais e dos word emebeddings! \n",
    "\n",
    "Algoritmos de Machine Learning e DeepLearning são especialistas em encontrar padrões em espaços N dimensionais e realizar operações matemáticas com matrizes e vetores. E se houvesse uma forma de transformarmos uma palavra em um vetor? Será que nossa máquina entenderia melhor seu significado?"
   ]
  },
  {
   "cell_type": "code",
   "execution_count": 8,
   "metadata": {},
   "outputs": [
    {
     "name": "stdout",
     "output_type": "stream",
     "text": [
      "(400,) [ 0.01907426 -0.0079418  -0.06014191  0.01810997  0.0552105  -0.02725654\n",
      " -0.02040097 -0.00439734 -0.11538459  0.02533403  0.04631975  0.07257362\n",
      " -0.02799828 -0.02538522 -0.027556   -0.09188174  0.03842433 -0.0385795\n",
      "  0.05239164 -0.01238585]\n"
     ]
    }
   ],
   "source": [
    "# Instanciando espaço vetorial\n",
    "w2v = Word2Vec(\n",
    "    sentences = df_off_tweets['cleaned_content'],   # Passando listas de tokens tratados\n",
    "    min_count=5,                                     # Mínimo de ocorrências para considerar a palavra\n",
    "    vector_size=400,                                 # Dimensão final do embedding \n",
    "    window=5,                                        # Janela de contexto \n",
    "    seed = 42                                        # Definindo fator Pseudo aleatório\n",
    ")\n",
    "\n",
    "# Testando vetores\n",
    "print(w2v.wv.get_vector('eleições').shape, w2v.wv.get_vector('eleições')[:20])"
   ]
  },
  {
   "cell_type": "code",
   "execution_count": 9,
   "metadata": {},
   "outputs": [],
   "source": [
    "# Definindo palavras que serão visualizadas\n",
    "words = ['lula', 'bolsonaro', 'eleições', 'vergonha', 'crime', 'mentira', 'democracia', 'corrupção']\n",
    "\n",
    "# Obtendo vetores das palavras\n",
    "orig_word_vectors = []\n",
    "for word in words:\n",
    "    # if word in w2v.wv.key_to_index.keys():\n",
    "    try:\n",
    "        orig_word_vectors.append(w2v.wv.get_vector(word))\n",
    "    except Exception as e:\n",
    "        print(f'Exceção ao converter palavra \"{word}\": {e}')"
   ]
  },
  {
   "cell_type": "code",
   "execution_count": 57,
   "metadata": {},
   "outputs": [
    {
     "name": "stdout",
     "output_type": "stream",
     "text": [
      "{'words': ['lula', 'bolsonaro', 'eleições', 'vergonha', 'crime', 'mentira', 'democracia', 'corrupção'], 'x': [15.455709109168591, 21.225596762376828, -6.9610918051110025, -20.47464853636673, 14.834953008010059, -14.319799601129738, -6.612402124104056, -3.148316812843955], 'y': [25.532485396256593, -15.047716704319036, -0.35999355101771063, -0.773593442055385, -8.614789460884209, -2.469108210708196, -1.249131687879158, 2.9818476606070936]}\n",
      "\n",
      "pca.explained_variance_ratio_=array([0.51120037, 0.30307265])\n"
     ]
    }
   ],
   "source": [
    "# Padronizando os dados (subtrai média e divide pelo desvio padrão)    \n",
    "scaled_word_vectors = StandardScaler().fit_transform(orig_word_vectors)\n",
    "\n",
    "# Instanciando PCA\n",
    "pca = PCA(n_components=2)\n",
    "reduced_word_vectors = pca.fit_transform(scaled_word_vectors)\n",
    "\n",
    "# Criando lista com coordenadas das palavras no espaço vetorial reduzido\n",
    "word_vectors = {\n",
    "    'words': words,\n",
    "    'x': [vec[0] for vec in reduced_word_vectors],\n",
    "    'y': [vec[1] for vec in reduced_word_vectors],\n",
    "}\n",
    "\n",
    "print(word_vectors)\n",
    "print(f'\\n{pca.explained_variance_ratio_=}')"
   ]
  },
  {
   "cell_type": "code",
   "execution_count": 65,
   "metadata": {},
   "outputs": [
    {
     "data": {
      "image/png": "[encoded data removed]",
      "text/plain": [
       "<seaborn._core.plot.Plot at 0x7fb72cd97a60>"
      ]
     },
     "execution_count": 65,
     "metadata": {
      "image/png": {
       "height": 394.825,
       "width": 802.8249999999999
      }
     },
     "output_type": "execute_result"
    }
   ],
   "source": [
    "(\n",
    "    sns.objects.Plot(\n",
    "        data=word_vectors,\n",
    "        x='x', \n",
    "        y='y', \n",
    "        text='words',\n",
    "        # cmap='PRGn',\n",
    "    )\n",
    "    .add(so.Dot())\n",
    "    .add(so.Text(halign=\"left\", valign='bottom', offset=2))\n",
    "    .label(title=\"Example plot\", x=\"PC1\", y=\"PC2\")\n",
    "    .layout(size=(10, 5))\n",
    ")"
   ]
  },
  {
   "cell_type": "code",
   "execution_count": 66,
   "metadata": {},
   "outputs": [
    {
     "name": "stdout",
     "output_type": "stream",
     "text": [
      "lula: ['l', 'oleoleoleolá', 'corrupto', 'ladrão', 'ladrao', 'nunca', 'inocente', 'lulalarapioementiroso', 'celerado', 'venceu']\n",
      "\n",
      "bolsonaro: ['pedófilo', 'pervertido', 'mentiu', 'crime', '', 'tremendo', 'super', 'minimo', 'live', 'bolsonaropedófilo']\n",
      "\n",
      "eleições: ['gasolina', 'luiz', 'p/', 'lulaladrão', '°', 'bolsonaronoprimeiroturno22', 'preso', 'bolsonaroreeleito', 'facista', 'lulaladrao']\n",
      "\n",
      "vergonha: ['passar', 'cara', 'pau', 'vc', 'ter', 'vcs', 'gente', 'ficar', 'boiada', 'pessoa']\n",
      "\n",
      "crime: ['pervertido', 'pedófilo', 'mentiu', 'tremendo', 'roberto', 'jefferson', 'bolsonaro', 'jeferson', 'pintou', 'super']\n",
      "\n",
      "mentira: ['esquerda', 'pessoa', 'boiada', 'muito', 'gente', 'querer', 'deus', 'de ele', 'rastro', '@rsallesmma']\n",
      "\n",
      "democracia: ['alto', 'semana', 'social', 'grade', 'fugir', 'mar', 'nordestino', 'petrobrás', 'camisa', 'devolver']\n",
      "\n",
      "corrupção: ['administrar', 'palavrão', 'expresidiário', 'uti', 'candidato', 'descondenado', 'amigo', 'mensalão', 'descondenar', 'idiotice']\n",
      "\n"
     ]
    }
   ],
   "source": [
    "for word in words:\n",
    "    similar_vecs = w2v.wv.most_similar(word)\n",
    "    similar_words = [vec[0] for vec in similar_vecs]\n",
    "    print(f'{word}: {similar_words}\\n')"
   ]
  },
  {
   "cell_type": "code",
   "execution_count": null,
   "metadata": {},
   "outputs": [],
   "source": []
  },
  {
   "cell_type": "code",
   "execution_count": null,
   "metadata": {},
   "outputs": [],
   "source": []
  },
  {
   "cell_type": "markdown",
   "metadata": {},
   "source": [
    "# Unigram"
   ]
  },
  {
   "cell_type": "code",
   "execution_count": null,
   "metadata": {},
   "outputs": [],
   "source": [
    "def nome_colunas(tokenizer, data_frame):\n",
    "    # Extrai rotulos dos tokens\n",
    "    vocabulario = {v: k for k, v in tokenizer.vocabulary_.items()}\n",
    "    \n",
    "    # Atribui rotulos dos tokens as colunas apropriadas\n",
    "    data_frame.columns = data_frame.columns.map(vocabulario)\n",
    "    \n",
    "    return data_frame"
   ]
  },
  {
   "cell_type": "code",
   "execution_count": null,
   "metadata": {},
   "outputs": [],
   "source": [
    "# Instanciando CountVectorizer\n",
    "tokenizer_unigram_teste = CountVectorizer(ngram_range=(1,1))\n",
    "\n",
    "# Fit e transform dos reviews limpos, cria uma matriz esparsa\n",
    "bow_unigram_teste = tokenizer_unigram_teste.fit_transform(df_tweets['cleaned_tokens'])\n",
    "\n",
    "# Criação do DF\n",
    "bow_unigram_df_teste = pd.DataFrame(bow_unigram_teste.todense())\n",
    "\n",
    "# Verificando 50 termos mais frequentes\n",
    "nome_colunas(tokenizer_unigram_teste, bow_unigram_df_teste)"
   ]
  },
  {
   "cell_type": "code",
   "execution_count": null,
   "metadata": {},
   "outputs": [],
   "source": [
    "# Unigrams para todos os tweets\n",
    "bow_unigram_df_teste.sum().sort_values(ascending=False).head(30)"
   ]
  },
  {
   "cell_type": "code",
   "execution_count": null,
   "metadata": {},
   "outputs": [],
   "source": [
    "# Unigrams para todos os tweets\n",
    "df_unigram_teste = bow_unigram_df_teste.sum().sort_values(ascending=False).head(21).to_frame().reset_index()\n",
    "df_unigram_teste.columns = ['termo', 'frequencia']\n",
    "df_unigram_teste.head()"
   ]
  },
  {
   "cell_type": "code",
   "execution_count": null,
   "metadata": {},
   "outputs": [],
   "source": [
    "plt.figure(figsize = (10, 6))\n",
    "ax = sns.barplot(df_unigram_teste[1:], x = 'frequencia', y = 'termo', color = '#4682B4')\n",
    "ax.set_title('20 Termos mais frequentes: Erika Hilton', fontsize=20, x=0.14, y=1.12, color=\"#696969\")\n",
    "ax.spines['bottom'].set_color('#696969')\n",
    "ax.spines['left'].set_alpha(0)\n",
    "ax.tick_params(axis='x', colors='#696969', labelsize = 10)\n",
    "ax.tick_params(axis='y', colors='#696969', labelsize = 11)\n",
    "ax.set_ylabel(\"\", fontsize=12, loc=\"top\", color=\"#696969\")\n",
    "ax.set_xlabel(\"Frequencia\", fontsize=12, loc=\"left\", color=\"#696969\")\n",
    "ax.yaxis.set_ticks_position('none')\n",
    "\n",
    "subtitle_text = rf\"${{Considerando\\ todos\\ os\\ Tweets}}$ \"\n",
    "               \n",
    "ax.text(-0.025, 1.06, subtitle_text, transform=ax.transAxes, fontsize=11, ha='center', color='#696969')"
   ]
  },
  {
   "cell_type": "code",
   "execution_count": null,
   "metadata": {},
   "outputs": [],
   "source": [
    "#Teste com limpeza mais desenvolvida\n",
    "#Instanciando Word2Vec para todos os tweets negativos\n",
    "w2v_model_teste_ofensivos = Word2Vec(sentences = df_tweets_ofensivos['cleaned_content'],   # Passando listas de tokens tratados\n",
    "                                     min_count=5,                                     # Mínimo de ocorrências para considerar a palavra\n",
    "                                     vector_size=400,                                 # Dimensão final do embedding \n",
    "                                     window=5,                                        # Janela de contexto \n",
    "                                     seed = 42                                        # Definindo fator Pseudo aleatório\n",
    "                                     )"
   ]
  },
  {
   "cell_type": "code",
   "execution_count": null,
   "metadata": {},
   "outputs": [],
   "source": [
    "#Visualizando os 20 primeiros valores do vetor da palavra \"Lula\" para todos os tweets\n",
    "print(w2v_model_teste_ofensivos.wv.get_vector('@erikakhilton').shape)\n",
    "w2v_model_teste_ofensivos.wv.get_vector('@erikakhilton')[:20]"
   ]
  },
  {
   "cell_type": "code",
   "execution_count": null,
   "metadata": {},
   "outputs": [],
   "source": [
    "# Obtendo vetores das palavras\n",
    "palavra_vec_teste_ofensivos = []\n",
    "for i in palavras:\n",
    "    palavra_vec_teste_ofensivos.append(w2v_model_teste_ofensivos.wv.get_vector(i))\n",
    "\n",
    "# Padronizando os dados (subtrai média e divide pelo desvio padrão)    \n",
    "x_teste_ofensivos = StandardScaler().fit_transform(palavra_vec_teste_ofensivos)\n",
    "\n",
    "# Instanciando PCA\n",
    "pca_teste_ofensivos = PCA(n_components=2)\n",
    "\n",
    "# Fitando PCA\n",
    "palavras_pca_teste_ofensivos = pca_teste_ofensivos.fit_transform(x_teste_ofensivos)"
   ]
  },
  {
   "cell_type": "code",
   "execution_count": null,
   "metadata": {},
   "outputs": [],
   "source": [
    "# Criando listas com valores do eixo x e y\n",
    "eixo_x = []\n",
    "eixo_y = []\n",
    "for i in palavras_pca_teste_ofensivos:\n",
    "    eixo_x.append(i[0])\n",
    "    eixo_y.append(i[1])\n",
    "\n",
    "# Plotando resultado\n",
    "plt.figure(figsize=(8, 5))\n",
    "fig, ax = plt.subplots(figsize=(8,5))\n",
    "ax.scatter(eixo_x, eixo_y, color = 'steelblue')\n",
    "ax.set_title('Tweets: Erika Hilton', fontsize=20, x=0.1, y=1.2, color=\"#696969\")\n",
    "# ax.set_xlim(-20,50)\n",
    "# ax.set_ylim(-20,25)\n",
    "ax.spines['bottom'].set_color('#696969')  \n",
    "ax.spines['left'].set_color('#696969')  \n",
    "ax.tick_params(axis='x', colors='#696969')  \n",
    "ax.tick_params(axis='y', colors='#696969')\n",
    "ax.set_ylabel(\"PCA 1\", fontsize=11, loc=\"top\", color=\"#696969\")\n",
    "ax.set_xlabel(\"PCA 2\", fontsize=11, loc=\"left\", color=\"#696969\")\n",
    "for i, txt in enumerate(palavras):\n",
    "    ax.annotate(txt, (eixo_x[i], eixo_y[i]))\n",
    "\n",
    "subtitle_text = r\"${Contexto\\ de\\ todos\\ os\\ Tweets\\ ofensivos\\ com\\ as\\ palavras\\ selecionadas}$\"\n",
    "\n",
    "# Add the subtitle with formatted text\n",
    "ax.text(0.295, 1.12, subtitle_text, transform=ax.transAxes, fontsize=10, ha='center', color='#696969')"
   ]
  },
  {
   "cell_type": "code",
   "execution_count": null,
   "metadata": {},
   "outputs": [],
   "source": [
    "# Visualizando vetores similares ao vetor \"bolsonaro\" modelo com os tweets ofensivos\n",
    "w2v_model_teste_ofensivos.wv.most_similar('bolsonaro')"
   ]
  },
  {
   "cell_type": "code",
   "execution_count": null,
   "metadata": {},
   "outputs": [],
   "source": [
    "# Visualizando vetores similares ao vetor \"lula\" modelo com os tweets ofensivos\n",
    "w2v_model_teste_ofensivos.wv.most_similar('lula')"
   ]
  },
  {
   "cell_type": "code",
   "execution_count": null,
   "metadata": {},
   "outputs": [],
   "source": [
    "# Visualizando vetores similares ao vetor \"erika\" modelo com todos os tweets\n",
    "w2v_model_teste_ofensivos.wv.most_similar('erika')"
   ]
  },
  {
   "cell_type": "code",
   "execution_count": null,
   "metadata": {},
   "outputs": [],
   "source": [
    "# Instanciando CountVectorizer\n",
    "tokenizer_unigram_teste_ofensivos = CountVectorizer(ngram_range=(1,1))\n",
    "\n",
    "# Fit e transform dos reviews limpos, cria uma matriz esparsa\n",
    "bow_unigram_teste_ofensivos = tokenizer_unigram_teste_ofensivos.fit_transform(df_tweets_ofensivos['cleaned_tokens'])\n",
    "\n",
    "# Criação do DF\n",
    "bow_unigram_df_teste_ofensivos = pd.DataFrame(bow_unigram_teste_ofensivos.todense())\n",
    "\n",
    "# Verificando 50 termos mais frequentes\n",
    "nome_colunas(tokenizer_unigram_teste_ofensivos, bow_unigram_df_teste_ofensivos)"
   ]
  },
  {
   "cell_type": "code",
   "execution_count": null,
   "metadata": {},
   "outputs": [],
   "source": [
    "# Unigrams para todos os tweets\n",
    "bow_unigram_df_teste_ofensivos.sum().sort_values(ascending=False).head(30)"
   ]
  },
  {
   "cell_type": "code",
   "execution_count": null,
   "metadata": {},
   "outputs": [],
   "source": [
    "# Unigrams para todos os tweets\n",
    "df_unigram_teste_ofensivos = bow_unigram_df_teste_ofensivos.sum().sort_values(ascending=False).head(21).to_frame().reset_index()\n",
    "df_unigram_teste_ofensivos.columns = ['termo', 'frequencia']\n",
    "df_unigram_teste_ofensivos.head()"
   ]
  },
  {
   "cell_type": "code",
   "execution_count": null,
   "metadata": {},
   "outputs": [],
   "source": [
    "plt.figure(figsize = (10, 6))\n",
    "ax = sns.barplot(df_unigram_teste_ofensivos[1:], x = 'frequencia', y = 'termo', color = '#4682B4')\n",
    "ax.set_title('20 Termos mais frequentes: Erika Hilton', fontsize=20, x=0.185, y=1.12, color=\"#696969\")\n",
    "ax.spines['bottom'].set_color('#696969')\n",
    "ax.spines['left'].set_alpha(0)\n",
    "ax.tick_params(axis='x', colors='#696969', labelsize = 10)\n",
    "ax.tick_params(axis='y', colors='#696969', labelsize = 11)\n",
    "ax.set_ylabel(\"\", fontsize=12, loc=\"top\", color=\"#696969\")\n",
    "ax.set_xlabel(\"Frequencia\", fontsize=12, loc=\"left\", color=\"#696969\")\n",
    "ax.yaxis.set_ticks_position('none')\n",
    "\n",
    "\n",
    "subtitle_text = rf\"${{Considerando\\ Tweets\\ ofensivos}}$ \"\n",
    "               \n",
    "ax.text(0.025, 1.06, subtitle_text, transform=ax.transAxes, fontsize=11, ha='center', color='#696969')"
   ]
  },
  {
   "cell_type": "code",
   "execution_count": null,
   "metadata": {},
   "outputs": [],
   "source": [
    "# Selecionando tweets negativos com score acima de 75%\n",
    "tweets_ofensivos_acima_75 = df_tweets_ofensivos[df_tweets_ofensivos['class_score'] >= 0.75]"
   ]
  },
  {
   "cell_type": "code",
   "execution_count": null,
   "metadata": {},
   "outputs": [],
   "source": [
    "#Teste com limpeza mais desenvolvida\n",
    "#Instanciando Word2Vec para todos os tweets\n",
    "w2v_model_teste_ofensivos_75 = Word2Vec(sentences = tweets_ofensivos_acima_75['cleaned_content'],   # Passando listas de tokens tratados\n",
    "                                        min_count=5,                                     # Mínimo de ocorrências para considerar a palavra\n",
    "                                        vector_size=400,                                 # Dimensão final do embedding \n",
    "                                        window=5,                                        # Janela de contexto \n",
    "                                        seed = 42                                        # Definindo fator Pseudo aleatório\n",
    "                                        )"
   ]
  },
  {
   "cell_type": "code",
   "execution_count": null,
   "metadata": {},
   "outputs": [],
   "source": [
    "#Visualizando os 20 primeiros valores do vetor da palavra \"Lula\" para todos os tweets\n",
    "print(w2v_model_teste_ofensivos_75.wv.get_vector('@erikakhilton').shape)\n",
    "w2v_model_teste_ofensivos_75.wv.get_vector('@erikakhilton')[:20]"
   ]
  },
  {
   "cell_type": "code",
   "execution_count": null,
   "metadata": {},
   "outputs": [],
   "source": [
    "# Obtendo vetores das palavras\n",
    "palavra_vec_teste_ofensivos_75 = []\n",
    "for i in palavras:\n",
    "    palavra_vec_teste_ofensivos_75.append(w2v_model_teste_ofensivos_75.wv.get_vector(i))\n",
    "\n",
    "# Padronizando os dados (subtrai média e divide pelo desvio padrão)    \n",
    "x_teste_ofensivos_75 = StandardScaler().fit_transform(palavra_vec_teste_ofensivos_75)\n",
    "\n",
    "# Instanciando PCA\n",
    "pca_teste_ofensivos_75 = PCA(n_components=2)\n",
    "\n",
    "# Fitando PCA\n",
    "palavras_pca_teste_ofensivos_75 = pca_teste_ofensivos_75.fit_transform(x_teste_ofensivos_75)"
   ]
  },
  {
   "cell_type": "code",
   "execution_count": null,
   "metadata": {},
   "outputs": [],
   "source": [
    "# Criando listas com valores do eixo x e y\n",
    "eixo_x = []\n",
    "eixo_y = []\n",
    "for i in palavras_pca_teste_ofensivos_75:\n",
    "    eixo_x.append(i[0])\n",
    "    eixo_y.append(i[1])\n",
    "\n",
    "# Plotando resultado\n",
    "plt.figure(figsize=(8, 5))\n",
    "fig, ax = plt.subplots(figsize=(8,5))\n",
    "ax.scatter(eixo_x, eixo_y, color = 'steelblue')\n",
    "ax.set_title('Tweets: Erika Hilton', fontsize=20, x=0.105, y=1.2, color=\"#696969\")\n",
    "# ax.set_xlim(-20,50)\n",
    "# ax.set_ylim(-20,25)\n",
    "ax.spines['bottom'].set_color('#696969')  \n",
    "ax.spines['left'].set_color('#696969')  \n",
    "ax.tick_params(axis='x', colors='#696969')  \n",
    "ax.tick_params(axis='y', colors='#696969')\n",
    "ax.set_ylabel(\"PCA 1\", fontsize=11, loc=\"top\", color=\"#696969\")\n",
    "ax.set_xlabel(\"PCA 2\", fontsize=11, loc=\"left\", color=\"#696969\")\n",
    "for i, txt in enumerate(palavras):\n",
    "    ax.annotate(txt, (eixo_x[i], eixo_y[i]))\n",
    "\n",
    "subtitle_text = r\"${Contexto\\ de\\ Tweets\\ ofensivos\\ com\\ score\\ acima\\ de\\ 0.75\\ com\\ as\\ palavras\\ selecionadas}$\"\n",
    "\n",
    "# Add the subtitle with formatted text\n",
    "ax.text(0.39, 1.12, subtitle_text, transform=ax.transAxes, fontsize=10, ha='center', color='#696969')"
   ]
  },
  {
   "cell_type": "code",
   "execution_count": null,
   "metadata": {},
   "outputs": [],
   "source": [
    "# Visualizando vetores similares ao vetor \"bolsonaro\" modelo com todos os tweets\n",
    "w2v_model_teste_ofensivos_75.wv.most_similar('bolsonaro')"
   ]
  },
  {
   "cell_type": "code",
   "execution_count": null,
   "metadata": {},
   "outputs": [],
   "source": [
    "# Visualizando vetores similares ao vetor \"lula\" modelo com todos os tweets\n",
    "w2v_model_teste_ofensivos_75.wv.most_similar('lula')"
   ]
  },
  {
   "cell_type": "code",
   "execution_count": null,
   "metadata": {},
   "outputs": [],
   "source": [
    "# Visualizando vetores similares ao vetor \"erika\" modelo com todos os tweets\n",
    "w2v_model_teste_ofensivos_75.wv.most_similar('erika')"
   ]
  },
  {
   "cell_type": "code",
   "execution_count": null,
   "metadata": {},
   "outputs": [],
   "source": [
    "# Instanciando CountVectorizer\n",
    "tokenizer_unigram_teste_ofensivos_75 = CountVectorizer(ngram_range=(1,1))\n",
    "\n",
    "# Fit e transform dos reviews limpos, cria uma matriz esparsa\n",
    "bow_unigram_teste_ofensivos_75 = tokenizer_unigram_teste_ofensivos_75.fit_transform(tweets_ofensivos_acima_75['cleaned_tokens'])\n",
    "\n",
    "# Criação do DF\n",
    "bow_unigram_df_teste_ofensivos_75 = pd.DataFrame(bow_unigram_teste_ofensivos_75.todense())\n",
    "\n",
    "# Verificando 50 termos mais frequentes\n",
    "nome_colunas(tokenizer_unigram_teste_ofensivos_75, bow_unigram_df_teste_ofensivos_75)"
   ]
  },
  {
   "cell_type": "code",
   "execution_count": null,
   "metadata": {},
   "outputs": [],
   "source": [
    "# Unigrams para todos os tweets\n",
    "bow_unigram_df_teste_ofensivos_75.sum().sort_values(ascending=False).head(30)"
   ]
  },
  {
   "cell_type": "code",
   "execution_count": null,
   "metadata": {},
   "outputs": [],
   "source": [
    "# Unigrams para todos os tweets\n",
    "df_unigram_teste_ofensivos_75 = bow_unigram_df_teste_ofensivos_75.sum().sort_values(ascending=False).head(21).to_frame().reset_index()\n",
    "df_unigram_teste_ofensivos_75.columns = ['termo', 'frequencia']\n",
    "df_unigram_teste_ofensivos_75.head()"
   ]
  },
  {
   "cell_type": "code",
   "execution_count": null,
   "metadata": {},
   "outputs": [],
   "source": [
    "plt.figure(figsize = (10, 6))\n",
    "ax = sns.barplot(df_unigram_teste_ofensivos_75[1:], x = 'frequencia', y = 'termo', color = '#4682B4')\n",
    "ax.set_title('20 Termos mais frequentes: Erika Hilton', fontsize=20, x=0.182, y=1.12, color=\"#696969\")\n",
    "ax.spines['bottom'].set_color('#696969')\n",
    "ax.spines['left'].set_alpha(0)\n",
    "ax.tick_params(axis='x', colors='#696969', labelsize = 10)\n",
    "ax.tick_params(axis='y', colors='#696969', labelsize = 11)\n",
    "ax.set_ylabel(\"\", fontsize=12, loc=\"top\", color=\"#696969\")\n",
    "ax.set_xlabel(\"Frequencia\", fontsize=12, loc=\"left\", color=\"#696969\")\n",
    "ax.yaxis.set_ticks_position('none')\n",
    "\n",
    "subtitle_text = rf\"${{Considerando\\ Tweets\\ ofensivos\\ com\\ score\\ acima\\ de\\ 0.75}}$ \"\n",
    "               \n",
    "ax.text(0.148, 1.06, subtitle_text, transform=ax.transAxes, fontsize=11, ha='center', color='#696969')"
   ]
  },
  {
   "cell_type": "markdown",
   "metadata": {
    "jp-MarkdownHeadingCollapsed": true
   },
   "source": [
    "# Análise progrediu bem. Rodar Bi-grams e Tri-grams"
   ]
  },
  {
   "cell_type": "markdown",
   "metadata": {
    "jp-MarkdownHeadingCollapsed": true
   },
   "source": [
    "# Abaixo codigos antigos"
   ]
  },
  {
   "cell_type": "code",
   "execution_count": null,
   "metadata": {},
   "outputs": [],
   "source": [
    "# Selecionando pontuação e stopwords para limpeza\n",
    "punct = ['.',',','!','?',':',';',')','(', '@']                               # Definindo lista de pontuações\n",
    "stopwords_portugues = nltk.corpus.stopwords.words('portuguese') # Definindo lista de stopwords                                           # Adiciona tokens a lista "
   ]
  },
  {
   "cell_type": "code",
   "execution_count": null,
   "metadata": {},
   "outputs": [],
   "source": [
    "tokens_todos_tweets = [] # Cria lista para armazenar tokens de todos os tweets                                                \n",
    "for doc in df_tweets['tweets']:\n",
    "    token = (word_tokenize(doc))\n",
    "    token_lwr = [x.lower() for x in token]                             # Tudo para minúsculo\n",
    "    token_stp = [x for x in token_lwr if x not in stopwords_portugues] # Remove Stopwords\n",
    "    token_pct = [x for x in token_stp if x not in punct]               # Remove pontuações\n",
    "    tokens_todos_tweets.append(token_pct)"
   ]
  },
  {
   "cell_type": "code",
   "execution_count": null,
   "metadata": {},
   "outputs": [],
   "source": [
    "# Cria coluna com tokens sem stopwords no dataframe\n",
    "df_tweets['tokens_limpos'] = tokens_todos_tweets"
   ]
  },
  {
   "cell_type": "code",
   "execution_count": null,
   "metadata": {},
   "outputs": [],
   "source": [
    "tokens_tweets_neg = [] # Cria lista para armazenar tokens de todos os tweets                                                \n",
    "for doc in df_tweets_neg['tweets']:\n",
    "    token = (word_tokenize(doc))\n",
    "    token_lwr = [x.lower() for x in token]                             # Tudo para minúsculo\n",
    "    token_stp = [x for x in token_lwr if x not in stopwords_portugues] # Remove Stopwords\n",
    "    token_pct = [x for x in token_stp if x not in punct]               # Remove pontuações\n",
    "    tokens_tweets_neg.append(token_pct)"
   ]
  },
  {
   "cell_type": "code",
   "execution_count": null,
   "metadata": {},
   "outputs": [],
   "source": [
    "# Cria coluna com tokens sem stopwords no dataframe\n",
    "df_tweets_neg['tokens_limpos'] = tokens_tweets_neg"
   ]
  },
  {
   "cell_type": "code",
   "execution_count": null,
   "metadata": {},
   "outputs": [],
   "source": [
    "#Instanciando Word2Vec para todos os tweets\n",
    "w2v_model = Word2Vec(sentences = df_tweets['tokens_limpos'],   # Passando listas de tokens tratados\n",
    "                     min_count=5,                                     # Mínimo de ocorrências para considerar a palavra\n",
    "                     vector_size=400,                                 # Dimensão final do embedding \n",
    "                     window=5,                                        # Janela de contexto \n",
    "                     seed = 42                                        # Definindo fator Pseudo aleatório\n",
    "                     )"
   ]
  },
  {
   "cell_type": "code",
   "execution_count": null,
   "metadata": {
    "id": "8a344a4c",
    "outputId": "7d0ad2a8-fb93-4080-b198-7dbdbf775d94"
   },
   "outputs": [],
   "source": [
    "#Visualizando os 20 primeiros valores do vetor da palavra \"Lula\" para todos os tweets\n",
    "print(w2v_model.wv.get_vector('erikakhilton').shape)\n",
    "w2v_model.wv.get_vector('erikakhilton')[:20]"
   ]
  },
  {
   "cell_type": "code",
   "execution_count": null,
   "metadata": {},
   "outputs": [],
   "source": [
    "#Instanciando Word2Vec para tweets negativos\n",
    "w2v_model_neg = Word2Vec(sentences = tweets_negativos['tokens_limpos'],   # Passando listas de tokens tratados\n",
    "                         min_count=5,                                     # Mínimo de ocorrências para considerar a palavra\n",
    "                         vector_size=400,                                 # Dimensão final do embedding \n",
    "                         window=5,                                        # Janela de contexto \n",
    "                         seed = 42                                        # Definindo fator Pseudo aleatório\n",
    "                        )"
   ]
  },
  {
   "cell_type": "code",
   "execution_count": null,
   "metadata": {},
   "outputs": [],
   "source": [
    "#Visualizando os 20 primeiros valores do vetor da palavra \"Lula\" para tweets negativos\n",
    "print(w2v_model_neg.wv.get_vector('erikakhilton').shape)\n",
    "w2v_model_neg.wv.get_vector('erikakhilton')[:20]"
   ]
  },
  {
   "cell_type": "markdown",
   "metadata": {
    "id": "d9bedf99"
   },
   "source": [
    "# PCA"
   ]
  },
  {
   "cell_type": "markdown",
   "metadata": {
    "id": "350bba48"
   },
   "source": [
    "Com a aplicação de um PCA (Principal Component Analysis) podemos reduzir a quantidade de dimensões de 400 para 2, dessa forma, podemos visualizar as palavras dentro de um espaço vetorial! \n",
    "\n",
    "Embora a interpretabilidade do eixo X e Y seja quase zero, é um ótimo exercício para gerar insights e se divertir um pouco!"
   ]
  },
  {
   "cell_type": "code",
   "execution_count": null,
   "metadata": {
    "id": "5595a067"
   },
   "outputs": [],
   "source": [
    "# Definindo palavras que serão visualizadas\n",
    "palavras = ['lula','bolsonaro','vergonha','crime','mentira', 'democracia']"
   ]
  },
  {
   "cell_type": "code",
   "execution_count": null,
   "metadata": {
    "id": "f7c4b98e"
   },
   "outputs": [],
   "source": [
    "# Obtendo vetores das palavras\n",
    "palavra_vec = []\n",
    "for i in palavras:\n",
    "    palavra_vec.append(w2v_model.wv.get_vector(i))\n",
    "\n",
    "# Padronizando os dados (subtrai média e divide pelo desvio padrão)    \n",
    "x = StandardScaler().fit_transform(palavra_vec)\n",
    "\n",
    "# Instanciando PCA\n",
    "pca = PCA(n_components=2)\n",
    "\n",
    "# Fitando PCA\n",
    "palavras_pca = pca.fit_transform(x)"
   ]
  },
  {
   "cell_type": "code",
   "execution_count": null,
   "metadata": {
    "id": "8a2c899e",
    "outputId": "0fd471e3-88eb-46dc-d5ff-6d1798229911"
   },
   "outputs": [],
   "source": [
    "# Criando listas com valores do eixo x e y\n",
    "eixo_x = []\n",
    "eixo_y = []\n",
    "for i in palavras_pca:\n",
    "    eixo_x.append(i[0])\n",
    "    eixo_y.append(i[1])\n",
    "\n",
    "# Plotando resultado\n",
    "plt.figure(figsize=(8, 5))\n",
    "fig, ax = plt.subplots(figsize=(8,5))\n",
    "ax.scatter(eixo_x, eixo_y, color = 'steelblue')\n",
    "ax.set_title('Tweets: Erika Hilton', fontsize=20, x=0.105, y=1.2, color=\"#696969\")\n",
    "ax.set_xlim(-20,50)\n",
    "ax.set_ylim(-20,25)\n",
    "ax.spines['bottom'].set_color('#696969')  \n",
    "ax.spines['left'].set_color('#696969')  \n",
    "ax.tick_params(axis='x', colors='#696969')  \n",
    "ax.tick_params(axis='y', colors='#696969')\n",
    "ax.set_ylabel(\"PCA 1\", fontsize=11, loc=\"top\", color=\"#696969\")\n",
    "ax.set_xlabel(\"PCA 2\", fontsize=11, loc=\"left\", color=\"#696969\")\n",
    "for i, txt in enumerate(palavras):\n",
    "    ax.annotate(txt, (eixo_x[i], eixo_y[i]))\n",
    "\n",
    "subtitle_text = r\"${Contexto\\ de\\ todos\\ os\\ Tweets\\ com\\ as\\ palavras\\ selecionadas}$\"\n",
    "\n",
    "# Add the subtitle with formatted text\n",
    "ax.text(0.24, 1.12, subtitle_text, transform=ax.transAxes, fontsize=10, ha='center', color='#696969')"
   ]
  },
  {
   "cell_type": "code",
   "execution_count": null,
   "metadata": {},
   "outputs": [],
   "source": [
    "# Obtendo vetores das palavras\n",
    "palavra_vec_neg = []\n",
    "for i in palavras:\n",
    "    palavra_vec_neg.append(w2v_model_neg.wv.get_vector(i))\n",
    "\n",
    "# Padronizando os dados (subtrai média e divide pelo desvio padrão)    \n",
    "x_neg = StandardScaler().fit_transform(palavra_vec_neg)\n",
    "\n",
    "# Instanciando PCA\n",
    "pca_neg = PCA(n_components=2)\n",
    "\n",
    "# Fitando PCA\n",
    "palavras_pca_neg = pca_neg.fit_transform(x_neg)"
   ]
  },
  {
   "cell_type": "code",
   "execution_count": null,
   "metadata": {},
   "outputs": [],
   "source": [
    "# Criando listas com valores do eixo x e y\n",
    "eixo_x = []\n",
    "eixo_y = []\n",
    "for i in palavras_pca_neg:\n",
    "    eixo_x.append(i[0])\n",
    "    eixo_y.append(i[1])\n",
    "\n",
    "# Plotando resultado\n",
    "plt.figure(figsize=(8, 5))\n",
    "fig, ax = plt.subplots(figsize=(8,5))\n",
    "ax.scatter(eixo_x, eixo_y, color = 'steelblue')\n",
    "ax.set_title('Tweets Negativos: Erika Hilton', fontsize=20, x=0.207, y=1.2, color=\"#696969\")\n",
    "ax.set_xlim(-20,50)\n",
    "ax.set_ylim(-20,25)\n",
    "ax.spines['bottom'].set_color('#696969')  \n",
    "ax.spines['left'].set_color('#696969')  \n",
    "ax.tick_params(axis='x', colors='#696969')  \n",
    "ax.tick_params(axis='y', colors='#696969')\n",
    "ax.set_ylabel(\"PCA 1\", fontsize=11, loc=\"top\", color=\"#696969\")\n",
    "ax.set_xlabel(\"PCA 2\", fontsize=11, loc=\"left\", color=\"#696969\")\n",
    "for i, txt in enumerate(palavras):\n",
    "    ax.annotate(txt, (eixo_x[i], eixo_y[i]))\n",
    "\n",
    "subtitle_text = r\"${Contexto\\ dos\\ Tweets\\ Negativos\\ com\\ as\\ palavras\\ selecionadas}$\"\n",
    "\n",
    "# Add the subtitle with formatted text\n",
    "ax.text(0.255, 1.12, subtitle_text, transform=ax.transAxes, fontsize=10, ha='center', color='#696969')"
   ]
  },
  {
   "cell_type": "markdown",
   "metadata": {
    "id": "6491eed2"
   },
   "source": [
    "# Similaridade de vetores"
   ]
  },
  {
   "cell_type": "code",
   "execution_count": null,
   "metadata": {
    "id": "41cf9d03",
    "outputId": "5440dc80-dcdf-4c6b-a1f6-d3295699bc4c"
   },
   "outputs": [],
   "source": [
    "# Visualizando vetores similares ao vetor \"bolsonaro\" modelo com todos os tweets\n",
    "w2v_model.wv.most_similar('bolsonaro')"
   ]
  },
  {
   "cell_type": "code",
   "execution_count": null,
   "metadata": {},
   "outputs": [],
   "source": [
    "# Visualizando vetores similares ao vetor \"bolsonaro\" modelo com tweets negativos\n",
    "w2v_model_neg.wv.most_similar('bolsonaro')"
   ]
  },
  {
   "cell_type": "code",
   "execution_count": null,
   "metadata": {
    "id": "ebef13ae",
    "outputId": "9ed2a219-f7b7-46ea-ed03-8a7ac355a168"
   },
   "outputs": [],
   "source": [
    "# Visualizando vetores similares ao vetor \"lula\" modelo com todos os tweets\n",
    "w2v_model.wv.most_similar('lula')"
   ]
  },
  {
   "cell_type": "code",
   "execution_count": null,
   "metadata": {},
   "outputs": [],
   "source": [
    "# Visualizando vetores similares ao vetor \"lula\" modelo com tweets negativos\n",
    "w2v_model_neg.wv.most_similar('lula')"
   ]
  },
  {
   "cell_type": "code",
   "execution_count": null,
   "metadata": {},
   "outputs": [],
   "source": [
    "# Visualizando vetores similares ao vetor \"erika\" modelo com todos os tweets\n",
    "w2v_model.wv.most_similar('erika', topn = 30)"
   ]
  },
  {
   "cell_type": "code",
   "execution_count": null,
   "metadata": {},
   "outputs": [],
   "source": [
    "# Visualizando vetores similares ao vetor \"erika\" modelo com tweets negativos\n",
    "w2v_model_neg.wv.most_similar('erikakhilton', topn = 30)"
   ]
  },
  {
   "cell_type": "markdown",
   "metadata": {},
   "source": [
    "# Selecionando Scores Negativos > 75%"
   ]
  },
  {
   "cell_type": "code",
   "execution_count": null,
   "metadata": {},
   "outputs": [],
   "source": [
    "tweets_neg_acima_75 = tweets_negativos[tweets_negativos['class_score'] >= 0.75]"
   ]
  },
  {
   "cell_type": "code",
   "execution_count": null,
   "metadata": {},
   "outputs": [],
   "source": [
    "#Instanciando Word2Vec para tweets negativos acima de 75%\n",
    "w2v_model_neg_75 = Word2Vec(sentences = tweets_neg_acima_75['tokens_limpos'],   # Passando listas de tokens tratados\n",
    "                            min_count=5,                                        # Mínimo de ocorrências para considerar a palavra\n",
    "                            vector_size=400,                                    # Dimensão final do embedding \n",
    "                            window=5,                                           # Janela de contexto \n",
    "                            seed = 42                                           # Definindo fator Pseudo aleatório\n",
    "                        )"
   ]
  },
  {
   "cell_type": "code",
   "execution_count": null,
   "metadata": {},
   "outputs": [],
   "source": [
    "#Visualizando os 20 primeiros valores do vetor da palavra \"Lula\" modelo com tweets negativos acima de 75%\n",
    "print(w2v_model_neg_75.wv.get_vector('erikakhilton').shape)\n",
    "w2v_model_neg_75.wv.get_vector('erikakhilton')[:20]"
   ]
  },
  {
   "cell_type": "markdown",
   "metadata": {},
   "source": [
    "# PCA"
   ]
  },
  {
   "cell_type": "markdown",
   "metadata": {},
   "source": [
    "Com a aplicação de um PCA (Principal Component Analysis) podemos reduzir a quantidade de dimensões de 400 para 2, dessa forma, podemos visualizar as palavras dentro de um espaço vetorial! \n",
    "\n",
    "Embora a interpretabilidade do eixo X e Y seja quase zero, é um ótimo exercício para gerar insights e se divertir um pouco!"
   ]
  },
  {
   "cell_type": "code",
   "execution_count": null,
   "metadata": {},
   "outputs": [],
   "source": [
    "# Definindo palavras que serão visualizadas\n",
    "palavras = ['lula','bolsonaro','vergonha','crime','mentira', 'democracia']\n",
    "# palavras = ['lula','bolsonaro','democracia']\n",
    "\n",
    "# palavras = ['lula','bolsonaro','vergonha','crime','mentira', 'democracia']\n",
    "\n",
    "# palavras1 = ['lula','bolsonaro','crime']\n",
    "\n",
    "# palavras2 = ['lula','bolsonaro','mentira']\n",
    "\n",
    "# palavras3 = ['lula','bolsonaro','democracia']"
   ]
  },
  {
   "cell_type": "code",
   "execution_count": null,
   "metadata": {},
   "outputs": [],
   "source": [
    "# Obtendo vetores das palavras\n",
    "palavra_vec_neg_75 = []\n",
    "for i in palavras:\n",
    "    palavra_vec_neg_75.append(w2v_model_neg_75.wv.get_vector(i))\n",
    "\n",
    "# Padronizando os dados (subtrai média e divide pelo desvio padrão)    \n",
    "x_neg_75 = StandardScaler().fit_transform(palavra_vec_neg_75)\n",
    "\n",
    "# Instanciando PCA\n",
    "pca_neg_75 = PCA(n_components=2)\n",
    "\n",
    "# Fitando PCA\n",
    "palavras_pca_neg_75 = pca_neg_75.fit_transform(x_neg_75)"
   ]
  },
  {
   "cell_type": "code",
   "execution_count": null,
   "metadata": {},
   "outputs": [],
   "source": [
    "# Criando listas com valores do eixo x e y\n",
    "eixo_x = []\n",
    "eixo_y = []\n",
    "for i in palavras_pca_neg_75:\n",
    "    eixo_x.append(i[0])\n",
    "    eixo_y.append(i[1])\n",
    "\n",
    "# Plotando resultado\n",
    "plt.figure(figsize=(8, 5))\n",
    "fig, ax = plt.subplots(figsize=(8,5))\n",
    "ax.scatter(eixo_x, eixo_y, color = 'steelblue')\n",
    "ax.set_title('Tweets Negativos: Erika Hilton', fontsize=20, x=0.207, y=1.2, color=\"#696969\")\n",
    "ax.set_xlim(-20,50)\n",
    "ax.set_ylim(-20,25)\n",
    "ax.spines['bottom'].set_color('#696969')  \n",
    "ax.spines['left'].set_color('#696969')  \n",
    "ax.tick_params(axis='x', colors='#696969')  \n",
    "ax.tick_params(axis='y', colors='#696969')\n",
    "ax.set_ylabel(\"PCA 1\", fontsize=11, loc=\"top\", color=\"#696969\")\n",
    "ax.set_xlabel(\"PCA 2\", fontsize=11, loc=\"left\", color=\"#696969\")\n",
    "for i, txt in enumerate(palavras):\n",
    "    ax.annotate(txt, (eixo_x[i], eixo_y[i]))\n",
    "\n",
    "subtitle_text = r\"${Contexto\\ dos\\ Tweets\\ Negativos\\ com\\ score\\ acima\\ de\\ 75\\ com\\ as\\ palavras\\ selecionadas}$\"\n",
    "\n",
    "# Add the subtitle with formatted text\n",
    "ax.text(0.385, 1.12, subtitle_text, transform=ax.transAxes, fontsize=10, ha='center', color='#696969')"
   ]
  },
  {
   "cell_type": "markdown",
   "metadata": {},
   "source": [
    "# Similaridade de vetores"
   ]
  },
  {
   "cell_type": "code",
   "execution_count": null,
   "metadata": {},
   "outputs": [],
   "source": [
    "# Visualizando vetores similares ao vetor \"bolsonaro\" modelo com tweets negativos acima de 75%\n",
    "w2v_model_neg_75.wv.most_similar('bolsonaro')"
   ]
  },
  {
   "cell_type": "code",
   "execution_count": null,
   "metadata": {},
   "outputs": [],
   "source": [
    "# Visualizando vetores similares ao vetor \"lula\" modelo com tweets negativos acima de 75%\n",
    "w2v_model_neg_75.wv.most_similar('lula')"
   ]
  },
  {
   "cell_type": "code",
   "execution_count": null,
   "metadata": {},
   "outputs": [],
   "source": [
    "# Visualizando vetores similares ao vetor \"erikakhilton\" modelo com tweets negativos acima de 75%\n",
    "w2v_model_neg_75.wv.most_similar('erikakhilton', topn = 30)"
   ]
  },
  {
   "cell_type": "code",
   "execution_count": null,
   "metadata": {},
   "outputs": [],
   "source": [
    "def limpar_texto(texto):\n",
    "    # Converte para caixa baixa\n",
    "    texto = texto.lower()\n",
    "    \n",
    "    # Tokenização\n",
    "    doc = nlp(texto)\n",
    "    \n",
    "    # Exclui STOPWORDS, pontuação e números\n",
    "    tokens = [token.text for token in doc if not token.is_stop and not token.is_punct and not token.like_num]\n",
    "    \n",
    "    # Agrupando review\n",
    "    texto_limpo = \" \".join(tokens)\n",
    "    \n",
    "    return texto_limpo\n"
   ]
  },
  {
   "cell_type": "code",
   "execution_count": null,
   "metadata": {},
   "outputs": [],
   "source": [
    "# Apply the cleaning function to the 'text_column' in the DataFrame\n",
    "df_tweets['texto_limpo'] = df_tweets['tweets'].apply(limpar_texto)"
   ]
  },
  {
   "cell_type": "code",
   "execution_count": null,
   "metadata": {},
   "outputs": [],
   "source": [
    "# Apply the cleaning function to the 'text_column' in the DataFrame\n",
    "tweets_neg_acima_75['texto_limpo'] = tweets_neg_acima_75['tweets'].apply(limpar_texto)"
   ]
  },
  {
   "cell_type": "code",
   "execution_count": null,
   "metadata": {},
   "outputs": [],
   "source": [
    "def nome_colunas(tokenizer, data_frame):\n",
    "    # Extrai rotulos dos tokens\n",
    "    vocabulario = {v: k for k, v in tokenizer.vocabulary_.items()}\n",
    "    \n",
    "    # Atribui rotulos dos tokens as colunas apropriadas\n",
    "    data_frame.columns = data_frame.columns.map(vocabulario)\n",
    "    \n",
    "    return data_frame"
   ]
  },
  {
   "cell_type": "code",
   "execution_count": null,
   "metadata": {},
   "outputs": [],
   "source": [
    "# Instanciando CountVectorizer\n",
    "tokenizer_unigram = CountVectorizer(ngram_range=(1,1))\n",
    "\n",
    "# Fit e transform dos reviews limpos, cria uma matriz esparsa\n",
    "bow_unigram = tokenizer_unigram.fit_transform(df_tweets['tokens_texto'])\n",
    "\n",
    "# Criação do DF\n",
    "bow_unigram_df = pd.DataFrame(bow_unigram.todense())\n",
    "\n",
    "# Verificando 50 termos mais frequentes\n",
    "nome_colunas(tokenizer_unigram, bow_unigram_df)"
   ]
  },
  {
   "cell_type": "code",
   "execution_count": null,
   "metadata": {},
   "outputs": [],
   "source": [
    "# Unigrams para todos os tweets\n",
    "bow_unigram_df.sum().sort_values(ascending=False).head(30)"
   ]
  },
  {
   "cell_type": "code",
   "execution_count": null,
   "metadata": {},
   "outputs": [],
   "source": [
    "# Instanciando CountVectorizer\n",
    "tokenizer_unigram_neg_75 = CountVectorizer(ngram_range=(1,1))\n",
    "\n",
    "# Fit e transform dos reviews limpos, cria uma matriz esparsa\n",
    "bow_unigram_neg_75 = tokenizer_unigram_neg_75.fit_transform(tweets_neg_acima_75['tokens_texto'])\n",
    "\n",
    "# Criação do DF\n",
    "bow_unigram_df_neg_75 = pd.DataFrame(bow_unigram_neg_75.todense())\n",
    "\n",
    "# Verificando 50 termos mais frequentes\n",
    "nome_colunas(tokenizer_unigram_neg_75, bow_unigram_df_neg_75)"
   ]
  },
  {
   "cell_type": "code",
   "execution_count": null,
   "metadata": {},
   "outputs": [],
   "source": [
    "# Unigrams para tweets com score acima de 75%\n",
    "bow_unigram_df_neg_75.sum().sort_values(ascending=False).head(30)"
   ]
  },
  {
   "cell_type": "markdown",
   "metadata": {},
   "source": [
    "# Avaliação de contexto entre todos tweets x tweets negativos acaba na celula acima"
   ]
  },
  {
   "cell_type": "code",
   "execution_count": null,
   "metadata": {},
   "outputs": [],
   "source": [
    "# Instanciando CountVectorizer\n",
    "tokenizer_bigram = CountVectorizer(ngram_range = (2,2))\n",
    "\n",
    "# Fit e transform dos reviews limpos, cria uma matriz esparsa\n",
    "bow_bigram = tokenizer_bigram.fit_transform(tweets_neg_acima_75['tokens_texto'])\n",
    "\n",
    "# Criação do DF\n",
    "bow_bigram_df = pd.DataFrame(bow_bigram.todense())\n",
    "\n",
    "# Aplicando função\n",
    "nome_colunas(tokenizer_bigram, bow_bigram_df)"
   ]
  },
  {
   "cell_type": "code",
   "execution_count": null,
   "metadata": {},
   "outputs": [],
   "source": [
    "# Verificando 50 termos mais frequentes\n",
    "bow_bigram_df.sum().sort_values(ascending=False).head(50)"
   ]
  },
  {
   "cell_type": "code",
   "execution_count": null,
   "metadata": {},
   "outputs": [],
   "source": [
    "# Instanciando CountVectorizer\n",
    "tokenizer_trigram = CountVectorizer(ngram_range=(3,3))\n",
    "\n",
    "# Fit e transform dos reviews limpos, cria uma matriz esparsa\n",
    "bow_trigram = tokenizer_trigram.fit_transform(tweets_neg_acima_75['tokens_texto'])\n",
    "\n",
    "# Criando DF\n",
    "bow_trigram_df = pd.DataFrame(bow_trigram.todense())\n",
    "\n",
    "# Aplicando função\n",
    "nome_colunas(tokenizer_trigram, bow_trigram_df)"
   ]
  },
  {
   "cell_type": "code",
   "execution_count": null,
   "metadata": {},
   "outputs": [],
   "source": [
    "# Verificando 50 termos mais frequentes\n",
    "bow_trigram_df.sum().sort_values(ascending=False).head(50)"
   ]
  },
  {
   "cell_type": "code",
   "execution_count": null,
   "metadata": {},
   "outputs": [],
   "source": [
    "# Definindo palavras que serão visualizadas\n",
    "palavras = ['erikakhilton','bolsonaro','terrorista']\n",
    "\n",
    "# palavras = ['lula','bolsonaro','vergonha','crime','mentira', 'democracia']\n",
    "\n",
    "palavras1 = ['lula','bolsonaro','crime']\n",
    "\n",
    "palavras2 = ['lula','bolsonaro','mentira']\n",
    "\n",
    "palavras3 = ['lula','bolsonaro','democracia']"
   ]
  },
  {
   "cell_type": "code",
   "execution_count": null,
   "metadata": {},
   "outputs": [],
   "source": [
    "# Obtendo vetores das palavras\n",
    "palavra_vec = []\n",
    "for i in palavras:\n",
    "    palavra_vec.append(w2v_model.wv.get_vector(i))\n",
    "\n",
    "# Padronizando os dados (subtrai média e divide pelo desvio padrão)    \n",
    "x = StandardScaler().fit_transform(palavra_vec)\n",
    "\n",
    "# Instanciando PCA\n",
    "pca = PCA(n_components=2)\n",
    "\n",
    "# Fitando PCA\n",
    "palavras_pca = pca.fit_transform(x)"
   ]
  },
  {
   "cell_type": "code",
   "execution_count": null,
   "metadata": {},
   "outputs": [],
   "source": [
    "# Criando listas com valores do eixo x e y\n",
    "eixo_x = []\n",
    "eixo_y = []\n",
    "for i in palavras_pca:\n",
    "    eixo_x.append(i[0])\n",
    "    eixo_y.append(i[1])\n",
    "\n",
    "# Plotando resultado\n",
    "plt.figure(figsize=(8, 5))\n",
    "fig, ax = plt.subplots(figsize=(8,5))\n",
    "ax.scatter(eixo_x, eixo_y, color = 'steelblue')\n",
    "ax.set_title('Tweets Negativos: Erika Hilton', fontsize=20, x=0.207, y=1.2, color=\"#696969\")\n",
    "ax.set_xlim(-20,50)\n",
    "ax.set_ylim(-20,25)\n",
    "ax.spines['bottom'].set_color('#696969')  \n",
    "ax.spines['left'].set_color('#696969')  \n",
    "ax.tick_params(axis='x', colors='#696969')  \n",
    "ax.tick_params(axis='y', colors='#696969')\n",
    "ax.set_ylabel(\"PCA 1\", fontsize=11, loc=\"top\", color=\"#696969\")\n",
    "ax.set_xlabel(\"PCA 2\", fontsize=11, loc=\"left\", color=\"#696969\")\n",
    "for i, txt in enumerate(palavras):\n",
    "    ax.annotate(txt, (eixo_x[i], eixo_y[i]))\n",
    "\n",
    "subtitle_text = r\"${Contexto\\ para\\ palavras\\ com\\ maior\\ similaridade\\ ao\\ nome\\ Erika}$\"\n",
    "\n",
    "# Add the subtitle with formatted text\n",
    "ax.text(0.255, 1.12, subtitle_text, transform=ax.transAxes, fontsize=10, ha='center', color='#696969')"
   ]
  }
 ],
 "metadata": {
  "colab": {
   "provenance": []
  },
  "kernelspec": {
   "display_name": "Python 3 (ipykernel)",
   "language": "python",
   "name": "python3"
  },
  "language_info": {
   "codemirror_mode": {
    "name": "ipython",
    "version": 3
   },
   "file_extension": ".py",
   "mimetype": "text/x-python",
   "name": "python",
   "nbconvert_exporter": "python",
   "pygments_lexer": "ipython3",
   "version": "3.8.13"
  }
 },
 "nbformat": 4,
 "nbformat_minor": 4
}
