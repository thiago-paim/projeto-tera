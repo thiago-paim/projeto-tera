{
 "cells": [
  {
   "cell_type": "code",
   "execution_count": null,
   "id": "QUPpsqbQm64D",
   "metadata": {
    "colab": {
     "base_uri": "https://localhost:8080/"
    },
    "id": "QUPpsqbQm64D",
    "outputId": "770a7b9c-36e2-4db8-a857-0b931f941978"
   },
   "outputs": [
    {
     "name": "stdout",
     "output_type": "stream",
     "text": [
      "Looking in indexes: https://pypi.org/simple, https://us-python.pkg.dev/colab-wheels/public/simple/\n",
      "Collecting snscrape\n",
      "  Downloading snscrape-0.5.0.20230113-py3-none-any.whl (69 kB)\n",
      "\u001b[2K     \u001b[90m━━━━━━━━━━━━━━━━━━━━━━━━━━━━━━━━━━━━━━━━\u001b[0m \u001b[32m69.2/69.2 KB\u001b[0m \u001b[31m2.1 MB/s\u001b[0m eta \u001b[36m0:00:00\u001b[0m\n",
      "\u001b[?25hRequirement already satisfied: tqdm in /usr/local/lib/python3.8/dist-packages (4.64.1)\n",
      "Requirement already satisfied: lxml in /usr/local/lib/python3.8/dist-packages (from snscrape) (4.9.2)\n",
      "Requirement already satisfied: beautifulsoup4 in /usr/local/lib/python3.8/dist-packages (from snscrape) (4.6.3)\n",
      "Requirement already satisfied: filelock in /usr/local/lib/python3.8/dist-packages (from snscrape) (3.9.0)\n",
      "Requirement already satisfied: requests[socks] in /usr/local/lib/python3.8/dist-packages (from snscrape) (2.25.1)\n",
      "Requirement already satisfied: pytz in /usr/local/lib/python3.8/dist-packages (from snscrape) (2022.7.1)\n",
      "Requirement already satisfied: urllib3<1.27,>=1.21.1 in /usr/local/lib/python3.8/dist-packages (from requests[socks]->snscrape) (1.24.3)\n",
      "Requirement already satisfied: certifi>=2017.4.17 in /usr/local/lib/python3.8/dist-packages (from requests[socks]->snscrape) (2022.12.7)\n",
      "Requirement already satisfied: idna<3,>=2.5 in /usr/local/lib/python3.8/dist-packages (from requests[socks]->snscrape) (2.10)\n",
      "Requirement already satisfied: chardet<5,>=3.0.2 in /usr/local/lib/python3.8/dist-packages (from requests[socks]->snscrape) (4.0.0)\n",
      "Requirement already satisfied: PySocks!=1.5.7,>=1.5.6 in /usr/local/lib/python3.8/dist-packages (from requests[socks]->snscrape) (1.7.1)\n",
      "Installing collected packages: snscrape\n",
      "Successfully installed snscrape-0.5.0.20230113\n"
     ]
    }
   ],
   "source": [
    "# !pip install snscrape tqdm"
   ]
  },
  {
   "cell_type": "code",
   "execution_count": 1,
   "id": "6750a614-faea-4df2-9ada-8182e60539c4",
   "metadata": {
    "id": "6750a614-faea-4df2-9ada-8182e60539c4"
   },
   "outputs": [],
   "source": [
    "from dataclasses import fields\n",
    "import pandas as pd\n",
    "import snscrape.modules.twitter as sntwitter\n",
    "from tqdm import tqdm\n",
    "\n",
    "pd.set_option('display.max_columns', 80)"
   ]
  },
  {
   "cell_type": "code",
   "execution_count": 2,
   "id": "a82d2939-1f21-4741-b3f4-1a67350af91c",
   "metadata": {
    "colab": {
     "base_uri": "https://localhost:8080/"
    },
    "id": "a82d2939-1f21-4741-b3f4-1a67350af91c",
    "outputId": "ee07cc4a-a895-4dea-a77e-6369fd20fd45"
   },
   "outputs": [
    {
     "name": "stderr",
     "output_type": "stream",
     "text": [
      "225it [00:09, 23.81it/s]"
     ]
    },
    {
     "name": "stdout",
     "output_type": "stream",
     "text": [
      "225\n"
     ]
    },
    {
     "name": "stderr",
     "output_type": "stream",
     "text": [
      "\n"
     ]
    }
   ],
   "source": [
    "# Começamos filtrando todos os tweets de um usuario, dentro do período desejado\n",
    "username = 'ErikakHilton'  # example user\n",
    "since = '2022-10-01'\n",
    "until = '2022-10-02'\n",
    "\n",
    "query = f'from:{username} since:{since} until:{until}'\n",
    "user_scrapping_results = sntwitter.TwitterSearchScraper(query)\n",
    "\n",
    "tweet_ids = []\n",
    "for tweet in tqdm(user_scrapping_results.get_items()):\n",
    "    tweet_ids.append(tweet.id)\n",
    "\n",
    "print(len(tweet_ids))"
   ]
  },
  {
   "cell_type": "code",
   "execution_count": 3,
   "id": "3d40093f-be99-451a-a4ae-6e639add83e1",
   "metadata": {
    "colab": {
     "base_uri": "https://localhost:8080/"
    },
    "id": "3d40093f-be99-451a-a4ae-6e639add83e1",
    "outputId": "0dbad14a-99a5-4d31-85b8-e9d514530f2f"
   },
   "outputs": [
    {
     "name": "stderr",
     "output_type": "stream",
     "text": [
      "100%|██████████████████████████████████████████████████████████████████████████████████████| 225/225 [03:27<00:00,  1.08it/s]"
     ]
    },
    {
     "name": "stdout",
     "output_type": "stream",
     "text": [
      "1177\n"
     ]
    },
    {
     "name": "stderr",
     "output_type": "stream",
     "text": [
      "\n"
     ]
    }
   ],
   "source": [
    "# Vamos iterar entre os id's para pegar os dados dos tweets e suas respostas\n",
    "# Esta etapa pode demorar um pouco\n",
    "tweets_and_replies = []\n",
    "\n",
    "for tweet_id in tqdm(tweet_ids):\n",
    "    tweet_scrapper = sntwitter.TwitterTweetScraper(tweet_id, mode=sntwitter.TwitterTweetScraperMode.SCROLL)\n",
    "    for tweet in tweet_scrapper.get_items():\n",
    "        tweets_and_replies.append(tweet)\n",
    "        \n",
    "print(len(tweets_and_replies))"
   ]
  },
  {
   "cell_type": "code",
   "execution_count": 5,
   "id": "7dc6b3b8-e615-4a49-a536-48d8571430dd",
   "metadata": {
    "colab": {
     "base_uri": "https://localhost:8080/"
    },
    "id": "7dc6b3b8-e615-4a49-a536-48d8571430dd",
    "outputId": "0ea43d3d-c888-4864-b6f0-f0d12f78551b"
   },
   "outputs": [
    {
     "name": "stdout",
     "output_type": "stream",
     "text": [
      "(1177, 29)\n"
     ]
    },
    {
     "data": {
      "text/html": [
       "<div>\n",
       "<style scoped>\n",
       "    .dataframe tbody tr th:only-of-type {\n",
       "        vertical-align: middle;\n",
       "    }\n",
       "\n",
       "    .dataframe tbody tr th {\n",
       "        vertical-align: top;\n",
       "    }\n",
       "\n",
       "    .dataframe thead th {\n",
       "        text-align: right;\n",
       "    }\n",
       "</style>\n",
       "<table border=\"1\" class=\"dataframe\">\n",
       "  <thead>\n",
       "    <tr style=\"text-align: right;\">\n",
       "      <th></th>\n",
       "      <th>url</th>\n",
       "      <th>date</th>\n",
       "      <th>rawContent</th>\n",
       "      <th>renderedContent</th>\n",
       "      <th>id</th>\n",
       "      <th>user</th>\n",
       "      <th>replyCount</th>\n",
       "      <th>retweetCount</th>\n",
       "      <th>likeCount</th>\n",
       "      <th>quoteCount</th>\n",
       "      <th>conversationId</th>\n",
       "      <th>lang</th>\n",
       "      <th>source</th>\n",
       "      <th>sourceUrl</th>\n",
       "      <th>sourceLabel</th>\n",
       "      <th>links</th>\n",
       "      <th>media</th>\n",
       "      <th>retweetedTweet</th>\n",
       "      <th>quotedTweet</th>\n",
       "      <th>inReplyToTweetId</th>\n",
       "      <th>inReplyToUser</th>\n",
       "      <th>mentionedUsers</th>\n",
       "      <th>coordinates</th>\n",
       "      <th>place</th>\n",
       "      <th>hashtags</th>\n",
       "      <th>cashtags</th>\n",
       "      <th>card</th>\n",
       "      <th>viewCount</th>\n",
       "      <th>vibe</th>\n",
       "    </tr>\n",
       "  </thead>\n",
       "  <tbody>\n",
       "    <tr>\n",
       "      <th>0</th>\n",
       "      <td>https://twitter.com/ariranhita/status/15763556...</td>\n",
       "      <td>2022-10-01 23:37:39+00:00</td>\n",
       "      <td>se São Paulo eleger Erika Hilton amanhã eu pro...</td>\n",
       "      <td>se São Paulo eleger Erika Hilton amanhã eu pro...</td>\n",
       "      <td>1576355695594995712</td>\n",
       "      <td>https://twitter.com/ariranhita</td>\n",
       "      <td>53</td>\n",
       "      <td>132</td>\n",
       "      <td>4678</td>\n",
       "      <td>34</td>\n",
       "      <td>1576355695594995712</td>\n",
       "      <td>pt</td>\n",
       "      <td>None</td>\n",
       "      <td>None</td>\n",
       "      <td>None</td>\n",
       "      <td>None</td>\n",
       "      <td>None</td>\n",
       "      <td>None</td>\n",
       "      <td>None</td>\n",
       "      <td>NaN</td>\n",
       "      <td>None</td>\n",
       "      <td>None</td>\n",
       "      <td>None</td>\n",
       "      <td>None</td>\n",
       "      <td>None</td>\n",
       "      <td>None</td>\n",
       "      <td>None</td>\n",
       "      <td>None</td>\n",
       "      <td>None</td>\n",
       "    </tr>\n",
       "    <tr>\n",
       "      <th>1</th>\n",
       "      <td>https://twitter.com/ErikakHilton/status/157635...</td>\n",
       "      <td>2022-10-01 23:43:25+00:00</td>\n",
       "      <td>@ariranhita HAHAHAHHAHAH 💜💜💜 \\n\\nE Kiwi com ca...</td>\n",
       "      <td>@ariranhita HAHAHAHHAHAH 💜💜💜 \\n\\nE Kiwi com ca...</td>\n",
       "      <td>1576357145855262720</td>\n",
       "      <td>https://twitter.com/ErikakHilton</td>\n",
       "      <td>2</td>\n",
       "      <td>1</td>\n",
       "      <td>421</td>\n",
       "      <td>0</td>\n",
       "      <td>1576355695594995712</td>\n",
       "      <td>it</td>\n",
       "      <td>None</td>\n",
       "      <td>None</td>\n",
       "      <td>None</td>\n",
       "      <td>None</td>\n",
       "      <td>None</td>\n",
       "      <td>None</td>\n",
       "      <td>None</td>\n",
       "      <td>1.576356e+18</td>\n",
       "      <td>https://twitter.com/ariranhita</td>\n",
       "      <td>[https://twitter.com/ariranhita]</td>\n",
       "      <td>None</td>\n",
       "      <td>None</td>\n",
       "      <td>None</td>\n",
       "      <td>None</td>\n",
       "      <td>None</td>\n",
       "      <td>None</td>\n",
       "      <td>None</td>\n",
       "    </tr>\n",
       "    <tr>\n",
       "      <th>2</th>\n",
       "      <td>https://twitter.com/ariranhita/status/15763580...</td>\n",
       "      <td>2022-10-01 23:46:55+00:00</td>\n",
       "      <td>@ErikakHilton ah mas o kiwi nao comsigo abrir ...</td>\n",
       "      <td>@ErikakHilton ah mas o kiwi nao comsigo abrir ...</td>\n",
       "      <td>1576358026457382912</td>\n",
       "      <td>https://twitter.com/ariranhita</td>\n",
       "      <td>3</td>\n",
       "      <td>1</td>\n",
       "      <td>203</td>\n",
       "      <td>5</td>\n",
       "      <td>1576355695594995712</td>\n",
       "      <td>pt</td>\n",
       "      <td>None</td>\n",
       "      <td>None</td>\n",
       "      <td>None</td>\n",
       "      <td>None</td>\n",
       "      <td>[Video(thumbnailUrl='https://pbs.twimg.com/ext...</td>\n",
       "      <td>None</td>\n",
       "      <td>None</td>\n",
       "      <td>1.576357e+18</td>\n",
       "      <td>https://twitter.com/ErikakHilton</td>\n",
       "      <td>[https://twitter.com/ErikakHilton]</td>\n",
       "      <td>None</td>\n",
       "      <td>None</td>\n",
       "      <td>None</td>\n",
       "      <td>None</td>\n",
       "      <td>None</td>\n",
       "      <td>None</td>\n",
       "      <td>None</td>\n",
       "    </tr>\n",
       "    <tr>\n",
       "      <th>3</th>\n",
       "      <td>https://twitter.com/JulianeRFreitas/status/157...</td>\n",
       "      <td>2022-10-01 23:45:34+00:00</td>\n",
       "      <td>@ErikakHilton @ariranhita Se a Erika for eleit...</td>\n",
       "      <td>@ErikakHilton @ariranhita Se a Erika for eleit...</td>\n",
       "      <td>1576357687084077056</td>\n",
       "      <td>https://twitter.com/JulianeRFreitas</td>\n",
       "      <td>0</td>\n",
       "      <td>0</td>\n",
       "      <td>6</td>\n",
       "      <td>0</td>\n",
       "      <td>1576355695594995712</td>\n",
       "      <td>pt</td>\n",
       "      <td>None</td>\n",
       "      <td>None</td>\n",
       "      <td>None</td>\n",
       "      <td>None</td>\n",
       "      <td>None</td>\n",
       "      <td>None</td>\n",
       "      <td>None</td>\n",
       "      <td>1.576357e+18</td>\n",
       "      <td>https://twitter.com/ErikakHilton</td>\n",
       "      <td>[https://twitter.com/ErikakHilton, https://twi...</td>\n",
       "      <td>None</td>\n",
       "      <td>None</td>\n",
       "      <td>None</td>\n",
       "      <td>None</td>\n",
       "      <td>None</td>\n",
       "      <td>None</td>\n",
       "      <td>None</td>\n",
       "    </tr>\n",
       "    <tr>\n",
       "      <th>4</th>\n",
       "      <td>https://twitter.com/ErikakHilton/status/157631...</td>\n",
       "      <td>2022-10-01 21:03:15+00:00</td>\n",
       "      <td>🔴🔴🔴 IPEC: Lula com 51% dos votos válidos\\n\\nVa...</td>\n",
       "      <td>🔴🔴🔴 IPEC: Lula com 51% dos votos válidos\\n\\nVa...</td>\n",
       "      <td>1576316836383113217</td>\n",
       "      <td>https://twitter.com/ErikakHilton</td>\n",
       "      <td>30</td>\n",
       "      <td>154</td>\n",
       "      <td>1510</td>\n",
       "      <td>13</td>\n",
       "      <td>1576316836383113217</td>\n",
       "      <td>pt</td>\n",
       "      <td>None</td>\n",
       "      <td>None</td>\n",
       "      <td>None</td>\n",
       "      <td>None</td>\n",
       "      <td>None</td>\n",
       "      <td>None</td>\n",
       "      <td>None</td>\n",
       "      <td>NaN</td>\n",
       "      <td>None</td>\n",
       "      <td>None</td>\n",
       "      <td>None</td>\n",
       "      <td>None</td>\n",
       "      <td>[LulaNo1ºTurno, LulaPresidente]</td>\n",
       "      <td>None</td>\n",
       "      <td>None</td>\n",
       "      <td>None</td>\n",
       "      <td>None</td>\n",
       "    </tr>\n",
       "  </tbody>\n",
       "</table>\n",
       "</div>"
      ],
      "text/plain": [
       "                                                 url  \\\n",
       "0  https://twitter.com/ariranhita/status/15763556...   \n",
       "1  https://twitter.com/ErikakHilton/status/157635...   \n",
       "2  https://twitter.com/ariranhita/status/15763580...   \n",
       "3  https://twitter.com/JulianeRFreitas/status/157...   \n",
       "4  https://twitter.com/ErikakHilton/status/157631...   \n",
       "\n",
       "                       date  \\\n",
       "0 2022-10-01 23:37:39+00:00   \n",
       "1 2022-10-01 23:43:25+00:00   \n",
       "2 2022-10-01 23:46:55+00:00   \n",
       "3 2022-10-01 23:45:34+00:00   \n",
       "4 2022-10-01 21:03:15+00:00   \n",
       "\n",
       "                                          rawContent  \\\n",
       "0  se São Paulo eleger Erika Hilton amanhã eu pro...   \n",
       "1  @ariranhita HAHAHAHHAHAH 💜💜💜 \\n\\nE Kiwi com ca...   \n",
       "2  @ErikakHilton ah mas o kiwi nao comsigo abrir ...   \n",
       "3  @ErikakHilton @ariranhita Se a Erika for eleit...   \n",
       "4  🔴🔴🔴 IPEC: Lula com 51% dos votos válidos\\n\\nVa...   \n",
       "\n",
       "                                     renderedContent                   id  \\\n",
       "0  se São Paulo eleger Erika Hilton amanhã eu pro...  1576355695594995712   \n",
       "1  @ariranhita HAHAHAHHAHAH 💜💜💜 \\n\\nE Kiwi com ca...  1576357145855262720   \n",
       "2  @ErikakHilton ah mas o kiwi nao comsigo abrir ...  1576358026457382912   \n",
       "3  @ErikakHilton @ariranhita Se a Erika for eleit...  1576357687084077056   \n",
       "4  🔴🔴🔴 IPEC: Lula com 51% dos votos válidos\\n\\nVa...  1576316836383113217   \n",
       "\n",
       "                                  user  replyCount  retweetCount  likeCount  \\\n",
       "0       https://twitter.com/ariranhita          53           132       4678   \n",
       "1     https://twitter.com/ErikakHilton           2             1        421   \n",
       "2       https://twitter.com/ariranhita           3             1        203   \n",
       "3  https://twitter.com/JulianeRFreitas           0             0          6   \n",
       "4     https://twitter.com/ErikakHilton          30           154       1510   \n",
       "\n",
       "   quoteCount       conversationId lang source sourceUrl sourceLabel links  \\\n",
       "0          34  1576355695594995712   pt   None      None        None  None   \n",
       "1           0  1576355695594995712   it   None      None        None  None   \n",
       "2           5  1576355695594995712   pt   None      None        None  None   \n",
       "3           0  1576355695594995712   pt   None      None        None  None   \n",
       "4          13  1576316836383113217   pt   None      None        None  None   \n",
       "\n",
       "                                               media retweetedTweet  \\\n",
       "0                                               None           None   \n",
       "1                                               None           None   \n",
       "2  [Video(thumbnailUrl='https://pbs.twimg.com/ext...           None   \n",
       "3                                               None           None   \n",
       "4                                               None           None   \n",
       "\n",
       "  quotedTweet  inReplyToTweetId                     inReplyToUser  \\\n",
       "0        None               NaN                              None   \n",
       "1        None      1.576356e+18    https://twitter.com/ariranhita   \n",
       "2        None      1.576357e+18  https://twitter.com/ErikakHilton   \n",
       "3        None      1.576357e+18  https://twitter.com/ErikakHilton   \n",
       "4        None               NaN                              None   \n",
       "\n",
       "                                      mentionedUsers coordinates place  \\\n",
       "0                                               None        None  None   \n",
       "1                   [https://twitter.com/ariranhita]        None  None   \n",
       "2                 [https://twitter.com/ErikakHilton]        None  None   \n",
       "3  [https://twitter.com/ErikakHilton, https://twi...        None  None   \n",
       "4                                               None        None  None   \n",
       "\n",
       "                          hashtags cashtags  card viewCount  vibe  \n",
       "0                             None     None  None      None  None  \n",
       "1                             None     None  None      None  None  \n",
       "2                             None     None  None      None  None  \n",
       "3                             None     None  None      None  None  \n",
       "4  [LulaNo1ºTurno, LulaPresidente]     None  None      None  None  "
      ]
     },
     "execution_count": 5,
     "metadata": {},
     "output_type": "execute_result"
    }
   ],
   "source": [
    "# Convertendo as informações para DataFrame\n",
    "tweet_fields = [f.name for f in fields(tweet)]\n",
    "tweets_data = [[getattr(t, field) for field in tweet_fields] for t in tweets_and_replies]\n",
    "tweets_df = pd.DataFrame(tweets_data, columns=tweet_fields)\n",
    "\n",
    "print(tweets_df.shape)\n",
    "tweets_df.head()"
   ]
  },
  {
   "cell_type": "code",
   "execution_count": 6,
   "id": "Vl3W3QzosczP",
   "metadata": {
    "colab": {
     "base_uri": "https://localhost:8080/"
    },
    "id": "Vl3W3QzosczP",
    "outputId": "bf6a7eb7-37b8-4447-975f-6be5d9419af5"
   },
   "outputs": [
    {
     "name": "stdout",
     "output_type": "stream",
     "text": [
      "<class 'pandas.core.frame.DataFrame'>\n",
      "RangeIndex: 1177 entries, 0 to 1176\n",
      "Data columns (total 29 columns):\n",
      " #   Column            Non-Null Count  Dtype              \n",
      "---  ------            --------------  -----              \n",
      " 0   url               1177 non-null   object             \n",
      " 1   date              1177 non-null   datetime64[ns, UTC]\n",
      " 2   rawContent        1177 non-null   object             \n",
      " 3   renderedContent   1177 non-null   object             \n",
      " 4   id                1177 non-null   int64              \n",
      " 5   user              1177 non-null   object             \n",
      " 6   replyCount        1177 non-null   int64              \n",
      " 7   retweetCount      1177 non-null   int64              \n",
      " 8   likeCount         1177 non-null   int64              \n",
      " 9   quoteCount        1177 non-null   int64              \n",
      " 10  conversationId    1177 non-null   int64              \n",
      " 11  lang              1177 non-null   object             \n",
      " 12  source            0 non-null      object             \n",
      " 13  sourceUrl         0 non-null      object             \n",
      " 14  sourceLabel       0 non-null      object             \n",
      " 15  links             18 non-null     object             \n",
      " 16  media             247 non-null    object             \n",
      " 17  retweetedTweet    0 non-null      object             \n",
      " 18  quotedTweet       21 non-null     object             \n",
      " 19  inReplyToTweetId  967 non-null    float64            \n",
      " 20  inReplyToUser     967 non-null    object             \n",
      " 21  mentionedUsers    1006 non-null   object             \n",
      " 22  coordinates       31 non-null     object             \n",
      " 23  place             31 non-null     object             \n",
      " 24  hashtags          31 non-null     object             \n",
      " 25  cashtags          0 non-null      object             \n",
      " 26  card              3 non-null      object             \n",
      " 27  viewCount         0 non-null      object             \n",
      " 28  vibe              0 non-null      object             \n",
      "dtypes: datetime64[ns, UTC](1), float64(1), int64(6), object(21)\n",
      "memory usage: 266.8+ KB\n"
     ]
    }
   ],
   "source": [
    "tweets_df.info()"
   ]
  },
  {
   "cell_type": "code",
   "execution_count": 7,
   "id": "22d7d7e3-985c-4129-b5c2-7c891b0b7c09",
   "metadata": {
    "colab": {
     "base_uri": "https://localhost:8080/"
    },
    "id": "22d7d7e3-985c-4129-b5c2-7c891b0b7c09",
    "outputId": "985957a1-0075-4c1f-de4a-eeb4934b1880"
   },
   "outputs": [
    {
     "data": {
      "text/plain": [
       "User(username='ariranhita', id=1324085385245446148, displayname='ig: ariaritamusic', rawDescription='ela/elu • professora de alaúde e amante de gatinhos • contato: ariaritamusic@gmail.com ☸\\U0001faac', renderedDescription='ela/elu • professora de alaúde e amante de gatinhos • contato: ariaritamusic@gmail.com ☸\\U0001faac', descriptionLinks=None, verified=False, created=datetime.datetime(2020, 11, 4, 20, 26, 4, tzinfo=datetime.timezone.utc), followersCount=83962, friendsCount=572, statusesCount=47286, favouritesCount=106739, listedCount=104, mediaCount=5475, location='Besançon, France', protected=False, link=TextLink(text='ariarita.com', url='http://ariarita.com', tcourl='https://t.co/oIS8ztbybc', indices=(0, 23)), profileImageUrl='https://pbs.twimg.com/profile_images/1573466338957344768/JcFdVEsl_normal.jpg', profileBannerUrl='https://pbs.twimg.com/profile_banners/1324085385245446148/1627555666', label=None)"
      ]
     },
     "execution_count": 7,
     "metadata": {},
     "output_type": "execute_result"
    }
   ],
   "source": [
    "tweets_df['user'][0]"
   ]
  }
 ],
 "metadata": {
  "colab": {
   "provenance": []
  },
  "kernelspec": {
   "display_name": "complete_venv",
   "language": "python",
   "name": "complete_venv"
  },
  "language_info": {
   "codemirror_mode": {
    "name": "ipython",
    "version": 3
   },
   "file_extension": ".py",
   "mimetype": "text/x-python",
   "name": "python",
   "nbconvert_exporter": "python",
   "pygments_lexer": "ipython3",
   "version": "3.8.13"
  }
 },
 "nbformat": 4,
 "nbformat_minor": 5
}
